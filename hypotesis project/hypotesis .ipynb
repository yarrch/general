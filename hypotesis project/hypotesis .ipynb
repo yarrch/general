{
 "cells": [
  {
   "cell_type": "markdown",
   "metadata": {
    "toc": true
   },
   "source": [
    "<h1>Содержание<span class=\"tocSkip\"></span></h1>\n",
    "<div class=\"toc\"><ul class=\"toc-item\"><li><span><a href=\"#Загрузка-и-подготовка-данных\" data-toc-modified-id=\"Загрузка-и-подготовка-данных-1\"><span class=\"toc-item-num\">1&nbsp;&nbsp;</span>Загрузка и подготовка данных</a></span></li><li><span><a href=\"#Исследовательский-анализ-данных\" data-toc-modified-id=\"Исследовательский-анализ-данных-2\"><span class=\"toc-item-num\">2&nbsp;&nbsp;</span>Исследовательский анализ данных</a></span></li><li><span><a href=\"#Расчет-оптимальных-тарифов\" data-toc-modified-id=\"Расчет-оптимальных-тарифов-3\"><span class=\"toc-item-num\">3&nbsp;&nbsp;</span>Расчет оптимальных тарифов</a></span></li><li><span><a href=\"#Проверка-статистических-гипотез\" data-toc-modified-id=\"Проверка-статистических-гипотез-4\"><span class=\"toc-item-num\">4&nbsp;&nbsp;</span>Проверка статистических гипотез</a></span></li><li><span><a href=\"#Общий-вывод-и-рекомендации\" data-toc-modified-id=\"Общий-вывод-и-рекомендации-5\"><span class=\"toc-item-num\">5&nbsp;&nbsp;</span>Общий вывод и рекомендации</a></span></li></ul></div>"
   ]
  },
  {
   "cell_type": "markdown",
   "metadata": {},
   "source": [
    "# Дополнительные материалы\n",
    "\n",
    "* **Презентация** —https://clck.ru/32ToNQ\n",
    "* **Дашборд** — https://clck.ru/32TnVX"
   ]
  },
  {
   "cell_type": "markdown",
   "metadata": {},
   "source": [
    "# Поиск клиента с неоптимальными тарифами\n",
    "\n",
    "В данном проекте будет произведено исследования для компании «Нупозвони» — предоставлющей услуги виртуальной телефонии.  Основными клиентами компании являются организации, которым нужно распределять множество исходящих/входящих вызовов на различных операторов. Также операторы могут осуществлять внутренние вызовы, то есть вызовы друг между другом, которые осуществляются внутри сети виртуальной телефонии. Всего предоставляется 3 тарифных плана: «A», «B» и «C».\n",
    "\n",
    "В первую очередь необходимо будет произвести исследовательский анализ данных, далее последует расчет оптимальных тарифов для клиентов.\n",
    "После всего этого потребуется проверить сформулированные гипотезы и на основе этих данных сделать базовые рекомендации."
   ]
  },
  {
   "cell_type": "markdown",
   "metadata": {},
   "source": [
    "# Описание данных\n",
    "\n",
    "*telecom_dataset*\n",
    "\n",
    "- `user_id` — идентификатор клиента;\n",
    "- `date` — дата статистики;\n",
    "- `direction` — направление вызовов: `out` — исходящий вызов, `in` — входящий;\n",
    "- `internal` — маркер внутренних и внешних вызовов;\n",
    "- `operator_id` — идентификатор оператора;\n",
    "- `is_missed_call` — маркер пропущенных вызовов;\n",
    "- `calls_count` — количество звонков;\n",
    "- `call_duration` — длительность звонка без учёта времени ожидания;\n",
    "- `total_call_duration` — длительность звонка с учётом времени ожидания.\n",
    "\n",
    "*telecom_clients*\n",
    " \n",
    " \n",
    "- `user_id` — идентификатор клиента;\n",
    "- `tariff_plan` — тарифный план клиента;\n",
    "- `date_start` — дата регистрации клиента в сервисе."
   ]
  },
  {
   "cell_type": "markdown",
   "metadata": {},
   "source": [
    "## Загрузка и подготовка данных"
   ]
  },
  {
   "cell_type": "code",
   "execution_count": 1,
   "metadata": {},
   "outputs": [],
   "source": [
    "import pandas as pd\n",
    "import numpy as np\n",
    "\n",
    "import matplotlib.pyplot as plt\n",
    "import seaborn as sns\n",
    "\n",
    "import scipy.stats as stats\n",
    "\n",
    "import warnings\n",
    "warnings.filterwarnings(\"ignore\")"
   ]
  },
  {
   "cell_type": "markdown",
   "metadata": {},
   "source": [
    "Импорт всех необходимых библиотек потребующихся для дальнейшей работы."
   ]
  },
  {
   "cell_type": "code",
   "execution_count": 2,
   "metadata": {},
   "outputs": [],
   "source": [
    "try:\n",
    "    dataset, client = (\n",
    "        pd.read_csv('/datasets/telecom_dataset.csv'),\n",
    "        pd.read_csv('/datasets/telecom_clients.csv')\n",
    "    )\n",
    "except:\n",
    "    dataset, client = (\n",
    "        pd.read_csv('telecom_dataset.csv'),\n",
    "        pd.read_csv('telecom_clients.csv')\n",
    "    )"
   ]
  },
  {
   "cell_type": "markdown",
   "metadata": {},
   "source": [
    "Подгрузка файлов с данными."
   ]
  },
  {
   "cell_type": "code",
   "execution_count": 3,
   "metadata": {},
   "outputs": [
    {
     "data": {
      "text/html": [
       "<div>\n",
       "<style scoped>\n",
       "    .dataframe tbody tr th:only-of-type {\n",
       "        vertical-align: middle;\n",
       "    }\n",
       "\n",
       "    .dataframe tbody tr th {\n",
       "        vertical-align: top;\n",
       "    }\n",
       "\n",
       "    .dataframe thead th {\n",
       "        text-align: right;\n",
       "    }\n",
       "</style>\n",
       "<table border=\"1\" class=\"dataframe\">\n",
       "  <thead>\n",
       "    <tr style=\"text-align: right;\">\n",
       "      <th></th>\n",
       "      <th>user_id</th>\n",
       "      <th>date</th>\n",
       "      <th>direction</th>\n",
       "      <th>internal</th>\n",
       "      <th>operator_id</th>\n",
       "      <th>is_missed_call</th>\n",
       "      <th>calls_count</th>\n",
       "      <th>call_duration</th>\n",
       "      <th>total_call_duration</th>\n",
       "    </tr>\n",
       "  </thead>\n",
       "  <tbody>\n",
       "    <tr>\n",
       "      <th>0</th>\n",
       "      <td>166377</td>\n",
       "      <td>2019-08-04 00:00:00+03:00</td>\n",
       "      <td>in</td>\n",
       "      <td>False</td>\n",
       "      <td>NaN</td>\n",
       "      <td>True</td>\n",
       "      <td>2</td>\n",
       "      <td>0</td>\n",
       "      <td>4</td>\n",
       "    </tr>\n",
       "    <tr>\n",
       "      <th>1</th>\n",
       "      <td>166377</td>\n",
       "      <td>2019-08-05 00:00:00+03:00</td>\n",
       "      <td>out</td>\n",
       "      <td>True</td>\n",
       "      <td>880022.0</td>\n",
       "      <td>True</td>\n",
       "      <td>3</td>\n",
       "      <td>0</td>\n",
       "      <td>5</td>\n",
       "    </tr>\n",
       "    <tr>\n",
       "      <th>2</th>\n",
       "      <td>166377</td>\n",
       "      <td>2019-08-05 00:00:00+03:00</td>\n",
       "      <td>out</td>\n",
       "      <td>True</td>\n",
       "      <td>880020.0</td>\n",
       "      <td>True</td>\n",
       "      <td>1</td>\n",
       "      <td>0</td>\n",
       "      <td>1</td>\n",
       "    </tr>\n",
       "    <tr>\n",
       "      <th>3</th>\n",
       "      <td>166377</td>\n",
       "      <td>2019-08-05 00:00:00+03:00</td>\n",
       "      <td>out</td>\n",
       "      <td>True</td>\n",
       "      <td>880020.0</td>\n",
       "      <td>False</td>\n",
       "      <td>1</td>\n",
       "      <td>10</td>\n",
       "      <td>18</td>\n",
       "    </tr>\n",
       "    <tr>\n",
       "      <th>4</th>\n",
       "      <td>166377</td>\n",
       "      <td>2019-08-05 00:00:00+03:00</td>\n",
       "      <td>out</td>\n",
       "      <td>False</td>\n",
       "      <td>880022.0</td>\n",
       "      <td>True</td>\n",
       "      <td>3</td>\n",
       "      <td>0</td>\n",
       "      <td>25</td>\n",
       "    </tr>\n",
       "  </tbody>\n",
       "</table>\n",
       "</div>"
      ],
      "text/plain": [
       "   user_id                       date direction internal  operator_id  \\\n",
       "0   166377  2019-08-04 00:00:00+03:00        in    False          NaN   \n",
       "1   166377  2019-08-05 00:00:00+03:00       out     True     880022.0   \n",
       "2   166377  2019-08-05 00:00:00+03:00       out     True     880020.0   \n",
       "3   166377  2019-08-05 00:00:00+03:00       out     True     880020.0   \n",
       "4   166377  2019-08-05 00:00:00+03:00       out    False     880022.0   \n",
       "\n",
       "   is_missed_call  calls_count  call_duration  total_call_duration  \n",
       "0            True            2              0                    4  \n",
       "1            True            3              0                    5  \n",
       "2            True            1              0                    1  \n",
       "3           False            1             10                   18  \n",
       "4            True            3              0                   25  "
      ]
     },
     "metadata": {},
     "output_type": "display_data"
    },
    {
     "data": {
      "text/html": [
       "<div>\n",
       "<style scoped>\n",
       "    .dataframe tbody tr th:only-of-type {\n",
       "        vertical-align: middle;\n",
       "    }\n",
       "\n",
       "    .dataframe tbody tr th {\n",
       "        vertical-align: top;\n",
       "    }\n",
       "\n",
       "    .dataframe thead th {\n",
       "        text-align: right;\n",
       "    }\n",
       "</style>\n",
       "<table border=\"1\" class=\"dataframe\">\n",
       "  <thead>\n",
       "    <tr style=\"text-align: right;\">\n",
       "      <th></th>\n",
       "      <th>user_id</th>\n",
       "      <th>tariff_plan</th>\n",
       "      <th>date_start</th>\n",
       "    </tr>\n",
       "  </thead>\n",
       "  <tbody>\n",
       "    <tr>\n",
       "      <th>0</th>\n",
       "      <td>166713</td>\n",
       "      <td>A</td>\n",
       "      <td>2019-08-15</td>\n",
       "    </tr>\n",
       "    <tr>\n",
       "      <th>1</th>\n",
       "      <td>166901</td>\n",
       "      <td>A</td>\n",
       "      <td>2019-08-23</td>\n",
       "    </tr>\n",
       "    <tr>\n",
       "      <th>2</th>\n",
       "      <td>168527</td>\n",
       "      <td>A</td>\n",
       "      <td>2019-10-29</td>\n",
       "    </tr>\n",
       "    <tr>\n",
       "      <th>3</th>\n",
       "      <td>167097</td>\n",
       "      <td>A</td>\n",
       "      <td>2019-09-01</td>\n",
       "    </tr>\n",
       "    <tr>\n",
       "      <th>4</th>\n",
       "      <td>168193</td>\n",
       "      <td>A</td>\n",
       "      <td>2019-10-16</td>\n",
       "    </tr>\n",
       "  </tbody>\n",
       "</table>\n",
       "</div>"
      ],
      "text/plain": [
       "   user_id tariff_plan  date_start\n",
       "0   166713           A  2019-08-15\n",
       "1   166901           A  2019-08-23\n",
       "2   168527           A  2019-10-29\n",
       "3   167097           A  2019-09-01\n",
       "4   168193           A  2019-10-16"
      ]
     },
     "execution_count": 3,
     "metadata": {},
     "output_type": "execute_result"
    }
   ],
   "source": [
    "display(dataset.head())\n",
    "client.head()"
   ]
  },
  {
   "cell_type": "markdown",
   "metadata": {},
   "source": [
    "Общий вид данных."
   ]
  },
  {
   "cell_type": "code",
   "execution_count": 4,
   "metadata": {},
   "outputs": [],
   "source": [
    "dataset['date'] = pd.to_datetime(dataset['date'],format = '%Y-%m-%dT').dt.strftime('%Y-%m-%d')\n",
    "dataset['date'] = pd.to_datetime(dataset['date'],format = '%Y-%m-%dT')"
   ]
  },
  {
   "cell_type": "markdown",
   "metadata": {},
   "source": [
    "Перевод столбца с датой к более удобному формату."
   ]
  },
  {
   "cell_type": "code",
   "execution_count": 5,
   "metadata": {},
   "outputs": [
    {
     "data": {
      "text/html": [
       "<div>\n",
       "<style scoped>\n",
       "    .dataframe tbody tr th:only-of-type {\n",
       "        vertical-align: middle;\n",
       "    }\n",
       "\n",
       "    .dataframe tbody tr th {\n",
       "        vertical-align: top;\n",
       "    }\n",
       "\n",
       "    .dataframe thead th {\n",
       "        text-align: right;\n",
       "    }\n",
       "</style>\n",
       "<table border=\"1\" class=\"dataframe\">\n",
       "  <thead>\n",
       "    <tr style=\"text-align: right;\">\n",
       "      <th></th>\n",
       "      <th>user_id</th>\n",
       "      <th>date</th>\n",
       "      <th>direction</th>\n",
       "      <th>internal</th>\n",
       "      <th>operator_id</th>\n",
       "      <th>is_missed_call</th>\n",
       "      <th>calls_count</th>\n",
       "      <th>call_duration</th>\n",
       "      <th>total_call_duration</th>\n",
       "    </tr>\n",
       "  </thead>\n",
       "  <tbody>\n",
       "    <tr>\n",
       "      <th>6</th>\n",
       "      <td>166377</td>\n",
       "      <td>2019-08-05</td>\n",
       "      <td>out</td>\n",
       "      <td>False</td>\n",
       "      <td>880020.0</td>\n",
       "      <td>True</td>\n",
       "      <td>8</td>\n",
       "      <td>0</td>\n",
       "      <td>50</td>\n",
       "    </tr>\n",
       "    <tr>\n",
       "      <th>8</th>\n",
       "      <td>166377</td>\n",
       "      <td>2019-08-05</td>\n",
       "      <td>out</td>\n",
       "      <td>False</td>\n",
       "      <td>880020.0</td>\n",
       "      <td>True</td>\n",
       "      <td>8</td>\n",
       "      <td>0</td>\n",
       "      <td>50</td>\n",
       "    </tr>\n",
       "    <tr>\n",
       "      <th>27</th>\n",
       "      <td>166377</td>\n",
       "      <td>2019-08-12</td>\n",
       "      <td>in</td>\n",
       "      <td>False</td>\n",
       "      <td>NaN</td>\n",
       "      <td>True</td>\n",
       "      <td>2</td>\n",
       "      <td>0</td>\n",
       "      <td>34</td>\n",
       "    </tr>\n",
       "    <tr>\n",
       "      <th>28</th>\n",
       "      <td>166377</td>\n",
       "      <td>2019-08-12</td>\n",
       "      <td>in</td>\n",
       "      <td>False</td>\n",
       "      <td>NaN</td>\n",
       "      <td>True</td>\n",
       "      <td>2</td>\n",
       "      <td>0</td>\n",
       "      <td>34</td>\n",
       "    </tr>\n",
       "    <tr>\n",
       "      <th>38</th>\n",
       "      <td>166377</td>\n",
       "      <td>2019-08-14</td>\n",
       "      <td>in</td>\n",
       "      <td>False</td>\n",
       "      <td>NaN</td>\n",
       "      <td>True</td>\n",
       "      <td>1</td>\n",
       "      <td>0</td>\n",
       "      <td>3</td>\n",
       "    </tr>\n",
       "    <tr>\n",
       "      <th>43</th>\n",
       "      <td>166377</td>\n",
       "      <td>2019-08-14</td>\n",
       "      <td>out</td>\n",
       "      <td>False</td>\n",
       "      <td>880026.0</td>\n",
       "      <td>False</td>\n",
       "      <td>10</td>\n",
       "      <td>1567</td>\n",
       "      <td>1654</td>\n",
       "    </tr>\n",
       "    <tr>\n",
       "      <th>44</th>\n",
       "      <td>166377</td>\n",
       "      <td>2019-08-14</td>\n",
       "      <td>out</td>\n",
       "      <td>False</td>\n",
       "      <td>880026.0</td>\n",
       "      <td>False</td>\n",
       "      <td>10</td>\n",
       "      <td>1567</td>\n",
       "      <td>1654</td>\n",
       "    </tr>\n",
       "    <tr>\n",
       "      <th>45</th>\n",
       "      <td>166377</td>\n",
       "      <td>2019-08-14</td>\n",
       "      <td>in</td>\n",
       "      <td>False</td>\n",
       "      <td>NaN</td>\n",
       "      <td>True</td>\n",
       "      <td>1</td>\n",
       "      <td>0</td>\n",
       "      <td>3</td>\n",
       "    </tr>\n",
       "    <tr>\n",
       "      <th>46</th>\n",
       "      <td>166377</td>\n",
       "      <td>2019-08-15</td>\n",
       "      <td>out</td>\n",
       "      <td>False</td>\n",
       "      <td>880026.0</td>\n",
       "      <td>False</td>\n",
       "      <td>11</td>\n",
       "      <td>1413</td>\n",
       "      <td>1473</td>\n",
       "    </tr>\n",
       "    <tr>\n",
       "      <th>51</th>\n",
       "      <td>166377</td>\n",
       "      <td>2019-08-15</td>\n",
       "      <td>out</td>\n",
       "      <td>False</td>\n",
       "      <td>880026.0</td>\n",
       "      <td>False</td>\n",
       "      <td>11</td>\n",
       "      <td>1413</td>\n",
       "      <td>1473</td>\n",
       "    </tr>\n",
       "    <tr>\n",
       "      <th>58</th>\n",
       "      <td>166377</td>\n",
       "      <td>2019-08-19</td>\n",
       "      <td>out</td>\n",
       "      <td>False</td>\n",
       "      <td>880026.0</td>\n",
       "      <td>False</td>\n",
       "      <td>14</td>\n",
       "      <td>1519</td>\n",
       "      <td>1598</td>\n",
       "    </tr>\n",
       "    <tr>\n",
       "      <th>62</th>\n",
       "      <td>166377</td>\n",
       "      <td>2019-08-19</td>\n",
       "      <td>out</td>\n",
       "      <td>False</td>\n",
       "      <td>880026.0</td>\n",
       "      <td>False</td>\n",
       "      <td>14</td>\n",
       "      <td>1519</td>\n",
       "      <td>1598</td>\n",
       "    </tr>\n",
       "    <tr>\n",
       "      <th>72</th>\n",
       "      <td>166377</td>\n",
       "      <td>2019-08-22</td>\n",
       "      <td>out</td>\n",
       "      <td>False</td>\n",
       "      <td>880026.0</td>\n",
       "      <td>True</td>\n",
       "      <td>6</td>\n",
       "      <td>0</td>\n",
       "      <td>55</td>\n",
       "    </tr>\n",
       "    <tr>\n",
       "      <th>78</th>\n",
       "      <td>166377</td>\n",
       "      <td>2019-08-22</td>\n",
       "      <td>out</td>\n",
       "      <td>False</td>\n",
       "      <td>880026.0</td>\n",
       "      <td>True</td>\n",
       "      <td>6</td>\n",
       "      <td>0</td>\n",
       "      <td>55</td>\n",
       "    </tr>\n",
       "    <tr>\n",
       "      <th>79</th>\n",
       "      <td>166377</td>\n",
       "      <td>2019-08-23</td>\n",
       "      <td>in</td>\n",
       "      <td>False</td>\n",
       "      <td>880026.0</td>\n",
       "      <td>False</td>\n",
       "      <td>1</td>\n",
       "      <td>45</td>\n",
       "      <td>52</td>\n",
       "    </tr>\n",
       "    <tr>\n",
       "      <th>84</th>\n",
       "      <td>166377</td>\n",
       "      <td>2019-08-23</td>\n",
       "      <td>out</td>\n",
       "      <td>False</td>\n",
       "      <td>880026.0</td>\n",
       "      <td>False</td>\n",
       "      <td>43</td>\n",
       "      <td>3435</td>\n",
       "      <td>3654</td>\n",
       "    </tr>\n",
       "    <tr>\n",
       "      <th>86</th>\n",
       "      <td>166377</td>\n",
       "      <td>2019-08-23</td>\n",
       "      <td>out</td>\n",
       "      <td>False</td>\n",
       "      <td>880026.0</td>\n",
       "      <td>False</td>\n",
       "      <td>43</td>\n",
       "      <td>3435</td>\n",
       "      <td>3654</td>\n",
       "    </tr>\n",
       "    <tr>\n",
       "      <th>87</th>\n",
       "      <td>166377</td>\n",
       "      <td>2019-08-23</td>\n",
       "      <td>in</td>\n",
       "      <td>False</td>\n",
       "      <td>880026.0</td>\n",
       "      <td>False</td>\n",
       "      <td>1</td>\n",
       "      <td>45</td>\n",
       "      <td>52</td>\n",
       "    </tr>\n",
       "    <tr>\n",
       "      <th>99</th>\n",
       "      <td>166377</td>\n",
       "      <td>2019-08-27</td>\n",
       "      <td>out</td>\n",
       "      <td>False</td>\n",
       "      <td>880028.0</td>\n",
       "      <td>False</td>\n",
       "      <td>20</td>\n",
       "      <td>2784</td>\n",
       "      <td>2979</td>\n",
       "    </tr>\n",
       "    <tr>\n",
       "      <th>100</th>\n",
       "      <td>166377</td>\n",
       "      <td>2019-08-27</td>\n",
       "      <td>out</td>\n",
       "      <td>False</td>\n",
       "      <td>880028.0</td>\n",
       "      <td>False</td>\n",
       "      <td>20</td>\n",
       "      <td>2784</td>\n",
       "      <td>2979</td>\n",
       "    </tr>\n",
       "  </tbody>\n",
       "</table>\n",
       "</div>"
      ],
      "text/plain": [
       "     user_id       date direction internal  operator_id  is_missed_call  \\\n",
       "6     166377 2019-08-05       out    False     880020.0            True   \n",
       "8     166377 2019-08-05       out    False     880020.0            True   \n",
       "27    166377 2019-08-12        in    False          NaN            True   \n",
       "28    166377 2019-08-12        in    False          NaN            True   \n",
       "38    166377 2019-08-14        in    False          NaN            True   \n",
       "43    166377 2019-08-14       out    False     880026.0           False   \n",
       "44    166377 2019-08-14       out    False     880026.0           False   \n",
       "45    166377 2019-08-14        in    False          NaN            True   \n",
       "46    166377 2019-08-15       out    False     880026.0           False   \n",
       "51    166377 2019-08-15       out    False     880026.0           False   \n",
       "58    166377 2019-08-19       out    False     880026.0           False   \n",
       "62    166377 2019-08-19       out    False     880026.0           False   \n",
       "72    166377 2019-08-22       out    False     880026.0            True   \n",
       "78    166377 2019-08-22       out    False     880026.0            True   \n",
       "79    166377 2019-08-23        in    False     880026.0           False   \n",
       "84    166377 2019-08-23       out    False     880026.0           False   \n",
       "86    166377 2019-08-23       out    False     880026.0           False   \n",
       "87    166377 2019-08-23        in    False     880026.0           False   \n",
       "99    166377 2019-08-27       out    False     880028.0           False   \n",
       "100   166377 2019-08-27       out    False     880028.0           False   \n",
       "\n",
       "     calls_count  call_duration  total_call_duration  \n",
       "6              8              0                   50  \n",
       "8              8              0                   50  \n",
       "27             2              0                   34  \n",
       "28             2              0                   34  \n",
       "38             1              0                    3  \n",
       "43            10           1567                 1654  \n",
       "44            10           1567                 1654  \n",
       "45             1              0                    3  \n",
       "46            11           1413                 1473  \n",
       "51            11           1413                 1473  \n",
       "58            14           1519                 1598  \n",
       "62            14           1519                 1598  \n",
       "72             6              0                   55  \n",
       "78             6              0                   55  \n",
       "79             1             45                   52  \n",
       "84            43           3435                 3654  \n",
       "86            43           3435                 3654  \n",
       "87             1             45                   52  \n",
       "99            20           2784                 2979  \n",
       "100           20           2784                 2979  "
      ]
     },
     "execution_count": 5,
     "metadata": {},
     "output_type": "execute_result"
    }
   ],
   "source": [
    "# по первым 20 строчкам становится очевидно что это полные копии\n",
    "dataset[dataset.duplicated(keep=False)].head(20)"
   ]
  },
  {
   "cell_type": "code",
   "execution_count": 6,
   "metadata": {},
   "outputs": [
    {
     "name": "stdout",
     "output_type": "stream",
     "text": [
      "4900\n",
      "9.09 %\n"
     ]
    }
   ],
   "source": [
    "print(len(dataset[dataset.duplicated()]))\n",
    "print(round(100 * (len(dataset[dataset.duplicated()]) / len(dataset)),2 ),\"%\")"
   ]
  },
  {
   "cell_type": "markdown",
   "metadata": {},
   "source": [
    "Количество дубликатов и их процент от общего количества строк датафрейма."
   ]
  },
  {
   "cell_type": "code",
   "execution_count": 7,
   "metadata": {},
   "outputs": [],
   "source": [
    "dataset = dataset.drop_duplicates()"
   ]
  },
  {
   "cell_type": "markdown",
   "metadata": {},
   "source": [
    "Удаление полных дубликатов."
   ]
  },
  {
   "cell_type": "markdown",
   "metadata": {},
   "source": [
    "## Исследовательский анализ данных"
   ]
  },
  {
   "cell_type": "code",
   "execution_count": 8,
   "metadata": {},
   "outputs": [
    {
     "name": "stdout",
     "output_type": "stream",
     "text": [
      "<class 'pandas.core.frame.DataFrame'>\n",
      "Int64Index: 49002 entries, 0 to 53901\n",
      "Data columns (total 9 columns):\n",
      " #   Column               Non-Null Count  Dtype         \n",
      "---  ------               --------------  -----         \n",
      " 0   user_id              49002 non-null  int64         \n",
      " 1   date                 49002 non-null  datetime64[ns]\n",
      " 2   direction            49002 non-null  object        \n",
      " 3   internal             48892 non-null  object        \n",
      " 4   operator_id          41546 non-null  float64       \n",
      " 5   is_missed_call       49002 non-null  bool          \n",
      " 6   calls_count          49002 non-null  int64         \n",
      " 7   call_duration        49002 non-null  int64         \n",
      " 8   total_call_duration  49002 non-null  int64         \n",
      "dtypes: bool(1), datetime64[ns](1), float64(1), int64(4), object(2)\n",
      "memory usage: 3.4+ MB\n",
      "\n",
      "\n",
      "\n",
      "<class 'pandas.core.frame.DataFrame'>\n",
      "RangeIndex: 732 entries, 0 to 731\n",
      "Data columns (total 3 columns):\n",
      " #   Column       Non-Null Count  Dtype \n",
      "---  ------       --------------  ----- \n",
      " 0   user_id      732 non-null    int64 \n",
      " 1   tariff_plan  732 non-null    object\n",
      " 2   date_start   732 non-null    object\n",
      "dtypes: int64(1), object(2)\n",
      "memory usage: 17.3+ KB\n"
     ]
    }
   ],
   "source": [
    "dataset.info()\n",
    "print(\"\\n\\n\")\n",
    "client.info()"
   ]
  },
  {
   "cell_type": "markdown",
   "metadata": {},
   "source": [
    "Информация о типах данных предоставленных в таблицах."
   ]
  },
  {
   "cell_type": "code",
   "execution_count": 9,
   "metadata": {},
   "outputs": [
    {
     "data": {
      "text/html": [
       "<style type=\"text/css\">\n",
       "#T_7bbf0_row0_col0, #T_7bbf0_row1_col0, #T_7bbf0_row2_col0, #T_7bbf0_row5_col0, #T_7bbf0_row6_col0, #T_7bbf0_row7_col0, #T_7bbf0_row8_col0 {\n",
       "  background-color: #fff7fb;\n",
       "  color: #000000;\n",
       "}\n",
       "#T_7bbf0_row3_col0 {\n",
       "  background-color: #fdf5fa;\n",
       "  color: #000000;\n",
       "}\n",
       "#T_7bbf0_row4_col0 {\n",
       "  background-color: #023858;\n",
       "  color: #f1f1f1;\n",
       "}\n",
       "</style>\n",
       "<table id=\"T_7bbf0_\">\n",
       "  <thead>\n",
       "    <tr>\n",
       "      <th class=\"blank level0\" >&nbsp;</th>\n",
       "      <th class=\"col_heading level0 col0\" >Пропуски %</th>\n",
       "    </tr>\n",
       "  </thead>\n",
       "  <tbody>\n",
       "    <tr>\n",
       "      <th id=\"T_7bbf0_level0_row0\" class=\"row_heading level0 row0\" >user_id</th>\n",
       "      <td id=\"T_7bbf0_row0_col0\" class=\"data row0 col0\" >0.00</td>\n",
       "    </tr>\n",
       "    <tr>\n",
       "      <th id=\"T_7bbf0_level0_row1\" class=\"row_heading level0 row1\" >date</th>\n",
       "      <td id=\"T_7bbf0_row1_col0\" class=\"data row1 col0\" >0.00</td>\n",
       "    </tr>\n",
       "    <tr>\n",
       "      <th id=\"T_7bbf0_level0_row2\" class=\"row_heading level0 row2\" >direction</th>\n",
       "      <td id=\"T_7bbf0_row2_col0\" class=\"data row2 col0\" >0.00</td>\n",
       "    </tr>\n",
       "    <tr>\n",
       "      <th id=\"T_7bbf0_level0_row3\" class=\"row_heading level0 row3\" >internal</th>\n",
       "      <td id=\"T_7bbf0_row3_col0\" class=\"data row3 col0\" >0.22</td>\n",
       "    </tr>\n",
       "    <tr>\n",
       "      <th id=\"T_7bbf0_level0_row4\" class=\"row_heading level0 row4\" >operator_id</th>\n",
       "      <td id=\"T_7bbf0_row4_col0\" class=\"data row4 col0\" >15.22</td>\n",
       "    </tr>\n",
       "    <tr>\n",
       "      <th id=\"T_7bbf0_level0_row5\" class=\"row_heading level0 row5\" >is_missed_call</th>\n",
       "      <td id=\"T_7bbf0_row5_col0\" class=\"data row5 col0\" >0.00</td>\n",
       "    </tr>\n",
       "    <tr>\n",
       "      <th id=\"T_7bbf0_level0_row6\" class=\"row_heading level0 row6\" >calls_count</th>\n",
       "      <td id=\"T_7bbf0_row6_col0\" class=\"data row6 col0\" >0.00</td>\n",
       "    </tr>\n",
       "    <tr>\n",
       "      <th id=\"T_7bbf0_level0_row7\" class=\"row_heading level0 row7\" >call_duration</th>\n",
       "      <td id=\"T_7bbf0_row7_col0\" class=\"data row7 col0\" >0.00</td>\n",
       "    </tr>\n",
       "    <tr>\n",
       "      <th id=\"T_7bbf0_level0_row8\" class=\"row_heading level0 row8\" >total_call_duration</th>\n",
       "      <td id=\"T_7bbf0_row8_col0\" class=\"data row8 col0\" >0.00</td>\n",
       "    </tr>\n",
       "  </tbody>\n",
       "</table>\n"
      ],
      "text/plain": [
       "<pandas.io.formats.style.Styler at 0x2c76543cac0>"
      ]
     },
     "metadata": {},
     "output_type": "display_data"
    },
    {
     "data": {
      "text/html": [
       "<style type=\"text/css\">\n",
       "#T_33920_row0_col0, #T_33920_row1_col0, #T_33920_row2_col0 {\n",
       "  background-color: #fff7fb;\n",
       "  color: #000000;\n",
       "}\n",
       "</style>\n",
       "<table id=\"T_33920_\">\n",
       "  <thead>\n",
       "    <tr>\n",
       "      <th class=\"blank level0\" >&nbsp;</th>\n",
       "      <th class=\"col_heading level0 col0\" >Пропуски %</th>\n",
       "    </tr>\n",
       "  </thead>\n",
       "  <tbody>\n",
       "    <tr>\n",
       "      <th id=\"T_33920_level0_row0\" class=\"row_heading level0 row0\" >user_id</th>\n",
       "      <td id=\"T_33920_row0_col0\" class=\"data row0 col0\" >0.00</td>\n",
       "    </tr>\n",
       "    <tr>\n",
       "      <th id=\"T_33920_level0_row1\" class=\"row_heading level0 row1\" >tariff_plan</th>\n",
       "      <td id=\"T_33920_row1_col0\" class=\"data row1 col0\" >0.00</td>\n",
       "    </tr>\n",
       "    <tr>\n",
       "      <th id=\"T_33920_level0_row2\" class=\"row_heading level0 row2\" >date_start</th>\n",
       "      <td id=\"T_33920_row2_col0\" class=\"data row2 col0\" >0.00</td>\n",
       "    </tr>\n",
       "  </tbody>\n",
       "</table>\n"
      ],
      "text/plain": [
       "<pandas.io.formats.style.Styler at 0x2c76542eeb0>"
      ]
     },
     "metadata": {},
     "output_type": "display_data"
    }
   ],
   "source": [
    "display(pd.DataFrame(round((dataset.isna().mean()*100), 2), columns=['Пропуски %']).style.format(\n",
    "    '{:.2f}').background_gradient(cmap='PuBu'))\n",
    "\n",
    "display(pd.DataFrame(round((client.isna().mean()*100), 2), columns=['Пропуски %']).style.format(\n",
    "    '{:.2f}').background_gradient(cmap='PuBu'))"
   ]
  },
  {
   "cell_type": "markdown",
   "metadata": {},
   "source": [
    "Проверка наличия пропусков. Значительное количество пропусков имеется в столбце `operator_id.`"
   ]
  },
  {
   "cell_type": "code",
   "execution_count": 10,
   "metadata": {},
   "outputs": [
    {
     "data": {
      "text/plain": [
       "True     7202\n",
       "False     685\n",
       "Name: operator_id, dtype: int64"
      ]
     },
     "execution_count": 10,
     "metadata": {},
     "output_type": "execute_result"
    }
   ],
   "source": [
    "dataset[dataset['is_missed_call'] == True].query('direction == \"in\"')['operator_id'].isna().value_counts()"
   ]
  },
  {
   "cell_type": "markdown",
   "metadata": {},
   "source": [
    "Пропуски в `operator_id` характеризуются типом звонка, это входящий неотвеченный звонок.  \n",
    "Таковыми являются 7202 зафиксированных случаев. Остальные же могут являться ошибкой в базе данных."
   ]
  },
  {
   "cell_type": "code",
   "execution_count": 11,
   "metadata": {},
   "outputs": [],
   "source": [
    "#заглушка для пропущенных значений\n",
    "dataset['operator_id'] = dataset['operator_id'].fillna('unknown')"
   ]
  },
  {
   "cell_type": "code",
   "execution_count": 12,
   "metadata": {},
   "outputs": [
    {
     "data": {
      "text/html": [
       "<div>\n",
       "<style scoped>\n",
       "    .dataframe tbody tr th:only-of-type {\n",
       "        vertical-align: middle;\n",
       "    }\n",
       "\n",
       "    .dataframe tbody tr th {\n",
       "        vertical-align: top;\n",
       "    }\n",
       "\n",
       "    .dataframe thead th {\n",
       "        text-align: right;\n",
       "    }\n",
       "</style>\n",
       "<table border=\"1\" class=\"dataframe\">\n",
       "  <thead>\n",
       "    <tr style=\"text-align: right;\">\n",
       "      <th></th>\n",
       "      <th>count</th>\n",
       "      <th>mean</th>\n",
       "      <th>std</th>\n",
       "      <th>min</th>\n",
       "      <th>25%</th>\n",
       "      <th>50%</th>\n",
       "      <th>75%</th>\n",
       "      <th>max</th>\n",
       "    </tr>\n",
       "  </thead>\n",
       "  <tbody>\n",
       "    <tr>\n",
       "      <th>user_id</th>\n",
       "      <td>49002.0</td>\n",
       "      <td>167294.892759</td>\n",
       "      <td>598.558965</td>\n",
       "      <td>166377.0</td>\n",
       "      <td>166782.0</td>\n",
       "      <td>167158.0</td>\n",
       "      <td>167819.0</td>\n",
       "      <td>168606.0</td>\n",
       "    </tr>\n",
       "    <tr>\n",
       "      <th>calls_count</th>\n",
       "      <td>49002.0</td>\n",
       "      <td>16.462777</td>\n",
       "      <td>63.604098</td>\n",
       "      <td>1.0</td>\n",
       "      <td>1.0</td>\n",
       "      <td>4.0</td>\n",
       "      <td>12.0</td>\n",
       "      <td>4817.0</td>\n",
       "    </tr>\n",
       "    <tr>\n",
       "      <th>call_duration</th>\n",
       "      <td>49002.0</td>\n",
       "      <td>866.282091</td>\n",
       "      <td>3775.503352</td>\n",
       "      <td>0.0</td>\n",
       "      <td>0.0</td>\n",
       "      <td>37.0</td>\n",
       "      <td>570.0</td>\n",
       "      <td>144395.0</td>\n",
       "    </tr>\n",
       "    <tr>\n",
       "      <th>total_call_duration</th>\n",
       "      <td>49002.0</td>\n",
       "      <td>1156.558202</td>\n",
       "      <td>4451.473661</td>\n",
       "      <td>0.0</td>\n",
       "      <td>46.0</td>\n",
       "      <td>208.0</td>\n",
       "      <td>901.0</td>\n",
       "      <td>166155.0</td>\n",
       "    </tr>\n",
       "  </tbody>\n",
       "</table>\n",
       "</div>"
      ],
      "text/plain": [
       "                       count           mean          std       min       25%  \\\n",
       "user_id              49002.0  167294.892759   598.558965  166377.0  166782.0   \n",
       "calls_count          49002.0      16.462777    63.604098       1.0       1.0   \n",
       "call_duration        49002.0     866.282091  3775.503352       0.0       0.0   \n",
       "total_call_duration  49002.0    1156.558202  4451.473661       0.0      46.0   \n",
       "\n",
       "                          50%       75%       max  \n",
       "user_id              167158.0  167819.0  168606.0  \n",
       "calls_count               4.0      12.0    4817.0  \n",
       "call_duration            37.0     570.0  144395.0  \n",
       "total_call_duration     208.0     901.0  166155.0  "
      ]
     },
     "execution_count": 12,
     "metadata": {},
     "output_type": "execute_result"
    }
   ],
   "source": [
    "dataset.describe().T"
   ]
  },
  {
   "cell_type": "markdown",
   "metadata": {},
   "source": [
    "Вывод по общему значению всех числовых данных в таблице **dataset:**\n",
    "\n",
    "* Среднее количество звонков в день 16\n",
    "* Средняя суточная длительность звонков 866 минут\n",
    "* Средняя суточная длительность звонков с учетом ожидания 1156 минут\n",
    "\n",
    "Так же видно что в данных имеются сильные выбросы.  \n",
    "Ими являются максимальные значения в столбцах `calls_count` , `call_duration` ,`total_call_duration.`\n"
   ]
  },
  {
   "cell_type": "code",
   "execution_count": 13,
   "metadata": {},
   "outputs": [
    {
     "name": "stdout",
     "output_type": "stream",
     "text": [
      "C 2019-08-02 00:00:00 по 2019-11-28 00:00:00\n"
     ]
    }
   ],
   "source": [
    "print('C' ,dataset['date'].min(), 'по',dataset['date'].max())"
   ]
  },
  {
   "cell_type": "markdown",
   "metadata": {},
   "source": [
    "Временные рамки исследуемых данных. В нашем распоряжении информация за 4 неполных календарных месяца."
   ]
  },
  {
   "cell_type": "code",
   "execution_count": 14,
   "metadata": {},
   "outputs": [],
   "source": [
    "uniq_user = dataset.pivot_table(index='date', values='user_id', aggfunc='count').reset_index()\n",
    "dataset['month'] = pd.to_datetime(dataset['date']).dt.month\n",
    "uniq_user = dataset.groupby('month')['user_id'].agg('nunique').reset_index()"
   ]
  },
  {
   "cell_type": "code",
   "execution_count": 15,
   "metadata": {
    "scrolled": false
   },
   "outputs": [
    {
     "data": {
      "image/png": "[encoded data removed]",
      "text/plain": [
       "<Figure size 720x288 with 1 Axes>"
      ]
     },
     "metadata": {
      "needs_background": "light"
     },
     "output_type": "display_data"
    }
   ],
   "source": [
    "plt.figure(figsize =(10, 4))\n",
    "plt.bar(uniq_user['month'], uniq_user['user_id'])\n",
    "plt.locator_params(axis=\"both\", integer=True, tight=True)\n",
    "\n",
    "plt.title('Уникальные пользователи')\n",
    "plt.xlabel('Месяц') \n",
    "plt.ylabel('Количество') \n",
    "\n",
    "plt.show()"
   ]
  },
  {
   "cell_type": "markdown",
   "metadata": {},
   "source": [
    "Уникальные пользователь пользующиеся услугами компании по месяцам."
   ]
  },
  {
   "cell_type": "code",
   "execution_count": 16,
   "metadata": {},
   "outputs": [
    {
     "data": {
      "text/plain": [
       "307"
      ]
     },
     "execution_count": 16,
     "metadata": {},
     "output_type": "execute_result"
    }
   ],
   "source": [
    "dataset['user_id'].nunique()"
   ]
  },
  {
   "cell_type": "markdown",
   "metadata": {},
   "source": [
    "Количество уникальных пользователей пользующихся услугами компании. Всего в исследуемом периоде участвует 307 уникальных пользователя."
   ]
  },
  {
   "cell_type": "code",
   "execution_count": 17,
   "metadata": {},
   "outputs": [],
   "source": [
    "data_client = dataset.copy()\n",
    "data_client = data_client.merge(client, on='user_id', how='left')"
   ]
  },
  {
   "cell_type": "code",
   "execution_count": 18,
   "metadata": {
    "scrolled": false
   },
   "outputs": [
    {
     "data": {
      "image/png": "[encoded data removed]",
      "text/plain": [
       "<Figure size 864x216 with 1 Axes>"
      ]
     },
     "metadata": {
      "needs_background": "light"
     },
     "output_type": "display_data"
    },
    {
     "data": {
      "image/png": "[encoded data removed]",
      "text/plain": [
       "<Figure size 864x216 with 1 Axes>"
      ]
     },
     "metadata": {
      "needs_background": "light"
     },
     "output_type": "display_data"
    },
    {
     "data": {
      "image/png": "[encoded data removed]",
      "text/plain": [
       "<Figure size 864x216 with 1 Axes>"
      ]
     },
     "metadata": {
      "needs_background": "light"
     },
     "output_type": "display_data"
    }
   ],
   "source": [
    "for column in ['calls_count', 'call_duration', 'total_call_duration']:\n",
    "    \n",
    "    g = sns.catplot(y='tariff_plan', x=column, kind=\"boxen\", data= data_client, orient='h', palette ='pastel')\n",
    "    g.fig.set_figwidth(12)\n",
    "    g.fig.set_figheight(3)"
   ]
  },
  {
   "cell_type": "markdown",
   "metadata": {},
   "source": [
    "Диаграммы размаха в разрезе тарифов для сравнения показателей и определения границ выбросов.\n",
    "\n",
    "* Наиболее равномерное распределение значений по количеству и длительности звонков имеет тариф - «B»\n",
    "* Выбросы в значениях количества ежедневых звонков характерны для тарифов - «A» и «C»\n",
    "* Значительно большая часть выбросов по длительности звонков наблюдается у тарифа - «A»"
   ]
  },
  {
   "cell_type": "code",
   "execution_count": 19,
   "metadata": {},
   "outputs": [
    {
     "data": {
      "image/png": "[encoded data removed]",
      "text/plain": [
       "<Figure size 720x288 with 1 Axes>"
      ]
     },
     "metadata": {
      "needs_background": "light"
     },
     "output_type": "display_data"
    },
    {
     "data": {
      "image/png": "[encoded data removed]",
      "text/plain": [
       "<Figure size 720x288 with 1 Axes>"
      ]
     },
     "metadata": {
      "needs_background": "light"
     },
     "output_type": "display_data"
    }
   ],
   "source": [
    "for column in ['calls_count', 'call_duration']:\n",
    "\n",
    "    (data_client\n",
    "     .pivot_table(index='tariff_plan', columns='month', values=column, aggfunc='mean')\n",
    "     .T\n",
    "     .plot(kind='line', figsize=(10,4),  style = 'o-')\n",
    "    )\n",
    "    plt.locator_params(axis=\"both\", integer=True, tight=True)\n",
    "    plt.title('Распределение среднего значения по месяцам'+ \"\\n\")\n",
    "    plt.xlabel('Месяц')\n",
    "    plt.ylabel(column);"
   ]
  },
  {
   "cell_type": "markdown",
   "metadata": {},
   "source": [
    "Графики среднего ежемесячного количества и длительности звонков в разрезе по тарифам.  \n",
    "Заметен очевидный непрекращающийся спад у тарифа «A». Тарифы «B» и «C» имеют схожее распределение."
   ]
  },
  {
   "cell_type": "code",
   "execution_count": 20,
   "metadata": {},
   "outputs": [
    {
     "data": {
      "image/png": "[encoded data removed]",
      "text/plain": [
       "<Figure size 720x288 with 1 Axes>"
      ]
     },
     "metadata": {
      "needs_background": "light"
     },
     "output_type": "display_data"
    },
    {
     "data": {
      "image/png": "[encoded data removed]",
      "text/plain": [
       "<Figure size 720x288 with 1 Axes>"
      ]
     },
     "metadata": {
      "needs_background": "light"
     },
     "output_type": "display_data"
    },
    {
     "data": {
      "image/png": "[encoded data removed]",
      "text/plain": [
       "<Figure size 720x288 with 1 Axes>"
      ]
     },
     "metadata": {
      "needs_background": "light"
     },
     "output_type": "display_data"
    }
   ],
   "source": [
    "for column in ['calls_count', 'call_duration', 'total_call_duration']:\n",
    "\n",
    "    (data_client\n",
    "     .pivot_table(index='tariff_plan', columns='month', values=column, aggfunc='sum')\n",
    "     .T\n",
    "     .plot(kind='line', figsize=(10,4),  style = 'o-')\n",
    "    )\n",
    "    plt.locator_params(axis=\"both\", integer=True, tight=True)\n",
    "    plt.title('Кумулятивный график значений по месяцам'+ \"\\n\")\n",
    "    plt.xlabel('Месяц')\n",
    "    plt.ylabel(column);"
   ]
  },
  {
   "cell_type": "markdown",
   "metadata": {},
   "source": [
    "В течении всего исследуемого периода ежемесячные суммарные показатели длительности и количества звонков растут.  \n",
    "В последний месяц исследуемого периода наблюдается небольшой спад, это может являться причиной того что данные неполные   \n",
    "*(не хватает 3 дней до окончания месяца)*"
   ]
  },
  {
   "cell_type": "code",
   "execution_count": 21,
   "metadata": {},
   "outputs": [],
   "source": [
    "day_minute = 60 * 24"
   ]
  },
  {
   "cell_type": "code",
   "execution_count": 22,
   "metadata": {},
   "outputs": [
    {
     "name": "stdout",
     "output_type": "stream",
     "text": [
      "Удаляется строк при применении фильтра: 6823\n",
      "% удаляемых строк при применении фильтра: 7.18\n",
      "Удаляется пользователей при применении фильтра: 0\n",
      "Удаляется операторов при применении фильтра: 2\n"
     ]
    }
   ],
   "source": [
    "print(\"Удаляется строк при применении фильтра:\" ,\n",
    "      len(data_client) - len(data_client.query('call_duration < @day_minute')))\n",
    "print(\"% удаляемых строк при применении фильтра:\" ,\n",
    "      round(len(data_client) / (len(data_client) - len(data_client.query('call_duration < @day_minute'))),2 ))\n",
    "print(\"Удаляется пользователей при применении фильтра:\" ,\n",
    "      data_client['user_id'].nunique() - data_client.query('call_duration < @day_minute')['user_id'].nunique())\n",
    "print(\"Удаляется операторов при применении фильтра:\" ,\n",
    "      data_client['operator_id'].nunique() - data_client.query('call_duration < @day_minute')['operator_id'].nunique())\n"
   ]
  },
  {
   "cell_type": "code",
   "execution_count": 23,
   "metadata": {},
   "outputs": [],
   "source": [
    "data_client_clear = data_client.query('call_duration < @day_minute')"
   ]
  },
  {
   "cell_type": "markdown",
   "metadata": {},
   "source": [
    "Для достоверности подсчетов установим максимальную суточную длительность звонков на одного пользователя 1440 минут.  \n",
    "Учитывается только реальное время разговора без времени ожидания `call_duration.`  \n",
    "Так как операторами могут являться не живые люди, а рабочие станции, то они могут работать 24 часа в сутки.  \n",
    "И существует возможность того, что оператор может держать на линии одного человека, а вести разговор с другим.\n",
    "\n",
    "\n",
    "Ограничения по количеству звонков не ставятся из за возможности произведения автоматических обзвонов.\n",
    "\n",
    "\n"
   ]
  },
  {
   "cell_type": "markdown",
   "metadata": {},
   "source": [
    "## Расчет оптимальных тарифов"
   ]
  },
  {
   "cell_type": "code",
   "execution_count": 24,
   "metadata": {},
   "outputs": [
    {
     "data": {
      "text/html": [
       "<div>\n",
       "<style scoped>\n",
       "    .dataframe tbody tr th:only-of-type {\n",
       "        vertical-align: middle;\n",
       "    }\n",
       "\n",
       "    .dataframe tbody tr th {\n",
       "        vertical-align: top;\n",
       "    }\n",
       "\n",
       "    .dataframe thead th {\n",
       "        text-align: right;\n",
       "    }\n",
       "</style>\n",
       "<table border=\"1\" class=\"dataframe\">\n",
       "  <thead>\n",
       "    <tr style=\"text-align: right;\">\n",
       "      <th></th>\n",
       "      <th>user_id</th>\n",
       "      <th>date</th>\n",
       "      <th>direction</th>\n",
       "      <th>internal</th>\n",
       "      <th>operator_id</th>\n",
       "      <th>is_missed_call</th>\n",
       "      <th>calls_count</th>\n",
       "      <th>call_duration</th>\n",
       "      <th>total_call_duration</th>\n",
       "      <th>month</th>\n",
       "      <th>tariff_plan</th>\n",
       "      <th>date_start</th>\n",
       "    </tr>\n",
       "  </thead>\n",
       "  <tbody>\n",
       "    <tr>\n",
       "      <th>1</th>\n",
       "      <td>166377</td>\n",
       "      <td>2019-08-05</td>\n",
       "      <td>out</td>\n",
       "      <td>True</td>\n",
       "      <td>880022.0</td>\n",
       "      <td>True</td>\n",
       "      <td>3</td>\n",
       "      <td>0</td>\n",
       "      <td>5</td>\n",
       "      <td>8</td>\n",
       "      <td>B</td>\n",
       "      <td>2019-08-01</td>\n",
       "    </tr>\n",
       "    <tr>\n",
       "      <th>2</th>\n",
       "      <td>166377</td>\n",
       "      <td>2019-08-05</td>\n",
       "      <td>out</td>\n",
       "      <td>True</td>\n",
       "      <td>880020.0</td>\n",
       "      <td>True</td>\n",
       "      <td>1</td>\n",
       "      <td>0</td>\n",
       "      <td>1</td>\n",
       "      <td>8</td>\n",
       "      <td>B</td>\n",
       "      <td>2019-08-01</td>\n",
       "    </tr>\n",
       "    <tr>\n",
       "      <th>3</th>\n",
       "      <td>166377</td>\n",
       "      <td>2019-08-05</td>\n",
       "      <td>out</td>\n",
       "      <td>True</td>\n",
       "      <td>880020.0</td>\n",
       "      <td>False</td>\n",
       "      <td>1</td>\n",
       "      <td>10</td>\n",
       "      <td>18</td>\n",
       "      <td>8</td>\n",
       "      <td>B</td>\n",
       "      <td>2019-08-01</td>\n",
       "    </tr>\n",
       "    <tr>\n",
       "      <th>4</th>\n",
       "      <td>166377</td>\n",
       "      <td>2019-08-05</td>\n",
       "      <td>out</td>\n",
       "      <td>False</td>\n",
       "      <td>880022.0</td>\n",
       "      <td>True</td>\n",
       "      <td>3</td>\n",
       "      <td>0</td>\n",
       "      <td>25</td>\n",
       "      <td>8</td>\n",
       "      <td>B</td>\n",
       "      <td>2019-08-01</td>\n",
       "    </tr>\n",
       "    <tr>\n",
       "      <th>5</th>\n",
       "      <td>166377</td>\n",
       "      <td>2019-08-05</td>\n",
       "      <td>out</td>\n",
       "      <td>False</td>\n",
       "      <td>880020.0</td>\n",
       "      <td>False</td>\n",
       "      <td>2</td>\n",
       "      <td>3</td>\n",
       "      <td>29</td>\n",
       "      <td>8</td>\n",
       "      <td>B</td>\n",
       "      <td>2019-08-01</td>\n",
       "    </tr>\n",
       "  </tbody>\n",
       "</table>\n",
       "</div>"
      ],
      "text/plain": [
       "   user_id       date direction internal operator_id  is_missed_call  \\\n",
       "1   166377 2019-08-05       out     True    880022.0            True   \n",
       "2   166377 2019-08-05       out     True    880020.0            True   \n",
       "3   166377 2019-08-05       out     True    880020.0           False   \n",
       "4   166377 2019-08-05       out    False    880022.0            True   \n",
       "5   166377 2019-08-05       out    False    880020.0           False   \n",
       "\n",
       "   calls_count  call_duration  total_call_duration  month tariff_plan  \\\n",
       "1            3              0                    5      8           B   \n",
       "2            1              0                    1      8           B   \n",
       "3            1             10                   18      8           B   \n",
       "4            3              0                   25      8           B   \n",
       "5            2              3                   29      8           B   \n",
       "\n",
       "   date_start  \n",
       "1  2019-08-01  \n",
       "2  2019-08-01  \n",
       "3  2019-08-01  \n",
       "4  2019-08-01  \n",
       "5  2019-08-01  "
      ]
     },
     "execution_count": 24,
     "metadata": {},
     "output_type": "execute_result"
    }
   ],
   "source": [
    "# для проверки гипотез\n",
    "data_client_hypotesis = data_client_clear.copy()\n",
    "\n",
    "# для расчета выручки\n",
    "data_client_clear = data_client_clear.query('direction != \"in\"')\n",
    "data_client_clear.head()"
   ]
  },
  {
   "cell_type": "markdown",
   "metadata": {},
   "source": [
    "Для расчета выручки удаляются все входящие звонки, так как они не тарифицируются."
   ]
  },
  {
   "cell_type": "code",
   "execution_count": 25,
   "metadata": {},
   "outputs": [
    {
     "data": {
      "text/html": [
       "<div>\n",
       "<style scoped>\n",
       "    .dataframe tbody tr th:only-of-type {\n",
       "        vertical-align: middle;\n",
       "    }\n",
       "\n",
       "    .dataframe tbody tr th {\n",
       "        vertical-align: top;\n",
       "    }\n",
       "\n",
       "    .dataframe thead th {\n",
       "        text-align: right;\n",
       "    }\n",
       "</style>\n",
       "<table border=\"1\" class=\"dataframe\">\n",
       "  <thead>\n",
       "    <tr style=\"text-align: right;\">\n",
       "      <th></th>\n",
       "      <th>user_id</th>\n",
       "      <th>month</th>\n",
       "      <th>calls_min_in</th>\n",
       "    </tr>\n",
       "  </thead>\n",
       "  <tbody>\n",
       "    <tr>\n",
       "      <th>0</th>\n",
       "      <td>166377</td>\n",
       "      <td>8</td>\n",
       "      <td>96</td>\n",
       "    </tr>\n",
       "    <tr>\n",
       "      <th>1</th>\n",
       "      <td>166377</td>\n",
       "      <td>9</td>\n",
       "      <td>9</td>\n",
       "    </tr>\n",
       "    <tr>\n",
       "      <th>2</th>\n",
       "      <td>166377</td>\n",
       "      <td>10</td>\n",
       "      <td>5</td>\n",
       "    </tr>\n",
       "    <tr>\n",
       "      <th>3</th>\n",
       "      <td>166377</td>\n",
       "      <td>11</td>\n",
       "      <td>127</td>\n",
       "    </tr>\n",
       "    <tr>\n",
       "      <th>4</th>\n",
       "      <td>166391</td>\n",
       "      <td>8</td>\n",
       "      <td>7</td>\n",
       "    </tr>\n",
       "  </tbody>\n",
       "</table>\n",
       "</div>"
      ],
      "text/plain": [
       "   user_id  month  calls_min_in\n",
       "0   166377      8            96\n",
       "1   166377      9             9\n",
       "2   166377     10             5\n",
       "3   166377     11           127\n",
       "4   166391      8             7"
      ]
     },
     "execution_count": 25,
     "metadata": {},
     "output_type": "execute_result"
    }
   ],
   "source": [
    "calls_pivot_in = data_client_clear.query('internal == True').pivot_table(index=['user_id',data_client['date'].dt.month],\n",
    "                                   values='total_call_duration',\n",
    "                                   aggfunc=['sum']).reset_index()\n",
    "\n",
    "calls_pivot_in.columns = ['user_id','month','calls_min_in']\n",
    "\n",
    "calls_pivot_in.head()"
   ]
  },
  {
   "cell_type": "code",
   "execution_count": 26,
   "metadata": {},
   "outputs": [
    {
     "data": {
      "text/html": [
       "<div>\n",
       "<style scoped>\n",
       "    .dataframe tbody tr th:only-of-type {\n",
       "        vertical-align: middle;\n",
       "    }\n",
       "\n",
       "    .dataframe tbody tr th {\n",
       "        vertical-align: top;\n",
       "    }\n",
       "\n",
       "    .dataframe thead th {\n",
       "        text-align: right;\n",
       "    }\n",
       "</style>\n",
       "<table border=\"1\" class=\"dataframe\">\n",
       "  <thead>\n",
       "    <tr style=\"text-align: right;\">\n",
       "      <th></th>\n",
       "      <th>user_id</th>\n",
       "      <th>month</th>\n",
       "      <th>calls_min_out</th>\n",
       "    </tr>\n",
       "  </thead>\n",
       "  <tbody>\n",
       "    <tr>\n",
       "      <th>0</th>\n",
       "      <td>166377</td>\n",
       "      <td>8</td>\n",
       "      <td>17130</td>\n",
       "    </tr>\n",
       "    <tr>\n",
       "      <th>1</th>\n",
       "      <td>166377</td>\n",
       "      <td>9</td>\n",
       "      <td>31220</td>\n",
       "    </tr>\n",
       "    <tr>\n",
       "      <th>2</th>\n",
       "      <td>166377</td>\n",
       "      <td>10</td>\n",
       "      <td>30235</td>\n",
       "    </tr>\n",
       "    <tr>\n",
       "      <th>3</th>\n",
       "      <td>166377</td>\n",
       "      <td>11</td>\n",
       "      <td>21144</td>\n",
       "    </tr>\n",
       "    <tr>\n",
       "      <th>4</th>\n",
       "      <td>166405</td>\n",
       "      <td>8</td>\n",
       "      <td>14725</td>\n",
       "    </tr>\n",
       "  </tbody>\n",
       "</table>\n",
       "</div>"
      ],
      "text/plain": [
       "   user_id  month  calls_min_out\n",
       "0   166377      8          17130\n",
       "1   166377      9          31220\n",
       "2   166377     10          30235\n",
       "3   166377     11          21144\n",
       "4   166405      8          14725"
      ]
     },
     "execution_count": 26,
     "metadata": {},
     "output_type": "execute_result"
    }
   ],
   "source": [
    "calls_pivot_out = data_client_clear.query('internal == False').pivot_table(index=['user_id',data_client['date'].dt.month],\n",
    "                                   values='total_call_duration',\n",
    "                                   aggfunc=['sum']).reset_index()\n",
    "\n",
    "calls_pivot_out.columns = ['user_id','month','calls_min_out']\n",
    "\n",
    "calls_pivot_out.head()"
   ]
  },
  {
   "cell_type": "markdown",
   "metadata": {},
   "source": [
    "Сводные таблицы с ежемесячной длительностью исходящих внутренних и внешних звонков."
   ]
  },
  {
   "cell_type": "code",
   "execution_count": 27,
   "metadata": {},
   "outputs": [
    {
     "data": {
      "text/html": [
       "<div>\n",
       "<style scoped>\n",
       "    .dataframe tbody tr th:only-of-type {\n",
       "        vertical-align: middle;\n",
       "    }\n",
       "\n",
       "    .dataframe tbody tr th {\n",
       "        vertical-align: top;\n",
       "    }\n",
       "\n",
       "    .dataframe thead th {\n",
       "        text-align: right;\n",
       "    }\n",
       "</style>\n",
       "<table border=\"1\" class=\"dataframe\">\n",
       "  <thead>\n",
       "    <tr style=\"text-align: right;\">\n",
       "      <th></th>\n",
       "      <th>user_id</th>\n",
       "      <th>month</th>\n",
       "      <th>operator</th>\n",
       "    </tr>\n",
       "  </thead>\n",
       "  <tbody>\n",
       "    <tr>\n",
       "      <th>0</th>\n",
       "      <td>166377</td>\n",
       "      <td>8</td>\n",
       "      <td>5</td>\n",
       "    </tr>\n",
       "    <tr>\n",
       "      <th>1</th>\n",
       "      <td>166377</td>\n",
       "      <td>9</td>\n",
       "      <td>4</td>\n",
       "    </tr>\n",
       "    <tr>\n",
       "      <th>2</th>\n",
       "      <td>166377</td>\n",
       "      <td>10</td>\n",
       "      <td>5</td>\n",
       "    </tr>\n",
       "    <tr>\n",
       "      <th>3</th>\n",
       "      <td>166377</td>\n",
       "      <td>11</td>\n",
       "      <td>5</td>\n",
       "    </tr>\n",
       "    <tr>\n",
       "      <th>4</th>\n",
       "      <td>166391</td>\n",
       "      <td>8</td>\n",
       "      <td>1</td>\n",
       "    </tr>\n",
       "  </tbody>\n",
       "</table>\n",
       "</div>"
      ],
      "text/plain": [
       "   user_id  month  operator\n",
       "0   166377      8         5\n",
       "1   166377      9         4\n",
       "2   166377     10         5\n",
       "3   166377     11         5\n",
       "4   166391      8         1"
      ]
     },
     "execution_count": 27,
     "metadata": {},
     "output_type": "execute_result"
    }
   ],
   "source": [
    "operator = data_client_clear.pivot_table(index=['user_id',data_client['date'].dt.month],\n",
    "                                   values='operator_id',\n",
    "                                   aggfunc=['nunique']).reset_index()\n",
    "\n",
    "operator.columns = ['user_id','month','operator']\n",
    "\n",
    "operator.head()"
   ]
  },
  {
   "cell_type": "markdown",
   "metadata": {},
   "source": [
    "Сводные таблицы с ежемесячным количетсвом уникальных операторов на пользователя."
   ]
  },
  {
   "cell_type": "code",
   "execution_count": 28,
   "metadata": {},
   "outputs": [
    {
     "data": {
      "text/html": [
       "<div>\n",
       "<style scoped>\n",
       "    .dataframe tbody tr th:only-of-type {\n",
       "        vertical-align: middle;\n",
       "    }\n",
       "\n",
       "    .dataframe tbody tr th {\n",
       "        vertical-align: top;\n",
       "    }\n",
       "\n",
       "    .dataframe thead th {\n",
       "        text-align: right;\n",
       "    }\n",
       "</style>\n",
       "<table border=\"1\" class=\"dataframe\">\n",
       "  <thead>\n",
       "    <tr style=\"text-align: right;\">\n",
       "      <th></th>\n",
       "      <th>user_id</th>\n",
       "      <th>month</th>\n",
       "      <th>calls_min_in</th>\n",
       "      <th>calls_min_out</th>\n",
       "      <th>tariff_plan</th>\n",
       "      <th>operator</th>\n",
       "    </tr>\n",
       "  </thead>\n",
       "  <tbody>\n",
       "    <tr>\n",
       "      <th>0</th>\n",
       "      <td>166377</td>\n",
       "      <td>8</td>\n",
       "      <td>96.0</td>\n",
       "      <td>17130.0</td>\n",
       "      <td>B</td>\n",
       "      <td>5</td>\n",
       "    </tr>\n",
       "    <tr>\n",
       "      <th>1</th>\n",
       "      <td>166377</td>\n",
       "      <td>9</td>\n",
       "      <td>9.0</td>\n",
       "      <td>31220.0</td>\n",
       "      <td>B</td>\n",
       "      <td>4</td>\n",
       "    </tr>\n",
       "    <tr>\n",
       "      <th>2</th>\n",
       "      <td>166377</td>\n",
       "      <td>10</td>\n",
       "      <td>5.0</td>\n",
       "      <td>30235.0</td>\n",
       "      <td>B</td>\n",
       "      <td>5</td>\n",
       "    </tr>\n",
       "    <tr>\n",
       "      <th>3</th>\n",
       "      <td>166377</td>\n",
       "      <td>11</td>\n",
       "      <td>127.0</td>\n",
       "      <td>21144.0</td>\n",
       "      <td>B</td>\n",
       "      <td>5</td>\n",
       "    </tr>\n",
       "    <tr>\n",
       "      <th>4</th>\n",
       "      <td>166391</td>\n",
       "      <td>8</td>\n",
       "      <td>7.0</td>\n",
       "      <td>0.0</td>\n",
       "      <td>C</td>\n",
       "      <td>1</td>\n",
       "    </tr>\n",
       "  </tbody>\n",
       "</table>\n",
       "</div>"
      ],
      "text/plain": [
       "   user_id  month  calls_min_in  calls_min_out tariff_plan  operator\n",
       "0   166377      8          96.0        17130.0           B         5\n",
       "1   166377      9           9.0        31220.0           B         4\n",
       "2   166377     10           5.0        30235.0           B         5\n",
       "3   166377     11         127.0        21144.0           B         5\n",
       "4   166391      8           7.0            0.0           C         1"
      ]
     },
     "execution_count": 28,
     "metadata": {},
     "output_type": "execute_result"
    }
   ],
   "source": [
    "calls_pivot_full = calls_pivot_in.merge(calls_pivot_out, on=['user_id','month'], how='outer')\n",
    "calls_pivot_full = calls_pivot_full.fillna(0)\n",
    "calls_pivot_full = calls_pivot_full.merge(client[['tariff_plan','user_id']], on='user_id', how='left')\n",
    "calls_pivot_full = calls_pivot_full.merge(operator[['user_id','operator','month']], on=['user_id','month'], how='left')\n",
    "\n",
    "calls_pivot_full.head()"
   ]
  },
  {
   "cell_type": "markdown",
   "metadata": {},
   "source": [
    "Объединение сводных таблиц."
   ]
  },
  {
   "cell_type": "code",
   "execution_count": 29,
   "metadata": {},
   "outputs": [
    {
     "data": {
      "text/html": [
       "<div>\n",
       "<style scoped>\n",
       "    .dataframe tbody tr th:only-of-type {\n",
       "        vertical-align: middle;\n",
       "    }\n",
       "\n",
       "    .dataframe tbody tr th {\n",
       "        vertical-align: top;\n",
       "    }\n",
       "\n",
       "    .dataframe thead th {\n",
       "        text-align: right;\n",
       "    }\n",
       "</style>\n",
       "<table border=\"1\" class=\"dataframe\">\n",
       "  <thead>\n",
       "    <tr style=\"text-align: right;\">\n",
       "      <th></th>\n",
       "      <th>price</th>\n",
       "      <th>free_in</th>\n",
       "      <th>in_per_minute</th>\n",
       "      <th>out_per_minute</th>\n",
       "      <th>per_operator</th>\n",
       "    </tr>\n",
       "  </thead>\n",
       "  <tbody>\n",
       "    <tr>\n",
       "      <th>A</th>\n",
       "      <td>5000</td>\n",
       "      <td>2000</td>\n",
       "      <td>0.10</td>\n",
       "      <td>0.4</td>\n",
       "      <td>100</td>\n",
       "    </tr>\n",
       "    <tr>\n",
       "      <th>B</th>\n",
       "      <td>2000</td>\n",
       "      <td>2000</td>\n",
       "      <td>0.15</td>\n",
       "      <td>0.5</td>\n",
       "      <td>100</td>\n",
       "    </tr>\n",
       "    <tr>\n",
       "      <th>C</th>\n",
       "      <td>1000</td>\n",
       "      <td>2000</td>\n",
       "      <td>0.30</td>\n",
       "      <td>0.7</td>\n",
       "      <td>100</td>\n",
       "    </tr>\n",
       "  </tbody>\n",
       "</table>\n",
       "</div>"
      ],
      "text/plain": [
       "   price  free_in  in_per_minute  out_per_minute  per_operator\n",
       "A   5000     2000           0.10             0.4           100\n",
       "B   2000     2000           0.15             0.5           100\n",
       "C   1000     2000           0.30             0.7           100"
      ]
     },
     "execution_count": 29,
     "metadata": {},
     "output_type": "execute_result"
    }
   ],
   "source": [
    "df = pd.DataFrame([[5000, 2000, 0.1, 0.4, 100], [2000, 2000, 0.15, 0.5, 100], [1000, 2000, 0.3, 0.7, 100]],\n",
    "     index=['A', 'B', 'C'],\n",
    "     columns=['price','free_in','in_per_minute','out_per_minute','per_operator'])\n",
    "df"
   ]
  },
  {
   "cell_type": "markdown",
   "metadata": {},
   "source": [
    "Таблица с информацией о тарифах."
   ]
  },
  {
   "cell_type": "code",
   "execution_count": 30,
   "metadata": {},
   "outputs": [],
   "source": [
    "def income(row):\n",
    "    tariff = row['tariff_plan']\n",
    "    calls_in = row['calls_min_in']\n",
    "    calls_out = row['calls_min_out']\n",
    "    operator = row['operator']\n",
    "    \n",
    "    if tariff == 'A':\n",
    "        income = 0\n",
    "        if calls_in > df['price'][0]:\n",
    "            income += (calls_in - df['free_in'][0]) * df['in_per_minute'][0]\n",
    "        income += calls_out * df['out_per_minute'][0]\n",
    "        income +=  operator * df['per_operator'][0]\n",
    "        income += df['price'][0]\n",
    "        return income\n",
    "    \n",
    "    if tariff == 'B':\n",
    "        income = 0\n",
    "        if calls_in > df['price'][1]:\n",
    "            income += (calls_in - df['free_in'][1]) * df['in_per_minute'][1]\n",
    "        income += calls_out * df['out_per_minute'][1]\n",
    "        income +=  operator * df['per_operator'][1]\n",
    "        income += df['price'][1]\n",
    "        return income\n",
    "    \n",
    "    if tariff == 'C':\n",
    "        income = 0\n",
    "        if calls_in > df['price'][2]:\n",
    "            income += (calls_in - df['free_in'][2]) * df['in_per_minute'][2]\n",
    "        income += calls_out * df['out_per_minute'][2]\n",
    "        income +=  operator * df['per_operator'][2]\n",
    "        income += df['price'][2]\n",
    "        return income"
   ]
  },
  {
   "cell_type": "markdown",
   "metadata": {},
   "source": [
    "Функция для подсчета ежемесячной прибыли."
   ]
  },
  {
   "cell_type": "code",
   "execution_count": 31,
   "metadata": {},
   "outputs": [
    {
     "data": {
      "text/html": [
       "<div>\n",
       "<style scoped>\n",
       "    .dataframe tbody tr th:only-of-type {\n",
       "        vertical-align: middle;\n",
       "    }\n",
       "\n",
       "    .dataframe tbody tr th {\n",
       "        vertical-align: top;\n",
       "    }\n",
       "\n",
       "    .dataframe thead th {\n",
       "        text-align: right;\n",
       "    }\n",
       "</style>\n",
       "<table border=\"1\" class=\"dataframe\">\n",
       "  <thead>\n",
       "    <tr style=\"text-align: right;\">\n",
       "      <th></th>\n",
       "      <th>user_id</th>\n",
       "      <th>month</th>\n",
       "      <th>calls_min_in</th>\n",
       "      <th>calls_min_out</th>\n",
       "      <th>tariff_plan</th>\n",
       "      <th>operator</th>\n",
       "      <th>income</th>\n",
       "    </tr>\n",
       "  </thead>\n",
       "  <tbody>\n",
       "    <tr>\n",
       "      <th>0</th>\n",
       "      <td>166377</td>\n",
       "      <td>8</td>\n",
       "      <td>96.0</td>\n",
       "      <td>17130.0</td>\n",
       "      <td>B</td>\n",
       "      <td>5</td>\n",
       "      <td>11065.0</td>\n",
       "    </tr>\n",
       "    <tr>\n",
       "      <th>1</th>\n",
       "      <td>166377</td>\n",
       "      <td>9</td>\n",
       "      <td>9.0</td>\n",
       "      <td>31220.0</td>\n",
       "      <td>B</td>\n",
       "      <td>4</td>\n",
       "      <td>18010.0</td>\n",
       "    </tr>\n",
       "    <tr>\n",
       "      <th>2</th>\n",
       "      <td>166377</td>\n",
       "      <td>10</td>\n",
       "      <td>5.0</td>\n",
       "      <td>30235.0</td>\n",
       "      <td>B</td>\n",
       "      <td>5</td>\n",
       "      <td>17617.5</td>\n",
       "    </tr>\n",
       "    <tr>\n",
       "      <th>3</th>\n",
       "      <td>166377</td>\n",
       "      <td>11</td>\n",
       "      <td>127.0</td>\n",
       "      <td>21144.0</td>\n",
       "      <td>B</td>\n",
       "      <td>5</td>\n",
       "      <td>13072.0</td>\n",
       "    </tr>\n",
       "    <tr>\n",
       "      <th>4</th>\n",
       "      <td>166391</td>\n",
       "      <td>8</td>\n",
       "      <td>7.0</td>\n",
       "      <td>0.0</td>\n",
       "      <td>C</td>\n",
       "      <td>1</td>\n",
       "      <td>1100.0</td>\n",
       "    </tr>\n",
       "  </tbody>\n",
       "</table>\n",
       "</div>"
      ],
      "text/plain": [
       "   user_id  month  calls_min_in  calls_min_out tariff_plan  operator   income\n",
       "0   166377      8          96.0        17130.0           B         5  11065.0\n",
       "1   166377      9           9.0        31220.0           B         4  18010.0\n",
       "2   166377     10           5.0        30235.0           B         5  17617.5\n",
       "3   166377     11         127.0        21144.0           B         5  13072.0\n",
       "4   166391      8           7.0            0.0           C         1   1100.0"
      ]
     },
     "execution_count": 31,
     "metadata": {},
     "output_type": "execute_result"
    }
   ],
   "source": [
    "calls_pivot_full['income'] = calls_pivot_full.apply(income,axis=1)\n",
    "calls_pivot_full.head()"
   ]
  },
  {
   "cell_type": "markdown",
   "metadata": {},
   "source": [
    "Применение вышеописанной функции, результатом работы которой становится новый столбец."
   ]
  },
  {
   "cell_type": "code",
   "execution_count": 32,
   "metadata": {},
   "outputs": [],
   "source": [
    "income_various_tariff = calls_pivot_full.copy()"
   ]
  },
  {
   "cell_type": "code",
   "execution_count": 33,
   "metadata": {},
   "outputs": [],
   "source": [
    "def income_2(row):\n",
    "    tariff = row['tariff_plan']\n",
    "    calls_in = row['calls_min_in']\n",
    "    calls_out = row['calls_min_out']\n",
    "    operator = row['operator']\n",
    "    \n",
    "    income_a = 0\n",
    "    if calls_in > df['price'][0]:\n",
    "        income_a += (calls_in - df['free_in'][0]) * df['in_per_minute'][0]\n",
    "    income_a += calls_out * df['out_per_minute'][0]\n",
    "    income_a +=  operator * df['per_operator'][0]\n",
    "    income_a += df['price'][0]\n",
    "    \n",
    "    income_b = 0\n",
    "    if calls_in > df['price'][1]:\n",
    "        income_b += (calls_in - df['free_in'][1]) * df['in_per_minute'][1]\n",
    "    income_b += calls_out * df['out_per_minute'][1]\n",
    "    income_b +=  operator * df['per_operator'][1]\n",
    "    income_b += df['price'][1]\n",
    "    \n",
    "    income_c = 0\n",
    "    if calls_in > df['price'][2]:\n",
    "        income_c += (calls_in - df['free_in'][2]) * df['in_per_minute'][2]\n",
    "    income_c += calls_out * df['out_per_minute'][2]\n",
    "    income_c +=  operator * df['per_operator'][2]\n",
    "    income_c += df['price'][2]\n",
    "        \n",
    "    return income_a, income_b, income_c"
   ]
  },
  {
   "cell_type": "markdown",
   "metadata": {},
   "source": [
    "Функция для подсчета ежемесячной прибыли каждого пользователя на разных тарифах."
   ]
  },
  {
   "cell_type": "code",
   "execution_count": 34,
   "metadata": {},
   "outputs": [
    {
     "data": {
      "text/html": [
       "<div>\n",
       "<style scoped>\n",
       "    .dataframe tbody tr th:only-of-type {\n",
       "        vertical-align: middle;\n",
       "    }\n",
       "\n",
       "    .dataframe tbody tr th {\n",
       "        vertical-align: top;\n",
       "    }\n",
       "\n",
       "    .dataframe thead th {\n",
       "        text-align: right;\n",
       "    }\n",
       "</style>\n",
       "<table border=\"1\" class=\"dataframe\">\n",
       "  <thead>\n",
       "    <tr style=\"text-align: right;\">\n",
       "      <th></th>\n",
       "      <th>user_id</th>\n",
       "      <th>month</th>\n",
       "      <th>tariff_plan</th>\n",
       "      <th>income</th>\n",
       "      <th>a</th>\n",
       "      <th>b</th>\n",
       "      <th>c</th>\n",
       "    </tr>\n",
       "  </thead>\n",
       "  <tbody>\n",
       "    <tr>\n",
       "      <th>0</th>\n",
       "      <td>166377</td>\n",
       "      <td>8</td>\n",
       "      <td>B</td>\n",
       "      <td>11065.0</td>\n",
       "      <td>12352.0</td>\n",
       "      <td>11065.0</td>\n",
       "      <td>13491.0</td>\n",
       "    </tr>\n",
       "    <tr>\n",
       "      <th>1</th>\n",
       "      <td>166377</td>\n",
       "      <td>9</td>\n",
       "      <td>B</td>\n",
       "      <td>18010.0</td>\n",
       "      <td>17888.0</td>\n",
       "      <td>18010.0</td>\n",
       "      <td>23254.0</td>\n",
       "    </tr>\n",
       "    <tr>\n",
       "      <th>2</th>\n",
       "      <td>166377</td>\n",
       "      <td>10</td>\n",
       "      <td>B</td>\n",
       "      <td>17617.5</td>\n",
       "      <td>17594.0</td>\n",
       "      <td>17617.5</td>\n",
       "      <td>22664.5</td>\n",
       "    </tr>\n",
       "    <tr>\n",
       "      <th>3</th>\n",
       "      <td>166377</td>\n",
       "      <td>11</td>\n",
       "      <td>B</td>\n",
       "      <td>13072.0</td>\n",
       "      <td>13957.6</td>\n",
       "      <td>13072.0</td>\n",
       "      <td>16300.8</td>\n",
       "    </tr>\n",
       "    <tr>\n",
       "      <th>4</th>\n",
       "      <td>166391</td>\n",
       "      <td>8</td>\n",
       "      <td>C</td>\n",
       "      <td>1100.0</td>\n",
       "      <td>5100.0</td>\n",
       "      <td>2100.0</td>\n",
       "      <td>1100.0</td>\n",
       "    </tr>\n",
       "  </tbody>\n",
       "</table>\n",
       "</div>"
      ],
      "text/plain": [
       "   user_id  month tariff_plan   income        a        b        c\n",
       "0   166377      8           B  11065.0  12352.0  11065.0  13491.0\n",
       "1   166377      9           B  18010.0  17888.0  18010.0  23254.0\n",
       "2   166377     10           B  17617.5  17594.0  17617.5  22664.5\n",
       "3   166377     11           B  13072.0  13957.6  13072.0  16300.8\n",
       "4   166391      8           C   1100.0   5100.0   2100.0   1100.0"
      ]
     },
     "execution_count": 34,
     "metadata": {},
     "output_type": "execute_result"
    }
   ],
   "source": [
    "income_various_tariff['a'], income_various_tariff['b'], income_various_tariff['c'] = zip(\n",
    "    *income_various_tariff.apply(income_2, axis=1))\n",
    "#for EDA\n",
    "calls_min = income_various_tariff.copy()\n",
    "\n",
    "income_various_tariff.drop(columns = ['calls_min_in','calls_min_out','operator'], axis=1, inplace=True) \n",
    "\n",
    "income_various_tariff.reset_index(drop=True).head()"
   ]
  },
  {
   "cell_type": "markdown",
   "metadata": {},
   "source": [
    "Применение фунцкии с подсчетом прибыли на разных тарифах."
   ]
  },
  {
   "cell_type": "code",
   "execution_count": 35,
   "metadata": {},
   "outputs": [
    {
     "data": {
      "text/html": [
       "<div>\n",
       "<style scoped>\n",
       "    .dataframe tbody tr th:only-of-type {\n",
       "        vertical-align: middle;\n",
       "    }\n",
       "\n",
       "    .dataframe tbody tr th {\n",
       "        vertical-align: top;\n",
       "    }\n",
       "\n",
       "    .dataframe thead th {\n",
       "        text-align: right;\n",
       "    }\n",
       "</style>\n",
       "<table border=\"1\" class=\"dataframe\">\n",
       "  <thead>\n",
       "    <tr style=\"text-align: right;\">\n",
       "      <th></th>\n",
       "      <th>user_id</th>\n",
       "      <th>month</th>\n",
       "      <th>tariff_plan</th>\n",
       "      <th>income</th>\n",
       "      <th>a</th>\n",
       "      <th>b</th>\n",
       "      <th>c</th>\n",
       "      <th>cheap</th>\n",
       "      <th>loss</th>\n",
       "    </tr>\n",
       "  </thead>\n",
       "  <tbody>\n",
       "    <tr>\n",
       "      <th>0</th>\n",
       "      <td>166377</td>\n",
       "      <td>8</td>\n",
       "      <td>B</td>\n",
       "      <td>11065.0</td>\n",
       "      <td>12352.0</td>\n",
       "      <td>11065.0</td>\n",
       "      <td>13491.0</td>\n",
       "      <td>11065.0</td>\n",
       "      <td>0.0</td>\n",
       "    </tr>\n",
       "    <tr>\n",
       "      <th>1</th>\n",
       "      <td>166377</td>\n",
       "      <td>9</td>\n",
       "      <td>B</td>\n",
       "      <td>18010.0</td>\n",
       "      <td>17888.0</td>\n",
       "      <td>18010.0</td>\n",
       "      <td>23254.0</td>\n",
       "      <td>17888.0</td>\n",
       "      <td>122.0</td>\n",
       "    </tr>\n",
       "    <tr>\n",
       "      <th>2</th>\n",
       "      <td>166377</td>\n",
       "      <td>10</td>\n",
       "      <td>B</td>\n",
       "      <td>17617.5</td>\n",
       "      <td>17594.0</td>\n",
       "      <td>17617.5</td>\n",
       "      <td>22664.5</td>\n",
       "      <td>17594.0</td>\n",
       "      <td>23.5</td>\n",
       "    </tr>\n",
       "    <tr>\n",
       "      <th>3</th>\n",
       "      <td>166377</td>\n",
       "      <td>11</td>\n",
       "      <td>B</td>\n",
       "      <td>13072.0</td>\n",
       "      <td>13957.6</td>\n",
       "      <td>13072.0</td>\n",
       "      <td>16300.8</td>\n",
       "      <td>13072.0</td>\n",
       "      <td>0.0</td>\n",
       "    </tr>\n",
       "    <tr>\n",
       "      <th>4</th>\n",
       "      <td>166391</td>\n",
       "      <td>8</td>\n",
       "      <td>C</td>\n",
       "      <td>1100.0</td>\n",
       "      <td>5100.0</td>\n",
       "      <td>2100.0</td>\n",
       "      <td>1100.0</td>\n",
       "      <td>1100.0</td>\n",
       "      <td>0.0</td>\n",
       "    </tr>\n",
       "  </tbody>\n",
       "</table>\n",
       "</div>"
      ],
      "text/plain": [
       "   user_id  month tariff_plan   income        a        b        c    cheap  \\\n",
       "0   166377      8           B  11065.0  12352.0  11065.0  13491.0  11065.0   \n",
       "1   166377      9           B  18010.0  17888.0  18010.0  23254.0  17888.0   \n",
       "2   166377     10           B  17617.5  17594.0  17617.5  22664.5  17594.0   \n",
       "3   166377     11           B  13072.0  13957.6  13072.0  16300.8  13072.0   \n",
       "4   166391      8           C   1100.0   5100.0   2100.0   1100.0   1100.0   \n",
       "\n",
       "    loss  \n",
       "0    0.0  \n",
       "1  122.0  \n",
       "2   23.5  \n",
       "3    0.0  \n",
       "4    0.0  "
      ]
     },
     "execution_count": 35,
     "metadata": {},
     "output_type": "execute_result"
    }
   ],
   "source": [
    "a = income_various_tariff[['a','b','c']].T.min()\n",
    "income_various_tariff = income_various_tariff.merge(a.rename('cheap'), left_index=True, right_index=True)\n",
    "income_various_tariff['loss'] = income_various_tariff['income'] - income_various_tariff['cheap']\n",
    "income_various_tariff.head()"
   ]
  },
  {
   "cell_type": "markdown",
   "metadata": {},
   "source": [
    "Поиск самого дешевого тарифа для каждого пользовател и расчет ежемесячной разницы при пероводе клиента на этот тариф."
   ]
  },
  {
   "cell_type": "code",
   "execution_count": 36,
   "metadata": {},
   "outputs": [
    {
     "data": {
      "image/png": "[encoded data removed]",
      "text/plain": [
       "<Figure size 720x288 with 1 Axes>"
      ]
     },
     "metadata": {
      "needs_background": "light"
     },
     "output_type": "display_data"
    },
    {
     "data": {
      "image/png": "[encoded data removed]",
      "text/plain": [
       "<Figure size 720x288 with 1 Axes>"
      ]
     },
     "metadata": {
      "needs_background": "light"
     },
     "output_type": "display_data"
    },
    {
     "data": {
      "image/png": "[encoded data removed]",
      "text/plain": [
       "<Figure size 720x288 with 1 Axes>"
      ]
     },
     "metadata": {
      "needs_background": "light"
     },
     "output_type": "display_data"
    }
   ],
   "source": [
    "for column in ['income', 'cheap', 'loss']:\n",
    "\n",
    "    (income_various_tariff\n",
    "     .pivot_table(index='tariff_plan', columns='month', values=column, aggfunc='sum')\n",
    "     .T\n",
    "     .plot(kind='line', figsize=(10,4),  style = 'o-')\n",
    "    )\n",
    "    plt.locator_params(axis=\"both\", integer=True, tight=True)\n",
    "    plt.title('Кумулятивное распределение по месяцам '+ \"\\n\")\n",
    "    plt.xlabel('Месяц')\n",
    "    plt.ylabel(column);"
   ]
  },
  {
   "cell_type": "markdown",
   "metadata": {},
   "source": [
    "Накопительные графики распределения прибыли/потерь по месяцам.\n",
    "\n",
    "Можно сделать следующие выводы:\n",
    "* Наиболее прибыльный тариф для компании - «C»\n",
    "* При переводе клиентов на более выгодный для них тариф - «A», компании будет зарабатывать меньше только первые 3 месяца.\n",
    "* Наибольшие потери компания понесет при переводе клиентов с тарифа - «C» на другие."
   ]
  },
  {
   "cell_type": "code",
   "execution_count": 37,
   "metadata": {},
   "outputs": [
    {
     "data": {
      "text/html": [
       "<div>\n",
       "<style scoped>\n",
       "    .dataframe tbody tr th:only-of-type {\n",
       "        vertical-align: middle;\n",
       "    }\n",
       "\n",
       "    .dataframe tbody tr th {\n",
       "        vertical-align: top;\n",
       "    }\n",
       "\n",
       "    .dataframe thead th {\n",
       "        text-align: right;\n",
       "    }\n",
       "</style>\n",
       "<table border=\"1\" class=\"dataframe\">\n",
       "  <thead>\n",
       "    <tr style=\"text-align: right;\">\n",
       "      <th></th>\n",
       "      <th>user_id</th>\n",
       "      <th>month</th>\n",
       "      <th>tariff_plan</th>\n",
       "      <th>income</th>\n",
       "      <th>a</th>\n",
       "      <th>b</th>\n",
       "      <th>c</th>\n",
       "      <th>cheap</th>\n",
       "      <th>loss</th>\n",
       "      <th>best_tariff</th>\n",
       "    </tr>\n",
       "  </thead>\n",
       "  <tbody>\n",
       "    <tr>\n",
       "      <th>0</th>\n",
       "      <td>166377</td>\n",
       "      <td>8</td>\n",
       "      <td>B</td>\n",
       "      <td>11065.0</td>\n",
       "      <td>12352.0</td>\n",
       "      <td>11065.0</td>\n",
       "      <td>13491.0</td>\n",
       "      <td>11065.0</td>\n",
       "      <td>0.0</td>\n",
       "      <td>B</td>\n",
       "    </tr>\n",
       "    <tr>\n",
       "      <th>1</th>\n",
       "      <td>166377</td>\n",
       "      <td>9</td>\n",
       "      <td>B</td>\n",
       "      <td>18010.0</td>\n",
       "      <td>17888.0</td>\n",
       "      <td>18010.0</td>\n",
       "      <td>23254.0</td>\n",
       "      <td>17888.0</td>\n",
       "      <td>122.0</td>\n",
       "      <td>A</td>\n",
       "    </tr>\n",
       "    <tr>\n",
       "      <th>2</th>\n",
       "      <td>166377</td>\n",
       "      <td>10</td>\n",
       "      <td>B</td>\n",
       "      <td>17617.5</td>\n",
       "      <td>17594.0</td>\n",
       "      <td>17617.5</td>\n",
       "      <td>22664.5</td>\n",
       "      <td>17594.0</td>\n",
       "      <td>23.5</td>\n",
       "      <td>A</td>\n",
       "    </tr>\n",
       "    <tr>\n",
       "      <th>3</th>\n",
       "      <td>166377</td>\n",
       "      <td>11</td>\n",
       "      <td>B</td>\n",
       "      <td>13072.0</td>\n",
       "      <td>13957.6</td>\n",
       "      <td>13072.0</td>\n",
       "      <td>16300.8</td>\n",
       "      <td>13072.0</td>\n",
       "      <td>0.0</td>\n",
       "      <td>B</td>\n",
       "    </tr>\n",
       "    <tr>\n",
       "      <th>4</th>\n",
       "      <td>166391</td>\n",
       "      <td>8</td>\n",
       "      <td>C</td>\n",
       "      <td>1100.0</td>\n",
       "      <td>5100.0</td>\n",
       "      <td>2100.0</td>\n",
       "      <td>1100.0</td>\n",
       "      <td>1100.0</td>\n",
       "      <td>0.0</td>\n",
       "      <td>C</td>\n",
       "    </tr>\n",
       "  </tbody>\n",
       "</table>\n",
       "</div>"
      ],
      "text/plain": [
       "   user_id  month tariff_plan   income        a        b        c    cheap  \\\n",
       "0   166377      8           B  11065.0  12352.0  11065.0  13491.0  11065.0   \n",
       "1   166377      9           B  18010.0  17888.0  18010.0  23254.0  17888.0   \n",
       "2   166377     10           B  17617.5  17594.0  17617.5  22664.5  17594.0   \n",
       "3   166377     11           B  13072.0  13957.6  13072.0  16300.8  13072.0   \n",
       "4   166391      8           C   1100.0   5100.0   2100.0   1100.0   1100.0   \n",
       "\n",
       "    loss best_tariff  \n",
       "0    0.0           B  \n",
       "1  122.0           A  \n",
       "2   23.5           A  \n",
       "3    0.0           B  \n",
       "4    0.0           C  "
      ]
     },
     "execution_count": 37,
     "metadata": {},
     "output_type": "execute_result"
    }
   ],
   "source": [
    "def best_tariff(df):\n",
    "    cheap = df['cheap']\n",
    "    a = df['a']\n",
    "    b = df['b']\n",
    "    c = df['c']\n",
    "    \n",
    "    if cheap == a:\n",
    "        return \"A\"\n",
    "    if cheap == b:\n",
    "        return \"B\"\n",
    "    if cheap == c:\n",
    "        return \"C\"\n",
    "    \n",
    "income_various_tariff['best_tariff'] = income_various_tariff.apply(best_tariff, axis=1)\n",
    "income_various_tariff.head()"
   ]
  },
  {
   "cell_type": "markdown",
   "metadata": {},
   "source": [
    "Определение названия лучшего ежемесячного тарифа для каждого пользователя."
   ]
  },
  {
   "cell_type": "code",
   "execution_count": 38,
   "metadata": {},
   "outputs": [
    {
     "data": {
      "text/html": [
       "<div>\n",
       "<style scoped>\n",
       "    .dataframe tbody tr th:only-of-type {\n",
       "        vertical-align: middle;\n",
       "    }\n",
       "\n",
       "    .dataframe tbody tr th {\n",
       "        vertical-align: top;\n",
       "    }\n",
       "\n",
       "    .dataframe thead th {\n",
       "        text-align: right;\n",
       "    }\n",
       "</style>\n",
       "<table border=\"1\" class=\"dataframe\">\n",
       "  <thead>\n",
       "    <tr style=\"text-align: right;\">\n",
       "      <th></th>\n",
       "      <th>user_id</th>\n",
       "      <th>loss</th>\n",
       "    </tr>\n",
       "  </thead>\n",
       "  <tbody>\n",
       "    <tr>\n",
       "      <th>0</th>\n",
       "      <td>167827</td>\n",
       "      <td>127666.6</td>\n",
       "    </tr>\n",
       "    <tr>\n",
       "      <th>1</th>\n",
       "      <td>167125</td>\n",
       "      <td>55736.8</td>\n",
       "    </tr>\n",
       "    <tr>\n",
       "      <th>2</th>\n",
       "      <td>167150</td>\n",
       "      <td>40469.1</td>\n",
       "    </tr>\n",
       "    <tr>\n",
       "      <th>3</th>\n",
       "      <td>166782</td>\n",
       "      <td>33244.8</td>\n",
       "    </tr>\n",
       "    <tr>\n",
       "      <th>4</th>\n",
       "      <td>166520</td>\n",
       "      <td>31746.2</td>\n",
       "    </tr>\n",
       "    <tr>\n",
       "      <th>...</th>\n",
       "      <td>...</td>\n",
       "      <td>...</td>\n",
       "    </tr>\n",
       "    <tr>\n",
       "      <th>146</th>\n",
       "      <td>167130</td>\n",
       "      <td>124.2</td>\n",
       "    </tr>\n",
       "    <tr>\n",
       "      <th>147</th>\n",
       "      <td>167188</td>\n",
       "      <td>122.2</td>\n",
       "    </tr>\n",
       "    <tr>\n",
       "      <th>148</th>\n",
       "      <td>167053</td>\n",
       "      <td>77.4</td>\n",
       "    </tr>\n",
       "    <tr>\n",
       "      <th>149</th>\n",
       "      <td>167955</td>\n",
       "      <td>74.8</td>\n",
       "    </tr>\n",
       "    <tr>\n",
       "      <th>150</th>\n",
       "      <td>168019</td>\n",
       "      <td>73.6</td>\n",
       "    </tr>\n",
       "  </tbody>\n",
       "</table>\n",
       "<p>151 rows × 2 columns</p>\n",
       "</div>"
      ],
      "text/plain": [
       "     user_id      loss\n",
       "0     167827  127666.6\n",
       "1     167125   55736.8\n",
       "2     167150   40469.1\n",
       "3     166782   33244.8\n",
       "4     166520   31746.2\n",
       "..       ...       ...\n",
       "146   167130     124.2\n",
       "147   167188     122.2\n",
       "148   167053      77.4\n",
       "149   167955      74.8\n",
       "150   168019      73.6\n",
       "\n",
       "[151 rows x 2 columns]"
      ]
     },
     "execution_count": 38,
     "metadata": {},
     "output_type": "execute_result"
    }
   ],
   "source": [
    "loss = income_various_tariff.groupby('user_id').agg('sum').sort_values(by='loss',ascending=False).reset_index()\n",
    "loss[['user_id','loss']].query('loss > 0')"
   ]
  },
  {
   "cell_type": "markdown",
   "metadata": {},
   "source": [
    "Таблица с идентификатором пользователя и суммой которую бы недополучила компания, при переводе их на оптимальный тариф.  \n",
    "Всего в нашем распоряжении 147 таких пользователей."
   ]
  },
  {
   "cell_type": "code",
   "execution_count": 39,
   "metadata": {},
   "outputs": [
    {
     "data": {
      "text/plain": [
       "844423"
      ]
     },
     "execution_count": 39,
     "metadata": {},
     "output_type": "execute_result"
    }
   ],
   "source": [
    "round(loss['loss'].sum())"
   ]
  },
  {
   "cell_type": "markdown",
   "metadata": {},
   "source": [
    "Общая сумма потерь за весь исследуемый период, при переводе клиентов на оптимальные тарифы."
   ]
  },
  {
   "cell_type": "code",
   "execution_count": 40,
   "metadata": {},
   "outputs": [
    {
     "data": {
      "text/plain": [
       "2280636"
      ]
     },
     "execution_count": 40,
     "metadata": {},
     "output_type": "execute_result"
    }
   ],
   "source": [
    "round(income_various_tariff.query('month == 11')['cheap'].sum())"
   ]
  },
  {
   "cell_type": "markdown",
   "metadata": {},
   "source": [
    "Прибыль компании за 11 месяц исследуемого периода."
   ]
  },
  {
   "cell_type": "code",
   "execution_count": 41,
   "metadata": {},
   "outputs": [
    {
     "data": {
      "text/plain": [
       "37.03"
      ]
     },
     "execution_count": 41,
     "metadata": {},
     "output_type": "execute_result"
    }
   ],
   "source": [
    "round(100 * (round(loss['loss'].sum()) / round(income_various_tariff.query('month == 11')['cheap'].sum())),2 )"
   ]
  },
  {
   "cell_type": "markdown",
   "metadata": {},
   "source": [
    "Относительное процентное соотношение общих потерь компании к прибыли за один календарный месяц."
   ]
  },
  {
   "cell_type": "code",
   "execution_count": 42,
   "metadata": {
    "scrolled": true
   },
   "outputs": [
    {
     "data": {
      "text/plain": [
       "10.23"
      ]
     },
     "execution_count": 42,
     "metadata": {},
     "output_type": "execute_result"
    }
   ],
   "source": [
    "31 / 100 * 33"
   ]
  },
  {
   "cell_type": "markdown",
   "metadata": {},
   "source": [
    "10 календарных дней потребуется для восполнение потерь."
   ]
  },
  {
   "cell_type": "code",
   "execution_count": 43,
   "metadata": {
    "scrolled": false
   },
   "outputs": [],
   "source": [
    "all_time_income = income_various_tariff.groupby('user_id').agg('sum')[['income','a','b','c']]\n",
    "\n",
    "all_time_cheap = income_various_tariff.groupby('user_id').agg('sum')[['a','b','c']].T.min()\n",
    "\n",
    "all_time_income = all_time_income.merge(all_time_cheap.rename('cheap'), left_index=True, right_index=True)\n",
    "\n",
    "def best_tariff(df):\n",
    "    cheap = df['cheap']\n",
    "    a = df['a']\n",
    "    b = df['b']\n",
    "    c = df['c']\n",
    "    \n",
    "    if cheap == a:\n",
    "        return \"A\"\n",
    "    if cheap == b:\n",
    "        return \"B\"\n",
    "    if cheap == c:\n",
    "        return \"C\"\n",
    "    \n",
    "all_time_income['best_tariff'] = all_time_income.apply(best_tariff, axis=1)\n",
    "all_time_income['loss'] = all_time_income['income'] - all_time_income['cheap']\n",
    "best_tariff_in_the_world = all_time_income.merge(client[['user_id','tariff_plan']], on='user_id', how='left')\n",
    "best_tariff_in_the_world.drop(columns = ['a','b','c'], axis=1, inplace=True)\n",
    "best_tariff_in_the_world = best_tariff_in_the_world.reindex(\n",
    "    columns=['user_id', 'tariff_plan', 'income', 'best_tariff', 'cheap', 'loss',])\n",
    "best_tariff_in_the_world.columns = ['user_id', 'real_tariff', 'all_time_income', 'best_tariff', 'income_on_best_tariff', 'loss']"
   ]
  },
  {
   "cell_type": "code",
   "execution_count": 44,
   "metadata": {},
   "outputs": [
    {
     "data": {
      "text/html": [
       "<div>\n",
       "<style scoped>\n",
       "    .dataframe tbody tr th:only-of-type {\n",
       "        vertical-align: middle;\n",
       "    }\n",
       "\n",
       "    .dataframe tbody tr th {\n",
       "        vertical-align: top;\n",
       "    }\n",
       "\n",
       "    .dataframe thead th {\n",
       "        text-align: right;\n",
       "    }\n",
       "</style>\n",
       "<table border=\"1\" class=\"dataframe\">\n",
       "  <thead>\n",
       "    <tr style=\"text-align: right;\">\n",
       "      <th></th>\n",
       "      <th>user_id</th>\n",
       "      <th>real_tariff</th>\n",
       "      <th>all_time_income</th>\n",
       "      <th>best_tariff</th>\n",
       "      <th>income_on_best_tariff</th>\n",
       "      <th>loss</th>\n",
       "    </tr>\n",
       "  </thead>\n",
       "  <tbody>\n",
       "    <tr>\n",
       "      <th>155</th>\n",
       "      <td>167827</td>\n",
       "      <td>C</td>\n",
       "      <td>319255.4</td>\n",
       "      <td>A</td>\n",
       "      <td>191588.80</td>\n",
       "      <td>127666.60</td>\n",
       "    </tr>\n",
       "    <tr>\n",
       "      <th>83</th>\n",
       "      <td>167125</td>\n",
       "      <td>C</td>\n",
       "      <td>152419.2</td>\n",
       "      <td>A</td>\n",
       "      <td>96682.40</td>\n",
       "      <td>55736.80</td>\n",
       "    </tr>\n",
       "    <tr>\n",
       "      <th>87</th>\n",
       "      <td>167150</td>\n",
       "      <td>C</td>\n",
       "      <td>120357.4</td>\n",
       "      <td>A</td>\n",
       "      <td>79888.30</td>\n",
       "      <td>40469.10</td>\n",
       "    </tr>\n",
       "    <tr>\n",
       "      <th>11</th>\n",
       "      <td>166520</td>\n",
       "      <td>C</td>\n",
       "      <td>116667.9</td>\n",
       "      <td>A</td>\n",
       "      <td>85838.80</td>\n",
       "      <td>30829.10</td>\n",
       "    </tr>\n",
       "    <tr>\n",
       "      <th>36</th>\n",
       "      <td>166782</td>\n",
       "      <td>C</td>\n",
       "      <td>108823.8</td>\n",
       "      <td>A</td>\n",
       "      <td>80413.60</td>\n",
       "      <td>28410.20</td>\n",
       "    </tr>\n",
       "    <tr>\n",
       "      <th>58</th>\n",
       "      <td>166983</td>\n",
       "      <td>C</td>\n",
       "      <td>87088.1</td>\n",
       "      <td>A</td>\n",
       "      <td>62776.80</td>\n",
       "      <td>24311.30</td>\n",
       "    </tr>\n",
       "    <tr>\n",
       "      <th>141</th>\n",
       "      <td>167650</td>\n",
       "      <td>C</td>\n",
       "      <td>84461.4</td>\n",
       "      <td>A</td>\n",
       "      <td>62020.80</td>\n",
       "      <td>22440.60</td>\n",
       "    </tr>\n",
       "    <tr>\n",
       "      <th>20</th>\n",
       "      <td>166658</td>\n",
       "      <td>B</td>\n",
       "      <td>183853.5</td>\n",
       "      <td>A</td>\n",
       "      <td>161942.80</td>\n",
       "      <td>21910.70</td>\n",
       "    </tr>\n",
       "    <tr>\n",
       "      <th>69</th>\n",
       "      <td>167035</td>\n",
       "      <td>C</td>\n",
       "      <td>75889.0</td>\n",
       "      <td>A</td>\n",
       "      <td>56908.00</td>\n",
       "      <td>18981.00</td>\n",
       "    </tr>\n",
       "    <tr>\n",
       "      <th>77</th>\n",
       "      <td>167109</td>\n",
       "      <td>C</td>\n",
       "      <td>63402.4</td>\n",
       "      <td>B</td>\n",
       "      <td>48124.95</td>\n",
       "      <td>15277.45</td>\n",
       "    </tr>\n",
       "  </tbody>\n",
       "</table>\n",
       "</div>"
      ],
      "text/plain": [
       "     user_id real_tariff  all_time_income best_tariff  income_on_best_tariff  \\\n",
       "155   167827           C         319255.4           A              191588.80   \n",
       "83    167125           C         152419.2           A               96682.40   \n",
       "87    167150           C         120357.4           A               79888.30   \n",
       "11    166520           C         116667.9           A               85838.80   \n",
       "36    166782           C         108823.8           A               80413.60   \n",
       "58    166983           C          87088.1           A               62776.80   \n",
       "141   167650           C          84461.4           A               62020.80   \n",
       "20    166658           B         183853.5           A              161942.80   \n",
       "69    167035           C          75889.0           A               56908.00   \n",
       "77    167109           C          63402.4           B               48124.95   \n",
       "\n",
       "          loss  \n",
       "155  127666.60  \n",
       "83    55736.80  \n",
       "87    40469.10  \n",
       "11    30829.10  \n",
       "36    28410.20  \n",
       "58    24311.30  \n",
       "141   22440.60  \n",
       "20    21910.70  \n",
       "69    18981.00  \n",
       "77    15277.45  "
      ]
     },
     "execution_count": 44,
     "metadata": {},
     "output_type": "execute_result"
    }
   ],
   "source": [
    "best_tariff_in_the_world.sort_values('loss', ascending=False).head(10)"
   ]
  },
  {
   "cell_type": "markdown",
   "metadata": {},
   "source": [
    "Таблица содержащая в себе информацию о тратах клиентов за весь исследуемый период. \n",
    "Далее следует наименование лучшего тарифа для пользователя - `best_tariff`  \n",
    "Сумма которую бы он потратил за весь исследуемый период находясь на данном тарифе - `income_on_best_tariff`  \n",
    "И потери компании за этот же срок - `loss`"
   ]
  },
  {
   "cell_type": "code",
   "execution_count": 45,
   "metadata": {},
   "outputs": [
    {
     "data": {
      "text/plain": [
       "(119, 6)"
      ]
     },
     "execution_count": 45,
     "metadata": {},
     "output_type": "execute_result"
    }
   ],
   "source": [
    "best_tariff_in_the_world.query('loss > 0').shape"
   ]
  },
  {
   "cell_type": "code",
   "execution_count": 46,
   "metadata": {},
   "outputs": [
    {
     "data": {
      "text/plain": [
       "C    108\n",
       "B     87\n",
       "A     27\n",
       "Name: real_tariff, dtype: int64"
      ]
     },
     "execution_count": 46,
     "metadata": {},
     "output_type": "execute_result"
    }
   ],
   "source": [
    "best_tariff_in_the_world['real_tariff'].value_counts()"
   ]
  },
  {
   "cell_type": "code",
   "execution_count": 47,
   "metadata": {},
   "outputs": [
    {
     "data": {
      "text/plain": [
       "C    109\n",
       "B     84\n",
       "A     29\n",
       "Name: best_tariff, dtype: int64"
      ]
     },
     "execution_count": 47,
     "metadata": {},
     "output_type": "execute_result"
    }
   ],
   "source": [
    "best_tariff_in_the_world['best_tariff'].value_counts()"
   ]
  },
  {
   "cell_type": "markdown",
   "metadata": {},
   "source": [
    "Распределение количества пользователей по тарифам, при переходе их на наиболее оптимальные варианты.  \n",
    "\n",
    "Учитывая тот факт, что 119 пользователей находятся на неоптимальном тарифе, при смене оного, общее распределение по пользователям на тарифах практически не поменялось."
   ]
  },
  {
   "cell_type": "code",
   "execution_count": 48,
   "metadata": {},
   "outputs": [],
   "source": [
    "c = calls_min.merge(income_various_tariff[['user_id','month']], on=['user_id','month'],how='left')\n",
    "c = calls_min.groupby('user_id').agg('sum')\n",
    "d = best_tariff_in_the_world.merge(c[['calls_min_in','calls_min_out']], on='user_id',how='left')"
   ]
  },
  {
   "cell_type": "code",
   "execution_count": 49,
   "metadata": {},
   "outputs": [],
   "source": [
    "sns.set_theme()"
   ]
  },
  {
   "cell_type": "code",
   "execution_count": 50,
   "metadata": {
    "scrolled": true
   },
   "outputs": [
    {
     "data": {
      "image/png": "[encoded data removed]",
      "text/plain": [
       "<Figure size 1080x360 with 3 Axes>"
      ]
     },
     "metadata": {},
     "output_type": "display_data"
    }
   ],
   "source": [
    "sns.relplot(x= d['all_time_income'] / 1000, y= d['calls_min_in'] / 1000, \n",
    "    data=d, kind='scatter',  col='real_tariff') ;"
   ]
  },
  {
   "cell_type": "code",
   "execution_count": 51,
   "metadata": {},
   "outputs": [
    {
     "data": {
      "image/png": "[encoded data removed]",
      "text/plain": [
       "<Figure size 1080x360 with 3 Axes>"
      ]
     },
     "metadata": {},
     "output_type": "display_data"
    }
   ],
   "source": [
    "sns.relplot(x= d['all_time_income'] / 1000, y= d['calls_min_out'] / 1000, \n",
    "    data=d, kind='scatter',  col='real_tariff');"
   ]
  },
  {
   "cell_type": "markdown",
   "metadata": {},
   "source": [
    "Графики соотношений длительности исходящих звонков внутри/вне сети к общим затратам пользователей для разных тарифов.  \n",
    "\n",
    "Отчетливо видно что имеется прямая взаимосвязь роста затрат от длительности исходящих звонков вне сети.  \n",
    "\n",
    "*Чем больше клиент использует минут, тем больше он платит*"
   ]
  },
  {
   "cell_type": "markdown",
   "metadata": {},
   "source": [
    "## Проверка статистических гипотез"
   ]
  },
  {
   "cell_type": "code",
   "execution_count": 52,
   "metadata": {},
   "outputs": [
    {
     "data": {
      "text/html": [
       "<div>\n",
       "<style scoped>\n",
       "    .dataframe tbody tr th:only-of-type {\n",
       "        vertical-align: middle;\n",
       "    }\n",
       "\n",
       "    .dataframe tbody tr th {\n",
       "        vertical-align: top;\n",
       "    }\n",
       "\n",
       "    .dataframe thead th {\n",
       "        text-align: right;\n",
       "    }\n",
       "</style>\n",
       "<table border=\"1\" class=\"dataframe\">\n",
       "  <thead>\n",
       "    <tr style=\"text-align: right;\">\n",
       "      <th>month</th>\n",
       "      <th>8</th>\n",
       "      <th>9</th>\n",
       "      <th>10</th>\n",
       "      <th>11</th>\n",
       "    </tr>\n",
       "    <tr>\n",
       "      <th>tariff_plan</th>\n",
       "      <th></th>\n",
       "      <th></th>\n",
       "      <th></th>\n",
       "      <th></th>\n",
       "    </tr>\n",
       "  </thead>\n",
       "  <tbody>\n",
       "    <tr>\n",
       "      <th>A</th>\n",
       "      <td>330945</td>\n",
       "      <td>1206775</td>\n",
       "      <td>2530856</td>\n",
       "      <td>2914077</td>\n",
       "    </tr>\n",
       "    <tr>\n",
       "      <th>B</th>\n",
       "      <td>224792</td>\n",
       "      <td>726066</td>\n",
       "      <td>1603740</td>\n",
       "      <td>2053260</td>\n",
       "    </tr>\n",
       "    <tr>\n",
       "      <th>C</th>\n",
       "      <td>77537</td>\n",
       "      <td>913143</td>\n",
       "      <td>2041767</td>\n",
       "      <td>2209441</td>\n",
       "    </tr>\n",
       "  </tbody>\n",
       "</table>\n",
       "</div>"
      ],
      "text/plain": [
       "month            8        9        10       11\n",
       "tariff_plan                                   \n",
       "A            330945  1206775  2530856  2914077\n",
       "B            224792   726066  1603740  2053260\n",
       "C             77537   913143  2041767  2209441"
      ]
     },
     "execution_count": 52,
     "metadata": {},
     "output_type": "execute_result"
    }
   ],
   "source": [
    "used_minutes = data_client_hypotesis.pivot_table(\n",
    "    index='tariff_plan', columns='month',values='total_call_duration',aggfunc='sum')\n",
    "used_minutes"
   ]
  },
  {
   "cell_type": "markdown",
   "metadata": {},
   "source": [
    "Сводная таблица с количеством использованных минут на разных тарифах по месяцам."
   ]
  },
  {
   "cell_type": "code",
   "execution_count": 53,
   "metadata": {},
   "outputs": [],
   "source": [
    "data_a = data_client_hypotesis.query('tariff_plan == \"A\"')\n",
    "data_b = data_client_hypotesis.query('tariff_plan == \"B\"')\n",
    "data_c = data_client_hypotesis.query('tariff_plan == \"C\"')"
   ]
  },
  {
   "cell_type": "code",
   "execution_count": 54,
   "metadata": {},
   "outputs": [],
   "source": [
    "a_8 = data_a.query('month == 8').groupby('operator_id').agg('mean')['total_call_duration']\n",
    "a_9 = data_a.query('month == 9').groupby('operator_id').agg('mean')['total_call_duration']\n",
    "a_10 = data_a.query('month == 10').groupby('operator_id').agg('mean')['total_call_duration']\n",
    "a_11 = data_a.query('month == 11').groupby('operator_id').agg('mean')['total_call_duration']"
   ]
  },
  {
   "cell_type": "code",
   "execution_count": 55,
   "metadata": {},
   "outputs": [],
   "source": [
    "b_8 = data_b.query('month == 8').groupby('operator_id').agg('mean')['total_call_duration']\n",
    "b_9 = data_b.query('month == 9').groupby('operator_id').agg('mean')['total_call_duration']\n",
    "b_10 = data_b.query('month == 10').groupby('operator_id').agg('mean')['total_call_duration']\n",
    "b_11 = data_b.query('month == 11').groupby('operator_id').agg('mean')['total_call_duration']"
   ]
  },
  {
   "cell_type": "code",
   "execution_count": 56,
   "metadata": {},
   "outputs": [],
   "source": [
    "c_8 = data_c.query('month == 8').groupby('operator_id').agg('mean')['total_call_duration']\n",
    "c_9 = data_c.query('month == 9').groupby('operator_id').agg('mean')['total_call_duration']\n",
    "c_10 = data_c.query('month == 10').groupby('operator_id').agg('mean')['total_call_duration']\n",
    "c_11 = data_c.query('month == 11').groupby('operator_id').agg('mean')['total_call_duration']"
   ]
  },
  {
   "cell_type": "markdown",
   "metadata": {},
   "source": [
    "Разделение данных на отдельные переменные для проведения статистического теста."
   ]
  },
  {
   "cell_type": "code",
   "execution_count": 57,
   "metadata": {},
   "outputs": [],
   "source": [
    "def mannwhitneyu(a, b, c, x):\n",
    "    alpha = 0.05\n",
    "    \n",
    "    stat_results = stats.mannwhitneyu(a, b)\n",
    "    print('Сравнение среднего ежемесячного использования минут операторами между тарифами'\n",
    "          ,used_minutes.index[0], 'и', used_minutes.index[1],\n",
    "         'за период месяца № {0:.0f}'.format(used_minutes.columns[x]))\n",
    "    print('p-значение: {0:.3f}'.format(stat_results.pvalue))\n",
    "    \n",
    "    if stat_results.pvalue < alpha:     \n",
    "            print('Отвергаем нулевую гипотезу: между выборками есть значимая разница')\n",
    "    else:\n",
    "            print('Не получилось отвергнуть нулевую гипотезу, между выборками отстутствует значимая разница')\n",
    "            \n",
    "    print('\\n ')        \n",
    "            \n",
    "    stat_results = stats.mannwhitneyu(a, c)\n",
    "    print('Сравнение среднего ежемесячного использования минут операторами между тарифами'\n",
    "          ,used_minutes.index[0], 'и', used_minutes.index[2],\n",
    "         'за период месяца № {0:.0f}'.format(used_minutes.columns[x]))\n",
    "    print('p-значение: {0:.3f}'.format(stat_results.pvalue))\n",
    "    \n",
    "    if stat_results.pvalue < alpha:     \n",
    "            print('Отвергаем нулевую гипотезу: между выборками есть значимая разница')\n",
    "    else:\n",
    "            print('Не получилось отвергнуть нулевую гипотезу, между выборками отстутствует значимая разница')\n",
    "            \n",
    "    print('\\n ')        \n",
    "            \n",
    "    stat_results = stats.mannwhitneyu(b, c)\n",
    "    print('Сравнение среднего ежемесячного использования минут операторами между тарифами'\n",
    "          ,used_minutes.index[1], 'и', used_minutes.index[2],\n",
    "         'за период месяца № {0:.0f}'.format(used_minutes.columns[x]))\n",
    "    print('p-значение: {0:.3f}'.format(stat_results.pvalue))\n",
    "    \n",
    "    if stat_results.pvalue < alpha:     \n",
    "            print('Отвергаем нулевую гипотезу: между выборками есть значимая разница')\n",
    "    else:\n",
    "            print('Не получилось отвергнуть нулевую гипотезу, между выборками отстутствует значимая разница')"
   ]
  },
  {
   "cell_type": "markdown",
   "metadata": {},
   "source": [
    "Функция для проведения оценки различий между двумя независимыми выборками."
   ]
  },
  {
   "cell_type": "markdown",
   "metadata": {},
   "source": [
    "Для проверки различия использованных минут между тарифами будут сформированны:  \n",
    "`H₀ — нулевая` и  `H₁ — альтернативная` гипотезы.\n",
    "\n",
    "Взаимоотношения между ними выстроены следующим образом:   **H₁** принимается **только** в том случае, если отбрасывается **H₀.**\n",
    "\n",
    "Формулировка данной двухсторонней гипотезы будет звучать следующим образом:\n",
    "\n",
    "* **H₀** — среднее ежемесячное количество использованных минут операторами тарифа `X`, равно среднему ежемесячному количеству использованных минут операторами тарифа `Y`\n",
    "* **H₁** — среднее ежемесячное количество использованных минут операторами тарифа `X`, не равно среднему ежемесячному количеству использованных минут операторами тарифа `Y`\n",
    "\n",
    "Для достоверности расчетов, установим критический уровень статистической значимости для двух гипотез **5%.**"
   ]
  },
  {
   "cell_type": "code",
   "execution_count": 58,
   "metadata": {},
   "outputs": [
    {
     "name": "stdout",
     "output_type": "stream",
     "text": [
      "Сравнение среднего ежемесячного использования минут операторами между тарифами A и B за период месяца № 8\n",
      "p-значение: 0.071\n",
      "Не получилось отвергнуть нулевую гипотезу, между выборками отстутствует значимая разница\n",
      "\n",
      " \n",
      "Сравнение среднего ежемесячного использования минут операторами между тарифами A и C за период месяца № 8\n",
      "p-значение: 0.713\n",
      "Не получилось отвергнуть нулевую гипотезу, между выборками отстутствует значимая разница\n",
      "\n",
      " \n",
      "Сравнение среднего ежемесячного использования минут операторами между тарифами B и C за период месяца № 8\n",
      "p-значение: 0.083\n",
      "Не получилось отвергнуть нулевую гипотезу, между выборками отстутствует значимая разница\n"
     ]
    }
   ],
   "source": [
    "mannwhitneyu(a_8, b_8, c_8, 0)"
   ]
  },
  {
   "cell_type": "code",
   "execution_count": 59,
   "metadata": {},
   "outputs": [
    {
     "name": "stdout",
     "output_type": "stream",
     "text": [
      "Сравнение среднего ежемесячного использования минут операторами между тарифами A и B за период месяца № 9\n",
      "p-значение: 0.000\n",
      "Отвергаем нулевую гипотезу: между выборками есть значимая разница\n",
      "\n",
      " \n",
      "Сравнение среднего ежемесячного использования минут операторами между тарифами A и C за период месяца № 9\n",
      "p-значение: 0.000\n",
      "Отвергаем нулевую гипотезу: между выборками есть значимая разница\n",
      "\n",
      " \n",
      "Сравнение среднего ежемесячного использования минут операторами между тарифами B и C за период месяца № 9\n",
      "p-значение: 0.457\n",
      "Не получилось отвергнуть нулевую гипотезу, между выборками отстутствует значимая разница\n"
     ]
    }
   ],
   "source": [
    "mannwhitneyu(a_9, b_9, c_9, 1)"
   ]
  },
  {
   "cell_type": "code",
   "execution_count": 60,
   "metadata": {},
   "outputs": [
    {
     "name": "stdout",
     "output_type": "stream",
     "text": [
      "Сравнение среднего ежемесячного использования минут операторами между тарифами A и B за период месяца № 10\n",
      "p-значение: 0.007\n",
      "Отвергаем нулевую гипотезу: между выборками есть значимая разница\n",
      "\n",
      " \n",
      "Сравнение среднего ежемесячного использования минут операторами между тарифами A и C за период месяца № 10\n",
      "p-значение: 0.000\n",
      "Отвергаем нулевую гипотезу: между выборками есть значимая разница\n",
      "\n",
      " \n",
      "Сравнение среднего ежемесячного использования минут операторами между тарифами B и C за период месяца № 10\n",
      "p-значение: 0.225\n",
      "Не получилось отвергнуть нулевую гипотезу, между выборками отстутствует значимая разница\n"
     ]
    }
   ],
   "source": [
    "mannwhitneyu(a_10, b_10, c_10, 2)"
   ]
  },
  {
   "cell_type": "code",
   "execution_count": 61,
   "metadata": {
    "scrolled": true
   },
   "outputs": [
    {
     "name": "stdout",
     "output_type": "stream",
     "text": [
      "Сравнение среднего ежемесячного использования минут операторами между тарифами A и B за период месяца № 11\n",
      "p-значение: 0.000\n",
      "Отвергаем нулевую гипотезу: между выборками есть значимая разница\n",
      "\n",
      " \n",
      "Сравнение среднего ежемесячного использования минут операторами между тарифами A и C за период месяца № 11\n",
      "p-значение: 0.000\n",
      "Отвергаем нулевую гипотезу: между выборками есть значимая разница\n",
      "\n",
      " \n",
      "Сравнение среднего ежемесячного использования минут операторами между тарифами B и C за период месяца № 11\n",
      "p-значение: 0.159\n",
      "Не получилось отвергнуть нулевую гипотезу, между выборками отстутствует значимая разница\n"
     ]
    }
   ],
   "source": [
    "mannwhitneyu(a_11, b_11, c_11, 3)"
   ]
  },
  {
   "cell_type": "code",
   "execution_count": 70,
   "metadata": {},
   "outputs": [
    {
     "data": {
      "text/html": [
       "<div>\n",
       "<style scoped>\n",
       "    .dataframe tbody tr th:only-of-type {\n",
       "        vertical-align: middle;\n",
       "    }\n",
       "\n",
       "    .dataframe tbody tr th {\n",
       "        vertical-align: top;\n",
       "    }\n",
       "\n",
       "    .dataframe thead tr th {\n",
       "        text-align: left;\n",
       "    }\n",
       "\n",
       "    .dataframe thead tr:last-of-type th {\n",
       "        text-align: right;\n",
       "    }\n",
       "</style>\n",
       "<table border=\"1\" class=\"dataframe\">\n",
       "  <thead>\n",
       "    <tr>\n",
       "      <th>tariff_plan</th>\n",
       "      <th colspan=\"2\" halign=\"left\">A</th>\n",
       "      <th colspan=\"2\" halign=\"left\">B</th>\n",
       "      <th colspan=\"2\" halign=\"left\">C</th>\n",
       "    </tr>\n",
       "    <tr>\n",
       "      <th>direction</th>\n",
       "      <th>in</th>\n",
       "      <th>out</th>\n",
       "      <th>in</th>\n",
       "      <th>out</th>\n",
       "      <th>in</th>\n",
       "      <th>out</th>\n",
       "    </tr>\n",
       "    <tr>\n",
       "      <th>month</th>\n",
       "      <th></th>\n",
       "      <th></th>\n",
       "      <th></th>\n",
       "      <th></th>\n",
       "      <th></th>\n",
       "      <th></th>\n",
       "    </tr>\n",
       "  </thead>\n",
       "  <tbody>\n",
       "    <tr>\n",
       "      <th>8</th>\n",
       "      <td>1402</td>\n",
       "      <td>8945</td>\n",
       "      <td>1698</td>\n",
       "      <td>4303</td>\n",
       "      <td>747</td>\n",
       "      <td>1251</td>\n",
       "    </tr>\n",
       "    <tr>\n",
       "      <th>9</th>\n",
       "      <td>6261</td>\n",
       "      <td>33779</td>\n",
       "      <td>6564</td>\n",
       "      <td>9896</td>\n",
       "      <td>5668</td>\n",
       "      <td>15098</td>\n",
       "    </tr>\n",
       "    <tr>\n",
       "      <th>10</th>\n",
       "      <td>33771</td>\n",
       "      <td>69350</td>\n",
       "      <td>11849</td>\n",
       "      <td>21906</td>\n",
       "      <td>13838</td>\n",
       "      <td>37187</td>\n",
       "    </tr>\n",
       "    <tr>\n",
       "      <th>11</th>\n",
       "      <td>29076</td>\n",
       "      <td>60775</td>\n",
       "      <td>15596</td>\n",
       "      <td>27543</td>\n",
       "      <td>17002</td>\n",
       "      <td>42529</td>\n",
       "    </tr>\n",
       "  </tbody>\n",
       "</table>\n",
       "</div>"
      ],
      "text/plain": [
       "tariff_plan      A             B             C       \n",
       "direction       in    out     in    out     in    out\n",
       "month                                                \n",
       "8             1402   8945   1698   4303    747   1251\n",
       "9             6261  33779   6564   9896   5668  15098\n",
       "10           33771  69350  11849  21906  13838  37187\n",
       "11           29076  60775  15596  27543  17002  42529"
      ]
     },
     "execution_count": 70,
     "metadata": {},
     "output_type": "execute_result"
    }
   ],
   "source": [
    "calls_count = data_client_hypotesis.pivot_table(\n",
    "    index='month', columns=['tariff_plan','direction'],values='calls_count',aggfunc='sum')\n",
    "calls_count"
   ]
  },
  {
   "cell_type": "markdown",
   "metadata": {},
   "source": [
    "Сводная таблица с количеством входящих\\исходящих звонков на разных тарифах по месяцам."
   ]
  },
  {
   "cell_type": "code",
   "execution_count": 71,
   "metadata": {},
   "outputs": [],
   "source": [
    "a_in = data_a.query('direction == \"in\"').groupby('month').agg('sum')['calls_count']\n",
    "a_out = data_a.query('direction == \"out\"').groupby('month').agg('sum')['calls_count']"
   ]
  },
  {
   "cell_type": "code",
   "execution_count": 72,
   "metadata": {},
   "outputs": [],
   "source": [
    "b_in = data_b.query('direction == \"in\"').groupby('month').agg('sum')['calls_count']\n",
    "b_out = data_b.query('direction == \"out\"').groupby('month').agg('sum')['calls_count']"
   ]
  },
  {
   "cell_type": "code",
   "execution_count": 73,
   "metadata": {},
   "outputs": [],
   "source": [
    "c_in = data_c.query('direction == \"in\"').groupby('month').agg('sum')['calls_count']\n",
    "c_out = data_c.query('direction == \"out\"').groupby('month').agg('sum')['calls_count']"
   ]
  },
  {
   "cell_type": "markdown",
   "metadata": {},
   "source": [
    "Разделение данных на отдельные переменные для проведения статистического теста."
   ]
  },
  {
   "cell_type": "code",
   "execution_count": 74,
   "metadata": {},
   "outputs": [],
   "source": [
    "def mannwhitneyu_2(a, b, x):\n",
    "    alpha = 0.05\n",
    "    \n",
    "    stat_results = stats.mannwhitneyu(a, b)\n",
    "    print('Сравнение среднего ежемесячного количества входящих/исходящих звонков тарифа'\n",
    "          ,used_minutes.index[x])\n",
    "    print('p-значение: {0:.3f}'.format(stat_results.pvalue))\n",
    "    \n",
    "    if stat_results.pvalue < alpha:     \n",
    "            print('Отвергаем нулевую гипотезу: между выборками есть значимая разница')\n",
    "    else:\n",
    "            print('Не получилось отвергнуть нулевую гипотезу, между выборками отстутствует значимая разница')"
   ]
  },
  {
   "cell_type": "markdown",
   "metadata": {},
   "source": [
    "Функция для проведения оценки различий между двумя независимыми выборками."
   ]
  },
  {
   "cell_type": "markdown",
   "metadata": {},
   "source": [
    "Для проверки различия количества входящих\\исходящих звонков между тарифами будут сформированны:  \n",
    "`H₀ — нулевая` и  `H₁ — альтернативная` гипотезы.\n",
    "\n",
    "Взаимоотношения между ними выстроены следующим образом:   **H₁** принимается **только** в том случае, если отбрасывается **H₀.**\n",
    "\n",
    "Формулировка данной двухсторонней гипотезы будет звучать следующим образом:\n",
    "\n",
    "* **H₀** — среднее ежемесячное количество исходящих звонков тарифа  `X`, равно среднему ежемесячному количеству входящих звонков тарифа `Y`\n",
    "* **H₁** — среднее ежемесячное количество исходящих звонков тарифа  `X`, не равно среднему ежемесячному количеству входящих звонков тарифа `Y`\n",
    "\n",
    "Для достоверности расчетов, установим критический уровень статистической значимости для двух гипотез **5%.**"
   ]
  },
  {
   "cell_type": "code",
   "execution_count": 75,
   "metadata": {},
   "outputs": [
    {
     "name": "stdout",
     "output_type": "stream",
     "text": [
      "Сравнение среднего ежемесячного количества входящих/исходящих звонков тарифа A\n",
      "p-значение: 0.114\n",
      "Не получилось отвергнуть нулевую гипотезу, между выборками отстутствует значимая разница\n"
     ]
    }
   ],
   "source": [
    "mannwhitneyu_2(a_in, a_out, 0)"
   ]
  },
  {
   "cell_type": "code",
   "execution_count": 76,
   "metadata": {},
   "outputs": [
    {
     "name": "stdout",
     "output_type": "stream",
     "text": [
      "Сравнение среднего ежемесячного количества входящих/исходящих звонков тарифа B\n",
      "p-значение: 0.486\n",
      "Не получилось отвергнуть нулевую гипотезу, между выборками отстутствует значимая разница\n"
     ]
    }
   ],
   "source": [
    "mannwhitneyu_2(b_in, b_out, 1)"
   ]
  },
  {
   "cell_type": "code",
   "execution_count": 77,
   "metadata": {},
   "outputs": [
    {
     "name": "stdout",
     "output_type": "stream",
     "text": [
      "Сравнение среднего ежемесячного количества входящих/исходящих звонков тарифа C\n",
      "p-значение: 0.343\n",
      "Не получилось отвергнуть нулевую гипотезу, между выборками отстутствует значимая разница\n"
     ]
    }
   ],
   "source": [
    "mannwhitneyu_2(c_in, c_out, 2)"
   ]
  },
  {
   "cell_type": "markdown",
   "metadata": {},
   "source": [
    "По полученным данным имеются следущие факты:  \n",
    "* Статистически значимые соотношения в количестве входящих/исходящих звонков тарифа **«A»** - отсутствуют.\n",
    "* Статистически значимые соотношения в количестве входящих/исходящих звонков тарифа **«B»** - отсутствуют.\n",
    "* Статистически значимые соотношения в количестве входящих/исходящих звонков тарифа **«C»** - отсутствуют.\n",
    "\n",
    "Из чего следует вывод, что никакой из тарифов не используют в большей степени для звонков *только* только в одном направлении."
   ]
  },
  {
   "cell_type": "markdown",
   "metadata": {},
   "source": [
    "## Общий вывод и рекомендации"
   ]
  },
  {
   "cell_type": "markdown",
   "metadata": {},
   "source": [
    "На основе всей вышеизложенной информации, всех предоставленных графиков, таблиц и вычислений можно сделать следующие выводы.\n",
    "\n",
    "* Наиболее предпочтительными клиентами для компании «Нупозвони» являются пользователи тарифа **«С»**\n",
    "* При переводе клиентов на более выгодный для них тариф - **«A»**, компании будет зарабатывать меньше только первые 3 месяца.\n",
    "* Наибольшие потери компания понесет при переводе клиентов с тарифа - **«C»** на другие.\n",
    "* Количество пользователей с неоптимальными тарифами - **147**\n",
    "* Восполнение потерь при переводе всех клиентов на оптимальные тарифы произойдет за **10** календарных дней.\n",
    "\n",
    "Наилучшей рекомендацией для компании «Нупозвони», будет предложение о переводе всех доступных клиентов на более выгодные тарифы\n",
    "и все последующие кратковременные потери будут возмещены за счет повышения LTV пользователей."
   ]
  },
  {
   "cell_type": "code",
   "execution_count": null,
   "metadata": {},
   "outputs": [],
   "source": []
  }
 ],
 "metadata": {
  "ExecuteTimeLog": [
   {
    "duration": 390,
    "start_time": "2022-10-11T10:40:38.862Z"
   },
   {
    "duration": 296,
    "start_time": "2022-10-11T10:41:22.841Z"
   },
   {
    "duration": 31,
    "start_time": "2022-10-11T10:41:24.811Z"
   },
   {
    "duration": 32,
    "start_time": "2022-10-11T10:41:43.258Z"
   },
   {
    "duration": 33,
    "start_time": "2022-10-11T10:41:46.128Z"
   },
   {
    "duration": 22,
    "start_time": "2022-10-11T10:42:02.178Z"
   },
   {
    "duration": 152,
    "start_time": "2022-10-11T10:42:38.886Z"
   },
   {
    "duration": 3,
    "start_time": "2022-10-11T10:42:43.555Z"
   },
   {
    "duration": 3,
    "start_time": "2022-10-11T11:09:26.324Z"
   },
   {
    "duration": 74,
    "start_time": "2022-10-11T11:16:05.623Z"
   },
   {
    "duration": 11,
    "start_time": "2022-10-11T11:16:09.598Z"
   },
   {
    "duration": 7,
    "start_time": "2022-10-11T11:16:19.275Z"
   },
   {
    "duration": 15,
    "start_time": "2022-10-11T11:16:26.776Z"
   },
   {
    "duration": 18,
    "start_time": "2022-10-11T11:16:37.794Z"
   },
   {
    "duration": 10,
    "start_time": "2022-10-11T11:16:44.515Z"
   },
   {
    "duration": 15,
    "start_time": "2022-10-11T11:17:05.711Z"
   },
   {
    "duration": 91,
    "start_time": "2022-10-11T11:23:01.455Z"
   },
   {
    "duration": 15,
    "start_time": "2022-10-11T11:23:03.367Z"
   },
   {
    "duration": 91,
    "start_time": "2022-10-11T11:23:09.002Z"
   },
   {
    "duration": 16,
    "start_time": "2022-10-11T11:43:13.975Z"
   },
   {
    "duration": 18,
    "start_time": "2022-10-11T11:44:20.299Z"
   },
   {
    "duration": 62,
    "start_time": "2022-10-11T11:59:04.336Z"
   },
   {
    "duration": 21,
    "start_time": "2022-10-11T11:59:07.981Z"
   },
   {
    "duration": 11,
    "start_time": "2022-10-11T11:59:21.350Z"
   },
   {
    "duration": 11,
    "start_time": "2022-10-11T11:59:29.970Z"
   },
   {
    "duration": 71,
    "start_time": "2022-10-11T11:59:39.694Z"
   },
   {
    "duration": 96,
    "start_time": "2022-10-11T11:59:45.926Z"
   },
   {
    "duration": 18,
    "start_time": "2022-10-11T11:59:49.399Z"
   },
   {
    "duration": 18,
    "start_time": "2022-10-11T11:59:57.647Z"
   },
   {
    "duration": 11,
    "start_time": "2022-10-11T12:00:33.001Z"
   },
   {
    "duration": 24,
    "start_time": "2022-10-11T12:00:43.435Z"
   },
   {
    "duration": 10,
    "start_time": "2022-10-11T12:00:47.433Z"
   },
   {
    "duration": 1321,
    "start_time": "2022-10-11T12:01:09.464Z"
   },
   {
    "duration": 13,
    "start_time": "2022-10-11T12:01:13.768Z"
   },
   {
    "duration": 17,
    "start_time": "2022-10-11T12:01:28.375Z"
   },
   {
    "duration": 420,
    "start_time": "2022-10-13T09:37:59.970Z"
   },
   {
    "duration": 395,
    "start_time": "2022-10-13T09:38:00.393Z"
   },
   {
    "duration": 28,
    "start_time": "2022-10-13T09:38:00.790Z"
   },
   {
    "duration": 21,
    "start_time": "2022-10-13T09:38:00.820Z"
   },
   {
    "duration": 43,
    "start_time": "2022-10-13T09:38:00.843Z"
   },
   {
    "duration": 23,
    "start_time": "2022-10-13T09:38:00.888Z"
   },
   {
    "duration": 39,
    "start_time": "2022-10-13T09:38:00.914Z"
   },
   {
    "duration": 10,
    "start_time": "2022-10-13T09:38:40.066Z"
   },
   {
    "duration": 10,
    "start_time": "2022-10-13T09:38:43.870Z"
   },
   {
    "duration": 15,
    "start_time": "2022-10-13T09:38:49.967Z"
   },
   {
    "duration": 18,
    "start_time": "2022-10-13T09:39:03.167Z"
   },
   {
    "duration": 1009,
    "start_time": "2022-10-13T09:40:41.651Z"
   },
   {
    "duration": 11,
    "start_time": "2022-10-13T09:44:13.570Z"
   },
   {
    "duration": 29,
    "start_time": "2022-10-13T09:44:28.603Z"
   },
   {
    "duration": 18,
    "start_time": "2022-10-13T09:44:43.534Z"
   },
   {
    "duration": 24,
    "start_time": "2022-10-13T09:44:50.223Z"
   },
   {
    "duration": 21,
    "start_time": "2022-10-13T09:44:55.624Z"
   },
   {
    "duration": 20,
    "start_time": "2022-10-13T09:45:00.396Z"
   },
   {
    "duration": 24,
    "start_time": "2022-10-13T09:45:03.991Z"
   },
   {
    "duration": 21,
    "start_time": "2022-10-13T09:45:14.285Z"
   },
   {
    "duration": 50,
    "start_time": "2022-10-13T09:45:46.566Z"
   },
   {
    "duration": 11,
    "start_time": "2022-10-13T09:46:12.112Z"
   },
   {
    "duration": 24,
    "start_time": "2022-10-13T09:46:27.700Z"
   },
   {
    "duration": 24,
    "start_time": "2022-10-13T09:50:05.834Z"
   },
   {
    "duration": 1448,
    "start_time": "2022-10-13T09:50:18.487Z"
   },
   {
    "duration": 11,
    "start_time": "2022-10-13T09:50:23.890Z"
   },
   {
    "duration": 13,
    "start_time": "2022-10-13T09:50:32.349Z"
   },
   {
    "duration": 90,
    "start_time": "2022-10-13T09:54:42.106Z"
   },
   {
    "duration": 17,
    "start_time": "2022-10-13T09:54:45.749Z"
   },
   {
    "duration": 23,
    "start_time": "2022-10-13T09:54:49.899Z"
   },
   {
    "duration": 30,
    "start_time": "2022-10-13T09:54:55.177Z"
   },
   {
    "duration": 15,
    "start_time": "2022-10-13T09:55:03.072Z"
   },
   {
    "duration": 44,
    "start_time": "2022-10-13T09:55:06.382Z"
   },
   {
    "duration": 6,
    "start_time": "2022-10-13T10:03:02.807Z"
   },
   {
    "duration": 6,
    "start_time": "2022-10-13T10:03:06.938Z"
   },
   {
    "duration": 5,
    "start_time": "2022-10-13T10:03:13.711Z"
   },
   {
    "duration": 7,
    "start_time": "2022-10-13T10:03:36.504Z"
   },
   {
    "duration": 15,
    "start_time": "2022-10-13T10:04:03.502Z"
   },
   {
    "duration": 8,
    "start_time": "2022-10-13T10:04:39.069Z"
   },
   {
    "duration": 6,
    "start_time": "2022-10-13T10:04:41.717Z"
   },
   {
    "duration": 13,
    "start_time": "2022-10-13T13:21:51.916Z"
   },
   {
    "duration": 9,
    "start_time": "2022-10-13T13:22:04.510Z"
   },
   {
    "duration": 2,
    "start_time": "2022-10-13T13:22:09.834Z"
   },
   {
    "duration": 11,
    "start_time": "2022-10-13T13:22:26.380Z"
   },
   {
    "duration": 9,
    "start_time": "2022-10-13T13:22:31.257Z"
   },
   {
    "duration": 19,
    "start_time": "2022-10-13T13:24:13.985Z"
   },
   {
    "duration": 24,
    "start_time": "2022-10-13T13:24:18.410Z"
   },
   {
    "duration": 24,
    "start_time": "2022-10-13T13:24:27.851Z"
   },
   {
    "duration": 30,
    "start_time": "2022-10-13T13:24:32.967Z"
   },
   {
    "duration": 1116,
    "start_time": "2022-10-13T13:24:38.337Z"
   },
   {
    "duration": 98,
    "start_time": "2022-10-13T13:24:39.455Z"
   },
   {
    "duration": 18,
    "start_time": "2022-10-13T13:24:39.555Z"
   },
   {
    "duration": 28,
    "start_time": "2022-10-13T13:24:39.575Z"
   },
   {
    "duration": 6,
    "start_time": "2022-10-13T13:24:39.606Z"
   },
   {
    "duration": 7,
    "start_time": "2022-10-13T13:24:39.613Z"
   },
   {
    "duration": 24,
    "start_time": "2022-10-13T13:24:39.622Z"
   },
   {
    "duration": 91,
    "start_time": "2022-10-13T13:24:39.648Z"
   },
   {
    "duration": 10,
    "start_time": "2022-10-13T13:24:39.740Z"
   },
   {
    "duration": 47,
    "start_time": "2022-10-13T13:24:39.752Z"
   },
   {
    "duration": 26,
    "start_time": "2022-10-13T13:26:24.565Z"
   },
   {
    "duration": 23,
    "start_time": "2022-10-13T13:26:29.223Z"
   },
   {
    "duration": 26,
    "start_time": "2022-10-13T13:29:16.804Z"
   },
   {
    "duration": 25,
    "start_time": "2022-10-13T13:32:20.872Z"
   },
   {
    "duration": 28,
    "start_time": "2022-10-13T13:32:29.343Z"
   },
   {
    "duration": 17,
    "start_time": "2022-10-13T13:32:33.266Z"
   },
   {
    "duration": 1387,
    "start_time": "2022-10-13T13:32:36.961Z"
   },
   {
    "duration": 1087,
    "start_time": "2022-10-13T13:32:47.644Z"
   },
   {
    "duration": 97,
    "start_time": "2022-10-13T13:32:48.733Z"
   },
   {
    "duration": 17,
    "start_time": "2022-10-13T13:32:48.832Z"
   },
   {
    "duration": 23,
    "start_time": "2022-10-13T13:32:48.850Z"
   },
   {
    "duration": 8,
    "start_time": "2022-10-13T13:32:48.875Z"
   },
   {
    "duration": 26,
    "start_time": "2022-10-13T13:32:48.886Z"
   },
   {
    "duration": 31,
    "start_time": "2022-10-13T13:32:48.913Z"
   },
   {
    "duration": 66,
    "start_time": "2022-10-13T13:32:48.946Z"
   },
   {
    "duration": 16,
    "start_time": "2022-10-13T13:32:49.014Z"
   },
   {
    "duration": 35,
    "start_time": "2022-10-13T13:32:49.032Z"
   },
   {
    "duration": 24,
    "start_time": "2022-10-13T13:33:11.704Z"
   },
   {
    "duration": 28,
    "start_time": "2022-10-13T13:42:27.880Z"
   },
   {
    "duration": 22,
    "start_time": "2022-10-13T13:42:32.300Z"
   },
   {
    "duration": 22,
    "start_time": "2022-10-13T13:43:16.424Z"
   },
   {
    "duration": 111,
    "start_time": "2022-10-13T13:43:29.844Z"
   },
   {
    "duration": 1113,
    "start_time": "2022-10-13T13:43:34.566Z"
   },
   {
    "duration": 97,
    "start_time": "2022-10-13T13:43:35.680Z"
   },
   {
    "duration": 24,
    "start_time": "2022-10-13T13:43:35.778Z"
   },
   {
    "duration": 29,
    "start_time": "2022-10-13T13:43:35.804Z"
   },
   {
    "duration": 5,
    "start_time": "2022-10-13T13:43:35.835Z"
   },
   {
    "duration": 22,
    "start_time": "2022-10-13T13:43:35.842Z"
   },
   {
    "duration": 24,
    "start_time": "2022-10-13T13:43:35.865Z"
   },
   {
    "duration": 57,
    "start_time": "2022-10-13T13:43:35.902Z"
   },
   {
    "duration": 11,
    "start_time": "2022-10-13T13:43:35.961Z"
   },
   {
    "duration": 38,
    "start_time": "2022-10-13T13:43:35.973Z"
   },
   {
    "duration": 113,
    "start_time": "2022-10-13T13:43:43.780Z"
   },
   {
    "duration": 1026,
    "start_time": "2022-10-13T13:43:50.339Z"
   },
   {
    "duration": 98,
    "start_time": "2022-10-13T13:43:51.369Z"
   },
   {
    "duration": 24,
    "start_time": "2022-10-13T13:43:51.469Z"
   },
   {
    "duration": 871,
    "start_time": "2022-10-13T13:43:51.496Z"
   },
   {
    "duration": 0,
    "start_time": "2022-10-13T13:43:52.369Z"
   },
   {
    "duration": 0,
    "start_time": "2022-10-13T13:43:52.370Z"
   },
   {
    "duration": 0,
    "start_time": "2022-10-13T13:43:52.371Z"
   },
   {
    "duration": 0,
    "start_time": "2022-10-13T13:43:52.372Z"
   },
   {
    "duration": 0,
    "start_time": "2022-10-13T13:43:52.373Z"
   },
   {
    "duration": 0,
    "start_time": "2022-10-13T13:43:52.374Z"
   },
   {
    "duration": 22,
    "start_time": "2022-10-13T13:43:58.536Z"
   },
   {
    "duration": 25,
    "start_time": "2022-10-13T13:45:57.021Z"
   },
   {
    "duration": 1272,
    "start_time": "2022-10-13T13:46:03.069Z"
   },
   {
    "duration": 117,
    "start_time": "2022-10-13T13:46:04.343Z"
   },
   {
    "duration": 17,
    "start_time": "2022-10-13T13:46:04.461Z"
   },
   {
    "duration": 304,
    "start_time": "2022-10-13T13:46:04.481Z"
   },
   {
    "duration": 9,
    "start_time": "2022-10-13T13:46:04.788Z"
   },
   {
    "duration": 56,
    "start_time": "2022-10-13T13:46:04.799Z"
   },
   {
    "duration": 49,
    "start_time": "2022-10-13T13:46:04.856Z"
   },
   {
    "duration": 145,
    "start_time": "2022-10-13T13:46:04.906Z"
   },
   {
    "duration": 15,
    "start_time": "2022-10-13T13:46:05.053Z"
   },
   {
    "duration": 89,
    "start_time": "2022-10-13T13:46:05.071Z"
   },
   {
    "duration": 163,
    "start_time": "2022-10-13T13:46:17.164Z"
   },
   {
    "duration": 1161,
    "start_time": "2022-10-13T13:46:21.907Z"
   },
   {
    "duration": 106,
    "start_time": "2022-10-13T13:46:23.070Z"
   },
   {
    "duration": 21,
    "start_time": "2022-10-13T13:46:23.177Z"
   },
   {
    "duration": 257,
    "start_time": "2022-10-13T13:46:23.200Z"
   },
   {
    "duration": 5,
    "start_time": "2022-10-13T13:46:23.459Z"
   },
   {
    "duration": 8,
    "start_time": "2022-10-13T13:46:23.466Z"
   },
   {
    "duration": 58,
    "start_time": "2022-10-13T13:46:23.475Z"
   },
   {
    "duration": 61,
    "start_time": "2022-10-13T13:46:23.535Z"
   },
   {
    "duration": 15,
    "start_time": "2022-10-13T13:46:23.597Z"
   },
   {
    "duration": 41,
    "start_time": "2022-10-13T13:46:23.614Z"
   },
   {
    "duration": 100,
    "start_time": "2022-10-13T13:46:39.853Z"
   },
   {
    "duration": 231,
    "start_time": "2022-10-13T13:46:44.048Z"
   },
   {
    "duration": 258,
    "start_time": "2022-10-13T13:46:51.673Z"
   },
   {
    "duration": 1172,
    "start_time": "2022-10-13T13:46:58.763Z"
   },
   {
    "duration": 95,
    "start_time": "2022-10-13T13:46:59.937Z"
   },
   {
    "duration": 17,
    "start_time": "2022-10-13T13:47:00.034Z"
   },
   {
    "duration": 14,
    "start_time": "2022-10-13T13:47:00.053Z"
   },
   {
    "duration": 512,
    "start_time": "2022-10-13T13:47:00.069Z"
   },
   {
    "duration": 17,
    "start_time": "2022-10-13T13:47:00.582Z"
   },
   {
    "duration": 22,
    "start_time": "2022-10-13T13:47:00.600Z"
   },
   {
    "duration": 27,
    "start_time": "2022-10-13T13:47:00.624Z"
   },
   {
    "duration": 69,
    "start_time": "2022-10-13T13:47:00.654Z"
   },
   {
    "duration": 12,
    "start_time": "2022-10-13T13:47:00.725Z"
   },
   {
    "duration": 52,
    "start_time": "2022-10-13T13:47:00.738Z"
   },
   {
    "duration": 236,
    "start_time": "2022-10-13T13:47:40.812Z"
   },
   {
    "duration": 243,
    "start_time": "2022-10-13T13:47:48.167Z"
   },
   {
    "duration": 24,
    "start_time": "2022-10-13T13:48:04.138Z"
   },
   {
    "duration": 30,
    "start_time": "2022-10-13T15:02:09.477Z"
   },
   {
    "duration": 6,
    "start_time": "2022-10-13T15:02:21.796Z"
   },
   {
    "duration": 5,
    "start_time": "2022-10-13T15:02:35.383Z"
   },
   {
    "duration": 89,
    "start_time": "2022-10-13T15:13:04.646Z"
   },
   {
    "duration": 7,
    "start_time": "2022-10-13T15:13:07.794Z"
   },
   {
    "duration": 6,
    "start_time": "2022-10-13T15:14:05.953Z"
   },
   {
    "duration": 9,
    "start_time": "2022-10-13T15:15:01.694Z"
   },
   {
    "duration": 33,
    "start_time": "2022-10-13T15:25:11.838Z"
   },
   {
    "duration": 1288,
    "start_time": "2022-10-14T08:50:05.182Z"
   },
   {
    "duration": 154,
    "start_time": "2022-10-14T08:50:06.472Z"
   },
   {
    "duration": 17,
    "start_time": "2022-10-14T08:50:06.630Z"
   },
   {
    "duration": 526,
    "start_time": "2022-10-14T08:50:06.649Z"
   },
   {
    "duration": 36,
    "start_time": "2022-10-14T08:50:07.177Z"
   },
   {
    "duration": 64,
    "start_time": "2022-10-14T08:50:07.215Z"
   },
   {
    "duration": 27,
    "start_time": "2022-10-14T08:50:07.281Z"
   },
   {
    "duration": 35,
    "start_time": "2022-10-14T08:50:07.311Z"
   },
   {
    "duration": 8,
    "start_time": "2022-10-14T08:50:07.348Z"
   },
   {
    "duration": 116,
    "start_time": "2022-10-14T08:52:44.363Z"
   },
   {
    "duration": 626,
    "start_time": "2022-10-14T08:52:51.090Z"
   },
   {
    "duration": 128,
    "start_time": "2022-10-14T08:53:04.872Z"
   },
   {
    "duration": 11413,
    "start_time": "2022-10-14T08:54:56.996Z"
   },
   {
    "duration": 2277,
    "start_time": "2022-10-14T08:55:33.397Z"
   },
   {
    "duration": 2098,
    "start_time": "2022-10-14T08:55:45.515Z"
   },
   {
    "duration": 1842,
    "start_time": "2022-10-14T08:56:02.950Z"
   },
   {
    "duration": 187,
    "start_time": "2022-10-14T08:56:18.170Z"
   },
   {
    "duration": 514,
    "start_time": "2022-10-14T08:56:49.520Z"
   },
   {
    "duration": 88,
    "start_time": "2022-10-14T08:57:07.147Z"
   },
   {
    "duration": 1643,
    "start_time": "2022-10-14T08:57:10.399Z"
   },
   {
    "duration": 1595,
    "start_time": "2022-10-14T08:57:18.257Z"
   },
   {
    "duration": 205,
    "start_time": "2022-10-14T08:57:26.246Z"
   },
   {
    "duration": 238,
    "start_time": "2022-10-14T08:57:30.782Z"
   },
   {
    "duration": 27,
    "start_time": "2022-10-14T08:57:32.692Z"
   },
   {
    "duration": 257,
    "start_time": "2022-10-14T08:57:35.918Z"
   },
   {
    "duration": 214,
    "start_time": "2022-10-14T08:57:39.522Z"
   },
   {
    "duration": 194,
    "start_time": "2022-10-14T08:57:48.427Z"
   },
   {
    "duration": 28,
    "start_time": "2022-10-14T08:57:54.162Z"
   },
   {
    "duration": 240,
    "start_time": "2022-10-14T08:58:03.034Z"
   },
   {
    "duration": 247,
    "start_time": "2022-10-14T08:58:06.309Z"
   },
   {
    "duration": 29,
    "start_time": "2022-10-14T08:58:17.286Z"
   },
   {
    "duration": 1142,
    "start_time": "2022-10-14T08:58:24.031Z"
   },
   {
    "duration": 72,
    "start_time": "2022-10-14T08:58:25.175Z"
   },
   {
    "duration": 17,
    "start_time": "2022-10-14T08:58:25.248Z"
   },
   {
    "duration": 24,
    "start_time": "2022-10-14T08:58:25.267Z"
   },
   {
    "duration": 28,
    "start_time": "2022-10-14T08:58:25.293Z"
   },
   {
    "duration": 90,
    "start_time": "2022-10-14T08:58:25.323Z"
   },
   {
    "duration": 16,
    "start_time": "2022-10-14T08:58:25.416Z"
   },
   {
    "duration": 38,
    "start_time": "2022-10-14T08:58:25.434Z"
   },
   {
    "duration": 5,
    "start_time": "2022-10-14T08:58:25.474Z"
   },
   {
    "duration": 499,
    "start_time": "2022-10-14T08:58:25.480Z"
   },
   {
    "duration": 544,
    "start_time": "2022-10-14T08:58:52.069Z"
   },
   {
    "duration": 1103,
    "start_time": "2022-10-14T08:58:58.199Z"
   },
   {
    "duration": 69,
    "start_time": "2022-10-14T08:58:59.308Z"
   },
   {
    "duration": 17,
    "start_time": "2022-10-14T08:58:59.378Z"
   },
   {
    "duration": 118,
    "start_time": "2022-10-14T08:58:59.396Z"
   },
   {
    "duration": 0,
    "start_time": "2022-10-14T08:58:59.516Z"
   },
   {
    "duration": 0,
    "start_time": "2022-10-14T08:58:59.518Z"
   },
   {
    "duration": 0,
    "start_time": "2022-10-14T08:58:59.518Z"
   },
   {
    "duration": 0,
    "start_time": "2022-10-14T08:58:59.520Z"
   },
   {
    "duration": 0,
    "start_time": "2022-10-14T08:58:59.521Z"
   },
   {
    "duration": 0,
    "start_time": "2022-10-14T08:58:59.522Z"
   },
   {
    "duration": 512,
    "start_time": "2022-10-14T08:59:13.428Z"
   },
   {
    "duration": 1098,
    "start_time": "2022-10-14T08:59:55.190Z"
   },
   {
    "duration": 79,
    "start_time": "2022-10-14T08:59:56.290Z"
   },
   {
    "duration": 17,
    "start_time": "2022-10-14T08:59:56.370Z"
   },
   {
    "duration": 526,
    "start_time": "2022-10-14T08:59:56.389Z"
   },
   {
    "duration": 20,
    "start_time": "2022-10-14T08:59:56.916Z"
   },
   {
    "duration": 81,
    "start_time": "2022-10-14T08:59:56.938Z"
   },
   {
    "duration": 10,
    "start_time": "2022-10-14T08:59:57.021Z"
   },
   {
    "duration": 31,
    "start_time": "2022-10-14T08:59:57.033Z"
   },
   {
    "duration": 5,
    "start_time": "2022-10-14T08:59:57.065Z"
   },
   {
    "duration": 307,
    "start_time": "2022-10-14T08:59:57.072Z"
   },
   {
    "duration": 216,
    "start_time": "2022-10-14T09:00:01.172Z"
   },
   {
    "duration": 319,
    "start_time": "2022-10-14T09:01:42.320Z"
   },
   {
    "duration": 186,
    "start_time": "2022-10-14T09:01:57.222Z"
   },
   {
    "duration": 167,
    "start_time": "2022-10-14T09:02:01.151Z"
   },
   {
    "duration": 148,
    "start_time": "2022-10-14T09:04:44.437Z"
   },
   {
    "duration": 123,
    "start_time": "2022-10-14T09:05:33.464Z"
   },
   {
    "duration": 116,
    "start_time": "2022-10-14T09:05:37.776Z"
   },
   {
    "duration": 152,
    "start_time": "2022-10-14T09:07:01.851Z"
   },
   {
    "duration": 140,
    "start_time": "2022-10-14T09:07:05.217Z"
   },
   {
    "duration": 148,
    "start_time": "2022-10-14T09:07:09.655Z"
   },
   {
    "duration": 219,
    "start_time": "2022-10-14T09:07:35.071Z"
   },
   {
    "duration": 116,
    "start_time": "2022-10-14T09:07:41.933Z"
   },
   {
    "duration": 205,
    "start_time": "2022-10-14T09:07:49.338Z"
   },
   {
    "duration": 121,
    "start_time": "2022-10-14T09:08:01.716Z"
   },
   {
    "duration": 136,
    "start_time": "2022-10-14T09:08:05.816Z"
   },
   {
    "duration": 4,
    "start_time": "2022-10-14T09:11:08.089Z"
   },
   {
    "duration": 27,
    "start_time": "2022-10-14T09:11:14.540Z"
   },
   {
    "duration": 67,
    "start_time": "2022-10-14T09:11:37.451Z"
   },
   {
    "duration": 135,
    "start_time": "2022-10-14T09:14:14.984Z"
   },
   {
    "duration": 121,
    "start_time": "2022-10-14T09:14:17.699Z"
   },
   {
    "duration": 113,
    "start_time": "2022-10-14T09:14:23.535Z"
   },
   {
    "duration": 58,
    "start_time": "2022-10-14T09:17:10.127Z"
   },
   {
    "duration": 15,
    "start_time": "2022-10-14T09:17:12.430Z"
   },
   {
    "duration": 1649,
    "start_time": "2022-10-14T09:17:17.330Z"
   },
   {
    "duration": 666,
    "start_time": "2022-10-14T09:17:35.493Z"
   },
   {
    "duration": 18,
    "start_time": "2022-10-14T09:17:45.395Z"
   },
   {
    "duration": 565,
    "start_time": "2022-10-14T09:17:49.190Z"
   },
   {
    "duration": 10,
    "start_time": "2022-10-14T09:21:02.293Z"
   },
   {
    "duration": 19,
    "start_time": "2022-10-14T09:21:07.220Z"
   },
   {
    "duration": 21,
    "start_time": "2022-10-14T09:21:32.599Z"
   },
   {
    "duration": 24,
    "start_time": "2022-10-14T09:21:37.225Z"
   },
   {
    "duration": 15,
    "start_time": "2022-10-14T09:23:57.723Z"
   },
   {
    "duration": 21,
    "start_time": "2022-10-14T09:24:29.899Z"
   },
   {
    "duration": 15,
    "start_time": "2022-10-14T09:24:38.750Z"
   },
   {
    "duration": 143,
    "start_time": "2022-10-14T09:24:46.434Z"
   },
   {
    "duration": 129,
    "start_time": "2022-10-14T09:24:51.075Z"
   },
   {
    "duration": 27,
    "start_time": "2022-10-14T09:25:02.090Z"
   },
   {
    "duration": 17,
    "start_time": "2022-10-14T09:25:17.568Z"
   },
   {
    "duration": 139,
    "start_time": "2022-10-14T09:25:21.006Z"
   },
   {
    "duration": 132,
    "start_time": "2022-10-14T09:25:33.175Z"
   },
   {
    "duration": 8,
    "start_time": "2022-10-14T09:25:48.848Z"
   },
   {
    "duration": 163,
    "start_time": "2022-10-14T09:26:09.375Z"
   },
   {
    "duration": 144,
    "start_time": "2022-10-14T09:26:20.342Z"
   },
   {
    "duration": 24,
    "start_time": "2022-10-14T09:26:24.313Z"
   },
   {
    "duration": 18,
    "start_time": "2022-10-14T09:26:32.574Z"
   },
   {
    "duration": 17,
    "start_time": "2022-10-14T09:26:38.042Z"
   },
   {
    "duration": 324,
    "start_time": "2022-10-14T09:27:08.241Z"
   },
   {
    "duration": 286,
    "start_time": "2022-10-14T09:27:35.160Z"
   },
   {
    "duration": 36,
    "start_time": "2022-10-14T09:39:18.990Z"
   },
   {
    "duration": 24,
    "start_time": "2022-10-14T09:39:30.135Z"
   },
   {
    "duration": 18,
    "start_time": "2022-10-14T09:39:51.458Z"
   },
   {
    "duration": 329,
    "start_time": "2022-10-14T09:40:03.349Z"
   },
   {
    "duration": 18,
    "start_time": "2022-10-14T09:40:15.559Z"
   },
   {
    "duration": 22,
    "start_time": "2022-10-14T09:40:25.575Z"
   },
   {
    "duration": 13,
    "start_time": "2022-10-14T09:42:48.430Z"
   },
   {
    "duration": 1240,
    "start_time": "2022-10-14T09:44:41.524Z"
   },
   {
    "duration": 85,
    "start_time": "2022-10-14T09:44:42.766Z"
   },
   {
    "duration": 17,
    "start_time": "2022-10-14T09:44:42.853Z"
   },
   {
    "duration": 601,
    "start_time": "2022-10-14T09:44:42.872Z"
   },
   {
    "duration": 33,
    "start_time": "2022-10-14T09:44:43.475Z"
   },
   {
    "duration": 67,
    "start_time": "2022-10-14T09:44:43.512Z"
   },
   {
    "duration": 26,
    "start_time": "2022-10-14T09:44:43.581Z"
   },
   {
    "duration": 53,
    "start_time": "2022-10-14T09:44:43.609Z"
   },
   {
    "duration": 5,
    "start_time": "2022-10-14T09:44:43.664Z"
   },
   {
    "duration": 128,
    "start_time": "2022-10-14T09:44:43.671Z"
   },
   {
    "duration": 0,
    "start_time": "2022-10-14T09:44:43.805Z"
   },
   {
    "duration": 0,
    "start_time": "2022-10-14T09:44:43.806Z"
   },
   {
    "duration": 15,
    "start_time": "2022-10-14T09:44:49.530Z"
   },
   {
    "duration": 87073,
    "start_time": "2022-10-14T09:44:52.029Z"
   },
   {
    "duration": 99356,
    "start_time": "2022-10-14T09:48:03.847Z"
   },
   {
    "duration": 21,
    "start_time": "2022-10-14T09:51:02.947Z"
   },
   {
    "duration": 86,
    "start_time": "2022-10-14T09:51:29.731Z"
   },
   {
    "duration": 13,
    "start_time": "2022-10-14T09:51:42.833Z"
   },
   {
    "duration": 18,
    "start_time": "2022-10-14T09:52:20.899Z"
   },
   {
    "duration": 8,
    "start_time": "2022-10-14T09:52:27.155Z"
   },
   {
    "duration": 177,
    "start_time": "2022-10-14T09:52:42.656Z"
   },
   {
    "duration": 12,
    "start_time": "2022-10-14T09:53:10.440Z"
   },
   {
    "duration": 12,
    "start_time": "2022-10-14T09:53:17.784Z"
   },
   {
    "duration": 10,
    "start_time": "2022-10-14T09:53:32.035Z"
   },
   {
    "duration": 15,
    "start_time": "2022-10-14T09:53:37.092Z"
   },
   {
    "duration": 12,
    "start_time": "2022-10-14T09:53:44.370Z"
   },
   {
    "duration": 15,
    "start_time": "2022-10-14T09:53:53.128Z"
   },
   {
    "duration": 14,
    "start_time": "2022-10-14T09:53:55.944Z"
   },
   {
    "duration": 9,
    "start_time": "2022-10-14T09:54:28.139Z"
   },
   {
    "duration": 130,
    "start_time": "2022-10-14T09:54:39.581Z"
   },
   {
    "duration": 136,
    "start_time": "2022-10-14T09:54:46.696Z"
   },
   {
    "duration": 132,
    "start_time": "2022-10-14T09:54:58.943Z"
   },
   {
    "duration": 144,
    "start_time": "2022-10-14T09:55:13.772Z"
   },
   {
    "duration": 128,
    "start_time": "2022-10-14T09:55:20.062Z"
   },
   {
    "duration": 195,
    "start_time": "2022-10-14T09:55:24.136Z"
   },
   {
    "duration": 182,
    "start_time": "2022-10-14T09:55:31.557Z"
   },
   {
    "duration": 135,
    "start_time": "2022-10-14T09:55:36.127Z"
   },
   {
    "duration": 170,
    "start_time": "2022-10-14T09:55:39.096Z"
   },
   {
    "duration": 137,
    "start_time": "2022-10-14T09:55:42.329Z"
   },
   {
    "duration": 176,
    "start_time": "2022-10-14T09:55:44.376Z"
   },
   {
    "duration": 135,
    "start_time": "2022-10-14T09:58:54.327Z"
   },
   {
    "duration": 126,
    "start_time": "2022-10-14T09:59:04.018Z"
   },
   {
    "duration": 128,
    "start_time": "2022-10-14T09:59:40.024Z"
   },
   {
    "duration": 117,
    "start_time": "2022-10-14T09:59:53.255Z"
   },
   {
    "duration": 121,
    "start_time": "2022-10-14T10:00:42.377Z"
   },
   {
    "duration": 24,
    "start_time": "2022-10-14T10:05:31.975Z"
   },
   {
    "duration": 29,
    "start_time": "2022-10-14T10:05:55.655Z"
   },
   {
    "duration": 52,
    "start_time": "2022-10-14T10:05:59.976Z"
   },
   {
    "duration": 56,
    "start_time": "2022-10-14T10:06:03.532Z"
   },
   {
    "duration": 58,
    "start_time": "2022-10-14T10:06:09.589Z"
   },
   {
    "duration": 1290,
    "start_time": "2022-10-14T10:06:19.450Z"
   },
   {
    "duration": 98,
    "start_time": "2022-10-14T10:06:20.742Z"
   },
   {
    "duration": 20,
    "start_time": "2022-10-14T10:06:20.844Z"
   },
   {
    "duration": 550,
    "start_time": "2022-10-14T10:06:20.866Z"
   },
   {
    "duration": 64,
    "start_time": "2022-10-14T10:06:21.418Z"
   },
   {
    "duration": 42,
    "start_time": "2022-10-14T10:06:21.484Z"
   },
   {
    "duration": 100,
    "start_time": "2022-10-14T10:06:21.529Z"
   },
   {
    "duration": 13,
    "start_time": "2022-10-14T10:06:21.632Z"
   },
   {
    "duration": 34,
    "start_time": "2022-10-14T10:06:21.648Z"
   },
   {
    "duration": 24,
    "start_time": "2022-10-14T10:06:21.684Z"
   },
   {
    "duration": 26,
    "start_time": "2022-10-14T10:06:21.715Z"
   },
   {
    "duration": 14,
    "start_time": "2022-10-14T10:06:21.743Z"
   },
   {
    "duration": 134,
    "start_time": "2022-10-14T10:06:21.760Z"
   },
   {
    "duration": 15,
    "start_time": "2022-10-14T10:06:37.378Z"
   },
   {
    "duration": 4,
    "start_time": "2022-10-14T10:07:15.967Z"
   },
   {
    "duration": 11,
    "start_time": "2022-10-14T10:07:19.882Z"
   },
   {
    "duration": 18,
    "start_time": "2022-10-14T10:07:21.987Z"
   },
   {
    "duration": 124,
    "start_time": "2022-10-14T10:07:27.105Z"
   },
   {
    "duration": 597,
    "start_time": "2022-10-14T10:12:10.985Z"
   },
   {
    "duration": 113,
    "start_time": "2022-10-14T10:12:44.050Z"
   },
   {
    "duration": 94,
    "start_time": "2022-10-14T10:12:59.669Z"
   },
   {
    "duration": 104,
    "start_time": "2022-10-14T10:14:34.831Z"
   },
   {
    "duration": 50,
    "start_time": "2022-10-14T10:14:44.144Z"
   },
   {
    "duration": 95,
    "start_time": "2022-10-14T10:14:48.439Z"
   },
   {
    "duration": 97,
    "start_time": "2022-10-14T10:14:52.434Z"
   },
   {
    "duration": 54,
    "start_time": "2022-10-14T10:14:58.445Z"
   },
   {
    "duration": 12,
    "start_time": "2022-10-14T10:15:11.831Z"
   },
   {
    "duration": 27,
    "start_time": "2022-10-14T10:17:24.622Z"
   },
   {
    "duration": 20,
    "start_time": "2022-10-14T10:17:28.812Z"
   },
   {
    "duration": 18,
    "start_time": "2022-10-14T10:18:10.297Z"
   },
   {
    "duration": 15,
    "start_time": "2022-10-14T10:19:22.975Z"
   },
   {
    "duration": 43,
    "start_time": "2022-10-14T10:19:26.091Z"
   },
   {
    "duration": 50,
    "start_time": "2022-10-14T10:19:34.204Z"
   },
   {
    "duration": 19,
    "start_time": "2022-10-14T10:19:39.261Z"
   },
   {
    "duration": 55,
    "start_time": "2022-10-14T10:19:42.390Z"
   },
   {
    "duration": 1116,
    "start_time": "2022-10-14T10:19:48.887Z"
   },
   {
    "duration": 97,
    "start_time": "2022-10-14T10:19:50.009Z"
   },
   {
    "duration": 24,
    "start_time": "2022-10-14T10:19:50.107Z"
   },
   {
    "duration": 547,
    "start_time": "2022-10-14T10:19:50.133Z"
   },
   {
    "duration": 60,
    "start_time": "2022-10-14T10:19:50.682Z"
   },
   {
    "duration": 19,
    "start_time": "2022-10-14T10:19:50.744Z"
   },
   {
    "duration": 83,
    "start_time": "2022-10-14T10:19:50.764Z"
   },
   {
    "duration": 12,
    "start_time": "2022-10-14T10:19:50.849Z"
   },
   {
    "duration": 49,
    "start_time": "2022-10-14T10:19:50.864Z"
   },
   {
    "duration": 10,
    "start_time": "2022-10-14T10:19:50.915Z"
   },
   {
    "duration": 29,
    "start_time": "2022-10-14T10:19:50.929Z"
   },
   {
    "duration": 22,
    "start_time": "2022-10-14T10:19:50.960Z"
   },
   {
    "duration": 129,
    "start_time": "2022-10-14T10:19:50.984Z"
   },
   {
    "duration": 40,
    "start_time": "2022-10-14T10:19:51.121Z"
   },
   {
    "duration": 7,
    "start_time": "2022-10-14T10:19:51.162Z"
   },
   {
    "duration": 122,
    "start_time": "2022-10-14T10:19:51.171Z"
   },
   {
    "duration": 15,
    "start_time": "2022-10-14T10:20:53.837Z"
   },
   {
    "duration": 12,
    "start_time": "2022-10-14T10:20:58.768Z"
   },
   {
    "duration": 46,
    "start_time": "2022-10-14T10:21:10.393Z"
   },
   {
    "duration": 1100,
    "start_time": "2022-10-14T10:21:16.168Z"
   },
   {
    "duration": 76,
    "start_time": "2022-10-14T10:21:17.270Z"
   },
   {
    "duration": 20,
    "start_time": "2022-10-14T10:21:17.347Z"
   },
   {
    "duration": 616,
    "start_time": "2022-10-14T10:21:17.368Z"
   },
   {
    "duration": 67,
    "start_time": "2022-10-14T10:21:17.987Z"
   },
   {
    "duration": 24,
    "start_time": "2022-10-14T10:21:18.056Z"
   },
   {
    "duration": 88,
    "start_time": "2022-10-14T10:21:18.082Z"
   },
   {
    "duration": 16,
    "start_time": "2022-10-14T10:21:18.172Z"
   },
   {
    "duration": 59,
    "start_time": "2022-10-14T10:21:18.190Z"
   },
   {
    "duration": 14,
    "start_time": "2022-10-14T10:21:18.251Z"
   },
   {
    "duration": 22,
    "start_time": "2022-10-14T10:21:18.266Z"
   },
   {
    "duration": 23,
    "start_time": "2022-10-14T10:21:18.290Z"
   },
   {
    "duration": 131,
    "start_time": "2022-10-14T10:21:18.322Z"
   },
   {
    "duration": 65,
    "start_time": "2022-10-14T10:21:18.456Z"
   },
   {
    "duration": 11,
    "start_time": "2022-10-14T10:21:18.525Z"
   },
   {
    "duration": 116,
    "start_time": "2022-10-14T10:21:18.538Z"
   },
   {
    "duration": 1493,
    "start_time": "2022-10-14T10:22:20.517Z"
   },
   {
    "duration": 1618,
    "start_time": "2022-10-14T10:22:49.737Z"
   },
   {
    "duration": 1525,
    "start_time": "2022-10-14T10:23:39.721Z"
   },
   {
    "duration": 35,
    "start_time": "2022-10-14T10:25:08.527Z"
   },
   {
    "duration": 42,
    "start_time": "2022-10-14T10:25:18.195Z"
   },
   {
    "duration": 1575,
    "start_time": "2022-10-14T10:25:24.500Z"
   },
   {
    "duration": 1289,
    "start_time": "2022-10-14T10:25:29.591Z"
   },
   {
    "duration": 84,
    "start_time": "2022-10-14T10:25:30.881Z"
   },
   {
    "duration": 22,
    "start_time": "2022-10-14T10:25:30.967Z"
   },
   {
    "duration": 603,
    "start_time": "2022-10-14T10:25:30.992Z"
   },
   {
    "duration": 60,
    "start_time": "2022-10-14T10:25:31.597Z"
   },
   {
    "duration": 19,
    "start_time": "2022-10-14T10:25:31.659Z"
   },
   {
    "duration": 94,
    "start_time": "2022-10-14T10:25:31.680Z"
   },
   {
    "duration": 12,
    "start_time": "2022-10-14T10:25:31.776Z"
   },
   {
    "duration": 109,
    "start_time": "2022-10-14T10:25:31.790Z"
   },
   {
    "duration": 10,
    "start_time": "2022-10-14T10:25:31.907Z"
   },
   {
    "duration": 36,
    "start_time": "2022-10-14T10:25:31.921Z"
   },
   {
    "duration": 19,
    "start_time": "2022-10-14T10:25:31.959Z"
   },
   {
    "duration": 139,
    "start_time": "2022-10-14T10:25:31.980Z"
   },
   {
    "duration": 41,
    "start_time": "2022-10-14T10:25:32.121Z"
   },
   {
    "duration": 1690,
    "start_time": "2022-10-14T10:25:32.163Z"
   },
   {
    "duration": 1617,
    "start_time": "2022-10-14T10:26:06.968Z"
   },
   {
    "duration": 1552,
    "start_time": "2022-10-14T10:27:09.359Z"
   },
   {
    "duration": 1702,
    "start_time": "2022-10-14T10:27:53.817Z"
   },
   {
    "duration": 1553,
    "start_time": "2022-10-14T10:28:01.996Z"
   },
   {
    "duration": 1569,
    "start_time": "2022-10-14T10:28:21.436Z"
   },
   {
    "duration": 1614,
    "start_time": "2022-10-14T10:28:59.959Z"
   },
   {
    "duration": 1590,
    "start_time": "2022-10-14T10:34:09.160Z"
   },
   {
    "duration": 2136,
    "start_time": "2022-10-14T10:35:05.000Z"
   },
   {
    "duration": 107,
    "start_time": "2022-10-14T10:40:27.148Z"
   },
   {
    "duration": 276,
    "start_time": "2022-10-14T10:40:41.068Z"
   },
   {
    "duration": 10,
    "start_time": "2022-10-14T10:41:03.273Z"
   },
   {
    "duration": 253,
    "start_time": "2022-10-14T10:41:12.255Z"
   },
   {
    "duration": 202,
    "start_time": "2022-10-14T10:41:23.039Z"
   },
   {
    "duration": 21,
    "start_time": "2022-10-14T10:49:34.353Z"
   },
   {
    "duration": 338,
    "start_time": "2022-10-14T10:49:51.791Z"
   },
   {
    "duration": 16,
    "start_time": "2022-10-14T10:56:40.595Z"
   },
   {
    "duration": 1047,
    "start_time": "2022-10-14T10:56:51.831Z"
   },
   {
    "duration": 8,
    "start_time": "2022-10-14T10:57:19.984Z"
   },
   {
    "duration": 1185,
    "start_time": "2022-10-14T10:57:37.595Z"
   },
   {
    "duration": 98,
    "start_time": "2022-10-14T10:59:47.187Z"
   },
   {
    "duration": 611,
    "start_time": "2022-10-14T11:00:04.176Z"
   },
   {
    "duration": 528,
    "start_time": "2022-10-14T11:00:50.685Z"
   },
   {
    "duration": 558,
    "start_time": "2022-10-14T11:01:18.795Z"
   },
   {
    "duration": 641,
    "start_time": "2022-10-14T11:02:02.678Z"
   },
   {
    "duration": 531,
    "start_time": "2022-10-14T12:02:51.813Z"
   },
   {
    "duration": 584,
    "start_time": "2022-10-14T12:03:36.988Z"
   },
   {
    "duration": 547,
    "start_time": "2022-10-14T12:03:49.694Z"
   },
   {
    "duration": 1326,
    "start_time": "2022-10-15T12:46:34.352Z"
   },
   {
    "duration": 474,
    "start_time": "2022-10-15T12:46:35.680Z"
   },
   {
    "duration": 27,
    "start_time": "2022-10-15T12:46:36.156Z"
   },
   {
    "duration": 610,
    "start_time": "2022-10-15T12:46:36.184Z"
   },
   {
    "duration": 70,
    "start_time": "2022-10-15T12:46:36.797Z"
   },
   {
    "duration": 35,
    "start_time": "2022-10-15T12:46:36.869Z"
   },
   {
    "duration": 96,
    "start_time": "2022-10-15T12:46:36.905Z"
   },
   {
    "duration": 23,
    "start_time": "2022-10-15T12:46:37.004Z"
   },
   {
    "duration": 62,
    "start_time": "2022-10-15T12:46:37.029Z"
   },
   {
    "duration": 52,
    "start_time": "2022-10-15T12:46:37.095Z"
   },
   {
    "duration": 56,
    "start_time": "2022-10-15T12:46:37.149Z"
   },
   {
    "duration": 37,
    "start_time": "2022-10-15T12:46:37.207Z"
   },
   {
    "duration": 206,
    "start_time": "2022-10-15T12:46:37.247Z"
   },
   {
    "duration": 68,
    "start_time": "2022-10-15T12:46:37.457Z"
   },
   {
    "duration": 2100,
    "start_time": "2022-10-15T12:46:37.530Z"
   },
   {
    "duration": 584,
    "start_time": "2022-10-15T12:46:39.632Z"
   },
   {
    "duration": 556,
    "start_time": "2022-10-15T12:46:40.218Z"
   },
   {
    "duration": 27,
    "start_time": "2022-10-15T12:46:40.776Z"
   },
   {
    "duration": 383,
    "start_time": "2022-10-15T12:47:01.683Z"
   },
   {
    "duration": 29,
    "start_time": "2022-10-15T13:08:56.677Z"
   },
   {
    "duration": 38,
    "start_time": "2022-10-15T13:09:03.139Z"
   },
   {
    "duration": 36,
    "start_time": "2022-10-15T13:09:55.026Z"
   },
   {
    "duration": 40,
    "start_time": "2022-10-15T13:17:37.471Z"
   },
   {
    "duration": 105,
    "start_time": "2022-10-15T13:18:14.713Z"
   },
   {
    "duration": 45,
    "start_time": "2022-10-15T13:18:38.251Z"
   },
   {
    "duration": 32,
    "start_time": "2022-10-15T13:20:20.654Z"
   },
   {
    "duration": 34,
    "start_time": "2022-10-15T13:20:23.475Z"
   },
   {
    "duration": 55,
    "start_time": "2022-10-15T13:20:27.112Z"
   },
   {
    "duration": 13,
    "start_time": "2022-10-15T13:21:10.315Z"
   },
   {
    "duration": 33,
    "start_time": "2022-10-15T13:22:15.861Z"
   },
   {
    "duration": 40,
    "start_time": "2022-10-15T13:24:17.837Z"
   },
   {
    "duration": 8,
    "start_time": "2022-10-15T13:26:02.740Z"
   },
   {
    "duration": 14,
    "start_time": "2022-10-15T13:26:09.348Z"
   },
   {
    "duration": 15,
    "start_time": "2022-10-15T13:26:18.456Z"
   },
   {
    "duration": 25,
    "start_time": "2022-10-15T13:26:27.651Z"
   },
   {
    "duration": 10,
    "start_time": "2022-10-15T13:26:42.368Z"
   },
   {
    "duration": 9,
    "start_time": "2022-10-15T13:26:44.557Z"
   },
   {
    "duration": 9,
    "start_time": "2022-10-15T13:26:52.334Z"
   },
   {
    "duration": 2,
    "start_time": "2022-10-15T13:26:55.435Z"
   },
   {
    "duration": 1071,
    "start_time": "2022-10-15T13:27:01.026Z"
   },
   {
    "duration": 107,
    "start_time": "2022-10-15T13:27:02.099Z"
   },
   {
    "duration": 19,
    "start_time": "2022-10-15T13:27:02.208Z"
   },
   {
    "duration": 507,
    "start_time": "2022-10-15T13:27:02.228Z"
   },
   {
    "duration": 35,
    "start_time": "2022-10-15T13:27:02.737Z"
   },
   {
    "duration": 21,
    "start_time": "2022-10-15T13:27:02.784Z"
   },
   {
    "duration": 55,
    "start_time": "2022-10-15T13:27:02.807Z"
   },
   {
    "duration": 30,
    "start_time": "2022-10-15T13:27:02.864Z"
   },
   {
    "duration": 30,
    "start_time": "2022-10-15T13:27:02.896Z"
   },
   {
    "duration": 4,
    "start_time": "2022-10-15T13:27:02.928Z"
   },
   {
    "duration": 23,
    "start_time": "2022-10-15T13:27:02.934Z"
   },
   {
    "duration": 33,
    "start_time": "2022-10-15T13:27:02.985Z"
   },
   {
    "duration": 136,
    "start_time": "2022-10-15T13:27:03.019Z"
   },
   {
    "duration": 39,
    "start_time": "2022-10-15T13:27:03.158Z"
   },
   {
    "duration": 44,
    "start_time": "2022-10-15T13:27:03.198Z"
   },
   {
    "duration": 1997,
    "start_time": "2022-10-15T13:27:03.244Z"
   },
   {
    "duration": 357,
    "start_time": "2022-10-15T13:27:05.243Z"
   },
   {
    "duration": 562,
    "start_time": "2022-10-15T13:27:05.603Z"
   },
   {
    "duration": 22,
    "start_time": "2022-10-15T13:27:06.166Z"
   },
   {
    "duration": 26,
    "start_time": "2022-10-15T13:27:06.189Z"
   },
   {
    "duration": 39,
    "start_time": "2022-10-15T13:27:06.216Z"
   },
   {
    "duration": 48,
    "start_time": "2022-10-17T11:20:25.047Z"
   },
   {
    "duration": 8,
    "start_time": "2022-10-17T11:20:38.853Z"
   },
   {
    "duration": 1212,
    "start_time": "2022-10-17T11:20:42.343Z"
   },
   {
    "duration": 129,
    "start_time": "2022-10-17T11:20:43.557Z"
   },
   {
    "duration": 17,
    "start_time": "2022-10-17T11:20:43.688Z"
   },
   {
    "duration": 462,
    "start_time": "2022-10-17T11:20:43.707Z"
   },
   {
    "duration": 32,
    "start_time": "2022-10-17T11:20:44.171Z"
   },
   {
    "duration": 30,
    "start_time": "2022-10-17T11:20:44.205Z"
   },
   {
    "duration": 56,
    "start_time": "2022-10-17T11:20:44.237Z"
   },
   {
    "duration": 29,
    "start_time": "2022-10-17T11:20:44.294Z"
   },
   {
    "duration": 30,
    "start_time": "2022-10-17T11:20:44.325Z"
   },
   {
    "duration": 5,
    "start_time": "2022-10-17T11:20:44.357Z"
   },
   {
    "duration": 18,
    "start_time": "2022-10-17T11:20:44.363Z"
   },
   {
    "duration": 44,
    "start_time": "2022-10-17T11:20:44.382Z"
   },
   {
    "duration": 121,
    "start_time": "2022-10-17T11:20:44.428Z"
   },
   {
    "duration": 36,
    "start_time": "2022-10-17T11:20:44.550Z"
   },
   {
    "duration": 57,
    "start_time": "2022-10-17T11:20:44.587Z"
   },
   {
    "duration": 1962,
    "start_time": "2022-10-17T11:20:44.645Z"
   },
   {
    "duration": 328,
    "start_time": "2022-10-17T11:20:46.609Z"
   },
   {
    "duration": 535,
    "start_time": "2022-10-17T11:20:46.938Z"
   },
   {
    "duration": 17,
    "start_time": "2022-10-17T11:20:47.476Z"
   },
   {
    "duration": 38,
    "start_time": "2022-10-17T11:20:47.494Z"
   },
   {
    "duration": 39,
    "start_time": "2022-10-17T11:20:47.534Z"
   },
   {
    "duration": 19,
    "start_time": "2022-10-17T11:20:47.576Z"
   },
   {
    "duration": 54,
    "start_time": "2022-10-17T11:20:47.597Z"
   },
   {
    "duration": 125,
    "start_time": "2022-10-17T11:22:30.393Z"
   },
   {
    "duration": 32,
    "start_time": "2022-10-17T11:22:37.066Z"
   },
   {
    "duration": 30,
    "start_time": "2022-10-17T11:22:53.408Z"
   },
   {
    "duration": 30,
    "start_time": "2022-10-17T11:23:29.489Z"
   },
   {
    "duration": 29,
    "start_time": "2022-10-17T11:23:48.661Z"
   },
   {
    "duration": 23,
    "start_time": "2022-10-17T11:24:27.418Z"
   },
   {
    "duration": 24,
    "start_time": "2022-10-17T11:24:30.042Z"
   },
   {
    "duration": 26,
    "start_time": "2022-10-17T11:24:34.650Z"
   },
   {
    "duration": 8,
    "start_time": "2022-10-17T11:25:13.810Z"
   },
   {
    "duration": 22,
    "start_time": "2022-10-17T11:25:18.295Z"
   },
   {
    "duration": 21,
    "start_time": "2022-10-17T11:25:39.841Z"
   },
   {
    "duration": 20,
    "start_time": "2022-10-17T11:30:56.367Z"
   },
   {
    "duration": 26,
    "start_time": "2022-10-17T11:31:29.999Z"
   },
   {
    "duration": 28,
    "start_time": "2022-10-17T11:31:32.937Z"
   },
   {
    "duration": 17,
    "start_time": "2022-10-17T11:34:31.313Z"
   },
   {
    "duration": 24,
    "start_time": "2022-10-17T11:35:05.793Z"
   },
   {
    "duration": 22,
    "start_time": "2022-10-17T11:35:10.652Z"
   },
   {
    "duration": 17,
    "start_time": "2022-10-17T11:35:14.361Z"
   },
   {
    "duration": 28,
    "start_time": "2022-10-17T11:37:45.408Z"
   },
   {
    "duration": 10,
    "start_time": "2022-10-17T11:37:50.640Z"
   },
   {
    "duration": 26,
    "start_time": "2022-10-17T11:37:56.618Z"
   },
   {
    "duration": 1105,
    "start_time": "2022-10-17T11:41:03.122Z"
   },
   {
    "duration": 73,
    "start_time": "2022-10-17T11:41:04.229Z"
   },
   {
    "duration": 17,
    "start_time": "2022-10-17T11:41:04.304Z"
   },
   {
    "duration": 504,
    "start_time": "2022-10-17T11:41:04.323Z"
   },
   {
    "duration": 33,
    "start_time": "2022-10-17T11:41:04.828Z"
   },
   {
    "duration": 19,
    "start_time": "2022-10-17T11:41:04.862Z"
   },
   {
    "duration": 75,
    "start_time": "2022-10-17T11:41:04.882Z"
   },
   {
    "duration": 11,
    "start_time": "2022-10-17T11:41:04.959Z"
   },
   {
    "duration": 5,
    "start_time": "2022-10-17T11:41:04.971Z"
   },
   {
    "duration": 17,
    "start_time": "2022-10-17T11:41:04.978Z"
   },
   {
    "duration": 45,
    "start_time": "2022-10-17T11:41:04.997Z"
   },
   {
    "duration": 125,
    "start_time": "2022-10-17T11:41:05.043Z"
   },
   {
    "duration": 37,
    "start_time": "2022-10-17T11:41:05.169Z"
   },
   {
    "duration": 43,
    "start_time": "2022-10-17T11:41:05.221Z"
   },
   {
    "duration": 1978,
    "start_time": "2022-10-17T11:41:05.265Z"
   },
   {
    "duration": 344,
    "start_time": "2022-10-17T11:41:07.244Z"
   },
   {
    "duration": 505,
    "start_time": "2022-10-17T11:41:07.589Z"
   },
   {
    "duration": 14,
    "start_time": "2022-10-17T11:41:08.095Z"
   },
   {
    "duration": 101,
    "start_time": "2022-10-17T11:41:08.111Z"
   },
   {
    "duration": 0,
    "start_time": "2022-10-17T11:41:08.213Z"
   },
   {
    "duration": 0,
    "start_time": "2022-10-17T11:41:08.221Z"
   },
   {
    "duration": 0,
    "start_time": "2022-10-17T11:41:08.223Z"
   },
   {
    "duration": 0,
    "start_time": "2022-10-17T11:41:08.224Z"
   },
   {
    "duration": 1039,
    "start_time": "2022-10-17T11:41:51.061Z"
   },
   {
    "duration": 74,
    "start_time": "2022-10-17T11:41:52.102Z"
   },
   {
    "duration": 18,
    "start_time": "2022-10-17T11:41:52.177Z"
   },
   {
    "duration": 484,
    "start_time": "2022-10-17T11:41:52.197Z"
   },
   {
    "duration": 40,
    "start_time": "2022-10-17T11:41:52.682Z"
   },
   {
    "duration": 20,
    "start_time": "2022-10-17T11:41:52.723Z"
   },
   {
    "duration": 54,
    "start_time": "2022-10-17T11:41:52.744Z"
   },
   {
    "duration": 29,
    "start_time": "2022-10-17T11:41:52.799Z"
   },
   {
    "duration": 3,
    "start_time": "2022-10-17T11:41:52.830Z"
   },
   {
    "duration": 21,
    "start_time": "2022-10-17T11:41:52.835Z"
   },
   {
    "duration": 21,
    "start_time": "2022-10-17T11:41:52.858Z"
   },
   {
    "duration": 134,
    "start_time": "2022-10-17T11:41:52.881Z"
   },
   {
    "duration": 40,
    "start_time": "2022-10-17T11:41:53.016Z"
   },
   {
    "duration": 44,
    "start_time": "2022-10-17T11:41:53.058Z"
   },
   {
    "duration": 1909,
    "start_time": "2022-10-17T11:41:53.104Z"
   },
   {
    "duration": 331,
    "start_time": "2022-10-17T11:41:55.015Z"
   },
   {
    "duration": 516,
    "start_time": "2022-10-17T11:41:55.347Z"
   },
   {
    "duration": 13,
    "start_time": "2022-10-17T11:41:55.865Z"
   },
   {
    "duration": 25,
    "start_time": "2022-10-17T11:41:55.880Z"
   },
   {
    "duration": 38,
    "start_time": "2022-10-17T11:41:55.907Z"
   },
   {
    "duration": 19,
    "start_time": "2022-10-17T11:41:55.946Z"
   },
   {
    "duration": 30,
    "start_time": "2022-10-17T11:41:55.967Z"
   },
   {
    "duration": 26,
    "start_time": "2022-10-17T12:04:47.315Z"
   },
   {
    "duration": 33,
    "start_time": "2022-10-17T12:06:19.485Z"
   },
   {
    "duration": 29,
    "start_time": "2022-10-17T12:08:46.719Z"
   },
   {
    "duration": 25,
    "start_time": "2022-10-17T12:09:10.324Z"
   },
   {
    "duration": 126,
    "start_time": "2022-10-17T12:09:12.659Z"
   },
   {
    "duration": 97,
    "start_time": "2022-10-17T12:09:17.162Z"
   },
   {
    "duration": 23,
    "start_time": "2022-10-17T12:09:35.744Z"
   },
   {
    "duration": 26,
    "start_time": "2022-10-17T12:09:40.012Z"
   },
   {
    "duration": 25,
    "start_time": "2022-10-17T12:09:43.544Z"
   },
   {
    "duration": 5,
    "start_time": "2022-10-17T12:10:27.538Z"
   },
   {
    "duration": 5,
    "start_time": "2022-10-17T12:10:31.791Z"
   },
   {
    "duration": 1035,
    "start_time": "2022-10-17T12:10:46.971Z"
   },
   {
    "duration": 74,
    "start_time": "2022-10-17T12:10:48.008Z"
   },
   {
    "duration": 17,
    "start_time": "2022-10-17T12:10:48.084Z"
   },
   {
    "duration": 494,
    "start_time": "2022-10-17T12:10:48.102Z"
   },
   {
    "duration": 40,
    "start_time": "2022-10-17T12:10:48.597Z"
   },
   {
    "duration": 18,
    "start_time": "2022-10-17T12:10:48.639Z"
   },
   {
    "duration": 65,
    "start_time": "2022-10-17T12:10:48.658Z"
   },
   {
    "duration": 10,
    "start_time": "2022-10-17T12:10:48.724Z"
   },
   {
    "duration": 29,
    "start_time": "2022-10-17T12:10:48.736Z"
   },
   {
    "duration": 3,
    "start_time": "2022-10-17T12:10:48.768Z"
   },
   {
    "duration": 54,
    "start_time": "2022-10-17T12:10:48.773Z"
   },
   {
    "duration": 4,
    "start_time": "2022-10-17T12:10:48.829Z"
   },
   {
    "duration": 156,
    "start_time": "2022-10-17T12:10:48.835Z"
   },
   {
    "duration": 55,
    "start_time": "2022-10-17T12:10:48.993Z"
   },
   {
    "duration": 58,
    "start_time": "2022-10-17T12:10:49.049Z"
   },
   {
    "duration": 1928,
    "start_time": "2022-10-17T12:10:49.108Z"
   },
   {
    "duration": 338,
    "start_time": "2022-10-17T12:10:51.038Z"
   },
   {
    "duration": 516,
    "start_time": "2022-10-17T12:10:51.378Z"
   },
   {
    "duration": 35,
    "start_time": "2022-10-17T12:10:51.896Z"
   },
   {
    "duration": 28,
    "start_time": "2022-10-17T12:10:51.932Z"
   },
   {
    "duration": 20,
    "start_time": "2022-10-17T12:10:51.961Z"
   },
   {
    "duration": 48,
    "start_time": "2022-10-17T12:10:51.983Z"
   },
   {
    "duration": 5,
    "start_time": "2022-10-17T12:11:03.893Z"
   },
   {
    "duration": 30,
    "start_time": "2022-10-17T12:11:13.925Z"
   },
   {
    "duration": 5,
    "start_time": "2022-10-17T12:11:25.322Z"
   },
   {
    "duration": 27,
    "start_time": "2022-10-17T12:50:31.630Z"
   },
   {
    "duration": 28,
    "start_time": "2022-10-17T12:55:02.269Z"
   },
   {
    "duration": 93,
    "start_time": "2022-10-17T12:55:08.590Z"
   },
   {
    "duration": 1757,
    "start_time": "2022-10-17T12:55:21.252Z"
   },
   {
    "duration": 78,
    "start_time": "2022-10-17T12:55:23.011Z"
   },
   {
    "duration": 19,
    "start_time": "2022-10-17T12:55:23.094Z"
   },
   {
    "duration": 493,
    "start_time": "2022-10-17T12:55:23.116Z"
   },
   {
    "duration": 43,
    "start_time": "2022-10-17T12:55:23.611Z"
   },
   {
    "duration": 21,
    "start_time": "2022-10-17T12:55:23.655Z"
   },
   {
    "duration": 66,
    "start_time": "2022-10-17T12:55:23.677Z"
   },
   {
    "duration": 12,
    "start_time": "2022-10-17T12:55:23.745Z"
   },
   {
    "duration": 30,
    "start_time": "2022-10-17T12:55:23.758Z"
   },
   {
    "duration": 3,
    "start_time": "2022-10-17T12:55:23.790Z"
   },
   {
    "duration": 29,
    "start_time": "2022-10-17T12:55:23.821Z"
   },
   {
    "duration": 129,
    "start_time": "2022-10-17T12:55:23.852Z"
   },
   {
    "duration": 4,
    "start_time": "2022-10-17T12:55:23.983Z"
   },
   {
    "duration": 49,
    "start_time": "2022-10-17T12:55:23.989Z"
   },
   {
    "duration": 43,
    "start_time": "2022-10-17T12:55:24.040Z"
   },
   {
    "duration": 1951,
    "start_time": "2022-10-17T12:55:24.084Z"
   },
   {
    "duration": 329,
    "start_time": "2022-10-17T12:55:26.037Z"
   },
   {
    "duration": 509,
    "start_time": "2022-10-17T12:55:26.368Z"
   },
   {
    "duration": 25,
    "start_time": "2022-10-17T12:55:26.879Z"
   },
   {
    "duration": 39,
    "start_time": "2022-10-17T12:55:26.906Z"
   },
   {
    "duration": 34,
    "start_time": "2022-10-17T12:55:26.947Z"
   },
   {
    "duration": 1121,
    "start_time": "2022-10-17T12:56:08.885Z"
   },
   {
    "duration": 77,
    "start_time": "2022-10-17T12:56:10.008Z"
   },
   {
    "duration": 17,
    "start_time": "2022-10-17T12:56:10.086Z"
   },
   {
    "duration": 471,
    "start_time": "2022-10-17T12:56:10.104Z"
   },
   {
    "duration": 34,
    "start_time": "2022-10-17T12:56:10.577Z"
   },
   {
    "duration": 19,
    "start_time": "2022-10-17T12:56:10.622Z"
   },
   {
    "duration": 56,
    "start_time": "2022-10-17T12:56:10.643Z"
   },
   {
    "duration": 29,
    "start_time": "2022-10-17T12:56:10.701Z"
   },
   {
    "duration": 31,
    "start_time": "2022-10-17T12:56:10.731Z"
   },
   {
    "duration": 4,
    "start_time": "2022-10-17T12:56:10.763Z"
   },
   {
    "duration": 33,
    "start_time": "2022-10-17T12:56:10.768Z"
   },
   {
    "duration": 138,
    "start_time": "2022-10-17T12:56:10.802Z"
   },
   {
    "duration": 4,
    "start_time": "2022-10-17T12:56:10.941Z"
   },
   {
    "duration": 39,
    "start_time": "2022-10-17T12:56:10.948Z"
   },
   {
    "duration": 60,
    "start_time": "2022-10-17T12:56:10.989Z"
   },
   {
    "duration": 1894,
    "start_time": "2022-10-17T12:56:11.051Z"
   },
   {
    "duration": 345,
    "start_time": "2022-10-17T12:56:12.947Z"
   },
   {
    "duration": 529,
    "start_time": "2022-10-17T12:56:13.293Z"
   },
   {
    "duration": 24,
    "start_time": "2022-10-17T12:56:13.823Z"
   },
   {
    "duration": 19,
    "start_time": "2022-10-17T12:56:13.849Z"
   },
   {
    "duration": 54,
    "start_time": "2022-10-17T12:56:13.869Z"
   },
   {
    "duration": 8,
    "start_time": "2022-10-17T12:57:14.152Z"
   },
   {
    "duration": 29,
    "start_time": "2022-10-17T12:57:19.764Z"
   },
   {
    "duration": 8,
    "start_time": "2022-10-17T13:24:45.820Z"
   },
   {
    "duration": 24,
    "start_time": "2022-10-17T13:26:28.213Z"
   },
   {
    "duration": 36,
    "start_time": "2022-10-17T13:26:48.275Z"
   },
   {
    "duration": 38,
    "start_time": "2022-10-17T13:27:00.217Z"
   },
   {
    "duration": 25,
    "start_time": "2022-10-17T13:27:52.111Z"
   },
   {
    "duration": 27,
    "start_time": "2022-10-17T13:28:06.989Z"
   },
   {
    "duration": 29,
    "start_time": "2022-10-17T13:28:22.841Z"
   },
   {
    "duration": 34,
    "start_time": "2022-10-17T13:29:09.656Z"
   },
   {
    "duration": 27,
    "start_time": "2022-10-17T13:30:15.841Z"
   },
   {
    "duration": 102,
    "start_time": "2022-10-17T13:31:05.348Z"
   },
   {
    "duration": 6,
    "start_time": "2022-10-17T13:31:11.043Z"
   },
   {
    "duration": 17,
    "start_time": "2022-10-17T13:31:15.657Z"
   },
   {
    "duration": 15,
    "start_time": "2022-10-17T13:31:31.635Z"
   },
   {
    "duration": 18,
    "start_time": "2022-10-17T13:32:43.384Z"
   },
   {
    "duration": 16,
    "start_time": "2022-10-17T13:33:57.018Z"
   },
   {
    "duration": 12,
    "start_time": "2022-10-17T13:37:58.640Z"
   },
   {
    "duration": 16,
    "start_time": "2022-10-17T13:38:26.996Z"
   },
   {
    "duration": 6,
    "start_time": "2022-10-17T13:41:44.460Z"
   },
   {
    "duration": 5,
    "start_time": "2022-10-17T13:41:50.695Z"
   },
   {
    "duration": 10,
    "start_time": "2022-10-17T13:45:31.597Z"
   },
   {
    "duration": 3,
    "start_time": "2022-10-17T13:45:41.825Z"
   },
   {
    "duration": 6,
    "start_time": "2022-10-17T13:45:45.333Z"
   },
   {
    "duration": 8,
    "start_time": "2022-10-17T13:45:56.588Z"
   },
   {
    "duration": 5,
    "start_time": "2022-10-17T13:46:50.610Z"
   },
   {
    "duration": 9,
    "start_time": "2022-10-17T13:47:54.974Z"
   },
   {
    "duration": 9,
    "start_time": "2022-10-17T13:49:56.134Z"
   },
   {
    "duration": 7,
    "start_time": "2022-10-17T13:50:17.970Z"
   },
   {
    "duration": 6,
    "start_time": "2022-10-17T13:50:32.618Z"
   },
   {
    "duration": 7,
    "start_time": "2022-10-17T13:51:19.998Z"
   },
   {
    "duration": 7,
    "start_time": "2022-10-17T13:51:58.857Z"
   },
   {
    "duration": 8,
    "start_time": "2022-10-17T13:52:13.425Z"
   },
   {
    "duration": 7,
    "start_time": "2022-10-17T13:52:26.010Z"
   },
   {
    "duration": 9,
    "start_time": "2022-10-17T13:52:31.849Z"
   },
   {
    "duration": 9,
    "start_time": "2022-10-17T13:56:59.929Z"
   },
   {
    "duration": 8,
    "start_time": "2022-10-17T13:57:03.047Z"
   },
   {
    "duration": 9,
    "start_time": "2022-10-17T13:57:05.688Z"
   },
   {
    "duration": 8,
    "start_time": "2022-10-17T13:57:08.103Z"
   },
   {
    "duration": 9,
    "start_time": "2022-10-17T13:57:24.796Z"
   },
   {
    "duration": 752,
    "start_time": "2022-10-17T13:58:40.033Z"
   },
   {
    "duration": 14,
    "start_time": "2022-10-17T13:58:49.350Z"
   },
   {
    "duration": 20,
    "start_time": "2022-10-17T13:59:49.089Z"
   },
   {
    "duration": 21,
    "start_time": "2022-10-17T13:59:52.056Z"
   },
   {
    "duration": 771,
    "start_time": "2022-10-17T14:22:35.554Z"
   },
   {
    "duration": 22,
    "start_time": "2022-10-17T14:22:39.099Z"
   },
   {
    "duration": 20,
    "start_time": "2022-10-17T14:23:19.344Z"
   },
   {
    "duration": 28,
    "start_time": "2022-10-17T14:23:29.599Z"
   },
   {
    "duration": 28,
    "start_time": "2022-10-17T14:24:25.512Z"
   },
   {
    "duration": 23,
    "start_time": "2022-10-17T14:27:13.020Z"
   },
   {
    "duration": 35,
    "start_time": "2022-10-17T14:27:31.489Z"
   },
   {
    "duration": 32,
    "start_time": "2022-10-17T14:27:45.406Z"
   },
   {
    "duration": 30,
    "start_time": "2022-10-17T14:27:52.293Z"
   },
   {
    "duration": 24,
    "start_time": "2022-10-17T14:28:28.974Z"
   },
   {
    "duration": 18,
    "start_time": "2022-10-17T14:28:36.111Z"
   },
   {
    "duration": 18,
    "start_time": "2022-10-17T14:28:40.805Z"
   },
   {
    "duration": 28,
    "start_time": "2022-10-17T14:28:43.462Z"
   },
   {
    "duration": 25,
    "start_time": "2022-10-17T14:28:58.001Z"
   },
   {
    "duration": 28,
    "start_time": "2022-10-17T14:29:20.754Z"
   },
   {
    "duration": 32,
    "start_time": "2022-10-17T14:29:29.048Z"
   },
   {
    "duration": 27,
    "start_time": "2022-10-17T14:29:32.763Z"
   },
   {
    "duration": 16,
    "start_time": "2022-10-17T14:30:52.022Z"
   },
   {
    "duration": 15,
    "start_time": "2022-10-17T14:31:03.350Z"
   },
   {
    "duration": 1086,
    "start_time": "2022-10-17T14:31:13.332Z"
   },
   {
    "duration": 72,
    "start_time": "2022-10-17T14:31:14.419Z"
   },
   {
    "duration": 18,
    "start_time": "2022-10-17T14:31:14.493Z"
   },
   {
    "duration": 494,
    "start_time": "2022-10-17T14:31:14.513Z"
   },
   {
    "duration": 41,
    "start_time": "2022-10-17T14:31:15.009Z"
   },
   {
    "duration": 24,
    "start_time": "2022-10-17T14:31:15.052Z"
   },
   {
    "duration": 78,
    "start_time": "2022-10-17T14:31:15.078Z"
   },
   {
    "duration": 12,
    "start_time": "2022-10-17T14:31:15.157Z"
   },
   {
    "duration": 44,
    "start_time": "2022-10-17T14:31:15.170Z"
   },
   {
    "duration": 4,
    "start_time": "2022-10-17T14:31:15.221Z"
   },
   {
    "duration": 49,
    "start_time": "2022-10-17T14:31:15.227Z"
   },
   {
    "duration": 129,
    "start_time": "2022-10-17T14:31:15.277Z"
   },
   {
    "duration": 5,
    "start_time": "2022-10-17T14:31:15.407Z"
   },
   {
    "duration": 46,
    "start_time": "2022-10-17T14:31:15.413Z"
   },
   {
    "duration": 46,
    "start_time": "2022-10-17T14:31:15.461Z"
   },
   {
    "duration": 1942,
    "start_time": "2022-10-17T14:31:15.522Z"
   },
   {
    "duration": 365,
    "start_time": "2022-10-17T14:31:17.466Z"
   },
   {
    "duration": 516,
    "start_time": "2022-10-17T14:31:17.832Z"
   },
   {
    "duration": 24,
    "start_time": "2022-10-17T14:31:18.350Z"
   },
   {
    "duration": 22,
    "start_time": "2022-10-17T14:31:18.377Z"
   },
   {
    "duration": 7,
    "start_time": "2022-10-17T14:31:18.422Z"
   },
   {
    "duration": 25,
    "start_time": "2022-10-17T14:31:18.431Z"
   },
   {
    "duration": 27,
    "start_time": "2022-10-17T14:31:18.458Z"
   },
   {
    "duration": 49,
    "start_time": "2022-10-17T14:31:18.486Z"
   },
   {
    "duration": 29,
    "start_time": "2022-10-17T14:31:18.536Z"
   },
   {
    "duration": 20,
    "start_time": "2022-10-17T14:31:18.567Z"
   },
   {
    "duration": 9,
    "start_time": "2022-10-17T14:31:18.589Z"
   },
   {
    "duration": 45,
    "start_time": "2022-10-17T14:31:44.473Z"
   },
   {
    "duration": 8,
    "start_time": "2022-10-17T14:31:50.946Z"
   },
   {
    "duration": 22,
    "start_time": "2022-10-17T14:31:54.556Z"
   },
   {
    "duration": 39,
    "start_time": "2022-10-17T14:32:15.675Z"
   },
   {
    "duration": 36,
    "start_time": "2022-10-17T14:32:19.953Z"
   },
   {
    "duration": 75,
    "start_time": "2022-10-17T14:32:30.022Z"
   },
   {
    "duration": 1131,
    "start_time": "2022-10-17T14:32:34.479Z"
   },
   {
    "duration": 76,
    "start_time": "2022-10-17T14:32:35.611Z"
   },
   {
    "duration": 18,
    "start_time": "2022-10-17T14:32:35.688Z"
   },
   {
    "duration": 486,
    "start_time": "2022-10-17T14:32:35.708Z"
   },
   {
    "duration": 43,
    "start_time": "2022-10-17T14:32:36.196Z"
   },
   {
    "duration": 19,
    "start_time": "2022-10-17T14:32:36.241Z"
   },
   {
    "duration": 69,
    "start_time": "2022-10-17T14:32:36.261Z"
   },
   {
    "duration": 13,
    "start_time": "2022-10-17T14:32:36.331Z"
   },
   {
    "duration": 31,
    "start_time": "2022-10-17T14:32:36.346Z"
   },
   {
    "duration": 5,
    "start_time": "2022-10-17T14:32:36.380Z"
   },
   {
    "duration": 58,
    "start_time": "2022-10-17T14:32:36.386Z"
   },
   {
    "duration": 132,
    "start_time": "2022-10-17T14:32:36.446Z"
   },
   {
    "duration": 5,
    "start_time": "2022-10-17T14:32:36.579Z"
   },
   {
    "duration": 55,
    "start_time": "2022-10-17T14:32:36.588Z"
   },
   {
    "duration": 51,
    "start_time": "2022-10-17T14:32:36.645Z"
   },
   {
    "duration": 2058,
    "start_time": "2022-10-17T14:32:36.698Z"
   },
   {
    "duration": 431,
    "start_time": "2022-10-17T14:32:38.758Z"
   },
   {
    "duration": 522,
    "start_time": "2022-10-17T14:32:39.192Z"
   },
   {
    "duration": 29,
    "start_time": "2022-10-17T14:32:39.716Z"
   },
   {
    "duration": 24,
    "start_time": "2022-10-17T14:32:39.746Z"
   },
   {
    "duration": 7,
    "start_time": "2022-10-17T14:32:39.772Z"
   },
   {
    "duration": 56,
    "start_time": "2022-10-17T14:32:39.781Z"
   },
   {
    "duration": 34,
    "start_time": "2022-10-17T14:32:39.838Z"
   },
   {
    "duration": 56,
    "start_time": "2022-10-17T14:32:39.874Z"
   },
   {
    "duration": 26,
    "start_time": "2022-10-17T14:32:39.932Z"
   },
   {
    "duration": 19,
    "start_time": "2022-10-17T14:32:39.959Z"
   },
   {
    "duration": 19,
    "start_time": "2022-10-17T14:32:39.979Z"
   },
   {
    "duration": 10,
    "start_time": "2022-10-17T14:32:40.022Z"
   },
   {
    "duration": 23,
    "start_time": "2022-10-17T14:33:07.480Z"
   },
   {
    "duration": 1105,
    "start_time": "2022-10-17T14:33:13.009Z"
   },
   {
    "duration": 71,
    "start_time": "2022-10-17T14:33:14.116Z"
   },
   {
    "duration": 20,
    "start_time": "2022-10-17T14:33:14.188Z"
   },
   {
    "duration": 518,
    "start_time": "2022-10-17T14:33:14.210Z"
   },
   {
    "duration": 36,
    "start_time": "2022-10-17T14:33:14.730Z"
   },
   {
    "duration": 20,
    "start_time": "2022-10-17T14:33:14.767Z"
   },
   {
    "duration": 78,
    "start_time": "2022-10-17T14:33:14.789Z"
   },
   {
    "duration": 11,
    "start_time": "2022-10-17T14:33:14.869Z"
   },
   {
    "duration": 44,
    "start_time": "2022-10-17T14:33:14.882Z"
   },
   {
    "duration": 5,
    "start_time": "2022-10-17T14:33:14.928Z"
   },
   {
    "duration": 32,
    "start_time": "2022-10-17T14:33:14.935Z"
   },
   {
    "duration": 144,
    "start_time": "2022-10-17T14:33:14.969Z"
   },
   {
    "duration": 11,
    "start_time": "2022-10-17T14:33:15.114Z"
   },
   {
    "duration": 46,
    "start_time": "2022-10-17T14:33:15.127Z"
   },
   {
    "duration": 55,
    "start_time": "2022-10-17T14:33:15.174Z"
   },
   {
    "duration": 1996,
    "start_time": "2022-10-17T14:33:15.231Z"
   },
   {
    "duration": 352,
    "start_time": "2022-10-17T14:33:17.229Z"
   },
   {
    "duration": 521,
    "start_time": "2022-10-17T14:33:17.583Z"
   },
   {
    "duration": 31,
    "start_time": "2022-10-17T14:33:18.106Z"
   },
   {
    "duration": 23,
    "start_time": "2022-10-17T14:33:18.138Z"
   },
   {
    "duration": 7,
    "start_time": "2022-10-17T14:33:18.163Z"
   },
   {
    "duration": 50,
    "start_time": "2022-10-17T14:33:18.172Z"
   },
   {
    "duration": 37,
    "start_time": "2022-10-17T14:33:18.224Z"
   },
   {
    "duration": 41,
    "start_time": "2022-10-17T14:33:18.263Z"
   },
   {
    "duration": 36,
    "start_time": "2022-10-17T14:33:18.323Z"
   },
   {
    "duration": 24,
    "start_time": "2022-10-17T14:33:18.361Z"
   },
   {
    "duration": 36,
    "start_time": "2022-10-17T14:33:18.387Z"
   },
   {
    "duration": 10,
    "start_time": "2022-10-17T14:33:18.425Z"
   },
   {
    "duration": 101,
    "start_time": "2022-10-17T14:33:53.332Z"
   },
   {
    "duration": 27,
    "start_time": "2022-10-17T14:33:57.227Z"
   },
   {
    "duration": 1060,
    "start_time": "2022-10-17T14:34:02.765Z"
   },
   {
    "duration": 71,
    "start_time": "2022-10-17T14:34:03.828Z"
   },
   {
    "duration": 19,
    "start_time": "2022-10-17T14:34:03.900Z"
   },
   {
    "duration": 496,
    "start_time": "2022-10-17T14:34:03.922Z"
   },
   {
    "duration": 36,
    "start_time": "2022-10-17T14:34:04.421Z"
   },
   {
    "duration": 21,
    "start_time": "2022-10-17T14:34:04.459Z"
   },
   {
    "duration": 83,
    "start_time": "2022-10-17T14:34:04.482Z"
   },
   {
    "duration": 12,
    "start_time": "2022-10-17T14:34:04.566Z"
   },
   {
    "duration": 50,
    "start_time": "2022-10-17T14:34:04.579Z"
   },
   {
    "duration": 5,
    "start_time": "2022-10-17T14:34:04.631Z"
   },
   {
    "duration": 44,
    "start_time": "2022-10-17T14:34:04.638Z"
   },
   {
    "duration": 150,
    "start_time": "2022-10-17T14:34:04.685Z"
   },
   {
    "duration": 5,
    "start_time": "2022-10-17T14:34:04.836Z"
   },
   {
    "duration": 50,
    "start_time": "2022-10-17T14:34:04.842Z"
   },
   {
    "duration": 56,
    "start_time": "2022-10-17T14:34:04.894Z"
   },
   {
    "duration": 1981,
    "start_time": "2022-10-17T14:34:04.952Z"
   },
   {
    "duration": 349,
    "start_time": "2022-10-17T14:34:06.935Z"
   },
   {
    "duration": 529,
    "start_time": "2022-10-17T14:34:07.286Z"
   },
   {
    "duration": 27,
    "start_time": "2022-10-17T14:34:07.817Z"
   },
   {
    "duration": 24,
    "start_time": "2022-10-17T14:34:07.846Z"
   },
   {
    "duration": 7,
    "start_time": "2022-10-17T14:34:07.872Z"
   },
   {
    "duration": 50,
    "start_time": "2022-10-17T14:34:07.881Z"
   },
   {
    "duration": 26,
    "start_time": "2022-10-17T14:34:07.933Z"
   },
   {
    "duration": 29,
    "start_time": "2022-10-17T14:34:07.961Z"
   },
   {
    "duration": 49,
    "start_time": "2022-10-17T14:34:07.992Z"
   },
   {
    "duration": 21,
    "start_time": "2022-10-17T14:34:08.043Z"
   },
   {
    "duration": 16,
    "start_time": "2022-10-17T14:34:08.066Z"
   },
   {
    "duration": 9,
    "start_time": "2022-10-17T14:34:08.085Z"
   },
   {
    "duration": 1293,
    "start_time": "2022-10-17T18:43:53.192Z"
   },
   {
    "duration": 431,
    "start_time": "2022-10-17T18:43:54.487Z"
   },
   {
    "duration": 18,
    "start_time": "2022-10-17T18:43:54.919Z"
   },
   {
    "duration": 464,
    "start_time": "2022-10-17T18:43:54.939Z"
   },
   {
    "duration": 32,
    "start_time": "2022-10-17T18:43:55.406Z"
   },
   {
    "duration": 19,
    "start_time": "2022-10-17T18:43:55.439Z"
   },
   {
    "duration": 77,
    "start_time": "2022-10-17T18:43:55.459Z"
   },
   {
    "duration": 11,
    "start_time": "2022-10-17T18:43:55.538Z"
   },
   {
    "duration": 30,
    "start_time": "2022-10-17T18:43:55.550Z"
   },
   {
    "duration": 23,
    "start_time": "2022-10-17T18:43:55.582Z"
   },
   {
    "duration": 27,
    "start_time": "2022-10-17T18:43:55.606Z"
   },
   {
    "duration": 129,
    "start_time": "2022-10-17T18:43:55.635Z"
   },
   {
    "duration": 5,
    "start_time": "2022-10-17T18:43:55.765Z"
   },
   {
    "duration": 47,
    "start_time": "2022-10-17T18:43:55.771Z"
   },
   {
    "duration": 42,
    "start_time": "2022-10-17T18:43:55.820Z"
   },
   {
    "duration": 1965,
    "start_time": "2022-10-17T18:43:55.863Z"
   },
   {
    "duration": 343,
    "start_time": "2022-10-17T18:43:57.830Z"
   },
   {
    "duration": 486,
    "start_time": "2022-10-17T18:43:58.174Z"
   },
   {
    "duration": 24,
    "start_time": "2022-10-17T18:43:58.661Z"
   },
   {
    "duration": 32,
    "start_time": "2022-10-17T18:43:58.686Z"
   },
   {
    "duration": 6,
    "start_time": "2022-10-17T18:43:58.720Z"
   },
   {
    "duration": 24,
    "start_time": "2022-10-17T18:43:58.728Z"
   },
   {
    "duration": 52,
    "start_time": "2022-10-17T18:43:58.753Z"
   },
   {
    "duration": 29,
    "start_time": "2022-10-17T18:43:58.807Z"
   },
   {
    "duration": 24,
    "start_time": "2022-10-17T18:43:58.837Z"
   },
   {
    "duration": 18,
    "start_time": "2022-10-17T18:43:58.863Z"
   },
   {
    "duration": 38,
    "start_time": "2022-10-17T18:43:58.882Z"
   },
   {
    "duration": 9,
    "start_time": "2022-10-17T18:43:58.922Z"
   },
   {
    "duration": 1163,
    "start_time": "2022-10-17T18:58:20.389Z"
   },
   {
    "duration": 8,
    "start_time": "2022-10-17T18:59:06.610Z"
   },
   {
    "duration": 4,
    "start_time": "2022-10-17T18:59:14.427Z"
   },
   {
    "duration": 5,
    "start_time": "2022-10-17T18:59:18.077Z"
   },
   {
    "duration": 4,
    "start_time": "2022-10-17T19:01:18.278Z"
   },
   {
    "duration": 10,
    "start_time": "2022-10-17T19:04:03.232Z"
   },
   {
    "duration": 6,
    "start_time": "2022-10-17T19:16:36.531Z"
   },
   {
    "duration": 17,
    "start_time": "2022-10-17T19:17:14.999Z"
   },
   {
    "duration": 4,
    "start_time": "2022-10-17T19:17:55.676Z"
   },
   {
    "duration": 1275,
    "start_time": "2022-10-17T19:21:32.536Z"
   },
   {
    "duration": 1345,
    "start_time": "2022-10-17T19:21:50.570Z"
   },
   {
    "duration": 1361,
    "start_time": "2022-10-17T19:22:05.539Z"
   },
   {
    "duration": 6,
    "start_time": "2022-10-17T19:25:03.700Z"
   },
   {
    "duration": 16,
    "start_time": "2022-10-17T19:25:05.694Z"
   },
   {
    "duration": 5,
    "start_time": "2022-10-17T19:25:50.370Z"
   },
   {
    "duration": 15,
    "start_time": "2022-10-17T19:25:52.592Z"
   },
   {
    "duration": 12,
    "start_time": "2022-10-17T19:26:35.352Z"
   },
   {
    "duration": 1422,
    "start_time": "2022-10-18T11:28:52.548Z"
   },
   {
    "duration": 403,
    "start_time": "2022-10-18T11:28:53.972Z"
   },
   {
    "duration": 20,
    "start_time": "2022-10-18T11:28:54.377Z"
   },
   {
    "duration": 589,
    "start_time": "2022-10-18T11:28:54.399Z"
   },
   {
    "duration": 48,
    "start_time": "2022-10-18T11:28:54.990Z"
   },
   {
    "duration": 24,
    "start_time": "2022-10-18T11:28:55.040Z"
   },
   {
    "duration": 73,
    "start_time": "2022-10-18T11:28:55.090Z"
   },
   {
    "duration": 39,
    "start_time": "2022-10-18T11:28:55.165Z"
   },
   {
    "duration": 35,
    "start_time": "2022-10-18T11:28:55.206Z"
   },
   {
    "duration": 4,
    "start_time": "2022-10-18T11:28:55.244Z"
   },
   {
    "duration": 61,
    "start_time": "2022-10-18T11:28:55.250Z"
   },
   {
    "duration": 160,
    "start_time": "2022-10-18T11:28:55.313Z"
   },
   {
    "duration": 16,
    "start_time": "2022-10-18T11:28:55.474Z"
   },
   {
    "duration": 51,
    "start_time": "2022-10-18T11:28:55.492Z"
   },
   {
    "duration": 57,
    "start_time": "2022-10-18T11:28:55.545Z"
   },
   {
    "duration": 2124,
    "start_time": "2022-10-18T11:28:55.603Z"
   },
   {
    "duration": 440,
    "start_time": "2022-10-18T11:28:57.728Z"
   },
   {
    "duration": 654,
    "start_time": "2022-10-18T11:28:58.170Z"
   },
   {
    "duration": 32,
    "start_time": "2022-10-18T11:28:58.826Z"
   },
   {
    "duration": 49,
    "start_time": "2022-10-18T11:28:58.860Z"
   },
   {
    "duration": 8,
    "start_time": "2022-10-18T11:28:58.911Z"
   },
   {
    "duration": 38,
    "start_time": "2022-10-18T11:28:58.921Z"
   },
   {
    "duration": 59,
    "start_time": "2022-10-18T11:28:58.961Z"
   },
   {
    "duration": 40,
    "start_time": "2022-10-18T11:28:59.021Z"
   },
   {
    "duration": 55,
    "start_time": "2022-10-18T11:28:59.064Z"
   },
   {
    "duration": 21,
    "start_time": "2022-10-18T11:28:59.121Z"
   },
   {
    "duration": 18,
    "start_time": "2022-10-18T11:28:59.144Z"
   },
   {
    "duration": 17,
    "start_time": "2022-10-18T11:28:59.189Z"
   },
   {
    "duration": 6,
    "start_time": "2022-10-18T11:28:59.208Z"
   },
   {
    "duration": 159,
    "start_time": "2022-10-18T11:28:59.216Z"
   },
   {
    "duration": 0,
    "start_time": "2022-10-18T11:28:59.377Z"
   },
   {
    "duration": 22,
    "start_time": "2022-10-18T11:29:53.243Z"
   },
   {
    "duration": 19,
    "start_time": "2022-10-18T11:30:05.244Z"
   },
   {
    "duration": 4,
    "start_time": "2022-10-18T11:30:07.102Z"
   },
   {
    "duration": 31,
    "start_time": "2022-10-18T11:30:09.189Z"
   },
   {
    "duration": 6,
    "start_time": "2022-10-18T11:30:49.405Z"
   },
   {
    "duration": 1399,
    "start_time": "2022-10-18T11:31:34.430Z"
   },
   {
    "duration": 1405,
    "start_time": "2022-10-18T11:32:16.224Z"
   },
   {
    "duration": 1469,
    "start_time": "2022-10-18T11:32:35.967Z"
   },
   {
    "duration": 5,
    "start_time": "2022-10-18T11:33:27.259Z"
   },
   {
    "duration": 4,
    "start_time": "2022-10-18T11:33:49.674Z"
   },
   {
    "duration": 20,
    "start_time": "2022-10-18T11:33:51.928Z"
   },
   {
    "duration": 4,
    "start_time": "2022-10-18T11:41:35.459Z"
   },
   {
    "duration": 107,
    "start_time": "2022-10-18T11:41:43.530Z"
   },
   {
    "duration": 10,
    "start_time": "2022-10-18T11:41:47.936Z"
   },
   {
    "duration": 10,
    "start_time": "2022-10-18T11:41:59.889Z"
   },
   {
    "duration": 10,
    "start_time": "2022-10-18T11:42:56.604Z"
   },
   {
    "duration": 9,
    "start_time": "2022-10-18T11:43:12.898Z"
   },
   {
    "duration": 4,
    "start_time": "2022-10-18T11:44:03.504Z"
   },
   {
    "duration": 4,
    "start_time": "2022-10-18T11:44:07.588Z"
   },
   {
    "duration": 14,
    "start_time": "2022-10-18T11:44:14.196Z"
   },
   {
    "duration": 9,
    "start_time": "2022-10-18T11:44:16.532Z"
   },
   {
    "duration": 13,
    "start_time": "2022-10-18T11:44:37.309Z"
   },
   {
    "duration": 4,
    "start_time": "2022-10-18T11:46:38.627Z"
   },
   {
    "duration": 17,
    "start_time": "2022-10-18T11:46:40.902Z"
   },
   {
    "duration": 1228,
    "start_time": "2022-10-18T11:47:35.682Z"
   },
   {
    "duration": 1250,
    "start_time": "2022-10-18T11:48:15.323Z"
   },
   {
    "duration": 17,
    "start_time": "2022-10-18T11:48:22.056Z"
   },
   {
    "duration": 1233,
    "start_time": "2022-10-18T11:48:29.781Z"
   },
   {
    "duration": 14,
    "start_time": "2022-10-18T11:48:49.061Z"
   },
   {
    "duration": 12,
    "start_time": "2022-10-18T11:48:56.511Z"
   },
   {
    "duration": 13,
    "start_time": "2022-10-18T11:48:59.624Z"
   },
   {
    "duration": 16,
    "start_time": "2022-10-18T11:49:01.920Z"
   },
   {
    "duration": 12,
    "start_time": "2022-10-18T11:49:05.446Z"
   },
   {
    "duration": 1235,
    "start_time": "2022-10-18T11:49:08.647Z"
   },
   {
    "duration": 11,
    "start_time": "2022-10-18T11:49:16.055Z"
   },
   {
    "duration": 13,
    "start_time": "2022-10-18T11:49:31.494Z"
   },
   {
    "duration": 7,
    "start_time": "2022-10-18T11:50:01.805Z"
   },
   {
    "duration": 6,
    "start_time": "2022-10-18T11:50:07.710Z"
   },
   {
    "duration": 5,
    "start_time": "2022-10-18T11:50:23.563Z"
   },
   {
    "duration": 17,
    "start_time": "2022-10-18T11:50:25.614Z"
   },
   {
    "duration": 7,
    "start_time": "2022-10-18T11:52:06.420Z"
   },
   {
    "duration": 12,
    "start_time": "2022-10-18T11:52:28.348Z"
   },
   {
    "duration": 18,
    "start_time": "2022-10-18T11:54:05.108Z"
   },
   {
    "duration": 23,
    "start_time": "2022-10-18T11:54:23.911Z"
   },
   {
    "duration": 18,
    "start_time": "2022-10-18T11:54:46.402Z"
   },
   {
    "duration": 15,
    "start_time": "2022-10-18T11:55:04.338Z"
   },
   {
    "duration": 8,
    "start_time": "2022-10-18T11:55:22.875Z"
   },
   {
    "duration": 9,
    "start_time": "2022-10-18T11:55:26.368Z"
   },
   {
    "duration": 15,
    "start_time": "2022-10-18T11:55:31.977Z"
   },
   {
    "duration": 14,
    "start_time": "2022-10-18T11:55:39.320Z"
   },
   {
    "duration": 14,
    "start_time": "2022-10-18T11:55:57.367Z"
   },
   {
    "duration": 11,
    "start_time": "2022-10-18T11:56:03.598Z"
   },
   {
    "duration": 17,
    "start_time": "2022-10-18T11:56:31.942Z"
   },
   {
    "duration": 11,
    "start_time": "2022-10-18T11:57:08.420Z"
   },
   {
    "duration": 13,
    "start_time": "2022-10-18T11:57:13.349Z"
   },
   {
    "duration": 1466,
    "start_time": "2022-10-18T11:57:52.622Z"
   },
   {
    "duration": 2131,
    "start_time": "2022-10-18T11:57:59.662Z"
   },
   {
    "duration": 9,
    "start_time": "2022-10-18T11:58:24.877Z"
   },
   {
    "duration": 1751,
    "start_time": "2022-10-18T11:58:34.076Z"
   },
   {
    "duration": 1308,
    "start_time": "2022-10-18T11:58:38.954Z"
   },
   {
    "duration": 1128,
    "start_time": "2022-10-18T12:01:25.210Z"
   },
   {
    "duration": 1182,
    "start_time": "2022-10-18T12:01:27.360Z"
   },
   {
    "duration": 11,
    "start_time": "2022-10-18T12:01:59.157Z"
   },
   {
    "duration": 12,
    "start_time": "2022-10-18T12:06:42.437Z"
   },
   {
    "duration": 7,
    "start_time": "2022-10-18T12:07:01.130Z"
   },
   {
    "duration": 5,
    "start_time": "2022-10-18T12:07:05.969Z"
   },
   {
    "duration": 4,
    "start_time": "2022-10-18T12:07:16.309Z"
   },
   {
    "duration": 17,
    "start_time": "2022-10-18T12:07:20.896Z"
   },
   {
    "duration": 4,
    "start_time": "2022-10-18T12:09:56.203Z"
   },
   {
    "duration": 25,
    "start_time": "2022-10-18T12:09:57.814Z"
   },
   {
    "duration": 16,
    "start_time": "2022-10-18T12:10:34.774Z"
   },
   {
    "duration": 72,
    "start_time": "2022-10-18T12:10:43.522Z"
   },
   {
    "duration": 4,
    "start_time": "2022-10-18T12:10:46.217Z"
   },
   {
    "duration": 5,
    "start_time": "2022-10-18T12:14:09.574Z"
   },
   {
    "duration": 37,
    "start_time": "2022-10-18T12:14:11.818Z"
   },
   {
    "duration": 7,
    "start_time": "2022-10-18T12:14:55.283Z"
   },
   {
    "duration": 32,
    "start_time": "2022-10-18T12:14:57.130Z"
   },
   {
    "duration": 36,
    "start_time": "2022-10-18T12:15:04.575Z"
   },
   {
    "duration": 36,
    "start_time": "2022-10-18T13:01:07.689Z"
   },
   {
    "duration": 30,
    "start_time": "2022-10-18T13:05:12.438Z"
   },
   {
    "duration": 39,
    "start_time": "2022-10-18T13:05:15.692Z"
   },
   {
    "duration": 40,
    "start_time": "2022-10-18T13:05:28.399Z"
   },
   {
    "duration": 6,
    "start_time": "2022-10-18T13:08:16.813Z"
   },
   {
    "duration": 38,
    "start_time": "2022-10-18T13:08:19.976Z"
   },
   {
    "duration": 6,
    "start_time": "2022-10-18T13:08:42.189Z"
   },
   {
    "duration": 41,
    "start_time": "2022-10-18T13:08:45.186Z"
   },
   {
    "duration": 41,
    "start_time": "2022-10-18T13:09:01.178Z"
   },
   {
    "duration": 39,
    "start_time": "2022-10-18T13:09:20.331Z"
   },
   {
    "duration": 31,
    "start_time": "2022-10-18T13:11:33.418Z"
   },
   {
    "duration": 36,
    "start_time": "2022-10-18T16:26:44.601Z"
   },
   {
    "duration": 1213,
    "start_time": "2022-10-18T20:13:22.809Z"
   },
   {
    "duration": 101,
    "start_time": "2022-10-18T20:13:24.024Z"
   },
   {
    "duration": 19,
    "start_time": "2022-10-18T20:13:24.126Z"
   },
   {
    "duration": 558,
    "start_time": "2022-10-18T20:13:24.148Z"
   },
   {
    "duration": 38,
    "start_time": "2022-10-18T20:13:24.708Z"
   },
   {
    "duration": 26,
    "start_time": "2022-10-18T20:13:24.747Z"
   },
   {
    "duration": 65,
    "start_time": "2022-10-18T20:13:24.788Z"
   },
   {
    "duration": 14,
    "start_time": "2022-10-18T20:13:24.854Z"
   },
   {
    "duration": 53,
    "start_time": "2022-10-18T20:13:24.870Z"
   },
   {
    "duration": 4,
    "start_time": "2022-10-18T20:13:24.927Z"
   },
   {
    "duration": 57,
    "start_time": "2022-10-18T20:13:24.933Z"
   },
   {
    "duration": 150,
    "start_time": "2022-10-18T20:13:24.992Z"
   },
   {
    "duration": 5,
    "start_time": "2022-10-18T20:13:25.144Z"
   },
   {
    "duration": 59,
    "start_time": "2022-10-18T20:13:25.151Z"
   },
   {
    "duration": 52,
    "start_time": "2022-10-18T20:13:25.212Z"
   },
   {
    "duration": 1987,
    "start_time": "2022-10-18T20:13:25.265Z"
   },
   {
    "duration": 392,
    "start_time": "2022-10-18T20:13:27.253Z"
   },
   {
    "duration": 599,
    "start_time": "2022-10-18T20:13:27.646Z"
   },
   {
    "duration": 30,
    "start_time": "2022-10-18T20:13:28.246Z"
   },
   {
    "duration": 29,
    "start_time": "2022-10-18T20:13:28.289Z"
   },
   {
    "duration": 7,
    "start_time": "2022-10-18T20:13:28.320Z"
   },
   {
    "duration": 27,
    "start_time": "2022-10-18T20:13:28.329Z"
   },
   {
    "duration": 62,
    "start_time": "2022-10-18T20:13:28.358Z"
   },
   {
    "duration": 33,
    "start_time": "2022-10-18T20:13:28.422Z"
   },
   {
    "duration": 47,
    "start_time": "2022-10-18T20:13:28.456Z"
   },
   {
    "duration": 21,
    "start_time": "2022-10-18T20:13:28.505Z"
   },
   {
    "duration": 21,
    "start_time": "2022-10-18T20:13:28.528Z"
   },
   {
    "duration": 11,
    "start_time": "2022-10-18T20:13:28.553Z"
   },
   {
    "duration": 7,
    "start_time": "2022-10-18T20:13:28.589Z"
   },
   {
    "duration": 41,
    "start_time": "2022-10-18T20:13:28.598Z"
   },
   {
    "duration": 27,
    "start_time": "2022-10-18T20:14:31.133Z"
   },
   {
    "duration": 25,
    "start_time": "2022-10-18T20:14:37.636Z"
   },
   {
    "duration": 35,
    "start_time": "2022-10-18T20:14:42.324Z"
   },
   {
    "duration": 36,
    "start_time": "2022-10-18T20:14:52.220Z"
   },
   {
    "duration": 2,
    "start_time": "2022-10-18T20:17:16.253Z"
   },
   {
    "duration": 25,
    "start_time": "2022-10-18T20:17:18.986Z"
   },
   {
    "duration": 3,
    "start_time": "2022-10-18T20:17:25.139Z"
   },
   {
    "duration": 9,
    "start_time": "2022-10-18T20:21:35.336Z"
   },
   {
    "duration": 5,
    "start_time": "2022-10-18T20:24:10.569Z"
   },
   {
    "duration": 126,
    "start_time": "2022-10-18T20:31:13.393Z"
   },
   {
    "duration": 73,
    "start_time": "2022-10-18T20:31:16.567Z"
   },
   {
    "duration": 3,
    "start_time": "2022-10-18T20:31:18.929Z"
   },
   {
    "duration": 61,
    "start_time": "2022-10-18T20:31:21.284Z"
   },
   {
    "duration": 81,
    "start_time": "2022-10-18T20:31:27.866Z"
   },
   {
    "duration": 10,
    "start_time": "2022-10-18T20:31:47.797Z"
   },
   {
    "duration": 14,
    "start_time": "2022-10-18T20:31:57.532Z"
   },
   {
    "duration": 101,
    "start_time": "2022-10-18T20:32:01.747Z"
   },
   {
    "duration": 16,
    "start_time": "2022-10-18T20:32:40.449Z"
   },
   {
    "duration": 10,
    "start_time": "2022-10-18T20:32:47.793Z"
   },
   {
    "duration": 14,
    "start_time": "2022-10-18T20:32:52.396Z"
   },
   {
    "duration": 54,
    "start_time": "2022-10-18T20:38:56.360Z"
   },
   {
    "duration": 1016,
    "start_time": "2022-10-18T20:39:04.963Z"
   },
   {
    "duration": 16,
    "start_time": "2022-10-18T20:39:30.701Z"
   },
   {
    "duration": 928,
    "start_time": "2022-10-18T20:39:55.884Z"
   },
   {
    "duration": 1141,
    "start_time": "2022-10-18T20:40:51.183Z"
   },
   {
    "duration": 18,
    "start_time": "2022-10-18T20:41:05.342Z"
   },
   {
    "duration": 12,
    "start_time": "2022-10-18T20:41:08.731Z"
   },
   {
    "duration": 5,
    "start_time": "2022-10-18T20:46:23.303Z"
   },
   {
    "duration": 4,
    "start_time": "2022-10-18T20:49:47.563Z"
   },
   {
    "duration": 17,
    "start_time": "2022-10-18T20:50:13.692Z"
   },
   {
    "duration": 6,
    "start_time": "2022-10-18T20:53:45.175Z"
   },
   {
    "duration": 5,
    "start_time": "2022-10-18T20:56:03.069Z"
   },
   {
    "duration": 22,
    "start_time": "2022-10-18T20:56:14.143Z"
   },
   {
    "duration": 43,
    "start_time": "2022-10-18T20:56:18.234Z"
   },
   {
    "duration": 5,
    "start_time": "2022-10-18T21:02:16.949Z"
   },
   {
    "duration": 15,
    "start_time": "2022-10-18T21:02:20.567Z"
   },
   {
    "duration": 4,
    "start_time": "2022-10-18T21:02:41.174Z"
   },
   {
    "duration": 3,
    "start_time": "2022-10-18T21:06:55.877Z"
   },
   {
    "duration": 4,
    "start_time": "2022-10-18T21:28:35.896Z"
   },
   {
    "duration": 22,
    "start_time": "2022-10-18T21:28:40.214Z"
   },
   {
    "duration": 4,
    "start_time": "2022-10-18T21:32:14.750Z"
   },
   {
    "duration": 6,
    "start_time": "2022-10-18T21:37:22.797Z"
   },
   {
    "duration": 107,
    "start_time": "2022-10-18T21:38:29.662Z"
   },
   {
    "duration": 17,
    "start_time": "2022-10-18T21:38:33.586Z"
   },
   {
    "duration": 87,
    "start_time": "2022-10-18T21:46:57.228Z"
   },
   {
    "duration": 7,
    "start_time": "2022-10-18T21:47:31.336Z"
   },
   {
    "duration": 62,
    "start_time": "2022-10-18T21:47:33.245Z"
   },
   {
    "duration": 1245,
    "start_time": "2022-10-18T21:49:06.578Z"
   },
   {
    "duration": 103,
    "start_time": "2022-10-18T21:49:07.826Z"
   },
   {
    "duration": 19,
    "start_time": "2022-10-18T21:49:07.931Z"
   },
   {
    "duration": 553,
    "start_time": "2022-10-18T21:49:07.952Z"
   },
   {
    "duration": 41,
    "start_time": "2022-10-18T21:49:08.507Z"
   },
   {
    "duration": 39,
    "start_time": "2022-10-18T21:49:08.551Z"
   },
   {
    "duration": 66,
    "start_time": "2022-10-18T21:49:08.591Z"
   },
   {
    "duration": 33,
    "start_time": "2022-10-18T21:49:08.658Z"
   },
   {
    "duration": 36,
    "start_time": "2022-10-18T21:49:08.692Z"
   },
   {
    "duration": 5,
    "start_time": "2022-10-18T21:49:08.730Z"
   },
   {
    "duration": 54,
    "start_time": "2022-10-18T21:49:08.736Z"
   },
   {
    "duration": 146,
    "start_time": "2022-10-18T21:49:08.792Z"
   },
   {
    "duration": 5,
    "start_time": "2022-10-18T21:49:08.940Z"
   },
   {
    "duration": 59,
    "start_time": "2022-10-18T21:49:08.946Z"
   },
   {
    "duration": 52,
    "start_time": "2022-10-18T21:49:09.007Z"
   },
   {
    "duration": 1985,
    "start_time": "2022-10-18T21:49:09.061Z"
   },
   {
    "duration": 374,
    "start_time": "2022-10-18T21:49:11.049Z"
   },
   {
    "duration": 654,
    "start_time": "2022-10-18T21:49:11.425Z"
   },
   {
    "duration": 32,
    "start_time": "2022-10-18T21:49:12.080Z"
   },
   {
    "duration": 26,
    "start_time": "2022-10-18T21:49:12.114Z"
   },
   {
    "duration": 6,
    "start_time": "2022-10-18T21:49:12.142Z"
   },
   {
    "duration": 46,
    "start_time": "2022-10-18T21:49:12.150Z"
   },
   {
    "duration": 32,
    "start_time": "2022-10-18T21:49:12.198Z"
   },
   {
    "duration": 46,
    "start_time": "2022-10-18T21:49:12.232Z"
   },
   {
    "duration": 30,
    "start_time": "2022-10-18T21:49:12.289Z"
   },
   {
    "duration": 22,
    "start_time": "2022-10-18T21:49:12.320Z"
   },
   {
    "duration": 19,
    "start_time": "2022-10-18T21:49:12.344Z"
   },
   {
    "duration": 11,
    "start_time": "2022-10-18T21:49:12.388Z"
   },
   {
    "duration": 14,
    "start_time": "2022-10-18T21:49:12.401Z"
   },
   {
    "duration": 42,
    "start_time": "2022-10-18T21:49:12.416Z"
   },
   {
    "duration": 11,
    "start_time": "2022-10-18T21:49:12.459Z"
   },
   {
    "duration": 20,
    "start_time": "2022-10-18T21:49:12.472Z"
   },
   {
    "duration": 68,
    "start_time": "2022-10-18T21:49:12.494Z"
   },
   {
    "duration": 101,
    "start_time": "2022-10-18T21:49:12.564Z"
   },
   {
    "duration": 65,
    "start_time": "2022-10-18T21:49:17.365Z"
   },
   {
    "duration": 6,
    "start_time": "2022-10-18T21:49:18.932Z"
   },
   {
    "duration": 69,
    "start_time": "2022-10-18T21:49:21.048Z"
   },
   {
    "duration": 62,
    "start_time": "2022-10-18T21:56:48.121Z"
   },
   {
    "duration": 42,
    "start_time": "2022-10-18T21:56:56.572Z"
   },
   {
    "duration": 1111,
    "start_time": "2022-10-18T21:57:03.200Z"
   },
   {
    "duration": 1225,
    "start_time": "2022-10-18T22:03:28.585Z"
   },
   {
    "duration": 1310,
    "start_time": "2022-10-18T22:03:34.603Z"
   },
   {
    "duration": 1167,
    "start_time": "2022-10-18T22:04:00.386Z"
   },
   {
    "duration": 22,
    "start_time": "2022-10-18T22:04:10.153Z"
   },
   {
    "duration": 1247,
    "start_time": "2022-10-18T22:05:04.649Z"
   },
   {
    "duration": 103,
    "start_time": "2022-10-18T22:05:05.898Z"
   },
   {
    "duration": 20,
    "start_time": "2022-10-18T22:05:06.003Z"
   },
   {
    "duration": 539,
    "start_time": "2022-10-18T22:05:06.026Z"
   },
   {
    "duration": 47,
    "start_time": "2022-10-18T22:05:06.567Z"
   },
   {
    "duration": 25,
    "start_time": "2022-10-18T22:05:06.616Z"
   },
   {
    "duration": 84,
    "start_time": "2022-10-18T22:05:06.643Z"
   },
   {
    "duration": 14,
    "start_time": "2022-10-18T22:05:06.729Z"
   },
   {
    "duration": 54,
    "start_time": "2022-10-18T22:05:06.744Z"
   },
   {
    "duration": 5,
    "start_time": "2022-10-18T22:05:06.800Z"
   },
   {
    "duration": 36,
    "start_time": "2022-10-18T22:05:06.807Z"
   },
   {
    "duration": 176,
    "start_time": "2022-10-18T22:05:06.845Z"
   },
   {
    "duration": 6,
    "start_time": "2022-10-18T22:05:07.022Z"
   },
   {
    "duration": 46,
    "start_time": "2022-10-18T22:05:07.031Z"
   },
   {
    "duration": 60,
    "start_time": "2022-10-18T22:05:07.079Z"
   },
   {
    "duration": 2268,
    "start_time": "2022-10-18T22:05:07.141Z"
   },
   {
    "duration": 439,
    "start_time": "2022-10-18T22:05:09.411Z"
   },
   {
    "duration": 647,
    "start_time": "2022-10-18T22:05:09.852Z"
   },
   {
    "duration": 33,
    "start_time": "2022-10-18T22:05:10.501Z"
   },
   {
    "duration": 28,
    "start_time": "2022-10-18T22:05:10.538Z"
   },
   {
    "duration": 9,
    "start_time": "2022-10-18T22:05:10.589Z"
   },
   {
    "duration": 28,
    "start_time": "2022-10-18T22:05:10.601Z"
   },
   {
    "duration": 59,
    "start_time": "2022-10-18T22:05:10.631Z"
   },
   {
    "duration": 35,
    "start_time": "2022-10-18T22:05:10.692Z"
   },
   {
    "duration": 34,
    "start_time": "2022-10-18T22:05:10.729Z"
   },
   {
    "duration": 45,
    "start_time": "2022-10-18T22:05:10.765Z"
   },
   {
    "duration": 29,
    "start_time": "2022-10-18T22:05:10.812Z"
   },
   {
    "duration": 11,
    "start_time": "2022-10-18T22:05:10.843Z"
   },
   {
    "duration": 12,
    "start_time": "2022-10-18T22:05:10.856Z"
   },
   {
    "duration": 49,
    "start_time": "2022-10-18T22:05:10.889Z"
   },
   {
    "duration": 26,
    "start_time": "2022-10-18T22:05:10.940Z"
   },
   {
    "duration": 21,
    "start_time": "2022-10-18T22:05:10.967Z"
   },
   {
    "duration": 81,
    "start_time": "2022-10-18T22:05:10.990Z"
   },
   {
    "duration": 104,
    "start_time": "2022-10-18T22:05:11.073Z"
   },
   {
    "duration": 21,
    "start_time": "2022-10-18T22:08:17.406Z"
   },
   {
    "duration": 93,
    "start_time": "2022-10-18T22:09:06.712Z"
   },
   {
    "duration": 18,
    "start_time": "2022-10-18T22:09:13.431Z"
   },
   {
    "duration": 17,
    "start_time": "2022-10-18T22:09:32.652Z"
   },
   {
    "duration": 29,
    "start_time": "2022-10-18T22:17:28.650Z"
   },
   {
    "duration": 17,
    "start_time": "2022-10-18T22:17:46.626Z"
   },
   {
    "duration": 21,
    "start_time": "2022-10-18T23:05:46.227Z"
   },
   {
    "duration": 14,
    "start_time": "2022-10-18T23:09:21.209Z"
   },
   {
    "duration": 19,
    "start_time": "2022-10-18T23:09:32.503Z"
   },
   {
    "duration": 39,
    "start_time": "2022-10-18T23:10:27.828Z"
   },
   {
    "duration": 1442,
    "start_time": "2022-10-19T10:30:17.936Z"
   },
   {
    "duration": 138,
    "start_time": "2022-10-19T10:30:19.380Z"
   },
   {
    "duration": 22,
    "start_time": "2022-10-19T10:30:19.520Z"
   },
   {
    "duration": 557,
    "start_time": "2022-10-19T10:30:19.544Z"
   },
   {
    "duration": 47,
    "start_time": "2022-10-19T10:30:20.103Z"
   },
   {
    "duration": 24,
    "start_time": "2022-10-19T10:30:20.151Z"
   },
   {
    "duration": 89,
    "start_time": "2022-10-19T10:30:20.177Z"
   },
   {
    "duration": 13,
    "start_time": "2022-10-19T10:30:20.268Z"
   },
   {
    "duration": 65,
    "start_time": "2022-10-19T10:30:20.282Z"
   },
   {
    "duration": 13,
    "start_time": "2022-10-19T10:30:20.349Z"
   },
   {
    "duration": 103,
    "start_time": "2022-10-19T10:30:20.364Z"
   },
   {
    "duration": 166,
    "start_time": "2022-10-19T10:30:20.468Z"
   },
   {
    "duration": 9,
    "start_time": "2022-10-19T10:30:20.636Z"
   },
   {
    "duration": 58,
    "start_time": "2022-10-19T10:30:20.651Z"
   },
   {
    "duration": 59,
    "start_time": "2022-10-19T10:30:20.721Z"
   },
   {
    "duration": 2116,
    "start_time": "2022-10-19T10:30:20.782Z"
   },
   {
    "duration": 407,
    "start_time": "2022-10-19T10:30:22.900Z"
   },
   {
    "duration": 602,
    "start_time": "2022-10-19T10:30:23.309Z"
   },
   {
    "duration": 32,
    "start_time": "2022-10-19T10:30:23.912Z"
   },
   {
    "duration": 29,
    "start_time": "2022-10-19T10:30:23.945Z"
   },
   {
    "duration": 7,
    "start_time": "2022-10-19T10:30:23.976Z"
   },
   {
    "duration": 51,
    "start_time": "2022-10-19T10:30:23.985Z"
   },
   {
    "duration": 33,
    "start_time": "2022-10-19T10:30:24.038Z"
   },
   {
    "duration": 54,
    "start_time": "2022-10-19T10:30:24.073Z"
   },
   {
    "duration": 31,
    "start_time": "2022-10-19T10:30:24.128Z"
   },
   {
    "duration": 22,
    "start_time": "2022-10-19T10:30:24.160Z"
   },
   {
    "duration": 43,
    "start_time": "2022-10-19T10:30:24.184Z"
   },
   {
    "duration": 11,
    "start_time": "2022-10-19T10:30:24.229Z"
   },
   {
    "duration": 7,
    "start_time": "2022-10-19T10:30:24.242Z"
   },
   {
    "duration": 45,
    "start_time": "2022-10-19T10:30:24.250Z"
   },
   {
    "duration": 33,
    "start_time": "2022-10-19T10:30:24.297Z"
   },
   {
    "duration": 30,
    "start_time": "2022-10-19T10:30:24.333Z"
   },
   {
    "duration": 72,
    "start_time": "2022-10-19T10:30:24.365Z"
   },
   {
    "duration": 17,
    "start_time": "2022-10-19T10:30:24.439Z"
   },
   {
    "duration": 57,
    "start_time": "2022-10-19T10:30:24.458Z"
   },
   {
    "duration": 21,
    "start_time": "2022-10-19T10:32:16.776Z"
   },
   {
    "duration": 41,
    "start_time": "2022-10-19T10:33:07.065Z"
   },
   {
    "duration": 20,
    "start_time": "2022-10-19T10:33:50.683Z"
   },
   {
    "duration": 9,
    "start_time": "2022-10-19T10:41:35.295Z"
   },
   {
    "duration": 7,
    "start_time": "2022-10-19T10:41:44.690Z"
   },
   {
    "duration": 7,
    "start_time": "2022-10-19T10:41:50.510Z"
   },
   {
    "duration": 18,
    "start_time": "2022-10-19T10:41:58.413Z"
   },
   {
    "duration": 19,
    "start_time": "2022-10-19T10:42:11.028Z"
   },
   {
    "duration": 12,
    "start_time": "2022-10-19T11:12:34.457Z"
   },
   {
    "duration": 8,
    "start_time": "2022-10-19T11:12:38.658Z"
   },
   {
    "duration": 14,
    "start_time": "2022-10-19T11:12:42.856Z"
   },
   {
    "duration": 22,
    "start_time": "2022-10-19T11:14:50.762Z"
   },
   {
    "duration": 9,
    "start_time": "2022-10-19T11:14:58.119Z"
   },
   {
    "duration": 20,
    "start_time": "2022-10-19T11:15:21.968Z"
   },
   {
    "duration": 18,
    "start_time": "2022-10-19T11:15:32.818Z"
   },
   {
    "duration": 17,
    "start_time": "2022-10-19T11:15:44.447Z"
   },
   {
    "duration": 6,
    "start_time": "2022-10-19T11:16:56.071Z"
   },
   {
    "duration": 9,
    "start_time": "2022-10-19T11:16:58.726Z"
   },
   {
    "duration": 9,
    "start_time": "2022-10-19T11:17:23.937Z"
   },
   {
    "duration": 126,
    "start_time": "2022-10-19T11:21:19.908Z"
   },
   {
    "duration": 9,
    "start_time": "2022-10-19T11:21:35.604Z"
   },
   {
    "duration": 26,
    "start_time": "2022-10-19T11:23:10.337Z"
   },
   {
    "duration": 22,
    "start_time": "2022-10-19T11:24:06.415Z"
   },
   {
    "duration": 22,
    "start_time": "2022-10-19T11:24:18.612Z"
   },
   {
    "duration": 25,
    "start_time": "2022-10-19T11:24:23.850Z"
   },
   {
    "duration": 1298,
    "start_time": "2022-10-19T11:25:26.399Z"
   },
   {
    "duration": 38,
    "start_time": "2022-10-19T11:25:37.432Z"
   },
   {
    "duration": 1249,
    "start_time": "2022-10-19T11:25:46.429Z"
   },
   {
    "duration": 78,
    "start_time": "2022-10-19T11:25:47.680Z"
   },
   {
    "duration": 21,
    "start_time": "2022-10-19T11:25:47.759Z"
   },
   {
    "duration": 615,
    "start_time": "2022-10-19T11:25:47.782Z"
   },
   {
    "duration": 52,
    "start_time": "2022-10-19T11:25:48.400Z"
   },
   {
    "duration": 30,
    "start_time": "2022-10-19T11:25:48.454Z"
   },
   {
    "duration": 100,
    "start_time": "2022-10-19T11:25:48.486Z"
   },
   {
    "duration": 13,
    "start_time": "2022-10-19T11:25:48.588Z"
   },
   {
    "duration": 70,
    "start_time": "2022-10-19T11:25:48.603Z"
   },
   {
    "duration": 5,
    "start_time": "2022-10-19T11:25:48.676Z"
   },
   {
    "duration": 73,
    "start_time": "2022-10-19T11:25:48.682Z"
   },
   {
    "duration": 199,
    "start_time": "2022-10-19T11:25:48.757Z"
   },
   {
    "duration": 7,
    "start_time": "2022-10-19T11:25:48.958Z"
   },
   {
    "duration": 92,
    "start_time": "2022-10-19T11:25:48.967Z"
   },
   {
    "duration": 81,
    "start_time": "2022-10-19T11:25:49.063Z"
   },
   {
    "duration": 2260,
    "start_time": "2022-10-19T11:25:49.147Z"
   },
   {
    "duration": 391,
    "start_time": "2022-10-19T11:25:51.409Z"
   },
   {
    "duration": 628,
    "start_time": "2022-10-19T11:25:51.802Z"
   },
   {
    "duration": 29,
    "start_time": "2022-10-19T11:25:52.433Z"
   },
   {
    "duration": 45,
    "start_time": "2022-10-19T11:25:52.465Z"
   },
   {
    "duration": 10,
    "start_time": "2022-10-19T11:25:52.520Z"
   },
   {
    "duration": 91,
    "start_time": "2022-10-19T11:25:52.532Z"
   },
   {
    "duration": 44,
    "start_time": "2022-10-19T11:25:52.625Z"
   },
   {
    "duration": 61,
    "start_time": "2022-10-19T11:25:52.671Z"
   },
   {
    "duration": 37,
    "start_time": "2022-10-19T11:25:52.734Z"
   },
   {
    "duration": 49,
    "start_time": "2022-10-19T11:25:52.773Z"
   },
   {
    "duration": 28,
    "start_time": "2022-10-19T11:25:52.824Z"
   },
   {
    "duration": 11,
    "start_time": "2022-10-19T11:25:52.856Z"
   },
   {
    "duration": 23,
    "start_time": "2022-10-19T11:25:52.869Z"
   },
   {
    "duration": 59,
    "start_time": "2022-10-19T11:25:52.893Z"
   },
   {
    "duration": 12,
    "start_time": "2022-10-19T11:25:52.955Z"
   },
   {
    "duration": 10,
    "start_time": "2022-10-19T11:25:52.969Z"
   },
   {
    "duration": 76,
    "start_time": "2022-10-19T11:25:52.981Z"
   },
   {
    "duration": 23,
    "start_time": "2022-10-19T11:25:53.059Z"
   },
   {
    "duration": 40,
    "start_time": "2022-10-19T11:25:53.084Z"
   },
   {
    "duration": 53,
    "start_time": "2022-10-19T11:25:53.127Z"
   },
   {
    "duration": 28,
    "start_time": "2022-10-19T11:30:29.853Z"
   },
   {
    "duration": 28,
    "start_time": "2022-10-19T11:31:14.625Z"
   },
   {
    "duration": 23,
    "start_time": "2022-10-19T11:31:25.062Z"
   },
   {
    "duration": 22,
    "start_time": "2022-10-19T11:36:50.543Z"
   },
   {
    "duration": 21,
    "start_time": "2022-10-19T13:23:47.975Z"
   },
   {
    "duration": 12,
    "start_time": "2022-10-19T13:24:07.497Z"
   },
   {
    "duration": 10,
    "start_time": "2022-10-19T13:24:55.208Z"
   },
   {
    "duration": 11,
    "start_time": "2022-10-19T13:25:00.220Z"
   },
   {
    "duration": 5,
    "start_time": "2022-10-19T13:26:02.099Z"
   },
   {
    "duration": 113,
    "start_time": "2022-10-19T13:26:28.399Z"
   },
   {
    "duration": 9,
    "start_time": "2022-10-19T13:27:10.569Z"
   },
   {
    "duration": 14,
    "start_time": "2022-10-19T13:27:23.000Z"
   },
   {
    "duration": 18,
    "start_time": "2022-10-19T13:27:36.098Z"
   },
   {
    "duration": 9,
    "start_time": "2022-10-19T13:27:43.400Z"
   },
   {
    "duration": 25,
    "start_time": "2022-10-19T13:27:45.026Z"
   },
   {
    "duration": 14,
    "start_time": "2022-10-19T13:28:00.689Z"
   },
   {
    "duration": 20,
    "start_time": "2022-10-19T13:28:22.682Z"
   },
   {
    "duration": 30,
    "start_time": "2022-10-19T13:28:30.518Z"
   },
   {
    "duration": 4,
    "start_time": "2022-10-19T13:29:49.181Z"
   },
   {
    "duration": 38,
    "start_time": "2022-10-19T13:29:54.462Z"
   },
   {
    "duration": 20,
    "start_time": "2022-10-19T13:32:52.651Z"
   },
   {
    "duration": 16,
    "start_time": "2022-10-19T13:33:09.331Z"
   },
   {
    "duration": 30,
    "start_time": "2022-10-19T13:33:28.780Z"
   },
   {
    "duration": 31,
    "start_time": "2022-10-19T13:33:38.227Z"
   },
   {
    "duration": 28,
    "start_time": "2022-10-19T13:33:47.920Z"
   },
   {
    "duration": 7,
    "start_time": "2022-10-19T13:35:32.922Z"
   },
   {
    "duration": 6,
    "start_time": "2022-10-19T13:35:47.354Z"
   },
   {
    "duration": 5,
    "start_time": "2022-10-19T13:36:59.282Z"
   },
   {
    "duration": 28,
    "start_time": "2022-10-19T13:38:15.083Z"
   },
   {
    "duration": 15,
    "start_time": "2022-10-19T13:39:35.462Z"
   },
   {
    "duration": 4,
    "start_time": "2022-10-19T13:40:09.308Z"
   },
   {
    "duration": 7,
    "start_time": "2022-10-19T13:40:13.281Z"
   },
   {
    "duration": 12,
    "start_time": "2022-10-19T13:40:20.535Z"
   },
   {
    "duration": 15,
    "start_time": "2022-10-19T13:40:49.347Z"
   },
   {
    "duration": 11,
    "start_time": "2022-10-19T13:41:10.659Z"
   },
   {
    "duration": 12,
    "start_time": "2022-10-19T13:41:22.631Z"
   },
   {
    "duration": 51,
    "start_time": "2022-10-19T13:41:31.724Z"
   },
   {
    "duration": 12,
    "start_time": "2022-10-19T13:41:34.172Z"
   },
   {
    "duration": 14,
    "start_time": "2022-10-19T13:42:41.842Z"
   },
   {
    "duration": 8,
    "start_time": "2022-10-19T13:42:44.663Z"
   },
   {
    "duration": 7,
    "start_time": "2022-10-19T13:42:56.245Z"
   },
   {
    "duration": 21,
    "start_time": "2022-10-19T13:43:05.203Z"
   },
   {
    "duration": 21,
    "start_time": "2022-10-19T13:47:24.081Z"
   },
   {
    "duration": 21,
    "start_time": "2022-10-19T13:47:31.036Z"
   },
   {
    "duration": 10,
    "start_time": "2022-10-19T13:47:34.530Z"
   },
   {
    "duration": 31,
    "start_time": "2022-10-19T13:47:38.329Z"
   },
   {
    "duration": 21,
    "start_time": "2022-10-19T13:47:42.925Z"
   },
   {
    "duration": 11,
    "start_time": "2022-10-19T13:47:48.378Z"
   },
   {
    "duration": 22,
    "start_time": "2022-10-19T13:47:55.548Z"
   },
   {
    "duration": 765,
    "start_time": "2022-10-19T13:49:31.525Z"
   },
   {
    "duration": 21,
    "start_time": "2022-10-19T13:49:36.439Z"
   },
   {
    "duration": 11,
    "start_time": "2022-10-19T14:49:53.328Z"
   },
   {
    "duration": 20,
    "start_time": "2022-10-19T14:49:55.860Z"
   },
   {
    "duration": 8,
    "start_time": "2022-10-19T14:50:12.372Z"
   },
   {
    "duration": 18,
    "start_time": "2022-10-19T14:50:14.381Z"
   },
   {
    "duration": 26,
    "start_time": "2022-10-19T14:50:25.971Z"
   },
   {
    "duration": 8,
    "start_time": "2022-10-19T14:51:00.472Z"
   },
   {
    "duration": 7,
    "start_time": "2022-10-19T14:54:08.715Z"
   },
   {
    "duration": 7,
    "start_time": "2022-10-19T14:54:20.034Z"
   },
   {
    "duration": 4,
    "start_time": "2022-10-19T14:54:34.986Z"
   },
   {
    "duration": 22,
    "start_time": "2022-10-19T14:55:23.055Z"
   },
   {
    "duration": 27,
    "start_time": "2022-10-19T14:59:09.045Z"
   },
   {
    "duration": 7,
    "start_time": "2022-10-19T14:59:19.785Z"
   },
   {
    "duration": 9,
    "start_time": "2022-10-19T14:59:26.247Z"
   },
   {
    "duration": 27,
    "start_time": "2022-10-19T14:59:29.024Z"
   },
   {
    "duration": 21,
    "start_time": "2022-10-19T14:59:39.200Z"
   },
   {
    "duration": 13,
    "start_time": "2022-10-19T15:00:24.218Z"
   },
   {
    "duration": 9,
    "start_time": "2022-10-19T15:00:46.539Z"
   },
   {
    "duration": 13,
    "start_time": "2022-10-19T15:01:04.734Z"
   },
   {
    "duration": 20,
    "start_time": "2022-10-19T15:01:17.762Z"
   },
   {
    "duration": 20,
    "start_time": "2022-10-19T15:01:48.513Z"
   },
   {
    "duration": 18,
    "start_time": "2022-10-19T15:01:51.812Z"
   },
   {
    "duration": 58,
    "start_time": "2022-10-19T15:02:10.090Z"
   },
   {
    "duration": 8,
    "start_time": "2022-10-19T15:02:14.051Z"
   },
   {
    "duration": 8,
    "start_time": "2022-10-19T15:02:19.676Z"
   },
   {
    "duration": 21,
    "start_time": "2022-10-19T15:07:57.244Z"
   },
   {
    "duration": 23,
    "start_time": "2022-10-19T15:08:24.641Z"
   },
   {
    "duration": 9,
    "start_time": "2022-10-19T15:08:40.698Z"
   },
   {
    "duration": 7,
    "start_time": "2022-10-19T15:08:44.822Z"
   },
   {
    "duration": 844,
    "start_time": "2022-10-19T15:11:37.400Z"
   },
   {
    "duration": 777,
    "start_time": "2022-10-19T15:11:59.870Z"
   },
   {
    "duration": 1166,
    "start_time": "2022-10-19T15:12:05.081Z"
   },
   {
    "duration": 76,
    "start_time": "2022-10-19T15:12:06.249Z"
   },
   {
    "duration": 20,
    "start_time": "2022-10-19T15:12:06.326Z"
   },
   {
    "duration": 554,
    "start_time": "2022-10-19T15:12:06.349Z"
   },
   {
    "duration": 47,
    "start_time": "2022-10-19T15:12:06.905Z"
   },
   {
    "duration": 22,
    "start_time": "2022-10-19T15:12:06.954Z"
   },
   {
    "duration": 80,
    "start_time": "2022-10-19T15:12:06.978Z"
   },
   {
    "duration": 13,
    "start_time": "2022-10-19T15:12:07.060Z"
   },
   {
    "duration": 58,
    "start_time": "2022-10-19T15:12:07.075Z"
   },
   {
    "duration": 5,
    "start_time": "2022-10-19T15:12:07.135Z"
   },
   {
    "duration": 37,
    "start_time": "2022-10-19T15:12:07.141Z"
   },
   {
    "duration": 159,
    "start_time": "2022-10-19T15:12:07.179Z"
   },
   {
    "duration": 4,
    "start_time": "2022-10-19T15:12:07.340Z"
   },
   {
    "duration": 54,
    "start_time": "2022-10-19T15:12:07.348Z"
   },
   {
    "duration": 57,
    "start_time": "2022-10-19T15:12:07.404Z"
   },
   {
    "duration": 2107,
    "start_time": "2022-10-19T15:12:07.462Z"
   },
   {
    "duration": 387,
    "start_time": "2022-10-19T15:12:09.570Z"
   },
   {
    "duration": 603,
    "start_time": "2022-10-19T15:12:09.959Z"
   },
   {
    "duration": 27,
    "start_time": "2022-10-19T15:12:10.564Z"
   },
   {
    "duration": 46,
    "start_time": "2022-10-19T15:12:10.593Z"
   },
   {
    "duration": 7,
    "start_time": "2022-10-19T15:12:10.640Z"
   },
   {
    "duration": 49,
    "start_time": "2022-10-19T15:12:10.649Z"
   },
   {
    "duration": 35,
    "start_time": "2022-10-19T15:12:10.699Z"
   },
   {
    "duration": 36,
    "start_time": "2022-10-19T15:12:10.736Z"
   },
   {
    "duration": 48,
    "start_time": "2022-10-19T15:12:10.774Z"
   },
   {
    "duration": 25,
    "start_time": "2022-10-19T15:12:10.824Z"
   },
   {
    "duration": 20,
    "start_time": "2022-10-19T15:12:10.851Z"
   },
   {
    "duration": 10,
    "start_time": "2022-10-19T15:12:10.872Z"
   },
   {
    "duration": 9,
    "start_time": "2022-10-19T15:12:10.884Z"
   },
   {
    "duration": 62,
    "start_time": "2022-10-19T15:12:10.894Z"
   },
   {
    "duration": 22,
    "start_time": "2022-10-19T15:12:10.957Z"
   },
   {
    "duration": 22,
    "start_time": "2022-10-19T15:12:10.981Z"
   },
   {
    "duration": 85,
    "start_time": "2022-10-19T15:12:11.005Z"
   },
   {
    "duration": 26,
    "start_time": "2022-10-19T15:12:11.092Z"
   },
   {
    "duration": 21,
    "start_time": "2022-10-19T15:12:11.119Z"
   },
   {
    "duration": 22,
    "start_time": "2022-10-19T15:12:11.142Z"
   },
   {
    "duration": 16,
    "start_time": "2022-10-19T15:12:11.166Z"
   },
   {
    "duration": 1087,
    "start_time": "2022-10-19T15:12:32.801Z"
   },
   {
    "duration": 1214,
    "start_time": "2022-10-19T15:12:37.135Z"
   },
   {
    "duration": 75,
    "start_time": "2022-10-19T15:12:38.351Z"
   },
   {
    "duration": 23,
    "start_time": "2022-10-19T15:12:38.428Z"
   },
   {
    "duration": 664,
    "start_time": "2022-10-19T15:12:38.453Z"
   },
   {
    "duration": 53,
    "start_time": "2022-10-19T15:12:39.120Z"
   },
   {
    "duration": 30,
    "start_time": "2022-10-19T15:12:39.175Z"
   },
   {
    "duration": 102,
    "start_time": "2022-10-19T15:12:39.234Z"
   },
   {
    "duration": 14,
    "start_time": "2022-10-19T15:12:39.338Z"
   },
   {
    "duration": 36,
    "start_time": "2022-10-19T15:12:39.354Z"
   },
   {
    "duration": 6,
    "start_time": "2022-10-19T15:12:39.392Z"
   },
   {
    "duration": 55,
    "start_time": "2022-10-19T15:12:39.399Z"
   },
   {
    "duration": 141,
    "start_time": "2022-10-19T15:12:39.456Z"
   },
   {
    "duration": 6,
    "start_time": "2022-10-19T15:12:39.599Z"
   },
   {
    "duration": 49,
    "start_time": "2022-10-19T15:12:39.620Z"
   },
   {
    "duration": 63,
    "start_time": "2022-10-19T15:12:39.671Z"
   },
   {
    "duration": 1981,
    "start_time": "2022-10-19T15:12:39.736Z"
   },
   {
    "duration": 394,
    "start_time": "2022-10-19T15:12:41.720Z"
   },
   {
    "duration": 635,
    "start_time": "2022-10-19T15:12:42.116Z"
   },
   {
    "duration": 27,
    "start_time": "2022-10-19T15:12:42.753Z"
   },
   {
    "duration": 42,
    "start_time": "2022-10-19T15:12:42.782Z"
   },
   {
    "duration": 10,
    "start_time": "2022-10-19T15:12:42.826Z"
   },
   {
    "duration": 30,
    "start_time": "2022-10-19T15:12:42.838Z"
   },
   {
    "duration": 30,
    "start_time": "2022-10-19T15:12:42.870Z"
   },
   {
    "duration": 56,
    "start_time": "2022-10-19T15:12:42.902Z"
   },
   {
    "duration": 31,
    "start_time": "2022-10-19T15:12:42.960Z"
   },
   {
    "duration": 46,
    "start_time": "2022-10-19T15:12:42.993Z"
   },
   {
    "duration": 20,
    "start_time": "2022-10-19T15:12:43.041Z"
   },
   {
    "duration": 15,
    "start_time": "2022-10-19T15:12:43.063Z"
   },
   {
    "duration": 19,
    "start_time": "2022-10-19T15:12:43.079Z"
   },
   {
    "duration": 59,
    "start_time": "2022-10-19T15:12:43.099Z"
   },
   {
    "duration": 11,
    "start_time": "2022-10-19T15:12:43.160Z"
   },
   {
    "duration": 10,
    "start_time": "2022-10-19T15:12:43.173Z"
   },
   {
    "duration": 106,
    "start_time": "2022-10-19T15:12:43.185Z"
   },
   {
    "duration": 24,
    "start_time": "2022-10-19T15:12:43.293Z"
   },
   {
    "duration": 35,
    "start_time": "2022-10-19T15:12:43.319Z"
   },
   {
    "duration": 5,
    "start_time": "2022-10-19T15:12:43.355Z"
   },
   {
    "duration": 20,
    "start_time": "2022-10-19T15:12:43.362Z"
   },
   {
    "duration": 30,
    "start_time": "2022-10-19T15:13:45.407Z"
   },
   {
    "duration": 31,
    "start_time": "2022-10-19T15:17:27.383Z"
   },
   {
    "duration": 41,
    "start_time": "2022-10-19T15:17:34.658Z"
   },
   {
    "duration": 25,
    "start_time": "2022-10-19T15:17:47.543Z"
   },
   {
    "duration": 20,
    "start_time": "2022-10-19T15:19:44.868Z"
   },
   {
    "duration": 111,
    "start_time": "2022-10-19T15:20:11.450Z"
   },
   {
    "duration": 22,
    "start_time": "2022-10-19T15:20:26.243Z"
   },
   {
    "duration": 51,
    "start_time": "2022-10-20T12:37:44.143Z"
   },
   {
    "duration": 1098,
    "start_time": "2022-10-20T12:37:49.044Z"
   },
   {
    "duration": 681,
    "start_time": "2022-10-20T12:37:50.145Z"
   },
   {
    "duration": 19,
    "start_time": "2022-10-20T12:37:50.828Z"
   },
   {
    "duration": 524,
    "start_time": "2022-10-20T12:37:50.849Z"
   },
   {
    "duration": 48,
    "start_time": "2022-10-20T12:37:51.376Z"
   },
   {
    "duration": 25,
    "start_time": "2022-10-20T12:37:51.425Z"
   },
   {
    "duration": 73,
    "start_time": "2022-10-20T12:37:51.452Z"
   },
   {
    "duration": 12,
    "start_time": "2022-10-20T12:37:51.527Z"
   },
   {
    "duration": 32,
    "start_time": "2022-10-20T12:37:51.540Z"
   },
   {
    "duration": 4,
    "start_time": "2022-10-20T12:37:51.574Z"
   },
   {
    "duration": 62,
    "start_time": "2022-10-20T12:37:51.579Z"
   },
   {
    "duration": 133,
    "start_time": "2022-10-20T12:37:51.642Z"
   },
   {
    "duration": 5,
    "start_time": "2022-10-20T12:37:51.777Z"
   },
   {
    "duration": 64,
    "start_time": "2022-10-20T12:37:51.784Z"
   },
   {
    "duration": 63,
    "start_time": "2022-10-20T12:37:51.850Z"
   },
   {
    "duration": 1930,
    "start_time": "2022-10-20T12:37:51.914Z"
   },
   {
    "duration": 355,
    "start_time": "2022-10-20T12:37:53.846Z"
   },
   {
    "duration": 526,
    "start_time": "2022-10-20T12:37:54.203Z"
   },
   {
    "duration": 27,
    "start_time": "2022-10-20T12:37:54.731Z"
   },
   {
    "duration": 24,
    "start_time": "2022-10-20T12:37:54.760Z"
   },
   {
    "duration": 7,
    "start_time": "2022-10-20T12:37:54.785Z"
   },
   {
    "duration": 49,
    "start_time": "2022-10-20T12:37:54.793Z"
   },
   {
    "duration": 25,
    "start_time": "2022-10-20T12:37:54.844Z"
   },
   {
    "duration": 30,
    "start_time": "2022-10-20T12:37:54.870Z"
   },
   {
    "duration": 47,
    "start_time": "2022-10-20T12:37:54.902Z"
   },
   {
    "duration": 25,
    "start_time": "2022-10-20T12:37:54.951Z"
   },
   {
    "duration": 10,
    "start_time": "2022-10-20T12:37:54.978Z"
   },
   {
    "duration": 35,
    "start_time": "2022-10-20T12:37:54.990Z"
   },
   {
    "duration": 39,
    "start_time": "2022-10-20T12:37:55.027Z"
   },
   {
    "duration": 9,
    "start_time": "2022-10-20T12:37:55.068Z"
   },
   {
    "duration": 6,
    "start_time": "2022-10-20T12:37:55.079Z"
   },
   {
    "duration": 67,
    "start_time": "2022-10-20T12:37:55.086Z"
   },
   {
    "duration": 25,
    "start_time": "2022-10-20T12:37:55.154Z"
   },
   {
    "duration": 19,
    "start_time": "2022-10-20T12:37:55.181Z"
   },
   {
    "duration": 28,
    "start_time": "2022-10-20T12:37:55.201Z"
   },
   {
    "duration": 8,
    "start_time": "2022-10-20T12:37:55.230Z"
   },
   {
    "duration": 22,
    "start_time": "2022-10-20T12:37:55.239Z"
   },
   {
    "duration": 21,
    "start_time": "2022-10-20T12:37:55.262Z"
   },
   {
    "duration": 20,
    "start_time": "2022-10-20T12:38:34.325Z"
   },
   {
    "duration": 23,
    "start_time": "2022-10-20T12:39:04.836Z"
   },
   {
    "duration": 41,
    "start_time": "2022-10-20T12:39:22.273Z"
   },
   {
    "duration": 13,
    "start_time": "2022-10-20T12:39:34.579Z"
   },
   {
    "duration": 11,
    "start_time": "2022-10-20T13:04:03.743Z"
   },
   {
    "duration": 18,
    "start_time": "2022-10-20T13:05:16.424Z"
   },
   {
    "duration": 6,
    "start_time": "2022-10-20T13:05:23.527Z"
   },
   {
    "duration": 21,
    "start_time": "2022-10-20T13:05:42.322Z"
   },
   {
    "duration": 7,
    "start_time": "2022-10-20T13:05:43.907Z"
   },
   {
    "duration": 6,
    "start_time": "2022-10-20T13:05:50.127Z"
   },
   {
    "duration": 4,
    "start_time": "2022-10-20T13:13:36.357Z"
   },
   {
    "duration": 12,
    "start_time": "2022-10-20T13:13:57.445Z"
   },
   {
    "duration": 21,
    "start_time": "2022-10-20T13:15:39.698Z"
   },
   {
    "duration": 6,
    "start_time": "2022-10-20T13:23:51.708Z"
   },
   {
    "duration": 21,
    "start_time": "2022-10-20T13:23:57.044Z"
   },
   {
    "duration": 6,
    "start_time": "2022-10-20T13:24:00.565Z"
   },
   {
    "duration": 6,
    "start_time": "2022-10-20T13:24:03.740Z"
   },
   {
    "duration": 23,
    "start_time": "2022-10-20T13:24:21.984Z"
   },
   {
    "duration": 22,
    "start_time": "2022-10-20T13:24:32.740Z"
   },
   {
    "duration": 26,
    "start_time": "2022-10-20T13:24:34.273Z"
   },
   {
    "duration": 26,
    "start_time": "2022-10-20T13:28:26.632Z"
   },
   {
    "duration": 25,
    "start_time": "2022-10-20T13:28:47.376Z"
   },
   {
    "duration": 10,
    "start_time": "2022-10-20T13:28:53.121Z"
   },
   {
    "duration": 19,
    "start_time": "2022-10-20T13:29:03.163Z"
   },
   {
    "duration": 28,
    "start_time": "2022-10-20T13:29:57.406Z"
   },
   {
    "duration": 41,
    "start_time": "2022-10-20T13:30:13.753Z"
   },
   {
    "duration": 123,
    "start_time": "2022-10-20T13:31:48.630Z"
   },
   {
    "duration": 32,
    "start_time": "2022-10-20T13:31:52.333Z"
   },
   {
    "duration": 29,
    "start_time": "2022-10-20T13:32:03.205Z"
   },
   {
    "duration": 6,
    "start_time": "2022-10-20T13:32:05.821Z"
   },
   {
    "duration": 27,
    "start_time": "2022-10-20T13:32:10.021Z"
   },
   {
    "duration": 13,
    "start_time": "2022-10-20T13:32:38.953Z"
   },
   {
    "duration": 13,
    "start_time": "2022-10-20T13:32:48.525Z"
   },
   {
    "duration": 24,
    "start_time": "2022-10-20T13:33:05.167Z"
   },
   {
    "duration": 6,
    "start_time": "2022-10-20T13:33:46.054Z"
   },
   {
    "duration": 42,
    "start_time": "2022-10-20T13:33:50.026Z"
   },
   {
    "duration": 12,
    "start_time": "2022-10-20T13:34:04.610Z"
   },
   {
    "duration": 35,
    "start_time": "2022-10-20T14:23:04.228Z"
   },
   {
    "duration": 6,
    "start_time": "2022-10-20T14:23:09.811Z"
   },
   {
    "duration": 23,
    "start_time": "2022-10-20T14:23:34.186Z"
   },
   {
    "duration": 6,
    "start_time": "2022-10-20T14:23:39.062Z"
   },
   {
    "duration": 105,
    "start_time": "2022-10-20T14:23:56.548Z"
   },
   {
    "duration": 38,
    "start_time": "2022-10-20T14:23:58.792Z"
   },
   {
    "duration": 4,
    "start_time": "2022-10-20T14:24:30.538Z"
   },
   {
    "duration": 6,
    "start_time": "2022-10-20T14:25:27.768Z"
   },
   {
    "duration": 9,
    "start_time": "2022-10-20T14:25:33.406Z"
   },
   {
    "duration": 82,
    "start_time": "2022-10-20T14:37:13.977Z"
   },
   {
    "duration": 3,
    "start_time": "2022-10-20T14:37:17.992Z"
   },
   {
    "duration": 14,
    "start_time": "2022-10-20T14:37:39.641Z"
   },
   {
    "duration": 4,
    "start_time": "2022-10-20T14:38:11.948Z"
   },
   {
    "duration": 6,
    "start_time": "2022-10-20T14:38:13.520Z"
   },
   {
    "duration": 22,
    "start_time": "2022-10-20T14:39:27.345Z"
   },
   {
    "duration": 9,
    "start_time": "2022-10-20T14:40:48.108Z"
   },
   {
    "duration": 16,
    "start_time": "2022-10-20T14:40:52.049Z"
   },
   {
    "duration": 28,
    "start_time": "2022-10-20T14:40:56.748Z"
   },
   {
    "duration": 25,
    "start_time": "2022-10-20T14:42:27.619Z"
   },
   {
    "duration": 25,
    "start_time": "2022-10-20T14:42:32.191Z"
   },
   {
    "duration": 9,
    "start_time": "2022-10-20T14:42:38.945Z"
   },
   {
    "duration": 8,
    "start_time": "2022-10-20T14:43:10.660Z"
   },
   {
    "duration": 4,
    "start_time": "2022-10-20T14:43:17.119Z"
   },
   {
    "duration": 5,
    "start_time": "2022-10-20T14:43:21.819Z"
   },
   {
    "duration": 4,
    "start_time": "2022-10-20T14:43:47.938Z"
   },
   {
    "duration": 6,
    "start_time": "2022-10-20T14:43:49.677Z"
   },
   {
    "duration": 10,
    "start_time": "2022-10-20T14:44:34.945Z"
   },
   {
    "duration": 4,
    "start_time": "2022-10-20T14:44:42.385Z"
   },
   {
    "duration": 4,
    "start_time": "2022-10-20T14:44:46.224Z"
   },
   {
    "duration": 9,
    "start_time": "2022-10-20T14:44:50.354Z"
   },
   {
    "duration": 9,
    "start_time": "2022-10-20T14:45:37.145Z"
   },
   {
    "duration": 6,
    "start_time": "2022-10-20T14:45:39.973Z"
   },
   {
    "duration": 7,
    "start_time": "2022-10-20T14:45:46.048Z"
   },
   {
    "duration": 8,
    "start_time": "2022-10-20T14:45:48.025Z"
   },
   {
    "duration": 5,
    "start_time": "2022-10-20T14:46:09.626Z"
   },
   {
    "duration": 7,
    "start_time": "2022-10-20T14:46:11.453Z"
   },
   {
    "duration": 3,
    "start_time": "2022-10-20T14:47:00.878Z"
   },
   {
    "duration": 6,
    "start_time": "2022-10-20T14:47:02.607Z"
   },
   {
    "duration": 3,
    "start_time": "2022-10-20T14:47:14.250Z"
   },
   {
    "duration": 10,
    "start_time": "2022-10-20T14:47:16.019Z"
   },
   {
    "duration": 4,
    "start_time": "2022-10-20T14:50:03.163Z"
   },
   {
    "duration": 7,
    "start_time": "2022-10-20T14:50:03.961Z"
   },
   {
    "duration": 7,
    "start_time": "2022-10-20T14:50:36.520Z"
   },
   {
    "duration": 3,
    "start_time": "2022-10-20T14:51:38.982Z"
   },
   {
    "duration": 3,
    "start_time": "2022-10-20T14:51:57.666Z"
   },
   {
    "duration": 10,
    "start_time": "2022-10-20T14:52:01.729Z"
   },
   {
    "duration": 4,
    "start_time": "2022-10-20T14:52:07.652Z"
   },
   {
    "duration": 4,
    "start_time": "2022-10-20T14:52:10.695Z"
   },
   {
    "duration": 5,
    "start_time": "2022-10-20T14:52:28.796Z"
   },
   {
    "duration": 7,
    "start_time": "2022-10-20T14:52:30.513Z"
   },
   {
    "duration": 4,
    "start_time": "2022-10-20T14:52:44.094Z"
   },
   {
    "duration": 6,
    "start_time": "2022-10-20T14:52:45.954Z"
   },
   {
    "duration": 3,
    "start_time": "2022-10-20T14:52:50.432Z"
   },
   {
    "duration": 5,
    "start_time": "2022-10-20T14:52:51.815Z"
   },
   {
    "duration": 3,
    "start_time": "2022-10-20T14:52:59.187Z"
   },
   {
    "duration": 6,
    "start_time": "2022-10-20T14:53:00.791Z"
   },
   {
    "duration": 6,
    "start_time": "2022-10-20T14:53:26.394Z"
   },
   {
    "duration": 4,
    "start_time": "2022-10-20T14:56:07.370Z"
   },
   {
    "duration": 5,
    "start_time": "2022-10-20T14:56:18.717Z"
   },
   {
    "duration": 16,
    "start_time": "2022-10-20T14:56:20.950Z"
   },
   {
    "duration": 4,
    "start_time": "2022-10-20T14:56:54.711Z"
   },
   {
    "duration": 6,
    "start_time": "2022-10-20T14:56:56.094Z"
   },
   {
    "duration": 4,
    "start_time": "2022-10-20T14:58:55.862Z"
   },
   {
    "duration": 7,
    "start_time": "2022-10-20T14:58:57.310Z"
   },
   {
    "duration": 7,
    "start_time": "2022-10-20T15:04:01.523Z"
   },
   {
    "duration": 19,
    "start_time": "2022-10-20T15:04:03.403Z"
   },
   {
    "duration": 7,
    "start_time": "2022-10-20T15:04:20.030Z"
   },
   {
    "duration": 20,
    "start_time": "2022-10-20T15:04:21.537Z"
   },
   {
    "duration": 7,
    "start_time": "2022-10-20T15:04:33.663Z"
   },
   {
    "duration": 13,
    "start_time": "2022-10-20T15:04:35.031Z"
   },
   {
    "duration": 9,
    "start_time": "2022-10-20T16:09:38.055Z"
   },
   {
    "duration": 6,
    "start_time": "2022-10-20T16:09:41.405Z"
   },
   {
    "duration": 13,
    "start_time": "2022-10-20T16:09:42.978Z"
   },
   {
    "duration": 13,
    "start_time": "2022-10-20T16:09:55.815Z"
   },
   {
    "duration": 13,
    "start_time": "2022-10-20T16:10:23.950Z"
   },
   {
    "duration": 14,
    "start_time": "2022-10-20T16:10:26.250Z"
   },
   {
    "duration": 8,
    "start_time": "2022-10-20T16:10:51.985Z"
   },
   {
    "duration": 1191,
    "start_time": "2022-10-20T16:10:56.651Z"
   },
   {
    "duration": 125,
    "start_time": "2022-10-20T16:10:57.844Z"
   },
   {
    "duration": 24,
    "start_time": "2022-10-20T16:10:57.971Z"
   },
   {
    "duration": 645,
    "start_time": "2022-10-20T16:10:57.997Z"
   },
   {
    "duration": 57,
    "start_time": "2022-10-20T16:10:58.654Z"
   },
   {
    "duration": 32,
    "start_time": "2022-10-20T16:10:58.713Z"
   },
   {
    "duration": 90,
    "start_time": "2022-10-20T16:10:58.747Z"
   },
   {
    "duration": 23,
    "start_time": "2022-10-20T16:10:58.841Z"
   },
   {
    "duration": 41,
    "start_time": "2022-10-20T16:10:58.866Z"
   },
   {
    "duration": 5,
    "start_time": "2022-10-20T16:10:58.908Z"
   },
   {
    "duration": 60,
    "start_time": "2022-10-20T16:10:58.914Z"
   },
   {
    "duration": 180,
    "start_time": "2022-10-20T16:10:58.976Z"
   },
   {
    "duration": 5,
    "start_time": "2022-10-20T16:10:59.159Z"
   },
   {
    "duration": 44,
    "start_time": "2022-10-20T16:10:59.167Z"
   },
   {
    "duration": 73,
    "start_time": "2022-10-20T16:10:59.213Z"
   },
   {
    "duration": 2386,
    "start_time": "2022-10-20T16:10:59.288Z"
   },
   {
    "duration": 496,
    "start_time": "2022-10-20T16:11:01.676Z"
   },
   {
    "duration": 709,
    "start_time": "2022-10-20T16:11:02.175Z"
   },
   {
    "duration": 48,
    "start_time": "2022-10-20T16:11:02.886Z"
   },
   {
    "duration": 38,
    "start_time": "2022-10-20T16:11:02.936Z"
   },
   {
    "duration": 9,
    "start_time": "2022-10-20T16:11:02.976Z"
   },
   {
    "duration": 69,
    "start_time": "2022-10-20T16:11:02.987Z"
   },
   {
    "duration": 34,
    "start_time": "2022-10-20T16:11:03.058Z"
   },
   {
    "duration": 54,
    "start_time": "2022-10-20T16:11:03.094Z"
   },
   {
    "duration": 36,
    "start_time": "2022-10-20T16:11:03.150Z"
   },
   {
    "duration": 64,
    "start_time": "2022-10-20T16:11:03.188Z"
   },
   {
    "duration": 11,
    "start_time": "2022-10-20T16:11:03.254Z"
   },
   {
    "duration": 8,
    "start_time": "2022-10-20T16:11:03.267Z"
   },
   {
    "duration": 42,
    "start_time": "2022-10-20T16:11:03.276Z"
   },
   {
    "duration": 37,
    "start_time": "2022-10-20T16:11:03.320Z"
   },
   {
    "duration": 13,
    "start_time": "2022-10-20T16:11:03.358Z"
   },
   {
    "duration": 94,
    "start_time": "2022-10-20T16:11:03.373Z"
   },
   {
    "duration": 27,
    "start_time": "2022-10-20T16:11:03.473Z"
   },
   {
    "duration": 20,
    "start_time": "2022-10-20T16:11:03.502Z"
   },
   {
    "duration": 11,
    "start_time": "2022-10-20T16:11:03.524Z"
   },
   {
    "duration": 12,
    "start_time": "2022-10-20T16:11:03.536Z"
   },
   {
    "duration": 30,
    "start_time": "2022-10-20T16:11:03.549Z"
   },
   {
    "duration": 15,
    "start_time": "2022-10-20T16:11:03.581Z"
   },
   {
    "duration": 12,
    "start_time": "2022-10-20T16:11:03.598Z"
   },
   {
    "duration": 42,
    "start_time": "2022-10-20T16:11:03.612Z"
   },
   {
    "duration": 20,
    "start_time": "2022-10-20T16:11:03.658Z"
   },
   {
    "duration": 23,
    "start_time": "2022-10-20T16:11:03.680Z"
   },
   {
    "duration": 31,
    "start_time": "2022-10-20T16:11:03.705Z"
   },
   {
    "duration": 12,
    "start_time": "2022-10-20T16:11:03.741Z"
   },
   {
    "duration": 32,
    "start_time": "2022-10-20T16:11:03.758Z"
   },
   {
    "duration": 24,
    "start_time": "2022-10-20T16:11:03.791Z"
   },
   {
    "duration": 32,
    "start_time": "2022-10-20T16:11:03.817Z"
   },
   {
    "duration": 19,
    "start_time": "2022-10-20T16:11:03.855Z"
   },
   {
    "duration": 26,
    "start_time": "2022-10-20T16:11:03.876Z"
   },
   {
    "duration": 7,
    "start_time": "2022-10-20T16:26:07.577Z"
   },
   {
    "duration": 1234,
    "start_time": "2022-10-20T16:26:13.280Z"
   },
   {
    "duration": 136,
    "start_time": "2022-10-20T16:26:14.515Z"
   },
   {
    "duration": 20,
    "start_time": "2022-10-20T16:26:14.652Z"
   },
   {
    "duration": 564,
    "start_time": "2022-10-20T16:26:14.674Z"
   },
   {
    "duration": 45,
    "start_time": "2022-10-20T16:26:15.245Z"
   },
   {
    "duration": 21,
    "start_time": "2022-10-20T16:26:15.292Z"
   },
   {
    "duration": 85,
    "start_time": "2022-10-20T16:26:15.323Z"
   },
   {
    "duration": 39,
    "start_time": "2022-10-20T16:26:15.411Z"
   },
   {
    "duration": 39,
    "start_time": "2022-10-20T16:26:15.452Z"
   },
   {
    "duration": 4,
    "start_time": "2022-10-20T16:26:15.493Z"
   },
   {
    "duration": 54,
    "start_time": "2022-10-20T16:26:15.499Z"
   },
   {
    "duration": 141,
    "start_time": "2022-10-20T16:26:15.554Z"
   },
   {
    "duration": 5,
    "start_time": "2022-10-20T16:26:15.697Z"
   },
   {
    "duration": 67,
    "start_time": "2022-10-20T16:26:15.706Z"
   },
   {
    "duration": 66,
    "start_time": "2022-10-20T16:26:15.775Z"
   },
   {
    "duration": 2196,
    "start_time": "2022-10-20T16:26:15.848Z"
   },
   {
    "duration": 437,
    "start_time": "2022-10-20T16:26:18.054Z"
   },
   {
    "duration": 783,
    "start_time": "2022-10-20T16:26:18.493Z"
   },
   {
    "duration": 67,
    "start_time": "2022-10-20T16:26:19.278Z"
   },
   {
    "duration": 33,
    "start_time": "2022-10-20T16:26:19.351Z"
   },
   {
    "duration": 9,
    "start_time": "2022-10-20T16:26:19.387Z"
   },
   {
    "duration": 57,
    "start_time": "2022-10-20T16:26:19.425Z"
   },
   {
    "duration": 33,
    "start_time": "2022-10-20T16:26:19.485Z"
   },
   {
    "duration": 39,
    "start_time": "2022-10-20T16:26:19.527Z"
   },
   {
    "duration": 32,
    "start_time": "2022-10-20T16:26:19.568Z"
   },
   {
    "duration": 60,
    "start_time": "2022-10-20T16:26:19.602Z"
   },
   {
    "duration": 15,
    "start_time": "2022-10-20T16:26:19.664Z"
   },
   {
    "duration": 7,
    "start_time": "2022-10-20T16:26:19.680Z"
   },
   {
    "duration": 73,
    "start_time": "2022-10-20T16:26:19.690Z"
   },
   {
    "duration": 11,
    "start_time": "2022-10-20T16:26:19.764Z"
   },
   {
    "duration": 7,
    "start_time": "2022-10-20T16:26:19.777Z"
   },
   {
    "duration": 78,
    "start_time": "2022-10-20T16:26:19.785Z"
   },
   {
    "duration": 26,
    "start_time": "2022-10-20T16:26:19.865Z"
   },
   {
    "duration": 51,
    "start_time": "2022-10-20T16:26:19.893Z"
   },
   {
    "duration": 8,
    "start_time": "2022-10-20T16:26:19.945Z"
   },
   {
    "duration": 14,
    "start_time": "2022-10-20T16:26:19.956Z"
   },
   {
    "duration": 27,
    "start_time": "2022-10-20T16:26:19.972Z"
   },
   {
    "duration": 16,
    "start_time": "2022-10-20T16:26:20.001Z"
   },
   {
    "duration": 31,
    "start_time": "2022-10-20T16:26:20.019Z"
   },
   {
    "duration": 23,
    "start_time": "2022-10-20T16:26:20.058Z"
   },
   {
    "duration": 24,
    "start_time": "2022-10-20T16:26:20.085Z"
   },
   {
    "duration": 45,
    "start_time": "2022-10-20T16:26:20.111Z"
   },
   {
    "duration": 7,
    "start_time": "2022-10-20T16:26:20.158Z"
   },
   {
    "duration": 25,
    "start_time": "2022-10-20T16:26:20.167Z"
   },
   {
    "duration": 13,
    "start_time": "2022-10-20T16:26:20.194Z"
   },
   {
    "duration": 30,
    "start_time": "2022-10-20T16:26:20.209Z"
   },
   {
    "duration": 14,
    "start_time": "2022-10-20T16:26:20.241Z"
   },
   {
    "duration": 12,
    "start_time": "2022-10-20T16:26:20.260Z"
   },
   {
    "duration": 28,
    "start_time": "2022-10-20T16:39:04.887Z"
   },
   {
    "duration": 28,
    "start_time": "2022-10-20T16:39:21.642Z"
   },
   {
    "duration": 110,
    "start_time": "2022-10-20T16:39:27.541Z"
   },
   {
    "duration": 25,
    "start_time": "2022-10-20T16:39:29.919Z"
   },
   {
    "duration": 21,
    "start_time": "2022-10-20T16:39:33.651Z"
   },
   {
    "duration": 23,
    "start_time": "2022-10-20T16:40:14.003Z"
   },
   {
    "duration": 21,
    "start_time": "2022-10-20T16:40:24.780Z"
   },
   {
    "duration": 1311,
    "start_time": "2022-10-20T16:40:32.983Z"
   },
   {
    "duration": 116,
    "start_time": "2022-10-20T16:40:34.296Z"
   },
   {
    "duration": 30,
    "start_time": "2022-10-20T16:40:34.414Z"
   },
   {
    "duration": 576,
    "start_time": "2022-10-20T16:40:34.446Z"
   },
   {
    "duration": 49,
    "start_time": "2022-10-20T16:40:35.028Z"
   },
   {
    "duration": 21,
    "start_time": "2022-10-20T16:40:35.079Z"
   },
   {
    "duration": 85,
    "start_time": "2022-10-20T16:40:35.103Z"
   },
   {
    "duration": 13,
    "start_time": "2022-10-20T16:40:35.189Z"
   },
   {
    "duration": 60,
    "start_time": "2022-10-20T16:40:35.203Z"
   },
   {
    "duration": 5,
    "start_time": "2022-10-20T16:40:35.265Z"
   },
   {
    "duration": 33,
    "start_time": "2022-10-20T16:40:35.272Z"
   },
   {
    "duration": 167,
    "start_time": "2022-10-20T16:40:35.306Z"
   },
   {
    "duration": 6,
    "start_time": "2022-10-20T16:40:35.476Z"
   },
   {
    "duration": 75,
    "start_time": "2022-10-20T16:40:35.486Z"
   },
   {
    "duration": 55,
    "start_time": "2022-10-20T16:40:35.562Z"
   },
   {
    "duration": 2284,
    "start_time": "2022-10-20T16:40:35.619Z"
   },
   {
    "duration": 399,
    "start_time": "2022-10-20T16:40:37.905Z"
   },
   {
    "duration": 836,
    "start_time": "2022-10-20T16:40:38.305Z"
   },
   {
    "duration": 84,
    "start_time": "2022-10-20T16:40:39.144Z"
   },
   {
    "duration": 31,
    "start_time": "2022-10-20T16:40:39.230Z"
   },
   {
    "duration": 7,
    "start_time": "2022-10-20T16:40:39.263Z"
   },
   {
    "duration": 75,
    "start_time": "2022-10-20T16:40:39.271Z"
   },
   {
    "duration": 89,
    "start_time": "2022-10-20T16:40:39.348Z"
   },
   {
    "duration": 88,
    "start_time": "2022-10-20T16:40:39.444Z"
   },
   {
    "duration": 41,
    "start_time": "2022-10-20T16:40:39.534Z"
   },
   {
    "duration": 33,
    "start_time": "2022-10-20T16:40:39.628Z"
   },
   {
    "duration": 10,
    "start_time": "2022-10-20T16:40:39.664Z"
   },
   {
    "duration": 16,
    "start_time": "2022-10-20T16:40:39.730Z"
   },
   {
    "duration": 97,
    "start_time": "2022-10-20T16:40:39.748Z"
   },
   {
    "duration": 15,
    "start_time": "2022-10-20T16:40:39.847Z"
   },
   {
    "duration": 6,
    "start_time": "2022-10-20T16:40:39.863Z"
   },
   {
    "duration": 180,
    "start_time": "2022-10-20T16:40:39.870Z"
   },
   {
    "duration": 85,
    "start_time": "2022-10-20T16:40:40.059Z"
   },
   {
    "duration": 23,
    "start_time": "2022-10-20T16:40:40.145Z"
   },
   {
    "duration": 5,
    "start_time": "2022-10-20T16:40:40.170Z"
   },
   {
    "duration": 9,
    "start_time": "2022-10-20T16:40:40.227Z"
   },
   {
    "duration": 30,
    "start_time": "2022-10-20T16:40:40.239Z"
   },
   {
    "duration": 98,
    "start_time": "2022-10-20T16:40:40.271Z"
   },
   {
    "duration": 73,
    "start_time": "2022-10-20T16:40:40.374Z"
   },
   {
    "duration": 15,
    "start_time": "2022-10-20T16:40:40.450Z"
   },
   {
    "duration": 90,
    "start_time": "2022-10-20T16:40:40.470Z"
   },
   {
    "duration": 74,
    "start_time": "2022-10-20T16:40:40.561Z"
   },
   {
    "duration": 28,
    "start_time": "2022-10-20T16:40:40.636Z"
   },
   {
    "duration": 7,
    "start_time": "2022-10-20T16:40:40.666Z"
   },
   {
    "duration": 61,
    "start_time": "2022-10-20T16:40:40.674Z"
   },
   {
    "duration": 19,
    "start_time": "2022-10-20T16:40:40.737Z"
   },
   {
    "duration": 13,
    "start_time": "2022-10-20T16:40:40.758Z"
   },
   {
    "duration": 54,
    "start_time": "2022-10-20T16:40:40.773Z"
   },
   {
    "duration": 18,
    "start_time": "2022-10-20T16:45:34.882Z"
   },
   {
    "duration": 23,
    "start_time": "2022-10-20T16:45:36.597Z"
   },
   {
    "duration": 34,
    "start_time": "2022-10-20T16:45:37.124Z"
   },
   {
    "duration": 26,
    "start_time": "2022-10-20T16:45:37.553Z"
   },
   {
    "duration": 6,
    "start_time": "2022-10-20T16:45:38.653Z"
   },
   {
    "duration": 12,
    "start_time": "2022-10-20T16:45:39.666Z"
   },
   {
    "duration": 25,
    "start_time": "2022-10-20T16:45:41.932Z"
   },
   {
    "duration": 12,
    "start_time": "2022-10-20T16:45:44.313Z"
   },
   {
    "duration": 16,
    "start_time": "2022-10-20T16:45:47.445Z"
   },
   {
    "duration": 50,
    "start_time": "2022-10-20T20:16:50.580Z"
   },
   {
    "duration": 1312,
    "start_time": "2022-10-20T20:16:56.592Z"
   },
   {
    "duration": 155,
    "start_time": "2022-10-20T20:16:57.907Z"
   },
   {
    "duration": 21,
    "start_time": "2022-10-20T20:16:58.064Z"
   },
   {
    "duration": 529,
    "start_time": "2022-10-20T20:16:58.086Z"
   },
   {
    "duration": 34,
    "start_time": "2022-10-20T20:16:58.622Z"
   },
   {
    "duration": 19,
    "start_time": "2022-10-20T20:16:58.658Z"
   },
   {
    "duration": 78,
    "start_time": "2022-10-20T20:16:58.679Z"
   },
   {
    "duration": 16,
    "start_time": "2022-10-20T20:16:58.759Z"
   },
   {
    "duration": 51,
    "start_time": "2022-10-20T20:16:58.778Z"
   },
   {
    "duration": 5,
    "start_time": "2022-10-20T20:16:58.831Z"
   },
   {
    "duration": 47,
    "start_time": "2022-10-20T20:16:58.838Z"
   },
   {
    "duration": 147,
    "start_time": "2022-10-20T20:16:58.887Z"
   },
   {
    "duration": 5,
    "start_time": "2022-10-20T20:16:59.035Z"
   },
   {
    "duration": 49,
    "start_time": "2022-10-20T20:16:59.042Z"
   },
   {
    "duration": 61,
    "start_time": "2022-10-20T20:16:59.111Z"
   },
   {
    "duration": 2098,
    "start_time": "2022-10-20T20:16:59.174Z"
   },
   {
    "duration": 388,
    "start_time": "2022-10-20T20:17:01.274Z"
   },
   {
    "duration": 566,
    "start_time": "2022-10-20T20:17:01.665Z"
   },
   {
    "duration": 27,
    "start_time": "2022-10-20T20:17:02.233Z"
   },
   {
    "duration": 43,
    "start_time": "2022-10-20T20:17:02.262Z"
   },
   {
    "duration": 14,
    "start_time": "2022-10-20T20:17:02.306Z"
   },
   {
    "duration": 39,
    "start_time": "2022-10-20T20:17:02.324Z"
   },
   {
    "duration": 27,
    "start_time": "2022-10-20T20:17:02.365Z"
   },
   {
    "duration": 37,
    "start_time": "2022-10-20T20:17:02.394Z"
   },
   {
    "duration": 25,
    "start_time": "2022-10-20T20:17:02.433Z"
   },
   {
    "duration": 54,
    "start_time": "2022-10-20T20:17:02.460Z"
   },
   {
    "duration": 12,
    "start_time": "2022-10-20T20:17:02.516Z"
   },
   {
    "duration": 6,
    "start_time": "2022-10-20T20:17:02.529Z"
   },
   {
    "duration": 72,
    "start_time": "2022-10-20T20:17:02.536Z"
   },
   {
    "duration": 14,
    "start_time": "2022-10-20T20:17:02.610Z"
   },
   {
    "duration": 22,
    "start_time": "2022-10-20T20:17:02.626Z"
   },
   {
    "duration": 68,
    "start_time": "2022-10-20T20:17:02.650Z"
   },
   {
    "duration": 24,
    "start_time": "2022-10-20T20:17:02.720Z"
   },
   {
    "duration": 29,
    "start_time": "2022-10-20T20:17:02.746Z"
   },
   {
    "duration": 6,
    "start_time": "2022-10-20T20:17:02.777Z"
   },
   {
    "duration": 35,
    "start_time": "2022-10-20T20:17:02.785Z"
   },
   {
    "duration": 18,
    "start_time": "2022-10-20T20:17:02.822Z"
   },
   {
    "duration": 25,
    "start_time": "2022-10-20T20:17:02.841Z"
   },
   {
    "duration": 45,
    "start_time": "2022-10-20T20:17:02.868Z"
   },
   {
    "duration": 12,
    "start_time": "2022-10-20T20:17:02.919Z"
   },
   {
    "duration": 20,
    "start_time": "2022-10-20T20:17:02.935Z"
   },
   {
    "duration": 21,
    "start_time": "2022-10-20T20:17:02.956Z"
   },
   {
    "duration": 49,
    "start_time": "2022-10-20T20:17:02.978Z"
   },
   {
    "duration": 8,
    "start_time": "2022-10-20T20:17:03.029Z"
   },
   {
    "duration": 16,
    "start_time": "2022-10-20T20:17:03.039Z"
   },
   {
    "duration": 11,
    "start_time": "2022-10-20T20:17:03.056Z"
   },
   {
    "duration": 44,
    "start_time": "2022-10-20T20:17:03.069Z"
   },
   {
    "duration": 19,
    "start_time": "2022-10-20T20:17:03.115Z"
   },
   {
    "duration": 16,
    "start_time": "2022-10-20T20:17:41.833Z"
   },
   {
    "duration": 3,
    "start_time": "2022-10-20T20:19:40.033Z"
   },
   {
    "duration": 4,
    "start_time": "2022-10-20T20:20:54.031Z"
   },
   {
    "duration": 7,
    "start_time": "2022-10-20T20:20:56.624Z"
   },
   {
    "duration": 24,
    "start_time": "2022-10-20T20:20:59.128Z"
   },
   {
    "duration": 32,
    "start_time": "2022-10-20T20:21:40.335Z"
   },
   {
    "duration": 21,
    "start_time": "2022-10-20T20:22:05.153Z"
   },
   {
    "duration": 30,
    "start_time": "2022-10-20T20:25:18.078Z"
   },
   {
    "duration": 49,
    "start_time": "2022-10-20T20:29:07.836Z"
   },
   {
    "duration": 29,
    "start_time": "2022-10-20T20:29:12.057Z"
   },
   {
    "duration": 1100,
    "start_time": "2022-10-20T20:32:13.374Z"
   },
   {
    "duration": 1142,
    "start_time": "2022-10-20T20:32:24.456Z"
   },
   {
    "duration": 84,
    "start_time": "2022-10-20T20:32:25.600Z"
   },
   {
    "duration": 34,
    "start_time": "2022-10-20T20:32:25.685Z"
   },
   {
    "duration": 516,
    "start_time": "2022-10-20T20:32:25.721Z"
   },
   {
    "duration": 59,
    "start_time": "2022-10-20T20:32:26.240Z"
   },
   {
    "duration": 30,
    "start_time": "2022-10-20T20:32:26.301Z"
   },
   {
    "duration": 89,
    "start_time": "2022-10-20T20:32:26.333Z"
   },
   {
    "duration": 15,
    "start_time": "2022-10-20T20:32:26.423Z"
   },
   {
    "duration": 46,
    "start_time": "2022-10-20T20:32:26.440Z"
   },
   {
    "duration": 20,
    "start_time": "2022-10-20T20:32:26.490Z"
   },
   {
    "duration": 68,
    "start_time": "2022-10-20T20:32:26.514Z"
   },
   {
    "duration": 145,
    "start_time": "2022-10-20T20:32:26.584Z"
   },
   {
    "duration": 6,
    "start_time": "2022-10-20T20:32:26.730Z"
   },
   {
    "duration": 40,
    "start_time": "2022-10-20T20:32:26.739Z"
   },
   {
    "duration": 83,
    "start_time": "2022-10-20T20:32:26.782Z"
   },
   {
    "duration": 2314,
    "start_time": "2022-10-20T20:32:26.867Z"
   },
   {
    "duration": 440,
    "start_time": "2022-10-20T20:32:29.183Z"
   },
   {
    "duration": 603,
    "start_time": "2022-10-20T20:32:29.626Z"
   },
   {
    "duration": 33,
    "start_time": "2022-10-20T20:32:30.231Z"
   },
   {
    "duration": 45,
    "start_time": "2022-10-20T20:32:30.266Z"
   },
   {
    "duration": 15,
    "start_time": "2022-10-20T20:32:30.313Z"
   },
   {
    "duration": 43,
    "start_time": "2022-10-20T20:32:30.330Z"
   },
   {
    "duration": 41,
    "start_time": "2022-10-20T20:32:30.375Z"
   },
   {
    "duration": 40,
    "start_time": "2022-10-20T20:32:30.424Z"
   },
   {
    "duration": 28,
    "start_time": "2022-10-20T20:32:30.466Z"
   },
   {
    "duration": 50,
    "start_time": "2022-10-20T20:32:30.500Z"
   },
   {
    "duration": 22,
    "start_time": "2022-10-20T20:32:30.553Z"
   },
   {
    "duration": 20,
    "start_time": "2022-10-20T20:32:30.577Z"
   },
   {
    "duration": 86,
    "start_time": "2022-10-20T20:32:30.599Z"
   },
   {
    "duration": 12,
    "start_time": "2022-10-20T20:32:30.686Z"
   },
   {
    "duration": 40,
    "start_time": "2022-10-20T20:32:30.699Z"
   },
   {
    "duration": 91,
    "start_time": "2022-10-20T20:32:30.742Z"
   },
   {
    "duration": 64,
    "start_time": "2022-10-20T20:32:30.835Z"
   },
   {
    "duration": 43,
    "start_time": "2022-10-20T20:32:30.906Z"
   },
   {
    "duration": 51,
    "start_time": "2022-10-20T20:32:30.952Z"
   },
   {
    "duration": 7,
    "start_time": "2022-10-20T20:32:31.005Z"
   },
   {
    "duration": 52,
    "start_time": "2022-10-20T20:32:31.014Z"
   },
   {
    "duration": 27,
    "start_time": "2022-10-20T20:32:31.069Z"
   },
   {
    "duration": 35,
    "start_time": "2022-10-20T20:32:31.099Z"
   },
   {
    "duration": 39,
    "start_time": "2022-10-20T20:32:31.136Z"
   },
   {
    "duration": 34,
    "start_time": "2022-10-20T20:32:31.179Z"
   },
   {
    "duration": 25,
    "start_time": "2022-10-20T20:32:31.215Z"
   },
   {
    "duration": 15,
    "start_time": "2022-10-20T20:32:31.242Z"
   },
   {
    "duration": 22,
    "start_time": "2022-10-20T20:32:31.259Z"
   },
   {
    "duration": 40,
    "start_time": "2022-10-20T20:32:31.282Z"
   },
   {
    "duration": 26,
    "start_time": "2022-10-20T20:32:31.324Z"
   },
   {
    "duration": 9,
    "start_time": "2022-10-20T20:32:31.352Z"
   },
   {
    "duration": 22,
    "start_time": "2022-10-20T20:32:31.363Z"
   },
   {
    "duration": 72,
    "start_time": "2022-10-20T20:32:31.387Z"
   },
   {
    "duration": 14,
    "start_time": "2022-10-20T20:32:31.461Z"
   },
   {
    "duration": 14,
    "start_time": "2022-10-20T20:32:31.477Z"
   },
   {
    "duration": 1517,
    "start_time": "2022-10-20T20:34:27.018Z"
   },
   {
    "duration": 1203,
    "start_time": "2022-10-20T20:35:34.192Z"
   },
   {
    "duration": 87,
    "start_time": "2022-10-20T20:35:35.397Z"
   },
   {
    "duration": 24,
    "start_time": "2022-10-20T20:35:35.486Z"
   },
   {
    "duration": 531,
    "start_time": "2022-10-20T20:35:35.512Z"
   },
   {
    "duration": 59,
    "start_time": "2022-10-20T20:35:36.046Z"
   },
   {
    "duration": 30,
    "start_time": "2022-10-20T20:35:36.112Z"
   },
   {
    "duration": 67,
    "start_time": "2022-10-20T20:35:36.144Z"
   },
   {
    "duration": 15,
    "start_time": "2022-10-20T20:35:36.214Z"
   },
   {
    "duration": 40,
    "start_time": "2022-10-20T20:35:36.231Z"
   },
   {
    "duration": 5,
    "start_time": "2022-10-20T20:35:36.273Z"
   },
   {
    "duration": 36,
    "start_time": "2022-10-20T20:35:36.301Z"
   },
   {
    "duration": 138,
    "start_time": "2022-10-20T20:35:36.339Z"
   },
   {
    "duration": 5,
    "start_time": "2022-10-20T20:35:36.479Z"
   },
   {
    "duration": 44,
    "start_time": "2022-10-20T20:35:36.502Z"
   },
   {
    "duration": 83,
    "start_time": "2022-10-20T20:35:36.547Z"
   },
   {
    "duration": 2018,
    "start_time": "2022-10-20T20:35:36.631Z"
   },
   {
    "duration": 372,
    "start_time": "2022-10-20T20:35:38.651Z"
   },
   {
    "duration": 566,
    "start_time": "2022-10-20T20:35:39.025Z"
   },
   {
    "duration": 31,
    "start_time": "2022-10-20T20:35:39.593Z"
   },
   {
    "duration": 25,
    "start_time": "2022-10-20T20:35:39.626Z"
   },
   {
    "duration": 6,
    "start_time": "2022-10-20T20:35:39.653Z"
   },
   {
    "duration": 64,
    "start_time": "2022-10-20T20:35:39.661Z"
   },
   {
    "duration": 38,
    "start_time": "2022-10-20T20:35:39.726Z"
   },
   {
    "duration": 59,
    "start_time": "2022-10-20T20:35:39.767Z"
   },
   {
    "duration": 40,
    "start_time": "2022-10-20T20:35:39.828Z"
   },
   {
    "duration": 52,
    "start_time": "2022-10-20T20:35:39.870Z"
   },
   {
    "duration": 10,
    "start_time": "2022-10-20T20:35:39.924Z"
   },
   {
    "duration": 9,
    "start_time": "2022-10-20T20:35:39.936Z"
   },
   {
    "duration": 43,
    "start_time": "2022-10-20T20:35:39.947Z"
   },
   {
    "duration": 28,
    "start_time": "2022-10-20T20:35:39.991Z"
   },
   {
    "duration": 9,
    "start_time": "2022-10-20T20:35:40.020Z"
   },
   {
    "duration": 64,
    "start_time": "2022-10-20T20:35:40.030Z"
   },
   {
    "duration": 24,
    "start_time": "2022-10-20T20:35:40.101Z"
   },
   {
    "duration": 109,
    "start_time": "2022-10-20T20:35:40.127Z"
   },
   {
    "duration": 0,
    "start_time": "2022-10-20T20:35:40.239Z"
   },
   {
    "duration": 0,
    "start_time": "2022-10-20T20:35:40.240Z"
   },
   {
    "duration": 0,
    "start_time": "2022-10-20T20:35:40.242Z"
   },
   {
    "duration": 0,
    "start_time": "2022-10-20T20:35:40.243Z"
   },
   {
    "duration": 0,
    "start_time": "2022-10-20T20:35:40.245Z"
   },
   {
    "duration": 0,
    "start_time": "2022-10-20T20:35:40.246Z"
   },
   {
    "duration": 0,
    "start_time": "2022-10-20T20:35:40.248Z"
   },
   {
    "duration": 0,
    "start_time": "2022-10-20T20:35:40.249Z"
   },
   {
    "duration": 0,
    "start_time": "2022-10-20T20:35:40.251Z"
   },
   {
    "duration": 0,
    "start_time": "2022-10-20T20:35:40.252Z"
   },
   {
    "duration": 0,
    "start_time": "2022-10-20T20:35:40.254Z"
   },
   {
    "duration": 0,
    "start_time": "2022-10-20T20:35:40.255Z"
   },
   {
    "duration": 0,
    "start_time": "2022-10-20T20:35:40.256Z"
   },
   {
    "duration": 0,
    "start_time": "2022-10-20T20:35:40.259Z"
   },
   {
    "duration": 0,
    "start_time": "2022-10-20T20:35:40.260Z"
   },
   {
    "duration": 0,
    "start_time": "2022-10-20T20:35:40.261Z"
   },
   {
    "duration": 0,
    "start_time": "2022-10-20T20:35:40.301Z"
   },
   {
    "duration": 0,
    "start_time": "2022-10-20T20:35:40.302Z"
   },
   {
    "duration": 28,
    "start_time": "2022-10-20T20:35:55.851Z"
   },
   {
    "duration": 31,
    "start_time": "2022-10-20T20:36:18.444Z"
   },
   {
    "duration": 665,
    "start_time": "2022-10-20T20:37:52.223Z"
   },
   {
    "duration": 29,
    "start_time": "2022-10-20T20:37:55.150Z"
   },
   {
    "duration": 34,
    "start_time": "2022-10-20T20:38:00.556Z"
   },
   {
    "duration": 31,
    "start_time": "2022-10-20T20:38:19.716Z"
   },
   {
    "duration": 20,
    "start_time": "2022-10-20T20:38:31.374Z"
   },
   {
    "duration": 16,
    "start_time": "2022-10-20T20:38:56.881Z"
   },
   {
    "duration": 17,
    "start_time": "2022-10-20T20:39:13.895Z"
   },
   {
    "duration": 18,
    "start_time": "2022-10-20T20:39:22.275Z"
   },
   {
    "duration": 16,
    "start_time": "2022-10-20T20:39:57.247Z"
   },
   {
    "duration": 15,
    "start_time": "2022-10-20T20:40:06.957Z"
   },
   {
    "duration": 30,
    "start_time": "2022-10-20T20:40:17.213Z"
   },
   {
    "duration": 30,
    "start_time": "2022-10-20T20:41:09.106Z"
   },
   {
    "duration": 6,
    "start_time": "2022-10-20T20:41:44.386Z"
   },
   {
    "duration": 29,
    "start_time": "2022-10-20T20:42:09.768Z"
   },
   {
    "duration": 9,
    "start_time": "2022-10-20T20:48:23.080Z"
   },
   {
    "duration": 20,
    "start_time": "2022-10-20T20:48:46.926Z"
   },
   {
    "duration": 1034,
    "start_time": "2022-10-20T20:48:55.358Z"
   },
   {
    "duration": 70,
    "start_time": "2022-10-20T20:48:56.394Z"
   },
   {
    "duration": 20,
    "start_time": "2022-10-20T20:48:56.466Z"
   },
   {
    "duration": 475,
    "start_time": "2022-10-20T20:48:56.488Z"
   },
   {
    "duration": 40,
    "start_time": "2022-10-20T20:48:56.965Z"
   },
   {
    "duration": 21,
    "start_time": "2022-10-20T20:48:57.007Z"
   },
   {
    "duration": 74,
    "start_time": "2022-10-20T20:48:57.030Z"
   },
   {
    "duration": 12,
    "start_time": "2022-10-20T20:48:57.106Z"
   },
   {
    "duration": 32,
    "start_time": "2022-10-20T20:48:57.119Z"
   },
   {
    "duration": 5,
    "start_time": "2022-10-20T20:48:57.153Z"
   },
   {
    "duration": 59,
    "start_time": "2022-10-20T20:48:57.160Z"
   },
   {
    "duration": 129,
    "start_time": "2022-10-20T20:48:57.221Z"
   },
   {
    "duration": 6,
    "start_time": "2022-10-20T20:48:57.352Z"
   },
   {
    "duration": 48,
    "start_time": "2022-10-20T20:48:57.361Z"
   },
   {
    "duration": 59,
    "start_time": "2022-10-20T20:48:57.412Z"
   },
   {
    "duration": 1969,
    "start_time": "2022-10-20T20:48:57.473Z"
   },
   {
    "duration": 363,
    "start_time": "2022-10-20T20:48:59.444Z"
   },
   {
    "duration": 534,
    "start_time": "2022-10-20T20:48:59.808Z"
   },
   {
    "duration": 26,
    "start_time": "2022-10-20T20:49:00.343Z"
   },
   {
    "duration": 34,
    "start_time": "2022-10-20T20:49:00.371Z"
   },
   {
    "duration": 8,
    "start_time": "2022-10-20T20:49:00.407Z"
   },
   {
    "duration": 35,
    "start_time": "2022-10-20T20:49:00.417Z"
   },
   {
    "duration": 26,
    "start_time": "2022-10-20T20:49:00.454Z"
   },
   {
    "duration": 43,
    "start_time": "2022-10-20T20:49:00.482Z"
   },
   {
    "duration": 29,
    "start_time": "2022-10-20T20:49:00.527Z"
   },
   {
    "duration": 48,
    "start_time": "2022-10-20T20:49:00.558Z"
   },
   {
    "duration": 11,
    "start_time": "2022-10-20T20:49:00.607Z"
   },
   {
    "duration": 18,
    "start_time": "2022-10-20T20:49:00.620Z"
   },
   {
    "duration": 63,
    "start_time": "2022-10-20T20:49:00.639Z"
   },
   {
    "duration": 23,
    "start_time": "2022-10-20T20:49:00.704Z"
   },
   {
    "duration": 28,
    "start_time": "2022-10-20T20:49:00.729Z"
   },
   {
    "duration": 85,
    "start_time": "2022-10-20T20:49:00.759Z"
   },
   {
    "duration": 20,
    "start_time": "2022-10-20T20:49:00.846Z"
   },
   {
    "duration": 72,
    "start_time": "2022-10-20T20:49:00.868Z"
   },
   {
    "duration": 16,
    "start_time": "2022-10-20T20:49:00.942Z"
   },
   {
    "duration": 26,
    "start_time": "2022-10-20T20:49:00.959Z"
   },
   {
    "duration": 20,
    "start_time": "2022-10-20T20:49:00.987Z"
   },
   {
    "duration": 38,
    "start_time": "2022-10-20T20:49:01.009Z"
   },
   {
    "duration": 25,
    "start_time": "2022-10-20T20:49:01.049Z"
   },
   {
    "duration": 24,
    "start_time": "2022-10-20T20:49:01.076Z"
   },
   {
    "duration": 46,
    "start_time": "2022-10-20T20:49:01.104Z"
   },
   {
    "duration": 34,
    "start_time": "2022-10-20T20:49:01.152Z"
   },
   {
    "duration": 21,
    "start_time": "2022-10-20T20:49:01.187Z"
   },
   {
    "duration": 34,
    "start_time": "2022-10-20T20:49:01.211Z"
   },
   {
    "duration": 57,
    "start_time": "2022-10-20T20:49:01.247Z"
   },
   {
    "duration": 26,
    "start_time": "2022-10-20T20:49:01.306Z"
   },
   {
    "duration": 17,
    "start_time": "2022-10-20T20:49:01.333Z"
   },
   {
    "duration": 10,
    "start_time": "2022-10-20T20:49:01.351Z"
   },
   {
    "duration": 29,
    "start_time": "2022-10-20T20:53:20.448Z"
   },
   {
    "duration": 1100,
    "start_time": "2022-10-20T20:53:28.402Z"
   },
   {
    "duration": 69,
    "start_time": "2022-10-20T20:53:29.505Z"
   },
   {
    "duration": 20,
    "start_time": "2022-10-20T20:53:29.576Z"
   },
   {
    "duration": 517,
    "start_time": "2022-10-20T20:53:29.598Z"
   },
   {
    "duration": 36,
    "start_time": "2022-10-20T20:53:30.118Z"
   },
   {
    "duration": 22,
    "start_time": "2022-10-20T20:53:30.156Z"
   },
   {
    "duration": 85,
    "start_time": "2022-10-20T20:53:30.180Z"
   },
   {
    "duration": 16,
    "start_time": "2022-10-20T20:53:30.267Z"
   },
   {
    "duration": 80,
    "start_time": "2022-10-20T20:53:30.284Z"
   },
   {
    "duration": 3,
    "start_time": "2022-10-20T20:53:30.366Z"
   },
   {
    "duration": 61,
    "start_time": "2022-10-20T20:53:30.373Z"
   },
   {
    "duration": 132,
    "start_time": "2022-10-20T20:53:30.435Z"
   },
   {
    "duration": 4,
    "start_time": "2022-10-20T20:53:30.569Z"
   },
   {
    "duration": 112,
    "start_time": "2022-10-20T20:53:30.575Z"
   },
   {
    "duration": 66,
    "start_time": "2022-10-20T20:53:30.689Z"
   },
   {
    "duration": 2684,
    "start_time": "2022-10-20T20:53:30.757Z"
   },
   {
    "duration": 530,
    "start_time": "2022-10-20T20:53:33.443Z"
   },
   {
    "duration": 586,
    "start_time": "2022-10-20T20:53:33.975Z"
   },
   {
    "duration": 41,
    "start_time": "2022-10-20T20:53:34.563Z"
   },
   {
    "duration": 22,
    "start_time": "2022-10-20T20:53:34.607Z"
   },
   {
    "duration": 6,
    "start_time": "2022-10-20T20:53:34.630Z"
   },
   {
    "duration": 32,
    "start_time": "2022-10-20T20:53:34.638Z"
   },
   {
    "duration": 53,
    "start_time": "2022-10-20T20:53:34.672Z"
   },
   {
    "duration": 30,
    "start_time": "2022-10-20T20:53:34.727Z"
   },
   {
    "duration": 60,
    "start_time": "2022-10-20T20:53:34.759Z"
   },
   {
    "duration": 35,
    "start_time": "2022-10-20T20:53:34.821Z"
   },
   {
    "duration": 13,
    "start_time": "2022-10-20T20:53:34.858Z"
   },
   {
    "duration": 27,
    "start_time": "2022-10-20T20:53:34.873Z"
   },
   {
    "duration": 57,
    "start_time": "2022-10-20T20:53:34.902Z"
   },
   {
    "duration": 12,
    "start_time": "2022-10-20T20:53:34.961Z"
   },
   {
    "duration": 27,
    "start_time": "2022-10-20T20:53:34.975Z"
   },
   {
    "duration": 99,
    "start_time": "2022-10-20T20:53:35.004Z"
   },
   {
    "duration": 23,
    "start_time": "2022-10-20T20:53:35.105Z"
   },
   {
    "duration": 34,
    "start_time": "2022-10-20T20:53:35.130Z"
   },
   {
    "duration": 36,
    "start_time": "2022-10-20T20:53:35.166Z"
   },
   {
    "duration": 5,
    "start_time": "2022-10-20T20:53:35.204Z"
   },
   {
    "duration": 9,
    "start_time": "2022-10-20T20:53:35.211Z"
   },
   {
    "duration": 34,
    "start_time": "2022-10-20T20:53:35.222Z"
   },
   {
    "duration": 46,
    "start_time": "2022-10-20T20:53:35.258Z"
   },
   {
    "duration": 19,
    "start_time": "2022-10-20T20:53:35.305Z"
   },
   {
    "duration": 28,
    "start_time": "2022-10-20T20:53:35.333Z"
   },
   {
    "duration": 50,
    "start_time": "2022-10-20T20:53:35.363Z"
   },
   {
    "duration": 31,
    "start_time": "2022-10-20T20:53:35.415Z"
   },
   {
    "duration": 8,
    "start_time": "2022-10-20T20:53:35.449Z"
   },
   {
    "duration": 18,
    "start_time": "2022-10-20T20:53:35.459Z"
   },
   {
    "duration": 28,
    "start_time": "2022-10-20T20:53:35.480Z"
   },
   {
    "duration": 15,
    "start_time": "2022-10-20T20:53:35.510Z"
   },
   {
    "duration": 12,
    "start_time": "2022-10-20T20:53:35.527Z"
   },
   {
    "duration": 21,
    "start_time": "2022-10-20T21:12:15.720Z"
   },
   {
    "duration": 16,
    "start_time": "2022-10-20T21:13:02.446Z"
   },
   {
    "duration": 22,
    "start_time": "2022-10-20T21:13:07.048Z"
   },
   {
    "duration": 22,
    "start_time": "2022-10-20T21:13:46.137Z"
   },
   {
    "duration": 33,
    "start_time": "2022-10-20T21:13:57.337Z"
   },
   {
    "duration": 27,
    "start_time": "2022-10-20T21:14:30.154Z"
   },
   {
    "duration": 20,
    "start_time": "2022-10-20T21:20:51.277Z"
   },
   {
    "duration": 21,
    "start_time": "2022-10-20T21:21:11.670Z"
   },
   {
    "duration": 21,
    "start_time": "2022-10-20T21:21:20.139Z"
   },
   {
    "duration": 26,
    "start_time": "2022-10-20T21:22:31.480Z"
   },
   {
    "duration": 24,
    "start_time": "2022-10-20T21:22:51.914Z"
   },
   {
    "duration": 10,
    "start_time": "2022-10-20T22:40:11.330Z"
   },
   {
    "duration": 125,
    "start_time": "2022-10-20T22:40:19.871Z"
   },
   {
    "duration": 11,
    "start_time": "2022-10-20T22:40:23.321Z"
   },
   {
    "duration": 12,
    "start_time": "2022-10-20T22:40:43.474Z"
   },
   {
    "duration": 12,
    "start_time": "2022-10-20T22:41:45.481Z"
   },
   {
    "duration": 12,
    "start_time": "2022-10-20T22:41:49.898Z"
   },
   {
    "duration": 9,
    "start_time": "2022-10-20T22:56:28.486Z"
   },
   {
    "duration": 10,
    "start_time": "2022-10-20T22:56:35.129Z"
   },
   {
    "duration": 15,
    "start_time": "2022-10-20T22:56:54.292Z"
   },
   {
    "duration": 14,
    "start_time": "2022-10-20T22:56:56.535Z"
   },
   {
    "duration": 10,
    "start_time": "2022-10-20T22:57:01.099Z"
   },
   {
    "duration": 8,
    "start_time": "2022-10-20T23:03:45.361Z"
   },
   {
    "duration": 11,
    "start_time": "2022-10-20T23:04:12.341Z"
   },
   {
    "duration": 11,
    "start_time": "2022-10-20T23:04:30.095Z"
   },
   {
    "duration": 9,
    "start_time": "2022-10-20T23:05:31.184Z"
   },
   {
    "duration": 25,
    "start_time": "2022-10-20T23:05:54.289Z"
   },
   {
    "duration": 15,
    "start_time": "2022-10-20T23:05:58.311Z"
   },
   {
    "duration": 16,
    "start_time": "2022-10-20T23:06:01.833Z"
   },
   {
    "duration": 14,
    "start_time": "2022-10-20T23:06:12.401Z"
   },
   {
    "duration": 15,
    "start_time": "2022-10-20T23:06:23.997Z"
   },
   {
    "duration": 14,
    "start_time": "2022-10-20T23:06:32.058Z"
   },
   {
    "duration": 12,
    "start_time": "2022-10-20T23:09:39.038Z"
   },
   {
    "duration": 4,
    "start_time": "2022-10-20T23:10:22.528Z"
   },
   {
    "duration": 4,
    "start_time": "2022-10-20T23:10:59.078Z"
   },
   {
    "duration": 6,
    "start_time": "2022-10-20T23:11:18.161Z"
   },
   {
    "duration": 6,
    "start_time": "2022-10-20T23:11:48.319Z"
   },
   {
    "duration": 6,
    "start_time": "2022-10-20T23:11:51.220Z"
   },
   {
    "duration": 5,
    "start_time": "2022-10-20T23:12:01.557Z"
   },
   {
    "duration": 4,
    "start_time": "2022-10-20T23:12:05.866Z"
   },
   {
    "duration": 1460,
    "start_time": "2022-10-21T09:04:37.438Z"
   },
   {
    "duration": 1163,
    "start_time": "2022-10-21T09:04:38.900Z"
   },
   {
    "duration": 21,
    "start_time": "2022-10-21T09:04:40.066Z"
   },
   {
    "duration": 578,
    "start_time": "2022-10-21T09:04:40.089Z"
   },
   {
    "duration": 41,
    "start_time": "2022-10-21T09:04:40.669Z"
   },
   {
    "duration": 24,
    "start_time": "2022-10-21T09:04:40.724Z"
   },
   {
    "duration": 87,
    "start_time": "2022-10-21T09:04:40.750Z"
   },
   {
    "duration": 14,
    "start_time": "2022-10-21T09:04:40.839Z"
   },
   {
    "duration": 37,
    "start_time": "2022-10-21T09:04:40.855Z"
   },
   {
    "duration": 31,
    "start_time": "2022-10-21T09:04:40.894Z"
   },
   {
    "duration": 35,
    "start_time": "2022-10-21T09:04:40.927Z"
   },
   {
    "duration": 173,
    "start_time": "2022-10-21T09:04:40.964Z"
   },
   {
    "duration": 6,
    "start_time": "2022-10-21T09:04:41.140Z"
   },
   {
    "duration": 49,
    "start_time": "2022-10-21T09:04:41.148Z"
   },
   {
    "duration": 78,
    "start_time": "2022-10-21T09:04:41.199Z"
   },
   {
    "duration": 2425,
    "start_time": "2022-10-21T09:04:41.279Z"
   },
   {
    "duration": 428,
    "start_time": "2022-10-21T09:04:43.706Z"
   },
   {
    "duration": 637,
    "start_time": "2022-10-21T09:04:44.136Z"
   },
   {
    "duration": 48,
    "start_time": "2022-10-21T09:04:44.775Z"
   },
   {
    "duration": 31,
    "start_time": "2022-10-21T09:04:44.825Z"
   },
   {
    "duration": 10,
    "start_time": "2022-10-21T09:04:44.858Z"
   },
   {
    "duration": 58,
    "start_time": "2022-10-21T09:04:44.870Z"
   },
   {
    "duration": 33,
    "start_time": "2022-10-21T09:04:44.930Z"
   },
   {
    "duration": 35,
    "start_time": "2022-10-21T09:04:44.965Z"
   },
   {
    "duration": 34,
    "start_time": "2022-10-21T09:04:45.025Z"
   },
   {
    "duration": 32,
    "start_time": "2022-10-21T09:04:45.061Z"
   },
   {
    "duration": 33,
    "start_time": "2022-10-21T09:04:45.095Z"
   },
   {
    "duration": 7,
    "start_time": "2022-10-21T09:04:45.132Z"
   },
   {
    "duration": 43,
    "start_time": "2022-10-21T09:04:45.141Z"
   },
   {
    "duration": 12,
    "start_time": "2022-10-21T09:04:45.186Z"
   },
   {
    "duration": 6,
    "start_time": "2022-10-21T09:04:45.225Z"
   },
   {
    "duration": 62,
    "start_time": "2022-10-21T09:04:45.232Z"
   },
   {
    "duration": 39,
    "start_time": "2022-10-21T09:04:45.296Z"
   },
   {
    "duration": 37,
    "start_time": "2022-10-21T09:04:45.337Z"
   },
   {
    "duration": 20,
    "start_time": "2022-10-21T09:04:45.375Z"
   },
   {
    "duration": 28,
    "start_time": "2022-10-21T09:04:45.397Z"
   },
   {
    "duration": 8,
    "start_time": "2022-10-21T09:04:45.428Z"
   },
   {
    "duration": 28,
    "start_time": "2022-10-21T09:04:45.438Z"
   },
   {
    "duration": 17,
    "start_time": "2022-10-21T09:04:45.468Z"
   },
   {
    "duration": 27,
    "start_time": "2022-10-21T09:04:45.524Z"
   },
   {
    "duration": 26,
    "start_time": "2022-10-21T09:04:45.553Z"
   },
   {
    "duration": 50,
    "start_time": "2022-10-21T09:04:45.582Z"
   },
   {
    "duration": 9,
    "start_time": "2022-10-21T09:04:45.634Z"
   },
   {
    "duration": 14,
    "start_time": "2022-10-21T09:04:45.645Z"
   },
   {
    "duration": 13,
    "start_time": "2022-10-21T09:04:45.661Z"
   },
   {
    "duration": 49,
    "start_time": "2022-10-21T09:04:45.676Z"
   },
   {
    "duration": 13,
    "start_time": "2022-10-21T09:04:45.728Z"
   },
   {
    "duration": 35,
    "start_time": "2022-10-21T09:04:45.743Z"
   },
   {
    "duration": 51,
    "start_time": "2022-10-21T09:04:45.781Z"
   },
   {
    "duration": 17,
    "start_time": "2022-10-21T09:04:45.834Z"
   },
   {
    "duration": 18,
    "start_time": "2022-10-21T09:04:45.853Z"
   },
   {
    "duration": 4,
    "start_time": "2022-10-21T09:04:45.872Z"
   },
   {
    "duration": 10,
    "start_time": "2022-10-21T09:04:45.878Z"
   },
   {
    "duration": 35,
    "start_time": "2022-10-21T09:04:45.891Z"
   },
   {
    "duration": 6,
    "start_time": "2022-10-21T09:04:45.929Z"
   },
   {
    "duration": 415,
    "start_time": "2022-10-21T09:06:07.259Z"
   },
   {
    "duration": 820,
    "start_time": "2022-10-21T09:14:20.607Z"
   },
   {
    "duration": 802,
    "start_time": "2022-10-21T09:14:29.807Z"
   },
   {
    "duration": 6,
    "start_time": "2022-10-21T09:15:30.428Z"
   },
   {
    "duration": 5,
    "start_time": "2022-10-21T09:15:40.607Z"
   },
   {
    "duration": 1272,
    "start_time": "2022-10-21T09:15:55.109Z"
   },
   {
    "duration": 108,
    "start_time": "2022-10-21T09:15:56.383Z"
   },
   {
    "duration": 20,
    "start_time": "2022-10-21T09:15:56.493Z"
   },
   {
    "duration": 566,
    "start_time": "2022-10-21T09:15:56.514Z"
   },
   {
    "duration": 52,
    "start_time": "2022-10-21T09:15:57.083Z"
   },
   {
    "duration": 27,
    "start_time": "2022-10-21T09:15:57.137Z"
   },
   {
    "duration": 80,
    "start_time": "2022-10-21T09:15:57.166Z"
   },
   {
    "duration": 13,
    "start_time": "2022-10-21T09:15:57.248Z"
   },
   {
    "duration": 36,
    "start_time": "2022-10-21T09:15:57.263Z"
   },
   {
    "duration": 6,
    "start_time": "2022-10-21T09:15:57.323Z"
   },
   {
    "duration": 38,
    "start_time": "2022-10-21T09:15:57.331Z"
   },
   {
    "duration": 164,
    "start_time": "2022-10-21T09:15:57.370Z"
   },
   {
    "duration": 5,
    "start_time": "2022-10-21T09:15:57.537Z"
   },
   {
    "duration": 48,
    "start_time": "2022-10-21T09:15:57.545Z"
   },
   {
    "duration": 78,
    "start_time": "2022-10-21T09:15:57.595Z"
   },
   {
    "duration": 6,
    "start_time": "2022-10-21T09:15:57.675Z"
   },
   {
    "duration": 876,
    "start_time": "2022-10-21T09:15:57.683Z"
   },
   {
    "duration": 0,
    "start_time": "2022-10-21T09:15:58.562Z"
   },
   {
    "duration": 0,
    "start_time": "2022-10-21T09:15:58.563Z"
   },
   {
    "duration": 0,
    "start_time": "2022-10-21T09:15:58.564Z"
   },
   {
    "duration": 0,
    "start_time": "2022-10-21T09:15:58.565Z"
   },
   {
    "duration": 0,
    "start_time": "2022-10-21T09:15:58.566Z"
   },
   {
    "duration": 0,
    "start_time": "2022-10-21T09:15:58.567Z"
   },
   {
    "duration": 0,
    "start_time": "2022-10-21T09:15:58.569Z"
   },
   {
    "duration": 0,
    "start_time": "2022-10-21T09:15:58.570Z"
   },
   {
    "duration": 0,
    "start_time": "2022-10-21T09:15:58.571Z"
   },
   {
    "duration": 0,
    "start_time": "2022-10-21T09:15:58.573Z"
   },
   {
    "duration": 0,
    "start_time": "2022-10-21T09:15:58.574Z"
   },
   {
    "duration": 0,
    "start_time": "2022-10-21T09:15:58.575Z"
   },
   {
    "duration": 1,
    "start_time": "2022-10-21T09:15:58.576Z"
   },
   {
    "duration": 0,
    "start_time": "2022-10-21T09:15:58.578Z"
   },
   {
    "duration": 0,
    "start_time": "2022-10-21T09:15:58.581Z"
   },
   {
    "duration": 0,
    "start_time": "2022-10-21T09:15:58.581Z"
   },
   {
    "duration": 0,
    "start_time": "2022-10-21T09:15:58.583Z"
   },
   {
    "duration": 0,
    "start_time": "2022-10-21T09:15:58.584Z"
   },
   {
    "duration": 0,
    "start_time": "2022-10-21T09:15:58.584Z"
   },
   {
    "duration": 0,
    "start_time": "2022-10-21T09:15:58.624Z"
   },
   {
    "duration": 0,
    "start_time": "2022-10-21T09:15:58.626Z"
   },
   {
    "duration": 0,
    "start_time": "2022-10-21T09:15:58.627Z"
   },
   {
    "duration": 0,
    "start_time": "2022-10-21T09:15:58.628Z"
   },
   {
    "duration": 0,
    "start_time": "2022-10-21T09:15:58.630Z"
   },
   {
    "duration": 0,
    "start_time": "2022-10-21T09:15:58.631Z"
   },
   {
    "duration": 0,
    "start_time": "2022-10-21T09:15:58.632Z"
   },
   {
    "duration": 0,
    "start_time": "2022-10-21T09:15:58.633Z"
   },
   {
    "duration": 0,
    "start_time": "2022-10-21T09:15:58.634Z"
   },
   {
    "duration": 0,
    "start_time": "2022-10-21T09:15:58.636Z"
   },
   {
    "duration": 0,
    "start_time": "2022-10-21T09:15:58.637Z"
   },
   {
    "duration": 0,
    "start_time": "2022-10-21T09:15:58.638Z"
   },
   {
    "duration": 0,
    "start_time": "2022-10-21T09:15:58.639Z"
   },
   {
    "duration": 0,
    "start_time": "2022-10-21T09:15:58.640Z"
   },
   {
    "duration": 0,
    "start_time": "2022-10-21T09:15:58.641Z"
   },
   {
    "duration": 0,
    "start_time": "2022-10-21T09:15:58.643Z"
   },
   {
    "duration": 0,
    "start_time": "2022-10-21T09:15:58.644Z"
   },
   {
    "duration": 0,
    "start_time": "2022-10-21T09:15:58.645Z"
   },
   {
    "duration": 0,
    "start_time": "2022-10-21T09:15:58.646Z"
   },
   {
    "duration": 0,
    "start_time": "2022-10-21T09:15:58.648Z"
   },
   {
    "duration": 0,
    "start_time": "2022-10-21T09:15:58.649Z"
   },
   {
    "duration": 7,
    "start_time": "2022-10-21T09:19:41.881Z"
   },
   {
    "duration": 2149,
    "start_time": "2022-10-21T09:21:57.160Z"
   },
   {
    "duration": 1258,
    "start_time": "2022-10-21T09:22:19.432Z"
   },
   {
    "duration": 159,
    "start_time": "2022-10-21T09:22:20.692Z"
   },
   {
    "duration": 22,
    "start_time": "2022-10-21T09:22:20.852Z"
   },
   {
    "duration": 620,
    "start_time": "2022-10-21T09:22:20.876Z"
   },
   {
    "duration": 55,
    "start_time": "2022-10-21T09:22:21.498Z"
   },
   {
    "duration": 27,
    "start_time": "2022-10-21T09:22:21.555Z"
   },
   {
    "duration": 89,
    "start_time": "2022-10-21T09:22:21.584Z"
   },
   {
    "duration": 15,
    "start_time": "2022-10-21T09:22:21.674Z"
   },
   {
    "duration": 56,
    "start_time": "2022-10-21T09:22:21.692Z"
   },
   {
    "duration": 6,
    "start_time": "2022-10-21T09:22:21.750Z"
   },
   {
    "duration": 71,
    "start_time": "2022-10-21T09:22:21.758Z"
   },
   {
    "duration": 204,
    "start_time": "2022-10-21T09:22:21.832Z"
   },
   {
    "duration": 7,
    "start_time": "2022-10-21T09:22:22.038Z"
   },
   {
    "duration": 53,
    "start_time": "2022-10-21T09:22:22.049Z"
   },
   {
    "duration": 2110,
    "start_time": "2022-10-21T09:22:22.104Z"
   },
   {
    "duration": 416,
    "start_time": "2022-10-21T09:22:24.216Z"
   },
   {
    "duration": 640,
    "start_time": "2022-10-21T09:22:24.634Z"
   },
   {
    "duration": 30,
    "start_time": "2022-10-21T09:22:25.277Z"
   },
   {
    "duration": 27,
    "start_time": "2022-10-21T09:22:25.323Z"
   },
   {
    "duration": 8,
    "start_time": "2022-10-21T09:22:25.352Z"
   },
   {
    "duration": 41,
    "start_time": "2022-10-21T09:22:25.362Z"
   },
   {
    "duration": 47,
    "start_time": "2022-10-21T09:22:25.405Z"
   },
   {
    "duration": 33,
    "start_time": "2022-10-21T09:22:25.454Z"
   },
   {
    "duration": 48,
    "start_time": "2022-10-21T09:22:25.489Z"
   },
   {
    "duration": 31,
    "start_time": "2022-10-21T09:22:25.538Z"
   },
   {
    "duration": 25,
    "start_time": "2022-10-21T09:22:25.571Z"
   },
   {
    "duration": 20,
    "start_time": "2022-10-21T09:22:25.597Z"
   },
   {
    "duration": 65,
    "start_time": "2022-10-21T09:22:25.619Z"
   },
   {
    "duration": 11,
    "start_time": "2022-10-21T09:22:25.685Z"
   },
   {
    "duration": 23,
    "start_time": "2022-10-21T09:22:25.698Z"
   },
   {
    "duration": 83,
    "start_time": "2022-10-21T09:22:25.723Z"
   },
   {
    "duration": 21,
    "start_time": "2022-10-21T09:22:25.808Z"
   },
   {
    "duration": 416,
    "start_time": "2022-10-21T09:22:25.831Z"
   },
   {
    "duration": 33,
    "start_time": "2022-10-21T09:22:26.249Z"
   },
   {
    "duration": 34,
    "start_time": "2022-10-21T09:22:26.284Z"
   },
   {
    "duration": 8,
    "start_time": "2022-10-21T09:22:26.323Z"
   },
   {
    "duration": 17,
    "start_time": "2022-10-21T09:22:26.333Z"
   },
   {
    "duration": 57,
    "start_time": "2022-10-21T09:22:26.352Z"
   },
   {
    "duration": 14,
    "start_time": "2022-10-21T09:22:26.410Z"
   },
   {
    "duration": 27,
    "start_time": "2022-10-21T09:22:26.426Z"
   },
   {
    "duration": 24,
    "start_time": "2022-10-21T09:22:26.457Z"
   },
   {
    "duration": 24,
    "start_time": "2022-10-21T09:22:26.483Z"
   },
   {
    "duration": 18,
    "start_time": "2022-10-21T09:22:26.509Z"
   },
   {
    "duration": 35,
    "start_time": "2022-10-21T09:22:26.529Z"
   },
   {
    "duration": 16,
    "start_time": "2022-10-21T09:22:26.566Z"
   },
   {
    "duration": 40,
    "start_time": "2022-10-21T09:22:26.584Z"
   },
   {
    "duration": 16,
    "start_time": "2022-10-21T09:22:26.625Z"
   },
   {
    "duration": 37,
    "start_time": "2022-10-21T09:22:26.643Z"
   },
   {
    "duration": 17,
    "start_time": "2022-10-21T09:22:26.683Z"
   },
   {
    "duration": 31,
    "start_time": "2022-10-21T09:22:26.702Z"
   },
   {
    "duration": 22,
    "start_time": "2022-10-21T09:22:26.735Z"
   },
   {
    "duration": 4,
    "start_time": "2022-10-21T09:22:26.760Z"
   },
   {
    "duration": 29,
    "start_time": "2022-10-21T09:22:26.766Z"
   },
   {
    "duration": 20,
    "start_time": "2022-10-21T09:22:26.797Z"
   },
   {
    "duration": 24,
    "start_time": "2022-10-21T09:22:26.819Z"
   },
   {
    "duration": 328,
    "start_time": "2022-10-21T09:44:12.375Z"
   },
   {
    "duration": 22,
    "start_time": "2022-10-21T10:03:35.548Z"
   },
   {
    "duration": 32,
    "start_time": "2022-10-21T10:03:45.801Z"
   },
   {
    "duration": 9,
    "start_time": "2022-10-21T10:04:08.319Z"
   },
   {
    "duration": 4,
    "start_time": "2022-10-21T10:04:58.533Z"
   },
   {
    "duration": 21,
    "start_time": "2022-10-21T10:05:01.962Z"
   },
   {
    "duration": 27,
    "start_time": "2022-10-21T10:05:15.572Z"
   },
   {
    "duration": 14,
    "start_time": "2022-10-21T10:05:56.424Z"
   },
   {
    "duration": 13,
    "start_time": "2022-10-21T10:06:09.170Z"
   },
   {
    "duration": 12,
    "start_time": "2022-10-21T10:06:18.623Z"
   },
   {
    "duration": 1184,
    "start_time": "2022-10-21T10:06:20.736Z"
   },
   {
    "duration": 958,
    "start_time": "2022-10-21T10:06:35.108Z"
   },
   {
    "duration": 1376,
    "start_time": "2022-10-21T10:06:41.403Z"
   },
   {
    "duration": 119,
    "start_time": "2022-10-21T10:06:42.781Z"
   },
   {
    "duration": 21,
    "start_time": "2022-10-21T10:06:42.902Z"
   },
   {
    "duration": 576,
    "start_time": "2022-10-21T10:06:42.925Z"
   },
   {
    "duration": 48,
    "start_time": "2022-10-21T10:06:43.504Z"
   },
   {
    "duration": 23,
    "start_time": "2022-10-21T10:06:43.554Z"
   },
   {
    "duration": 94,
    "start_time": "2022-10-21T10:06:43.579Z"
   },
   {
    "duration": 13,
    "start_time": "2022-10-21T10:06:43.675Z"
   },
   {
    "duration": 14,
    "start_time": "2022-10-21T10:06:43.689Z"
   },
   {
    "duration": 1017,
    "start_time": "2022-10-21T10:06:43.705Z"
   },
   {
    "duration": 0,
    "start_time": "2022-10-21T10:06:44.725Z"
   },
   {
    "duration": 0,
    "start_time": "2022-10-21T10:06:44.726Z"
   },
   {
    "duration": 0,
    "start_time": "2022-10-21T10:06:44.727Z"
   },
   {
    "duration": 0,
    "start_time": "2022-10-21T10:06:44.728Z"
   },
   {
    "duration": 0,
    "start_time": "2022-10-21T10:06:44.730Z"
   },
   {
    "duration": 0,
    "start_time": "2022-10-21T10:06:44.731Z"
   },
   {
    "duration": 0,
    "start_time": "2022-10-21T10:06:44.732Z"
   },
   {
    "duration": 0,
    "start_time": "2022-10-21T10:06:44.733Z"
   },
   {
    "duration": 0,
    "start_time": "2022-10-21T10:06:44.734Z"
   },
   {
    "duration": 0,
    "start_time": "2022-10-21T10:06:44.735Z"
   },
   {
    "duration": 0,
    "start_time": "2022-10-21T10:06:44.736Z"
   },
   {
    "duration": 0,
    "start_time": "2022-10-21T10:06:44.737Z"
   },
   {
    "duration": 0,
    "start_time": "2022-10-21T10:06:44.738Z"
   },
   {
    "duration": 0,
    "start_time": "2022-10-21T10:06:44.739Z"
   },
   {
    "duration": 0,
    "start_time": "2022-10-21T10:06:44.740Z"
   },
   {
    "duration": 0,
    "start_time": "2022-10-21T10:06:44.741Z"
   },
   {
    "duration": 0,
    "start_time": "2022-10-21T10:06:44.742Z"
   },
   {
    "duration": 0,
    "start_time": "2022-10-21T10:06:44.743Z"
   },
   {
    "duration": 0,
    "start_time": "2022-10-21T10:06:44.744Z"
   },
   {
    "duration": 0,
    "start_time": "2022-10-21T10:06:44.745Z"
   },
   {
    "duration": 0,
    "start_time": "2022-10-21T10:06:44.746Z"
   },
   {
    "duration": 0,
    "start_time": "2022-10-21T10:06:44.747Z"
   },
   {
    "duration": 0,
    "start_time": "2022-10-21T10:06:44.748Z"
   },
   {
    "duration": 0,
    "start_time": "2022-10-21T10:06:44.749Z"
   },
   {
    "duration": 0,
    "start_time": "2022-10-21T10:06:44.750Z"
   },
   {
    "duration": 0,
    "start_time": "2022-10-21T10:06:44.752Z"
   },
   {
    "duration": 0,
    "start_time": "2022-10-21T10:06:44.753Z"
   },
   {
    "duration": 0,
    "start_time": "2022-10-21T10:06:44.754Z"
   },
   {
    "duration": 0,
    "start_time": "2022-10-21T10:06:44.755Z"
   },
   {
    "duration": 0,
    "start_time": "2022-10-21T10:06:44.756Z"
   },
   {
    "duration": 0,
    "start_time": "2022-10-21T10:06:44.757Z"
   },
   {
    "duration": 0,
    "start_time": "2022-10-21T10:06:44.759Z"
   },
   {
    "duration": 0,
    "start_time": "2022-10-21T10:06:44.760Z"
   },
   {
    "duration": 0,
    "start_time": "2022-10-21T10:06:44.761Z"
   },
   {
    "duration": 0,
    "start_time": "2022-10-21T10:06:44.824Z"
   },
   {
    "duration": 0,
    "start_time": "2022-10-21T10:06:44.825Z"
   },
   {
    "duration": 0,
    "start_time": "2022-10-21T10:06:44.826Z"
   },
   {
    "duration": 0,
    "start_time": "2022-10-21T10:06:44.827Z"
   },
   {
    "duration": 0,
    "start_time": "2022-10-21T10:06:44.828Z"
   },
   {
    "duration": 0,
    "start_time": "2022-10-21T10:06:44.829Z"
   },
   {
    "duration": 0,
    "start_time": "2022-10-21T10:06:44.830Z"
   },
   {
    "duration": 0,
    "start_time": "2022-10-21T10:06:44.831Z"
   },
   {
    "duration": 0,
    "start_time": "2022-10-21T10:06:44.832Z"
   },
   {
    "duration": 0,
    "start_time": "2022-10-21T10:06:44.833Z"
   },
   {
    "duration": 0,
    "start_time": "2022-10-21T10:06:44.834Z"
   },
   {
    "duration": 0,
    "start_time": "2022-10-21T10:06:44.835Z"
   },
   {
    "duration": 0,
    "start_time": "2022-10-21T10:06:44.836Z"
   },
   {
    "duration": 838,
    "start_time": "2022-10-21T10:07:28.403Z"
   },
   {
    "duration": 1399,
    "start_time": "2022-10-21T10:07:47.694Z"
   },
   {
    "duration": 112,
    "start_time": "2022-10-21T10:07:49.095Z"
   },
   {
    "duration": 20,
    "start_time": "2022-10-21T10:07:49.209Z"
   },
   {
    "duration": 590,
    "start_time": "2022-10-21T10:07:49.231Z"
   },
   {
    "duration": 44,
    "start_time": "2022-10-21T10:07:49.824Z"
   },
   {
    "duration": 25,
    "start_time": "2022-10-21T10:07:49.870Z"
   },
   {
    "duration": 95,
    "start_time": "2022-10-21T10:07:49.897Z"
   },
   {
    "duration": 41,
    "start_time": "2022-10-21T10:07:49.994Z"
   },
   {
    "duration": 26,
    "start_time": "2022-10-21T10:07:50.037Z"
   },
   {
    "duration": 13,
    "start_time": "2022-10-21T10:07:50.065Z"
   },
   {
    "duration": 68,
    "start_time": "2022-10-21T10:07:50.079Z"
   },
   {
    "duration": 5,
    "start_time": "2022-10-21T10:07:50.148Z"
   },
   {
    "duration": 35,
    "start_time": "2022-10-21T10:07:50.155Z"
   },
   {
    "duration": 184,
    "start_time": "2022-10-21T10:07:50.193Z"
   },
   {
    "duration": 7,
    "start_time": "2022-10-21T10:07:50.379Z"
   },
   {
    "duration": 65,
    "start_time": "2022-10-21T10:07:50.387Z"
   },
   {
    "duration": 2250,
    "start_time": "2022-10-21T10:07:50.455Z"
   },
   {
    "duration": 464,
    "start_time": "2022-10-21T10:07:52.707Z"
   },
   {
    "duration": 640,
    "start_time": "2022-10-21T10:07:53.173Z"
   },
   {
    "duration": 38,
    "start_time": "2022-10-21T10:07:53.815Z"
   },
   {
    "duration": 30,
    "start_time": "2022-10-21T10:07:53.856Z"
   },
   {
    "duration": 10,
    "start_time": "2022-10-21T10:07:53.888Z"
   },
   {
    "duration": 33,
    "start_time": "2022-10-21T10:07:53.928Z"
   },
   {
    "duration": 40,
    "start_time": "2022-10-21T10:07:53.963Z"
   },
   {
    "duration": 52,
    "start_time": "2022-10-21T10:07:54.005Z"
   },
   {
    "duration": 35,
    "start_time": "2022-10-21T10:07:54.059Z"
   },
   {
    "duration": 49,
    "start_time": "2022-10-21T10:07:54.096Z"
   },
   {
    "duration": 14,
    "start_time": "2022-10-21T10:07:54.147Z"
   },
   {
    "duration": 18,
    "start_time": "2022-10-21T10:07:54.163Z"
   },
   {
    "duration": 59,
    "start_time": "2022-10-21T10:07:54.184Z"
   },
   {
    "duration": 13,
    "start_time": "2022-10-21T10:07:54.244Z"
   },
   {
    "duration": 20,
    "start_time": "2022-10-21T10:07:54.259Z"
   },
   {
    "duration": 79,
    "start_time": "2022-10-21T10:07:54.281Z"
   },
   {
    "duration": 23,
    "start_time": "2022-10-21T10:07:54.362Z"
   },
   {
    "duration": 444,
    "start_time": "2022-10-21T10:07:54.387Z"
   },
   {
    "duration": 38,
    "start_time": "2022-10-21T10:07:54.833Z"
   },
   {
    "duration": 23,
    "start_time": "2022-10-21T10:07:54.873Z"
   },
   {
    "duration": 26,
    "start_time": "2022-10-21T10:07:54.899Z"
   },
   {
    "duration": 8,
    "start_time": "2022-10-21T10:07:54.928Z"
   },
   {
    "duration": 29,
    "start_time": "2022-10-21T10:07:54.938Z"
   },
   {
    "duration": 52,
    "start_time": "2022-10-21T10:07:54.971Z"
   },
   {
    "duration": 30,
    "start_time": "2022-10-21T10:07:55.025Z"
   },
   {
    "duration": 30,
    "start_time": "2022-10-21T10:07:55.057Z"
   },
   {
    "duration": 52,
    "start_time": "2022-10-21T10:07:55.088Z"
   },
   {
    "duration": 8,
    "start_time": "2022-10-21T10:07:55.142Z"
   },
   {
    "duration": 17,
    "start_time": "2022-10-21T10:07:55.152Z"
   },
   {
    "duration": 18,
    "start_time": "2022-10-21T10:07:55.172Z"
   },
   {
    "duration": 46,
    "start_time": "2022-10-21T10:07:55.193Z"
   },
   {
    "duration": 16,
    "start_time": "2022-10-21T10:07:55.241Z"
   },
   {
    "duration": 72,
    "start_time": "2022-10-21T10:07:55.259Z"
   },
   {
    "duration": 20,
    "start_time": "2022-10-21T10:07:55.335Z"
   },
   {
    "duration": 20,
    "start_time": "2022-10-21T10:07:55.357Z"
   },
   {
    "duration": 48,
    "start_time": "2022-10-21T10:07:55.379Z"
   },
   {
    "duration": 6,
    "start_time": "2022-10-21T10:07:55.430Z"
   },
   {
    "duration": 23,
    "start_time": "2022-10-21T10:07:55.438Z"
   },
   {
    "duration": 6,
    "start_time": "2022-10-21T10:07:55.463Z"
   },
   {
    "duration": 6,
    "start_time": "2022-10-21T10:07:55.471Z"
   },
   {
    "duration": 30,
    "start_time": "2022-10-21T10:17:36.019Z"
   },
   {
    "duration": 23,
    "start_time": "2022-10-21T10:18:37.509Z"
   },
   {
    "duration": 6463,
    "start_time": "2022-10-21T10:22:15.821Z"
   },
   {
    "duration": 2153,
    "start_time": "2022-10-21T10:22:59.457Z"
   },
   {
    "duration": 325,
    "start_time": "2022-10-21T10:26:46.912Z"
   },
   {
    "duration": 317,
    "start_time": "2022-10-21T10:27:01.576Z"
   },
   {
    "duration": 204,
    "start_time": "2022-10-21T10:27:22.958Z"
   },
   {
    "duration": 465,
    "start_time": "2022-10-21T10:28:01.804Z"
   },
   {
    "duration": 392,
    "start_time": "2022-10-21T10:28:07.962Z"
   },
   {
    "duration": 252,
    "start_time": "2022-10-21T10:28:51.661Z"
   },
   {
    "duration": 222,
    "start_time": "2022-10-21T10:29:01.392Z"
   },
   {
    "duration": 426,
    "start_time": "2022-10-21T10:29:08.910Z"
   },
   {
    "duration": 781,
    "start_time": "2022-10-21T10:33:53.021Z"
   },
   {
    "duration": 23,
    "start_time": "2022-10-21T10:39:07.112Z"
   },
   {
    "duration": 5,
    "start_time": "2022-10-21T10:49:02.271Z"
   },
   {
    "duration": 30,
    "start_time": "2022-10-21T10:59:08.259Z"
   },
   {
    "duration": 31,
    "start_time": "2022-10-21T10:59:43.556Z"
   },
   {
    "duration": 52,
    "start_time": "2022-10-21T11:00:58.887Z"
   },
   {
    "duration": 57,
    "start_time": "2022-10-21T11:01:10.907Z"
   },
   {
    "duration": 53,
    "start_time": "2022-10-21T11:01:18.818Z"
   },
   {
    "duration": 3,
    "start_time": "2022-10-21T11:02:10.294Z"
   },
   {
    "duration": 59,
    "start_time": "2022-10-21T11:03:44.498Z"
   },
   {
    "duration": 39,
    "start_time": "2022-10-21T11:06:07.353Z"
   },
   {
    "duration": 1630,
    "start_time": "2022-10-21T11:06:15.036Z"
   },
   {
    "duration": 258,
    "start_time": "2022-10-21T11:06:16.668Z"
   },
   {
    "duration": 23,
    "start_time": "2022-10-21T11:06:16.929Z"
   },
   {
    "duration": 1281,
    "start_time": "2022-10-21T11:06:16.954Z"
   },
   {
    "duration": 107,
    "start_time": "2022-10-21T11:06:18.237Z"
   },
   {
    "duration": 82,
    "start_time": "2022-10-21T11:06:18.347Z"
   },
   {
    "duration": 75,
    "start_time": "2022-10-21T11:06:18.431Z"
   },
   {
    "duration": 15,
    "start_time": "2022-10-21T11:06:18.525Z"
   },
   {
    "duration": 38,
    "start_time": "2022-10-21T11:06:18.541Z"
   },
   {
    "duration": 5,
    "start_time": "2022-10-21T11:06:18.582Z"
   },
   {
    "duration": 60,
    "start_time": "2022-10-21T11:06:18.589Z"
   },
   {
    "duration": 164,
    "start_time": "2022-10-21T11:06:18.651Z"
   },
   {
    "duration": 10,
    "start_time": "2022-10-21T11:06:18.817Z"
   },
   {
    "duration": 24,
    "start_time": "2022-10-21T11:06:18.829Z"
   },
   {
    "duration": 2261,
    "start_time": "2022-10-21T11:06:18.855Z"
   },
   {
    "duration": 440,
    "start_time": "2022-10-21T11:06:21.118Z"
   },
   {
    "duration": 732,
    "start_time": "2022-10-21T11:06:21.561Z"
   },
   {
    "duration": 35,
    "start_time": "2022-10-21T11:06:22.294Z"
   },
   {
    "duration": 26,
    "start_time": "2022-10-21T11:06:22.331Z"
   },
   {
    "duration": 32,
    "start_time": "2022-10-21T11:06:22.359Z"
   },
   {
    "duration": 55,
    "start_time": "2022-10-21T11:06:22.393Z"
   },
   {
    "duration": 27,
    "start_time": "2022-10-21T11:06:22.450Z"
   },
   {
    "duration": 48,
    "start_time": "2022-10-21T11:06:22.479Z"
   },
   {
    "duration": 11,
    "start_time": "2022-10-21T11:06:22.529Z"
   },
   {
    "duration": 7,
    "start_time": "2022-10-21T11:06:22.542Z"
   },
   {
    "duration": 37,
    "start_time": "2022-10-21T11:06:22.550Z"
   },
   {
    "duration": 3,
    "start_time": "2022-10-21T11:06:22.589Z"
   },
   {
    "duration": 7,
    "start_time": "2022-10-21T11:06:22.623Z"
   },
   {
    "duration": 57,
    "start_time": "2022-10-21T11:06:22.632Z"
   },
   {
    "duration": 39,
    "start_time": "2022-10-21T11:06:22.691Z"
   },
   {
    "duration": 661,
    "start_time": "2022-10-21T11:06:22.731Z"
   },
   {
    "duration": 53,
    "start_time": "2022-10-21T11:06:23.394Z"
   },
   {
    "duration": 19,
    "start_time": "2022-10-21T11:06:23.449Z"
   },
   {
    "duration": 6,
    "start_time": "2022-10-21T11:06:23.470Z"
   },
   {
    "duration": 15,
    "start_time": "2022-10-21T11:06:23.477Z"
   },
   {
    "duration": 62,
    "start_time": "2022-10-21T11:06:23.494Z"
   },
   {
    "duration": 21,
    "start_time": "2022-10-21T11:06:23.558Z"
   },
   {
    "duration": 48,
    "start_time": "2022-10-21T11:06:23.581Z"
   },
   {
    "duration": 25,
    "start_time": "2022-10-21T11:06:23.631Z"
   },
   {
    "duration": 26,
    "start_time": "2022-10-21T11:06:23.658Z"
   },
   {
    "duration": 6,
    "start_time": "2022-10-21T11:06:23.687Z"
   },
   {
    "duration": 38,
    "start_time": "2022-10-21T11:06:23.695Z"
   },
   {
    "duration": 12,
    "start_time": "2022-10-21T11:06:23.735Z"
   },
   {
    "duration": 12,
    "start_time": "2022-10-21T11:06:23.748Z"
   },
   {
    "duration": 17,
    "start_time": "2022-10-21T11:06:23.761Z"
   },
   {
    "duration": 73,
    "start_time": "2022-10-21T11:06:23.780Z"
   },
   {
    "duration": 17,
    "start_time": "2022-10-21T11:06:23.855Z"
   },
   {
    "duration": 16,
    "start_time": "2022-10-21T11:06:23.873Z"
   },
   {
    "duration": 45,
    "start_time": "2022-10-21T11:06:23.891Z"
   },
   {
    "duration": 4,
    "start_time": "2022-10-21T11:06:23.938Z"
   },
   {
    "duration": 8,
    "start_time": "2022-10-21T11:06:23.944Z"
   },
   {
    "duration": 9,
    "start_time": "2022-10-21T11:06:23.955Z"
   },
   {
    "duration": 9,
    "start_time": "2022-10-21T11:06:23.965Z"
   },
   {
    "duration": 25,
    "start_time": "2022-10-21T11:07:10.519Z"
   },
   {
    "duration": 8,
    "start_time": "2022-10-21T11:07:15.923Z"
   },
   {
    "duration": 116,
    "start_time": "2022-10-21T11:07:52.668Z"
   },
   {
    "duration": 26,
    "start_time": "2022-10-21T11:07:59.326Z"
   },
   {
    "duration": 659,
    "start_time": "2022-10-21T11:09:43.800Z"
   },
   {
    "duration": 24,
    "start_time": "2022-10-21T11:19:44.116Z"
   },
   {
    "duration": 30,
    "start_time": "2022-10-21T11:19:46.252Z"
   },
   {
    "duration": 5,
    "start_time": "2022-10-21T11:23:49.345Z"
   },
   {
    "duration": 6,
    "start_time": "2022-10-21T11:23:55.708Z"
   },
   {
    "duration": 4,
    "start_time": "2022-10-21T11:24:08.176Z"
   },
   {
    "duration": 4,
    "start_time": "2022-10-21T11:24:13.249Z"
   },
   {
    "duration": 5,
    "start_time": "2022-10-21T11:24:27.696Z"
   },
   {
    "duration": 9,
    "start_time": "2022-10-21T11:24:52.780Z"
   },
   {
    "duration": 74,
    "start_time": "2022-10-21T11:25:32.295Z"
   },
   {
    "duration": 8,
    "start_time": "2022-10-21T11:25:37.552Z"
   },
   {
    "duration": 8,
    "start_time": "2022-10-21T11:25:49.419Z"
   },
   {
    "duration": 10,
    "start_time": "2022-10-21T11:26:09.314Z"
   },
   {
    "duration": 8,
    "start_time": "2022-10-21T11:26:22.525Z"
   },
   {
    "duration": 4,
    "start_time": "2022-10-21T11:29:45.808Z"
   },
   {
    "duration": 4,
    "start_time": "2022-10-21T11:51:42.926Z"
   },
   {
    "duration": 4,
    "start_time": "2022-10-21T11:51:45.860Z"
   },
   {
    "duration": 1277,
    "start_time": "2022-10-21T13:53:41.957Z"
   },
   {
    "duration": 140,
    "start_time": "2022-10-21T13:53:43.235Z"
   },
   {
    "duration": 19,
    "start_time": "2022-10-21T13:53:43.377Z"
   },
   {
    "duration": 494,
    "start_time": "2022-10-21T13:53:43.399Z"
   },
   {
    "duration": 41,
    "start_time": "2022-10-21T13:53:43.894Z"
   },
   {
    "duration": 20,
    "start_time": "2022-10-21T13:53:43.937Z"
   },
   {
    "duration": 73,
    "start_time": "2022-10-21T13:53:43.959Z"
   },
   {
    "duration": 12,
    "start_time": "2022-10-21T13:53:44.033Z"
   },
   {
    "duration": 29,
    "start_time": "2022-10-21T13:53:44.046Z"
   },
   {
    "duration": 4,
    "start_time": "2022-10-21T13:53:44.079Z"
   },
   {
    "duration": 51,
    "start_time": "2022-10-21T13:53:44.084Z"
   },
   {
    "duration": 122,
    "start_time": "2022-10-21T13:53:44.136Z"
   },
   {
    "duration": 4,
    "start_time": "2022-10-21T13:53:44.260Z"
   },
   {
    "duration": 21,
    "start_time": "2022-10-21T13:53:44.265Z"
   },
   {
    "duration": 1950,
    "start_time": "2022-10-21T13:53:44.287Z"
   },
   {
    "duration": 347,
    "start_time": "2022-10-21T13:53:46.238Z"
   },
   {
    "duration": 549,
    "start_time": "2022-10-21T13:53:46.586Z"
   },
   {
    "duration": 24,
    "start_time": "2022-10-21T13:53:47.137Z"
   },
   {
    "duration": 28,
    "start_time": "2022-10-21T13:53:47.162Z"
   },
   {
    "duration": 53,
    "start_time": "2022-10-21T13:53:47.192Z"
   },
   {
    "duration": 37,
    "start_time": "2022-10-21T13:53:47.247Z"
   },
   {
    "duration": 43,
    "start_time": "2022-10-21T13:53:47.286Z"
   },
   {
    "duration": 21,
    "start_time": "2022-10-21T13:53:47.331Z"
   },
   {
    "duration": 9,
    "start_time": "2022-10-21T13:53:47.354Z"
   },
   {
    "duration": 10,
    "start_time": "2022-10-21T13:53:47.365Z"
   },
   {
    "duration": 54,
    "start_time": "2022-10-21T13:53:47.377Z"
   },
   {
    "duration": 2,
    "start_time": "2022-10-21T13:53:47.433Z"
   },
   {
    "duration": 6,
    "start_time": "2022-10-21T13:53:47.438Z"
   },
   {
    "duration": 44,
    "start_time": "2022-10-21T13:53:59.824Z"
   },
   {
    "duration": 18,
    "start_time": "2022-10-21T13:54:01.832Z"
   },
   {
    "duration": 19,
    "start_time": "2022-10-21T13:54:47.352Z"
   },
   {
    "duration": 20,
    "start_time": "2022-10-21T13:54:52.672Z"
   },
   {
    "duration": 20,
    "start_time": "2022-10-21T14:00:45.197Z"
   },
   {
    "duration": 1410,
    "start_time": "2022-10-22T08:58:32.396Z"
   },
   {
    "duration": 130,
    "start_time": "2022-10-22T08:58:33.807Z"
   },
   {
    "duration": 20,
    "start_time": "2022-10-22T08:58:33.942Z"
   },
   {
    "duration": 836,
    "start_time": "2022-10-22T08:58:33.965Z"
   },
   {
    "duration": 28,
    "start_time": "2022-10-22T08:58:34.855Z"
   },
   {
    "duration": 271,
    "start_time": "2022-10-22T08:58:34.885Z"
   },
   {
    "duration": 0,
    "start_time": "2022-10-22T08:58:35.160Z"
   },
   {
    "duration": 0,
    "start_time": "2022-10-22T08:58:35.161Z"
   },
   {
    "duration": 0,
    "start_time": "2022-10-22T08:58:35.162Z"
   },
   {
    "duration": 0,
    "start_time": "2022-10-22T08:58:35.163Z"
   },
   {
    "duration": 0,
    "start_time": "2022-10-22T08:58:35.164Z"
   },
   {
    "duration": 0,
    "start_time": "2022-10-22T08:58:35.166Z"
   },
   {
    "duration": 0,
    "start_time": "2022-10-22T08:58:35.168Z"
   },
   {
    "duration": 1,
    "start_time": "2022-10-22T08:58:35.169Z"
   },
   {
    "duration": 0,
    "start_time": "2022-10-22T08:58:35.171Z"
   },
   {
    "duration": 0,
    "start_time": "2022-10-22T08:58:35.172Z"
   },
   {
    "duration": 0,
    "start_time": "2022-10-22T08:58:35.175Z"
   },
   {
    "duration": 0,
    "start_time": "2022-10-22T08:58:35.177Z"
   },
   {
    "duration": 0,
    "start_time": "2022-10-22T08:58:35.179Z"
   },
   {
    "duration": 0,
    "start_time": "2022-10-22T08:58:35.180Z"
   },
   {
    "duration": 0,
    "start_time": "2022-10-22T08:58:35.182Z"
   },
   {
    "duration": 0,
    "start_time": "2022-10-22T08:58:35.183Z"
   },
   {
    "duration": 0,
    "start_time": "2022-10-22T08:58:35.184Z"
   },
   {
    "duration": 0,
    "start_time": "2022-10-22T08:58:35.185Z"
   },
   {
    "duration": 0,
    "start_time": "2022-10-22T08:58:35.186Z"
   },
   {
    "duration": 0,
    "start_time": "2022-10-22T08:58:35.188Z"
   },
   {
    "duration": 0,
    "start_time": "2022-10-22T08:58:35.189Z"
   },
   {
    "duration": 0,
    "start_time": "2022-10-22T08:58:35.190Z"
   },
   {
    "duration": 0,
    "start_time": "2022-10-22T08:58:35.191Z"
   },
   {
    "duration": 0,
    "start_time": "2022-10-22T08:58:35.192Z"
   },
   {
    "duration": 0,
    "start_time": "2022-10-22T08:58:35.193Z"
   },
   {
    "duration": 0,
    "start_time": "2022-10-22T08:58:35.255Z"
   },
   {
    "duration": 0,
    "start_time": "2022-10-22T08:58:35.257Z"
   },
   {
    "duration": 0,
    "start_time": "2022-10-22T08:58:35.258Z"
   },
   {
    "duration": 0,
    "start_time": "2022-10-22T08:58:35.260Z"
   },
   {
    "duration": 0,
    "start_time": "2022-10-22T08:58:35.261Z"
   },
   {
    "duration": 0,
    "start_time": "2022-10-22T08:58:35.262Z"
   },
   {
    "duration": 0,
    "start_time": "2022-10-22T08:58:35.263Z"
   },
   {
    "duration": 0,
    "start_time": "2022-10-22T08:58:35.265Z"
   },
   {
    "duration": 0,
    "start_time": "2022-10-22T08:58:35.266Z"
   },
   {
    "duration": 0,
    "start_time": "2022-10-22T08:58:35.267Z"
   },
   {
    "duration": 0,
    "start_time": "2022-10-22T08:58:35.269Z"
   },
   {
    "duration": 0,
    "start_time": "2022-10-22T08:58:35.270Z"
   },
   {
    "duration": 0,
    "start_time": "2022-10-22T08:58:35.272Z"
   },
   {
    "duration": 0,
    "start_time": "2022-10-22T08:58:35.273Z"
   },
   {
    "duration": 0,
    "start_time": "2022-10-22T08:58:35.275Z"
   },
   {
    "duration": 0,
    "start_time": "2022-10-22T08:58:35.276Z"
   },
   {
    "duration": 0,
    "start_time": "2022-10-22T08:58:35.277Z"
   },
   {
    "duration": 0,
    "start_time": "2022-10-22T08:58:35.278Z"
   },
   {
    "duration": 0,
    "start_time": "2022-10-22T08:58:35.279Z"
   },
   {
    "duration": 0,
    "start_time": "2022-10-22T08:58:35.280Z"
   },
   {
    "duration": 0,
    "start_time": "2022-10-22T08:58:35.281Z"
   },
   {
    "duration": 0,
    "start_time": "2022-10-22T08:58:35.282Z"
   },
   {
    "duration": 0,
    "start_time": "2022-10-22T08:58:35.283Z"
   },
   {
    "duration": 0,
    "start_time": "2022-10-22T08:58:35.284Z"
   },
   {
    "duration": 0,
    "start_time": "2022-10-22T08:58:35.285Z"
   },
   {
    "duration": 10,
    "start_time": "2022-10-22T08:58:49.286Z"
   },
   {
    "duration": 12,
    "start_time": "2022-10-22T08:59:00.274Z"
   },
   {
    "duration": 11,
    "start_time": "2022-10-22T08:59:13.866Z"
   },
   {
    "duration": 23,
    "start_time": "2022-10-22T08:59:19.973Z"
   },
   {
    "duration": 39,
    "start_time": "2022-10-22T08:59:24.441Z"
   },
   {
    "duration": 39,
    "start_time": "2022-10-22T08:59:45.341Z"
   },
   {
    "duration": 34,
    "start_time": "2022-10-22T09:01:52.148Z"
   },
   {
    "duration": 35,
    "start_time": "2022-10-22T09:02:17.437Z"
   },
   {
    "duration": 37,
    "start_time": "2022-10-22T09:02:42.051Z"
   },
   {
    "duration": 25,
    "start_time": "2022-10-22T09:08:46.290Z"
   },
   {
    "duration": 22,
    "start_time": "2022-10-22T09:08:50.887Z"
   },
   {
    "duration": 40,
    "start_time": "2022-10-22T09:08:59.163Z"
   },
   {
    "duration": 37,
    "start_time": "2022-10-22T09:09:03.647Z"
   },
   {
    "duration": 24,
    "start_time": "2022-10-22T09:09:12.339Z"
   },
   {
    "duration": 31,
    "start_time": "2022-10-22T09:09:16.413Z"
   },
   {
    "duration": 22,
    "start_time": "2022-10-22T09:09:54.032Z"
   },
   {
    "duration": 22,
    "start_time": "2022-10-22T09:10:09.993Z"
   },
   {
    "duration": 50,
    "start_time": "2022-10-22T09:10:19.940Z"
   },
   {
    "duration": 27,
    "start_time": "2022-10-22T09:10:23.466Z"
   },
   {
    "duration": 26,
    "start_time": "2022-10-22T09:11:04.265Z"
   },
   {
    "duration": 33,
    "start_time": "2022-10-22T09:12:01.358Z"
   },
   {
    "duration": 49,
    "start_time": "2022-10-22T09:12:20.730Z"
   },
   {
    "duration": 20,
    "start_time": "2022-10-22T09:12:33.285Z"
   },
   {
    "duration": 29,
    "start_time": "2022-10-22T09:12:38.355Z"
   },
   {
    "duration": 62,
    "start_time": "2022-10-22T09:15:21.548Z"
   },
   {
    "duration": 55,
    "start_time": "2022-10-22T09:15:33.656Z"
   },
   {
    "duration": 1335,
    "start_time": "2022-10-22T09:21:04.578Z"
   },
   {
    "duration": 85,
    "start_time": "2022-10-22T09:21:05.915Z"
   },
   {
    "duration": 22,
    "start_time": "2022-10-22T09:21:06.002Z"
   },
   {
    "duration": 638,
    "start_time": "2022-10-22T09:21:06.025Z"
   },
   {
    "duration": 42,
    "start_time": "2022-10-22T09:21:06.668Z"
   },
   {
    "duration": 70,
    "start_time": "2022-10-22T09:21:06.712Z"
   },
   {
    "duration": 22,
    "start_time": "2022-10-22T09:21:06.784Z"
   },
   {
    "duration": 22,
    "start_time": "2022-10-22T09:21:06.808Z"
   },
   {
    "duration": 95,
    "start_time": "2022-10-22T09:21:06.831Z"
   },
   {
    "duration": 26,
    "start_time": "2022-10-22T09:21:06.928Z"
   },
   {
    "duration": 41,
    "start_time": "2022-10-22T09:21:06.957Z"
   },
   {
    "duration": 5,
    "start_time": "2022-10-22T09:21:07.000Z"
   },
   {
    "duration": 49,
    "start_time": "2022-10-22T09:21:07.007Z"
   },
   {
    "duration": 151,
    "start_time": "2022-10-22T09:21:07.059Z"
   },
   {
    "duration": 5,
    "start_time": "2022-10-22T09:21:07.213Z"
   },
   {
    "duration": 41,
    "start_time": "2022-10-22T09:21:07.220Z"
   },
   {
    "duration": 2271,
    "start_time": "2022-10-22T09:21:07.264Z"
   },
   {
    "duration": 426,
    "start_time": "2022-10-22T09:21:09.538Z"
   },
   {
    "duration": 628,
    "start_time": "2022-10-22T09:21:09.967Z"
   },
   {
    "duration": 24,
    "start_time": "2022-10-22T09:21:10.597Z"
   },
   {
    "duration": 71,
    "start_time": "2022-10-22T09:21:10.624Z"
   },
   {
    "duration": 51,
    "start_time": "2022-10-22T09:21:10.697Z"
   },
   {
    "duration": 47,
    "start_time": "2022-10-22T09:21:10.750Z"
   },
   {
    "duration": 30,
    "start_time": "2022-10-22T09:21:10.799Z"
   },
   {
    "duration": 61,
    "start_time": "2022-10-22T09:21:10.831Z"
   },
   {
    "duration": 29,
    "start_time": "2022-10-22T09:21:10.894Z"
   },
   {
    "duration": 12,
    "start_time": "2022-10-22T09:21:10.925Z"
   },
   {
    "duration": 84,
    "start_time": "2022-10-22T09:21:10.939Z"
   },
   {
    "duration": 19,
    "start_time": "2022-10-22T09:21:11.026Z"
   },
   {
    "duration": 24,
    "start_time": "2022-10-22T09:21:11.047Z"
   },
   {
    "duration": 101,
    "start_time": "2022-10-22T09:21:11.078Z"
   },
   {
    "duration": 26,
    "start_time": "2022-10-22T09:21:11.183Z"
   },
   {
    "duration": 810,
    "start_time": "2022-10-22T09:21:11.211Z"
   },
   {
    "duration": 37,
    "start_time": "2022-10-22T09:21:12.025Z"
   },
   {
    "duration": 42,
    "start_time": "2022-10-22T09:21:12.067Z"
   },
   {
    "duration": 5,
    "start_time": "2022-10-22T09:21:12.112Z"
   },
   {
    "duration": 14,
    "start_time": "2022-10-22T09:21:12.119Z"
   },
   {
    "duration": 34,
    "start_time": "2022-10-22T09:21:12.136Z"
   },
   {
    "duration": 27,
    "start_time": "2022-10-22T09:21:12.173Z"
   },
   {
    "duration": 30,
    "start_time": "2022-10-22T09:21:12.202Z"
   },
   {
    "duration": 15,
    "start_time": "2022-10-22T09:21:12.237Z"
   },
   {
    "duration": 34,
    "start_time": "2022-10-22T09:21:12.254Z"
   },
   {
    "duration": 22,
    "start_time": "2022-10-22T09:21:12.290Z"
   },
   {
    "duration": 59,
    "start_time": "2022-10-22T09:21:12.314Z"
   },
   {
    "duration": 10,
    "start_time": "2022-10-22T09:21:12.375Z"
   },
   {
    "duration": 19,
    "start_time": "2022-10-22T09:21:12.387Z"
   },
   {
    "duration": 12,
    "start_time": "2022-10-22T09:21:12.408Z"
   },
   {
    "duration": 47,
    "start_time": "2022-10-22T09:21:12.422Z"
   },
   {
    "duration": 12,
    "start_time": "2022-10-22T09:21:12.472Z"
   },
   {
    "duration": 55,
    "start_time": "2022-10-22T09:21:12.487Z"
   },
   {
    "duration": 31,
    "start_time": "2022-10-22T09:21:12.544Z"
   },
   {
    "duration": 24,
    "start_time": "2022-10-22T09:21:12.578Z"
   },
   {
    "duration": 18,
    "start_time": "2022-10-22T09:21:12.604Z"
   },
   {
    "duration": 5,
    "start_time": "2022-10-22T09:21:12.624Z"
   },
   {
    "duration": 36,
    "start_time": "2022-10-22T09:21:12.632Z"
   },
   {
    "duration": 12,
    "start_time": "2022-10-22T09:21:12.676Z"
   },
   {
    "duration": 9,
    "start_time": "2022-10-22T09:21:12.690Z"
   },
   {
    "duration": 1337,
    "start_time": "2022-10-22T09:23:40.152Z"
   },
   {
    "duration": 93,
    "start_time": "2022-10-22T09:23:41.492Z"
   },
   {
    "duration": 34,
    "start_time": "2022-10-22T09:23:41.588Z"
   },
   {
    "duration": 714,
    "start_time": "2022-10-22T09:23:41.626Z"
   },
   {
    "duration": 54,
    "start_time": "2022-10-22T09:23:42.341Z"
   },
   {
    "duration": 40,
    "start_time": "2022-10-22T09:23:42.396Z"
   },
   {
    "duration": 49,
    "start_time": "2022-10-22T09:23:42.437Z"
   },
   {
    "duration": 30,
    "start_time": "2022-10-22T09:23:42.488Z"
   },
   {
    "duration": 94,
    "start_time": "2022-10-22T09:23:42.520Z"
   },
   {
    "duration": 13,
    "start_time": "2022-10-22T09:23:42.617Z"
   },
   {
    "duration": 71,
    "start_time": "2022-10-22T09:23:42.632Z"
   },
   {
    "duration": 5,
    "start_time": "2022-10-22T09:23:42.705Z"
   },
   {
    "duration": 64,
    "start_time": "2022-10-22T09:23:42.713Z"
   },
   {
    "duration": 165,
    "start_time": "2022-10-22T09:23:42.780Z"
   },
   {
    "duration": 12,
    "start_time": "2022-10-22T09:23:42.947Z"
   },
   {
    "duration": 43,
    "start_time": "2022-10-22T09:23:42.962Z"
   },
   {
    "duration": 2339,
    "start_time": "2022-10-22T09:23:43.007Z"
   },
   {
    "duration": 470,
    "start_time": "2022-10-22T09:23:45.348Z"
   },
   {
    "duration": 708,
    "start_time": "2022-10-22T09:23:45.820Z"
   },
   {
    "duration": 47,
    "start_time": "2022-10-22T09:23:46.531Z"
   },
   {
    "duration": 34,
    "start_time": "2022-10-22T09:23:46.582Z"
   },
   {
    "duration": 59,
    "start_time": "2022-10-22T09:23:46.619Z"
   },
   {
    "duration": 36,
    "start_time": "2022-10-22T09:23:46.682Z"
   },
   {
    "duration": 44,
    "start_time": "2022-10-22T09:23:46.720Z"
   },
   {
    "duration": 28,
    "start_time": "2022-10-22T09:23:46.767Z"
   },
   {
    "duration": 11,
    "start_time": "2022-10-22T09:23:46.797Z"
   },
   {
    "duration": 9,
    "start_time": "2022-10-22T09:23:46.810Z"
   },
   {
    "duration": 41,
    "start_time": "2022-10-22T09:23:46.854Z"
   },
   {
    "duration": 3,
    "start_time": "2022-10-22T09:23:46.897Z"
   },
   {
    "duration": 20,
    "start_time": "2022-10-22T09:23:46.902Z"
   },
   {
    "duration": 68,
    "start_time": "2022-10-22T09:23:46.924Z"
   },
   {
    "duration": 26,
    "start_time": "2022-10-22T09:23:46.994Z"
   },
   {
    "duration": 738,
    "start_time": "2022-10-22T09:23:47.022Z"
   },
   {
    "duration": 31,
    "start_time": "2022-10-22T09:23:47.766Z"
   },
   {
    "duration": 35,
    "start_time": "2022-10-22T09:23:47.800Z"
   },
   {
    "duration": 23,
    "start_time": "2022-10-22T09:23:47.838Z"
   },
   {
    "duration": 13,
    "start_time": "2022-10-22T09:23:47.864Z"
   },
   {
    "duration": 11,
    "start_time": "2022-10-22T09:23:47.879Z"
   },
   {
    "duration": 8,
    "start_time": "2022-10-22T09:23:47.892Z"
   },
   {
    "duration": 30,
    "start_time": "2022-10-22T09:23:47.902Z"
   },
   {
    "duration": 46,
    "start_time": "2022-10-22T09:23:47.933Z"
   },
   {
    "duration": 24,
    "start_time": "2022-10-22T09:23:47.981Z"
   },
   {
    "duration": 47,
    "start_time": "2022-10-22T09:23:48.007Z"
   },
   {
    "duration": 33,
    "start_time": "2022-10-22T09:23:48.057Z"
   },
   {
    "duration": 8,
    "start_time": "2022-10-22T09:23:48.092Z"
   },
   {
    "duration": 31,
    "start_time": "2022-10-22T09:23:48.102Z"
   },
   {
    "duration": 31,
    "start_time": "2022-10-22T09:23:48.134Z"
   },
   {
    "duration": 26,
    "start_time": "2022-10-22T09:23:48.167Z"
   },
   {
    "duration": 14,
    "start_time": "2022-10-22T09:23:48.196Z"
   },
   {
    "duration": 75,
    "start_time": "2022-10-22T09:23:48.213Z"
   },
   {
    "duration": 19,
    "start_time": "2022-10-22T09:23:48.290Z"
   },
   {
    "duration": 15,
    "start_time": "2022-10-22T09:23:48.311Z"
   },
   {
    "duration": 54,
    "start_time": "2022-10-22T09:23:48.327Z"
   },
   {
    "duration": 5,
    "start_time": "2022-10-22T09:23:48.383Z"
   },
   {
    "duration": 16,
    "start_time": "2022-10-22T09:23:48.389Z"
   },
   {
    "duration": 13,
    "start_time": "2022-10-22T09:23:48.408Z"
   },
   {
    "duration": 9,
    "start_time": "2022-10-22T09:23:48.423Z"
   },
   {
    "duration": 5,
    "start_time": "2022-10-22T09:24:08.949Z"
   },
   {
    "duration": 12,
    "start_time": "2022-10-22T09:29:41.887Z"
   },
   {
    "duration": 27,
    "start_time": "2022-10-22T09:29:53.439Z"
   },
   {
    "duration": 14,
    "start_time": "2022-10-22T09:30:01.048Z"
   },
   {
    "duration": 1167,
    "start_time": "2022-10-22T09:30:04.614Z"
   },
   {
    "duration": 517,
    "start_time": "2022-10-22T09:32:43.825Z"
   },
   {
    "duration": 1179,
    "start_time": "2022-10-22T09:32:49.804Z"
   },
   {
    "duration": 75,
    "start_time": "2022-10-22T09:32:50.986Z"
   },
   {
    "duration": 19,
    "start_time": "2022-10-22T09:32:51.063Z"
   },
   {
    "duration": 771,
    "start_time": "2022-10-22T09:32:51.084Z"
   },
   {
    "duration": 38,
    "start_time": "2022-10-22T09:32:51.857Z"
   },
   {
    "duration": 102,
    "start_time": "2022-10-22T09:32:51.897Z"
   },
   {
    "duration": 30,
    "start_time": "2022-10-22T09:32:52.055Z"
   },
   {
    "duration": 75,
    "start_time": "2022-10-22T09:32:52.086Z"
   },
   {
    "duration": 115,
    "start_time": "2022-10-22T09:32:52.163Z"
   },
   {
    "duration": 12,
    "start_time": "2022-10-22T09:32:52.280Z"
   },
   {
    "duration": 71,
    "start_time": "2022-10-22T09:32:52.293Z"
   },
   {
    "duration": 90,
    "start_time": "2022-10-22T09:32:52.365Z"
   },
   {
    "duration": 6,
    "start_time": "2022-10-22T09:32:52.456Z"
   },
   {
    "duration": 30,
    "start_time": "2022-10-22T09:32:52.464Z"
   },
   {
    "duration": 304,
    "start_time": "2022-10-22T09:32:52.497Z"
   },
   {
    "duration": 5,
    "start_time": "2022-10-22T09:32:52.854Z"
   },
   {
    "duration": 94,
    "start_time": "2022-10-22T09:32:52.861Z"
   },
   {
    "duration": 2448,
    "start_time": "2022-10-22T09:32:52.957Z"
   },
   {
    "duration": 395,
    "start_time": "2022-10-22T09:32:55.407Z"
   },
   {
    "duration": 572,
    "start_time": "2022-10-22T09:32:55.804Z"
   },
   {
    "duration": 21,
    "start_time": "2022-10-22T09:32:56.378Z"
   },
   {
    "duration": 24,
    "start_time": "2022-10-22T09:32:56.401Z"
   },
   {
    "duration": 54,
    "start_time": "2022-10-22T09:32:56.427Z"
   },
   {
    "duration": 32,
    "start_time": "2022-10-22T09:32:56.483Z"
   },
   {
    "duration": 48,
    "start_time": "2022-10-22T09:32:56.517Z"
   },
   {
    "duration": 23,
    "start_time": "2022-10-22T09:32:56.567Z"
   },
   {
    "duration": 10,
    "start_time": "2022-10-22T09:32:56.592Z"
   },
   {
    "duration": 6,
    "start_time": "2022-10-22T09:32:56.606Z"
   },
   {
    "duration": 73,
    "start_time": "2022-10-22T09:32:56.614Z"
   },
   {
    "duration": 14,
    "start_time": "2022-10-22T09:32:56.689Z"
   },
   {
    "duration": 7,
    "start_time": "2022-10-22T09:32:56.705Z"
   },
   {
    "duration": 55,
    "start_time": "2022-10-22T09:32:56.713Z"
   },
   {
    "duration": 19,
    "start_time": "2022-10-22T09:32:56.770Z"
   },
   {
    "duration": 588,
    "start_time": "2022-10-22T09:32:56.791Z"
   },
   {
    "duration": 26,
    "start_time": "2022-10-22T09:32:57.381Z"
   },
   {
    "duration": 18,
    "start_time": "2022-10-22T09:32:57.409Z"
   },
   {
    "duration": 5,
    "start_time": "2022-10-22T09:32:57.428Z"
   },
   {
    "duration": 26,
    "start_time": "2022-10-22T09:32:57.434Z"
   },
   {
    "duration": 8,
    "start_time": "2022-10-22T09:32:57.462Z"
   },
   {
    "duration": 7,
    "start_time": "2022-10-22T09:32:57.472Z"
   },
   {
    "duration": 29,
    "start_time": "2022-10-22T09:32:57.481Z"
   },
   {
    "duration": 46,
    "start_time": "2022-10-22T09:32:57.512Z"
   },
   {
    "duration": 26,
    "start_time": "2022-10-22T09:32:57.560Z"
   },
   {
    "duration": 27,
    "start_time": "2022-10-22T09:32:57.588Z"
   },
   {
    "duration": 49,
    "start_time": "2022-10-22T09:32:57.617Z"
   },
   {
    "duration": 8,
    "start_time": "2022-10-22T09:32:57.668Z"
   },
   {
    "duration": 17,
    "start_time": "2022-10-22T09:32:57.678Z"
   },
   {
    "duration": 10,
    "start_time": "2022-10-22T09:32:57.697Z"
   },
   {
    "duration": 10,
    "start_time": "2022-10-22T09:32:57.708Z"
   },
   {
    "duration": 38,
    "start_time": "2022-10-22T09:32:57.720Z"
   },
   {
    "duration": 34,
    "start_time": "2022-10-22T09:32:57.760Z"
   },
   {
    "duration": 15,
    "start_time": "2022-10-22T09:32:57.796Z"
   },
   {
    "duration": 44,
    "start_time": "2022-10-22T09:32:57.813Z"
   },
   {
    "duration": 18,
    "start_time": "2022-10-22T09:32:57.859Z"
   },
   {
    "duration": 12,
    "start_time": "2022-10-22T09:32:57.878Z"
   },
   {
    "duration": 14,
    "start_time": "2022-10-22T09:32:57.892Z"
   },
   {
    "duration": 12,
    "start_time": "2022-10-22T09:32:57.908Z"
   },
   {
    "duration": 21,
    "start_time": "2022-10-22T09:32:57.921Z"
   },
   {
    "duration": 19,
    "start_time": "2022-10-22T09:33:04.394Z"
   },
   {
    "duration": 4,
    "start_time": "2022-10-22T09:33:22.676Z"
   },
   {
    "duration": 20,
    "start_time": "2022-10-22T09:33:40.128Z"
   },
   {
    "duration": 54,
    "start_time": "2022-10-22T09:33:47.155Z"
   },
   {
    "duration": 14,
    "start_time": "2022-10-22T09:33:55.678Z"
   },
   {
    "duration": 7,
    "start_time": "2022-10-22T09:34:03.813Z"
   },
   {
    "duration": 14,
    "start_time": "2022-10-22T09:34:09.440Z"
   },
   {
    "duration": 1282,
    "start_time": "2022-10-22T09:34:20.460Z"
   },
   {
    "duration": 82,
    "start_time": "2022-10-22T09:34:21.745Z"
   },
   {
    "duration": 22,
    "start_time": "2022-10-22T09:34:21.828Z"
   },
   {
    "duration": 1005,
    "start_time": "2022-10-22T09:34:21.852Z"
   },
   {
    "duration": 30,
    "start_time": "2022-10-22T09:34:22.859Z"
   },
   {
    "duration": 92,
    "start_time": "2022-10-22T09:34:22.891Z"
   },
   {
    "duration": 74,
    "start_time": "2022-10-22T09:34:22.985Z"
   },
   {
    "duration": 23,
    "start_time": "2022-10-22T09:34:23.061Z"
   },
   {
    "duration": 176,
    "start_time": "2022-10-22T09:34:23.085Z"
   },
   {
    "duration": 13,
    "start_time": "2022-10-22T09:34:23.262Z"
   },
   {
    "duration": 11,
    "start_time": "2022-10-22T09:34:23.277Z"
   },
   {
    "duration": 96,
    "start_time": "2022-10-22T09:34:23.290Z"
   },
   {
    "duration": 5,
    "start_time": "2022-10-22T09:34:23.387Z"
   },
   {
    "duration": 89,
    "start_time": "2022-10-22T09:34:23.395Z"
   },
   {
    "duration": 300,
    "start_time": "2022-10-22T09:34:23.486Z"
   },
   {
    "duration": 7,
    "start_time": "2022-10-22T09:34:23.788Z"
   },
   {
    "duration": 90,
    "start_time": "2022-10-22T09:34:23.797Z"
   },
   {
    "duration": 2041,
    "start_time": "2022-10-22T09:34:23.889Z"
   },
   {
    "duration": 398,
    "start_time": "2022-10-22T09:34:25.932Z"
   },
   {
    "duration": 596,
    "start_time": "2022-10-22T09:34:26.332Z"
   },
   {
    "duration": 31,
    "start_time": "2022-10-22T09:34:26.930Z"
   },
   {
    "duration": 27,
    "start_time": "2022-10-22T09:34:26.963Z"
   },
   {
    "duration": 31,
    "start_time": "2022-10-22T09:34:26.992Z"
   },
   {
    "duration": 56,
    "start_time": "2022-10-22T09:34:27.025Z"
   },
   {
    "duration": 29,
    "start_time": "2022-10-22T09:34:27.083Z"
   },
   {
    "duration": 46,
    "start_time": "2022-10-22T09:34:27.114Z"
   },
   {
    "duration": 10,
    "start_time": "2022-10-22T09:34:27.162Z"
   },
   {
    "duration": 15,
    "start_time": "2022-10-22T09:34:27.174Z"
   },
   {
    "duration": 43,
    "start_time": "2022-10-22T09:34:27.191Z"
   },
   {
    "duration": 3,
    "start_time": "2022-10-22T09:34:27.236Z"
   },
   {
    "duration": 13,
    "start_time": "2022-10-22T09:34:27.241Z"
   },
   {
    "duration": 78,
    "start_time": "2022-10-22T09:34:27.256Z"
   },
   {
    "duration": 21,
    "start_time": "2022-10-22T09:34:27.336Z"
   },
   {
    "duration": 569,
    "start_time": "2022-10-22T09:34:27.359Z"
   },
   {
    "duration": 36,
    "start_time": "2022-10-22T09:34:27.930Z"
   },
   {
    "duration": 21,
    "start_time": "2022-10-22T09:34:27.968Z"
   },
   {
    "duration": 5,
    "start_time": "2022-10-22T09:34:27.991Z"
   },
   {
    "duration": 17,
    "start_time": "2022-10-22T09:34:27.997Z"
   },
   {
    "duration": 26,
    "start_time": "2022-10-22T09:34:28.016Z"
   },
   {
    "duration": 16,
    "start_time": "2022-10-22T09:34:28.044Z"
   },
   {
    "duration": 27,
    "start_time": "2022-10-22T09:34:28.064Z"
   },
   {
    "duration": 15,
    "start_time": "2022-10-22T09:34:28.092Z"
   },
   {
    "duration": 25,
    "start_time": "2022-10-22T09:34:28.109Z"
   },
   {
    "duration": 27,
    "start_time": "2022-10-22T09:34:28.154Z"
   },
   {
    "duration": 27,
    "start_time": "2022-10-22T09:34:28.182Z"
   },
   {
    "duration": 7,
    "start_time": "2022-10-22T09:34:28.211Z"
   },
   {
    "duration": 38,
    "start_time": "2022-10-22T09:34:28.220Z"
   },
   {
    "duration": 12,
    "start_time": "2022-10-22T09:34:28.260Z"
   },
   {
    "duration": 11,
    "start_time": "2022-10-22T09:34:28.274Z"
   },
   {
    "duration": 10,
    "start_time": "2022-10-22T09:34:28.286Z"
   },
   {
    "duration": 68,
    "start_time": "2022-10-22T09:34:28.298Z"
   },
   {
    "duration": 15,
    "start_time": "2022-10-22T09:34:28.368Z"
   },
   {
    "duration": 16,
    "start_time": "2022-10-22T09:34:28.385Z"
   },
   {
    "duration": 16,
    "start_time": "2022-10-22T09:34:28.403Z"
   },
   {
    "duration": 4,
    "start_time": "2022-10-22T09:34:28.421Z"
   },
   {
    "duration": 32,
    "start_time": "2022-10-22T09:34:28.427Z"
   },
   {
    "duration": 10,
    "start_time": "2022-10-22T09:34:28.461Z"
   },
   {
    "duration": 8,
    "start_time": "2022-10-22T09:34:28.473Z"
   },
   {
    "duration": 6,
    "start_time": "2022-10-22T09:35:08.998Z"
   },
   {
    "duration": 738,
    "start_time": "2022-10-22T10:22:45.774Z"
   },
   {
    "duration": 869,
    "start_time": "2022-10-22T10:22:59.370Z"
   },
   {
    "duration": 589,
    "start_time": "2022-10-22T10:23:29.252Z"
   },
   {
    "duration": 621,
    "start_time": "2022-10-22T10:24:06.004Z"
   },
   {
    "duration": 522,
    "start_time": "2022-10-22T10:24:44.304Z"
   },
   {
    "duration": 696,
    "start_time": "2022-10-22T10:54:37.133Z"
   },
   {
    "duration": 700,
    "start_time": "2022-10-22T10:54:48.832Z"
   },
   {
    "duration": 655,
    "start_time": "2022-10-22T10:54:58.292Z"
   },
   {
    "duration": 1189,
    "start_time": "2022-10-22T11:06:22.412Z"
   },
   {
    "duration": 74,
    "start_time": "2022-10-22T11:06:23.604Z"
   },
   {
    "duration": 39,
    "start_time": "2022-10-22T11:06:23.680Z"
   },
   {
    "duration": 557,
    "start_time": "2022-10-22T11:06:23.722Z"
   },
   {
    "duration": 33,
    "start_time": "2022-10-22T11:06:24.281Z"
   },
   {
    "duration": 59,
    "start_time": "2022-10-22T11:06:24.315Z"
   },
   {
    "duration": 24,
    "start_time": "2022-10-22T11:06:24.376Z"
   },
   {
    "duration": 24,
    "start_time": "2022-10-22T11:06:24.402Z"
   },
   {
    "duration": 68,
    "start_time": "2022-10-22T11:06:24.454Z"
   },
   {
    "duration": 30,
    "start_time": "2022-10-22T11:06:24.525Z"
   },
   {
    "duration": 9,
    "start_time": "2022-10-22T11:06:24.557Z"
   },
   {
    "duration": 41,
    "start_time": "2022-10-22T11:06:24.568Z"
   },
   {
    "duration": 5,
    "start_time": "2022-10-22T11:06:24.610Z"
   },
   {
    "duration": 60,
    "start_time": "2022-10-22T11:06:24.617Z"
   },
   {
    "duration": 147,
    "start_time": "2022-10-22T11:06:24.679Z"
   },
   {
    "duration": 5,
    "start_time": "2022-10-22T11:06:24.828Z"
   },
   {
    "duration": 33,
    "start_time": "2022-10-22T11:06:24.835Z"
   },
   {
    "duration": 2076,
    "start_time": "2022-10-22T11:06:24.870Z"
   },
   {
    "duration": 387,
    "start_time": "2022-10-22T11:06:26.953Z"
   },
   {
    "duration": 646,
    "start_time": "2022-10-22T11:06:27.342Z"
   },
   {
    "duration": 117,
    "start_time": "2022-10-22T11:06:27.990Z"
   },
   {
    "duration": 0,
    "start_time": "2022-10-22T11:06:28.110Z"
   },
   {
    "duration": 0,
    "start_time": "2022-10-22T11:06:28.113Z"
   },
   {
    "duration": 0,
    "start_time": "2022-10-22T11:06:28.114Z"
   },
   {
    "duration": 1,
    "start_time": "2022-10-22T11:06:28.115Z"
   },
   {
    "duration": 0,
    "start_time": "2022-10-22T11:06:28.117Z"
   },
   {
    "duration": 0,
    "start_time": "2022-10-22T11:06:28.119Z"
   },
   {
    "duration": 0,
    "start_time": "2022-10-22T11:06:28.121Z"
   },
   {
    "duration": 0,
    "start_time": "2022-10-22T11:06:28.122Z"
   },
   {
    "duration": 0,
    "start_time": "2022-10-22T11:06:28.123Z"
   },
   {
    "duration": 0,
    "start_time": "2022-10-22T11:06:28.154Z"
   },
   {
    "duration": 0,
    "start_time": "2022-10-22T11:06:28.156Z"
   },
   {
    "duration": 0,
    "start_time": "2022-10-22T11:06:28.157Z"
   },
   {
    "duration": 0,
    "start_time": "2022-10-22T11:06:28.158Z"
   },
   {
    "duration": 0,
    "start_time": "2022-10-22T11:06:28.160Z"
   },
   {
    "duration": 0,
    "start_time": "2022-10-22T11:06:28.160Z"
   },
   {
    "duration": 0,
    "start_time": "2022-10-22T11:06:28.162Z"
   },
   {
    "duration": 0,
    "start_time": "2022-10-22T11:06:28.163Z"
   },
   {
    "duration": 0,
    "start_time": "2022-10-22T11:06:28.164Z"
   },
   {
    "duration": 0,
    "start_time": "2022-10-22T11:06:28.166Z"
   },
   {
    "duration": 0,
    "start_time": "2022-10-22T11:06:28.167Z"
   },
   {
    "duration": 0,
    "start_time": "2022-10-22T11:06:28.167Z"
   },
   {
    "duration": 0,
    "start_time": "2022-10-22T11:06:28.168Z"
   },
   {
    "duration": 0,
    "start_time": "2022-10-22T11:06:28.170Z"
   },
   {
    "duration": 0,
    "start_time": "2022-10-22T11:06:28.171Z"
   },
   {
    "duration": 0,
    "start_time": "2022-10-22T11:06:28.172Z"
   },
   {
    "duration": 0,
    "start_time": "2022-10-22T11:06:28.173Z"
   },
   {
    "duration": 0,
    "start_time": "2022-10-22T11:06:28.175Z"
   },
   {
    "duration": 0,
    "start_time": "2022-10-22T11:06:28.177Z"
   },
   {
    "duration": 0,
    "start_time": "2022-10-22T11:06:28.179Z"
   },
   {
    "duration": 0,
    "start_time": "2022-10-22T11:06:28.180Z"
   },
   {
    "duration": 0,
    "start_time": "2022-10-22T11:06:28.182Z"
   },
   {
    "duration": 0,
    "start_time": "2022-10-22T11:06:28.184Z"
   },
   {
    "duration": 0,
    "start_time": "2022-10-22T11:06:28.185Z"
   },
   {
    "duration": 0,
    "start_time": "2022-10-22T11:06:28.187Z"
   },
   {
    "duration": 0,
    "start_time": "2022-10-22T11:06:28.189Z"
   },
   {
    "duration": 0,
    "start_time": "2022-10-22T11:06:28.190Z"
   },
   {
    "duration": 0,
    "start_time": "2022-10-22T11:06:28.191Z"
   },
   {
    "duration": 27,
    "start_time": "2022-10-22T11:07:21.761Z"
   },
   {
    "duration": 5,
    "start_time": "2022-10-22T11:07:41.826Z"
   },
   {
    "duration": 14,
    "start_time": "2022-10-22T11:07:51.786Z"
   },
   {
    "duration": 33,
    "start_time": "2022-10-22T11:07:55.537Z"
   },
   {
    "duration": 5,
    "start_time": "2022-10-22T11:08:24.911Z"
   },
   {
    "duration": 3,
    "start_time": "2022-10-22T11:08:41.433Z"
   },
   {
    "duration": 10,
    "start_time": "2022-10-22T11:08:48.731Z"
   },
   {
    "duration": 73,
    "start_time": "2022-10-22T11:09:05.790Z"
   },
   {
    "duration": 53,
    "start_time": "2022-10-22T11:09:21.487Z"
   },
   {
    "duration": 71,
    "start_time": "2022-10-22T11:09:28.030Z"
   },
   {
    "duration": 49,
    "start_time": "2022-10-22T11:09:40.788Z"
   },
   {
    "duration": 4,
    "start_time": "2022-10-22T11:09:43.481Z"
   },
   {
    "duration": 69,
    "start_time": "2022-10-22T11:09:55.577Z"
   },
   {
    "duration": 44,
    "start_time": "2022-10-22T11:09:57.826Z"
   },
   {
    "duration": 42,
    "start_time": "2022-10-22T11:10:10.576Z"
   },
   {
    "duration": 52,
    "start_time": "2022-10-22T11:10:14.728Z"
   },
   {
    "duration": 10,
    "start_time": "2022-10-22T11:10:28.365Z"
   },
   {
    "duration": 52,
    "start_time": "2022-10-22T11:10:41.201Z"
   },
   {
    "duration": 12,
    "start_time": "2022-10-22T11:10:43.286Z"
   },
   {
    "duration": 10,
    "start_time": "2022-10-22T11:12:06.305Z"
   },
   {
    "duration": 11,
    "start_time": "2022-10-22T11:12:12.291Z"
   },
   {
    "duration": 22,
    "start_time": "2022-10-22T11:12:58.981Z"
   },
   {
    "duration": 6,
    "start_time": "2022-10-22T11:13:10.065Z"
   },
   {
    "duration": 7,
    "start_time": "2022-10-22T11:13:25.711Z"
   },
   {
    "duration": 17,
    "start_time": "2022-10-22T11:13:30.661Z"
   },
   {
    "duration": 6,
    "start_time": "2022-10-22T11:13:33.154Z"
   },
   {
    "duration": 10,
    "start_time": "2022-10-22T11:14:19.033Z"
   },
   {
    "duration": 11,
    "start_time": "2022-10-22T11:14:22.640Z"
   },
   {
    "duration": 6,
    "start_time": "2022-10-22T11:14:43.166Z"
   },
   {
    "duration": 6,
    "start_time": "2022-10-22T11:14:47.132Z"
   },
   {
    "duration": 23,
    "start_time": "2022-10-22T11:15:06.928Z"
   },
   {
    "duration": 18,
    "start_time": "2022-10-22T11:15:32.151Z"
   },
   {
    "duration": 21,
    "start_time": "2022-10-22T11:15:34.097Z"
   },
   {
    "duration": 5,
    "start_time": "2022-10-22T11:15:42.278Z"
   },
   {
    "duration": 21,
    "start_time": "2022-10-22T11:16:47.306Z"
   },
   {
    "duration": 12,
    "start_time": "2022-10-22T11:16:54.564Z"
   },
   {
    "duration": 4,
    "start_time": "2022-10-22T11:17:30.859Z"
   },
   {
    "duration": 42,
    "start_time": "2022-10-22T11:17:50.340Z"
   },
   {
    "duration": 4,
    "start_time": "2022-10-22T11:17:55.847Z"
   },
   {
    "duration": 21,
    "start_time": "2022-10-22T11:18:06.771Z"
   },
   {
    "duration": 11,
    "start_time": "2022-10-22T11:18:23.705Z"
   },
   {
    "duration": 19,
    "start_time": "2022-10-22T11:18:55.637Z"
   },
   {
    "duration": 21,
    "start_time": "2022-10-22T11:19:07.331Z"
   },
   {
    "duration": 16,
    "start_time": "2022-10-22T11:20:38.731Z"
   },
   {
    "duration": 32,
    "start_time": "2022-10-22T11:20:47.727Z"
   },
   {
    "duration": 11,
    "start_time": "2022-10-22T11:20:53.889Z"
   },
   {
    "duration": 41,
    "start_time": "2022-10-22T12:08:15.896Z"
   },
   {
    "duration": 40,
    "start_time": "2022-10-22T12:08:26.782Z"
   },
   {
    "duration": 57,
    "start_time": "2022-10-22T12:14:49.622Z"
   },
   {
    "duration": 15,
    "start_time": "2022-10-22T12:14:52.684Z"
   },
   {
    "duration": 12,
    "start_time": "2022-10-22T12:15:08.987Z"
   },
   {
    "duration": 12,
    "start_time": "2022-10-22T12:15:23.589Z"
   },
   {
    "duration": 5,
    "start_time": "2022-10-22T12:15:56.183Z"
   },
   {
    "duration": 13,
    "start_time": "2022-10-22T12:16:03.529Z"
   },
   {
    "duration": 10,
    "start_time": "2022-10-22T12:16:36.705Z"
   },
   {
    "duration": 11,
    "start_time": "2022-10-22T12:16:51.322Z"
   },
   {
    "duration": 11,
    "start_time": "2022-10-22T12:17:02.139Z"
   },
   {
    "duration": 12,
    "start_time": "2022-10-22T12:17:38.177Z"
   },
   {
    "duration": 11,
    "start_time": "2022-10-22T12:17:42.747Z"
   },
   {
    "duration": 11,
    "start_time": "2022-10-22T12:18:12.179Z"
   },
   {
    "duration": 12,
    "start_time": "2022-10-22T12:18:15.641Z"
   },
   {
    "duration": 53,
    "start_time": "2022-10-22T12:18:47.393Z"
   },
   {
    "duration": 40,
    "start_time": "2022-10-22T12:19:12.146Z"
   },
   {
    "duration": 40,
    "start_time": "2022-10-22T12:19:24.066Z"
   },
   {
    "duration": 46,
    "start_time": "2022-10-22T12:19:31.129Z"
   },
   {
    "duration": 40,
    "start_time": "2022-10-22T12:19:54.102Z"
   },
   {
    "duration": 21,
    "start_time": "2022-10-22T12:21:04.469Z"
   },
   {
    "duration": 35,
    "start_time": "2022-10-22T12:21:09.268Z"
   },
   {
    "duration": 10,
    "start_time": "2022-10-22T12:22:01.983Z"
   },
   {
    "duration": 11,
    "start_time": "2022-10-22T12:22:04.450Z"
   },
   {
    "duration": 1237,
    "start_time": "2022-10-22T12:32:28.383Z"
   },
   {
    "duration": 78,
    "start_time": "2022-10-22T12:32:29.623Z"
   },
   {
    "duration": 29,
    "start_time": "2022-10-22T12:32:29.703Z"
   },
   {
    "duration": 551,
    "start_time": "2022-10-22T12:32:29.735Z"
   },
   {
    "duration": 33,
    "start_time": "2022-10-22T12:32:30.288Z"
   },
   {
    "duration": 61,
    "start_time": "2022-10-22T12:32:30.323Z"
   },
   {
    "duration": 33,
    "start_time": "2022-10-22T12:32:30.386Z"
   },
   {
    "duration": 36,
    "start_time": "2022-10-22T12:32:30.421Z"
   },
   {
    "duration": 70,
    "start_time": "2022-10-22T12:32:30.459Z"
   },
   {
    "duration": 15,
    "start_time": "2022-10-22T12:32:30.553Z"
   },
   {
    "duration": 15,
    "start_time": "2022-10-22T12:32:30.570Z"
   },
   {
    "duration": 53,
    "start_time": "2022-10-22T12:32:30.587Z"
   },
   {
    "duration": 20,
    "start_time": "2022-10-22T12:32:30.643Z"
   },
   {
    "duration": 38,
    "start_time": "2022-10-22T12:32:30.665Z"
   },
   {
    "duration": 142,
    "start_time": "2022-10-22T12:32:30.705Z"
   },
   {
    "duration": 6,
    "start_time": "2022-10-22T12:32:30.854Z"
   },
   {
    "duration": 44,
    "start_time": "2022-10-22T12:32:30.862Z"
   },
   {
    "duration": 2114,
    "start_time": "2022-10-22T12:32:30.908Z"
   },
   {
    "duration": 396,
    "start_time": "2022-10-22T12:32:33.025Z"
   },
   {
    "duration": 610,
    "start_time": "2022-10-22T12:32:33.423Z"
   },
   {
    "duration": 2,
    "start_time": "2022-10-22T12:32:34.035Z"
   },
   {
    "duration": 48,
    "start_time": "2022-10-22T12:32:34.039Z"
   },
   {
    "duration": 9,
    "start_time": "2022-10-22T12:32:34.089Z"
   },
   {
    "duration": 24,
    "start_time": "2022-10-22T12:32:34.101Z"
   },
   {
    "duration": 46,
    "start_time": "2022-10-22T12:32:34.127Z"
   },
   {
    "duration": 31,
    "start_time": "2022-10-22T12:32:34.175Z"
   },
   {
    "duration": 53,
    "start_time": "2022-10-22T12:32:34.207Z"
   },
   {
    "duration": 22,
    "start_time": "2022-10-22T12:32:34.264Z"
   },
   {
    "duration": 10,
    "start_time": "2022-10-22T12:32:34.288Z"
   },
   {
    "duration": 9,
    "start_time": "2022-10-22T12:32:34.300Z"
   },
   {
    "duration": 64,
    "start_time": "2022-10-22T12:32:34.310Z"
   },
   {
    "duration": 2,
    "start_time": "2022-10-22T12:32:34.376Z"
   },
   {
    "duration": 11,
    "start_time": "2022-10-22T12:32:34.380Z"
   },
   {
    "duration": 63,
    "start_time": "2022-10-22T12:32:34.393Z"
   },
   {
    "duration": 27,
    "start_time": "2022-10-22T12:32:34.457Z"
   },
   {
    "duration": 606,
    "start_time": "2022-10-22T12:32:34.486Z"
   },
   {
    "duration": 26,
    "start_time": "2022-10-22T12:32:35.094Z"
   },
   {
    "duration": 49,
    "start_time": "2022-10-22T12:32:35.122Z"
   },
   {
    "duration": 6,
    "start_time": "2022-10-22T12:32:35.173Z"
   },
   {
    "duration": 42,
    "start_time": "2022-10-22T12:32:35.181Z"
   },
   {
    "duration": 16,
    "start_time": "2022-10-22T12:32:35.225Z"
   },
   {
    "duration": 30,
    "start_time": "2022-10-22T12:32:35.242Z"
   },
   {
    "duration": 62,
    "start_time": "2022-10-22T12:32:35.274Z"
   },
   {
    "duration": 22,
    "start_time": "2022-10-22T12:32:35.339Z"
   },
   {
    "duration": 28,
    "start_time": "2022-10-22T12:32:35.363Z"
   },
   {
    "duration": 31,
    "start_time": "2022-10-22T12:32:35.393Z"
   },
   {
    "duration": 46,
    "start_time": "2022-10-22T12:32:35.426Z"
   },
   {
    "duration": 25,
    "start_time": "2022-10-22T12:32:35.474Z"
   },
   {
    "duration": 54,
    "start_time": "2022-10-22T12:32:35.501Z"
   },
   {
    "duration": 45,
    "start_time": "2022-10-22T12:32:35.557Z"
   },
   {
    "duration": 27,
    "start_time": "2022-10-22T12:32:35.604Z"
   },
   {
    "duration": 32,
    "start_time": "2022-10-22T12:32:35.633Z"
   },
   {
    "duration": 49,
    "start_time": "2022-10-22T12:32:35.667Z"
   },
   {
    "duration": 16,
    "start_time": "2022-10-22T12:32:35.718Z"
   },
   {
    "duration": 46,
    "start_time": "2022-10-22T12:32:35.736Z"
   },
   {
    "duration": 31,
    "start_time": "2022-10-22T12:32:35.785Z"
   },
   {
    "duration": 25,
    "start_time": "2022-10-22T12:32:35.818Z"
   },
   {
    "duration": 35,
    "start_time": "2022-10-22T12:32:35.845Z"
   },
   {
    "duration": 47,
    "start_time": "2022-10-22T12:32:35.882Z"
   },
   {
    "duration": 40,
    "start_time": "2022-10-22T12:32:35.931Z"
   },
   {
    "duration": 9,
    "start_time": "2022-10-22T12:36:29.335Z"
   },
   {
    "duration": 1299,
    "start_time": "2022-10-22T12:40:14.426Z"
   },
   {
    "duration": 87,
    "start_time": "2022-10-22T12:40:15.728Z"
   },
   {
    "duration": 29,
    "start_time": "2022-10-22T12:40:15.817Z"
   },
   {
    "duration": 582,
    "start_time": "2022-10-22T12:40:15.848Z"
   },
   {
    "duration": 43,
    "start_time": "2022-10-22T12:40:16.432Z"
   },
   {
    "duration": 39,
    "start_time": "2022-10-22T12:40:16.477Z"
   },
   {
    "duration": 43,
    "start_time": "2022-10-22T12:40:16.518Z"
   },
   {
    "duration": 24,
    "start_time": "2022-10-22T12:40:16.563Z"
   },
   {
    "duration": 93,
    "start_time": "2022-10-22T12:40:16.589Z"
   },
   {
    "duration": 13,
    "start_time": "2022-10-22T12:40:16.684Z"
   },
   {
    "duration": 24,
    "start_time": "2022-10-22T12:40:16.699Z"
   },
   {
    "duration": 43,
    "start_time": "2022-10-22T12:40:16.725Z"
   },
   {
    "duration": 6,
    "start_time": "2022-10-22T12:40:16.770Z"
   },
   {
    "duration": 44,
    "start_time": "2022-10-22T12:40:16.778Z"
   },
   {
    "duration": 152,
    "start_time": "2022-10-22T12:40:16.824Z"
   },
   {
    "duration": 6,
    "start_time": "2022-10-22T12:40:16.977Z"
   },
   {
    "duration": 28,
    "start_time": "2022-10-22T12:40:16.985Z"
   },
   {
    "duration": 2416,
    "start_time": "2022-10-22T12:40:17.015Z"
   },
   {
    "duration": 414,
    "start_time": "2022-10-22T12:40:19.433Z"
   },
   {
    "duration": 665,
    "start_time": "2022-10-22T12:40:19.849Z"
   },
   {
    "duration": 3,
    "start_time": "2022-10-22T12:40:20.516Z"
   },
   {
    "duration": 69,
    "start_time": "2022-10-22T12:40:20.521Z"
   },
   {
    "duration": 25,
    "start_time": "2022-10-22T12:40:20.591Z"
   },
   {
    "duration": 59,
    "start_time": "2022-10-22T12:40:20.618Z"
   },
   {
    "duration": 34,
    "start_time": "2022-10-22T12:40:20.679Z"
   },
   {
    "duration": 51,
    "start_time": "2022-10-22T12:40:20.715Z"
   },
   {
    "duration": 32,
    "start_time": "2022-10-22T12:40:20.768Z"
   },
   {
    "duration": 50,
    "start_time": "2022-10-22T12:40:20.805Z"
   },
   {
    "duration": 18,
    "start_time": "2022-10-22T12:40:20.858Z"
   },
   {
    "duration": 10,
    "start_time": "2022-10-22T12:40:20.878Z"
   },
   {
    "duration": 38,
    "start_time": "2022-10-22T12:40:20.890Z"
   },
   {
    "duration": 25,
    "start_time": "2022-10-22T12:40:20.929Z"
   },
   {
    "duration": 39,
    "start_time": "2022-10-22T12:40:20.956Z"
   },
   {
    "duration": 52,
    "start_time": "2022-10-22T12:40:20.997Z"
   },
   {
    "duration": 0,
    "start_time": "2022-10-22T12:40:21.051Z"
   },
   {
    "duration": 0,
    "start_time": "2022-10-22T12:40:21.052Z"
   },
   {
    "duration": 0,
    "start_time": "2022-10-22T12:40:21.054Z"
   },
   {
    "duration": 0,
    "start_time": "2022-10-22T12:40:21.056Z"
   },
   {
    "duration": 0,
    "start_time": "2022-10-22T12:40:21.057Z"
   },
   {
    "duration": 0,
    "start_time": "2022-10-22T12:40:21.058Z"
   },
   {
    "duration": 0,
    "start_time": "2022-10-22T12:40:21.059Z"
   },
   {
    "duration": 0,
    "start_time": "2022-10-22T12:40:21.060Z"
   },
   {
    "duration": 0,
    "start_time": "2022-10-22T12:40:21.061Z"
   },
   {
    "duration": 0,
    "start_time": "2022-10-22T12:40:21.063Z"
   },
   {
    "duration": 0,
    "start_time": "2022-10-22T12:40:21.064Z"
   },
   {
    "duration": 0,
    "start_time": "2022-10-22T12:40:21.065Z"
   },
   {
    "duration": 0,
    "start_time": "2022-10-22T12:40:21.066Z"
   },
   {
    "duration": 0,
    "start_time": "2022-10-22T12:40:21.068Z"
   },
   {
    "duration": 0,
    "start_time": "2022-10-22T12:40:21.069Z"
   },
   {
    "duration": 0,
    "start_time": "2022-10-22T12:40:21.070Z"
   },
   {
    "duration": 0,
    "start_time": "2022-10-22T12:40:21.071Z"
   },
   {
    "duration": 0,
    "start_time": "2022-10-22T12:40:21.073Z"
   },
   {
    "duration": 0,
    "start_time": "2022-10-22T12:40:21.074Z"
   },
   {
    "duration": 0,
    "start_time": "2022-10-22T12:40:21.076Z"
   },
   {
    "duration": 0,
    "start_time": "2022-10-22T12:40:21.078Z"
   },
   {
    "duration": 0,
    "start_time": "2022-10-22T12:40:21.080Z"
   },
   {
    "duration": 0,
    "start_time": "2022-10-22T12:40:21.082Z"
   },
   {
    "duration": 0,
    "start_time": "2022-10-22T12:40:21.085Z"
   },
   {
    "duration": 0,
    "start_time": "2022-10-22T12:40:21.086Z"
   },
   {
    "duration": 0,
    "start_time": "2022-10-22T12:40:21.088Z"
   },
   {
    "duration": 0,
    "start_time": "2022-10-22T12:40:21.089Z"
   },
   {
    "duration": 105,
    "start_time": "2022-10-22T12:46:39.858Z"
   },
   {
    "duration": 3,
    "start_time": "2022-10-22T12:46:47.541Z"
   },
   {
    "duration": 4,
    "start_time": "2022-10-22T12:46:51.187Z"
   },
   {
    "duration": 4,
    "start_time": "2022-10-22T12:46:53.885Z"
   },
   {
    "duration": 10,
    "start_time": "2022-10-22T12:46:57.954Z"
   },
   {
    "duration": 10,
    "start_time": "2022-10-22T12:47:03.414Z"
   },
   {
    "duration": 10,
    "start_time": "2022-10-22T12:47:09.833Z"
   },
   {
    "duration": 4,
    "start_time": "2022-10-22T12:47:13.801Z"
   },
   {
    "duration": 4,
    "start_time": "2022-10-22T12:47:16.414Z"
   },
   {
    "duration": 5,
    "start_time": "2022-10-22T12:48:43.604Z"
   },
   {
    "duration": 4,
    "start_time": "2022-10-22T12:48:46.319Z"
   },
   {
    "duration": 4,
    "start_time": "2022-10-22T12:49:00.610Z"
   },
   {
    "duration": 5,
    "start_time": "2022-10-22T13:02:31.757Z"
   },
   {
    "duration": 4,
    "start_time": "2022-10-22T13:03:39.491Z"
   },
   {
    "duration": 26,
    "start_time": "2022-10-22T13:03:51.734Z"
   },
   {
    "duration": 44,
    "start_time": "2022-10-22T13:06:35.978Z"
   },
   {
    "duration": 83,
    "start_time": "2022-10-22T13:06:43.677Z"
   },
   {
    "duration": 39,
    "start_time": "2022-10-22T14:32:55.068Z"
   },
   {
    "duration": 51,
    "start_time": "2022-10-22T14:33:04.030Z"
   },
   {
    "duration": 1228,
    "start_time": "2022-10-22T14:33:09.152Z"
   },
   {
    "duration": 76,
    "start_time": "2022-10-22T14:33:10.382Z"
   },
   {
    "duration": 21,
    "start_time": "2022-10-22T14:33:10.460Z"
   },
   {
    "duration": 570,
    "start_time": "2022-10-22T14:33:10.484Z"
   },
   {
    "duration": 32,
    "start_time": "2022-10-22T14:33:11.056Z"
   },
   {
    "duration": 39,
    "start_time": "2022-10-22T14:33:11.090Z"
   },
   {
    "duration": 45,
    "start_time": "2022-10-22T14:33:11.131Z"
   },
   {
    "duration": 26,
    "start_time": "2022-10-22T14:33:11.177Z"
   },
   {
    "duration": 82,
    "start_time": "2022-10-22T14:33:11.205Z"
   },
   {
    "duration": 13,
    "start_time": "2022-10-22T14:33:11.290Z"
   },
   {
    "duration": 26,
    "start_time": "2022-10-22T14:33:11.305Z"
   },
   {
    "duration": 61,
    "start_time": "2022-10-22T14:33:11.333Z"
   },
   {
    "duration": 5,
    "start_time": "2022-10-22T14:33:11.396Z"
   },
   {
    "duration": 68,
    "start_time": "2022-10-22T14:33:11.403Z"
   },
   {
    "duration": 192,
    "start_time": "2022-10-22T14:33:11.473Z"
   },
   {
    "duration": 8,
    "start_time": "2022-10-22T14:33:11.668Z"
   },
   {
    "duration": 44,
    "start_time": "2022-10-22T14:33:11.678Z"
   },
   {
    "duration": 2001,
    "start_time": "2022-10-22T14:33:11.724Z"
   },
   {
    "duration": 392,
    "start_time": "2022-10-22T14:33:13.726Z"
   },
   {
    "duration": 610,
    "start_time": "2022-10-22T14:33:14.120Z"
   },
   {
    "duration": 3,
    "start_time": "2022-10-22T14:33:14.732Z"
   },
   {
    "duration": 56,
    "start_time": "2022-10-22T14:33:14.737Z"
   },
   {
    "duration": 8,
    "start_time": "2022-10-22T14:33:14.794Z"
   },
   {
    "duration": 28,
    "start_time": "2022-10-22T14:33:14.804Z"
   },
   {
    "duration": 43,
    "start_time": "2022-10-22T14:33:14.834Z"
   },
   {
    "duration": 31,
    "start_time": "2022-10-22T14:33:14.879Z"
   },
   {
    "duration": 48,
    "start_time": "2022-10-22T14:33:14.912Z"
   },
   {
    "duration": 24,
    "start_time": "2022-10-22T14:33:14.964Z"
   },
   {
    "duration": 11,
    "start_time": "2022-10-22T14:33:14.990Z"
   },
   {
    "duration": 18,
    "start_time": "2022-10-22T14:33:15.003Z"
   },
   {
    "duration": 49,
    "start_time": "2022-10-22T14:33:15.023Z"
   },
   {
    "duration": 9,
    "start_time": "2022-10-22T14:33:15.074Z"
   },
   {
    "duration": 7,
    "start_time": "2022-10-22T14:33:15.085Z"
   },
   {
    "duration": 7,
    "start_time": "2022-10-22T14:33:15.093Z"
   },
   {
    "duration": 9,
    "start_time": "2022-10-22T14:33:15.101Z"
   },
   {
    "duration": 70,
    "start_time": "2022-10-22T14:33:15.111Z"
   },
   {
    "duration": 81,
    "start_time": "2022-10-22T14:33:15.183Z"
   },
   {
    "duration": 20,
    "start_time": "2022-10-22T14:33:15.266Z"
   },
   {
    "duration": 777,
    "start_time": "2022-10-22T14:33:15.288Z"
   },
   {
    "duration": 27,
    "start_time": "2022-10-22T14:33:16.067Z"
   },
   {
    "duration": 18,
    "start_time": "2022-10-22T14:33:16.096Z"
   },
   {
    "duration": 4,
    "start_time": "2022-10-22T14:33:16.116Z"
   },
   {
    "duration": 10,
    "start_time": "2022-10-22T14:33:16.121Z"
   },
   {
    "duration": 9,
    "start_time": "2022-10-22T14:33:16.133Z"
   },
   {
    "duration": 12,
    "start_time": "2022-10-22T14:33:16.144Z"
   },
   {
    "duration": 24,
    "start_time": "2022-10-22T14:33:16.157Z"
   },
   {
    "duration": 13,
    "start_time": "2022-10-22T14:33:16.183Z"
   },
   {
    "duration": 25,
    "start_time": "2022-10-22T14:33:16.197Z"
   },
   {
    "duration": 33,
    "start_time": "2022-10-22T14:33:16.224Z"
   },
   {
    "duration": 28,
    "start_time": "2022-10-22T14:33:16.259Z"
   },
   {
    "duration": 6,
    "start_time": "2022-10-22T14:33:16.289Z"
   },
   {
    "duration": 15,
    "start_time": "2022-10-22T14:33:16.297Z"
   },
   {
    "duration": 11,
    "start_time": "2022-10-22T14:33:16.313Z"
   },
   {
    "duration": 12,
    "start_time": "2022-10-22T14:33:16.325Z"
   },
   {
    "duration": 27,
    "start_time": "2022-10-22T14:33:16.339Z"
   },
   {
    "duration": 32,
    "start_time": "2022-10-22T14:33:16.367Z"
   },
   {
    "duration": 18,
    "start_time": "2022-10-22T14:33:16.453Z"
   },
   {
    "duration": 16,
    "start_time": "2022-10-22T14:33:16.473Z"
   },
   {
    "duration": 75,
    "start_time": "2022-10-22T14:33:16.492Z"
   },
   {
    "duration": 4,
    "start_time": "2022-10-22T14:33:16.569Z"
   },
   {
    "duration": 9,
    "start_time": "2022-10-22T14:33:16.574Z"
   },
   {
    "duration": 14,
    "start_time": "2022-10-22T14:33:16.585Z"
   },
   {
    "duration": 12,
    "start_time": "2022-10-22T14:33:16.600Z"
   },
   {
    "duration": 5,
    "start_time": "2022-10-22T14:34:56.249Z"
   },
   {
    "duration": 25,
    "start_time": "2022-10-22T14:35:02.876Z"
   },
   {
    "duration": 765,
    "start_time": "2022-10-22T14:39:47.076Z"
   },
   {
    "duration": 1251,
    "start_time": "2022-10-22T14:39:52.964Z"
   },
   {
    "duration": 81,
    "start_time": "2022-10-22T14:39:54.218Z"
   },
   {
    "duration": 29,
    "start_time": "2022-10-22T14:39:54.301Z"
   },
   {
    "duration": 589,
    "start_time": "2022-10-22T14:39:54.333Z"
   },
   {
    "duration": 39,
    "start_time": "2022-10-22T14:39:54.924Z"
   },
   {
    "duration": 37,
    "start_time": "2022-10-22T14:39:54.965Z"
   },
   {
    "duration": 24,
    "start_time": "2022-10-22T14:39:55.004Z"
   },
   {
    "duration": 48,
    "start_time": "2022-10-22T14:39:55.030Z"
   },
   {
    "duration": 87,
    "start_time": "2022-10-22T14:39:55.080Z"
   },
   {
    "duration": 19,
    "start_time": "2022-10-22T14:39:55.170Z"
   },
   {
    "duration": 17,
    "start_time": "2022-10-22T14:39:55.191Z"
   },
   {
    "duration": 58,
    "start_time": "2022-10-22T14:39:55.210Z"
   },
   {
    "duration": 6,
    "start_time": "2022-10-22T14:39:55.270Z"
   },
   {
    "duration": 57,
    "start_time": "2022-10-22T14:39:55.278Z"
   },
   {
    "duration": 139,
    "start_time": "2022-10-22T14:39:55.338Z"
   },
   {
    "duration": 7,
    "start_time": "2022-10-22T14:39:55.478Z"
   },
   {
    "duration": 38,
    "start_time": "2022-10-22T14:39:55.486Z"
   },
   {
    "duration": 1990,
    "start_time": "2022-10-22T14:39:55.526Z"
   },
   {
    "duration": 373,
    "start_time": "2022-10-22T14:39:57.518Z"
   },
   {
    "duration": 590,
    "start_time": "2022-10-22T14:39:57.892Z"
   },
   {
    "duration": 3,
    "start_time": "2022-10-22T14:39:58.483Z"
   },
   {
    "duration": 77,
    "start_time": "2022-10-22T14:39:58.489Z"
   },
   {
    "duration": 8,
    "start_time": "2022-10-22T14:39:58.568Z"
   },
   {
    "duration": 49,
    "start_time": "2022-10-22T14:39:58.577Z"
   },
   {
    "duration": 39,
    "start_time": "2022-10-22T14:39:58.628Z"
   },
   {
    "duration": 32,
    "start_time": "2022-10-22T14:39:58.669Z"
   },
   {
    "duration": 44,
    "start_time": "2022-10-22T14:39:58.703Z"
   },
   {
    "duration": 20,
    "start_time": "2022-10-22T14:39:58.751Z"
   },
   {
    "duration": 13,
    "start_time": "2022-10-22T14:39:58.773Z"
   },
   {
    "duration": 30,
    "start_time": "2022-10-22T14:39:58.788Z"
   },
   {
    "duration": 61,
    "start_time": "2022-10-22T14:39:58.820Z"
   },
   {
    "duration": 27,
    "start_time": "2022-10-22T14:39:58.882Z"
   },
   {
    "duration": 26,
    "start_time": "2022-10-22T14:39:58.911Z"
   },
   {
    "duration": 25,
    "start_time": "2022-10-22T14:39:58.939Z"
   },
   {
    "duration": 36,
    "start_time": "2022-10-22T14:39:58.966Z"
   },
   {
    "duration": 97,
    "start_time": "2022-10-22T14:39:59.003Z"
   },
   {
    "duration": 20,
    "start_time": "2022-10-22T14:39:59.102Z"
   },
   {
    "duration": 568,
    "start_time": "2022-10-22T14:39:59.124Z"
   },
   {
    "duration": 23,
    "start_time": "2022-10-22T14:39:59.694Z"
   },
   {
    "duration": 19,
    "start_time": "2022-10-22T14:39:59.719Z"
   },
   {
    "duration": 17,
    "start_time": "2022-10-22T14:39:59.739Z"
   },
   {
    "duration": 11,
    "start_time": "2022-10-22T14:39:59.758Z"
   },
   {
    "duration": 11,
    "start_time": "2022-10-22T14:39:59.771Z"
   },
   {
    "duration": 5,
    "start_time": "2022-10-22T14:39:59.784Z"
   },
   {
    "duration": 29,
    "start_time": "2022-10-22T14:39:59.791Z"
   },
   {
    "duration": 40,
    "start_time": "2022-10-22T14:39:59.822Z"
   },
   {
    "duration": 16,
    "start_time": "2022-10-22T14:39:59.864Z"
   },
   {
    "duration": 27,
    "start_time": "2022-10-22T14:39:59.881Z"
   },
   {
    "duration": 49,
    "start_time": "2022-10-22T14:39:59.909Z"
   },
   {
    "duration": 27,
    "start_time": "2022-10-22T14:39:59.960Z"
   },
   {
    "duration": 5,
    "start_time": "2022-10-22T14:39:59.989Z"
   },
   {
    "duration": 42,
    "start_time": "2022-10-22T14:39:59.996Z"
   },
   {
    "duration": 26,
    "start_time": "2022-10-22T14:40:00.040Z"
   },
   {
    "duration": 14,
    "start_time": "2022-10-22T14:40:00.068Z"
   },
   {
    "duration": 30,
    "start_time": "2022-10-22T14:40:00.084Z"
   },
   {
    "duration": 60,
    "start_time": "2022-10-22T14:40:00.117Z"
   },
   {
    "duration": 24,
    "start_time": "2022-10-22T14:40:00.178Z"
   },
   {
    "duration": 36,
    "start_time": "2022-10-22T14:40:00.204Z"
   },
   {
    "duration": 34,
    "start_time": "2022-10-22T14:40:00.242Z"
   },
   {
    "duration": 5,
    "start_time": "2022-10-22T14:40:00.278Z"
   },
   {
    "duration": 36,
    "start_time": "2022-10-22T14:40:00.284Z"
   },
   {
    "duration": 18,
    "start_time": "2022-10-22T14:40:00.322Z"
   },
   {
    "duration": 25,
    "start_time": "2022-10-22T14:40:00.342Z"
   },
   {
    "duration": 23,
    "start_time": "2022-10-22T14:40:10.652Z"
   },
   {
    "duration": 21,
    "start_time": "2022-10-22T14:40:52.218Z"
   },
   {
    "duration": 16,
    "start_time": "2022-10-22T14:41:27.044Z"
   },
   {
    "duration": 800,
    "start_time": "2022-10-22T14:43:03.585Z"
   },
   {
    "duration": 21,
    "start_time": "2022-10-22T14:49:40.930Z"
   },
   {
    "duration": 134,
    "start_time": "2022-10-22T14:51:06.955Z"
   },
   {
    "duration": 15,
    "start_time": "2022-10-22T14:51:10.103Z"
   },
   {
    "duration": 15,
    "start_time": "2022-10-22T14:51:17.695Z"
   },
   {
    "duration": 15,
    "start_time": "2022-10-22T14:51:20.979Z"
   },
   {
    "duration": 716,
    "start_time": "2022-10-22T14:51:34.259Z"
   },
   {
    "duration": 21,
    "start_time": "2022-10-22T14:51:48.337Z"
   },
   {
    "duration": 13,
    "start_time": "2022-10-22T14:52:14.751Z"
   },
   {
    "duration": 16,
    "start_time": "2022-10-22T14:52:18.742Z"
   },
   {
    "duration": 141,
    "start_time": "2022-10-22T14:52:40.907Z"
   },
   {
    "duration": 23,
    "start_time": "2022-10-22T14:52:51.714Z"
   },
   {
    "duration": 9,
    "start_time": "2022-10-22T14:54:44.051Z"
   },
   {
    "duration": 30,
    "start_time": "2022-10-22T14:54:47.159Z"
   },
   {
    "duration": 15,
    "start_time": "2022-10-22T14:54:50.280Z"
   },
   {
    "duration": 17,
    "start_time": "2022-10-22T14:55:22.401Z"
   },
   {
    "duration": 21,
    "start_time": "2022-10-22T14:55:32.418Z"
   },
   {
    "duration": 95,
    "start_time": "2022-10-22T14:56:25.502Z"
   },
   {
    "duration": 16,
    "start_time": "2022-10-22T14:56:30.271Z"
   },
   {
    "duration": 12,
    "start_time": "2022-10-22T14:59:58.945Z"
   },
   {
    "duration": 13,
    "start_time": "2022-10-22T15:00:03.535Z"
   },
   {
    "duration": 17,
    "start_time": "2022-10-22T15:03:48.529Z"
   },
   {
    "duration": 28,
    "start_time": "2022-10-22T15:04:52.172Z"
   },
   {
    "duration": 18,
    "start_time": "2022-10-22T15:07:05.796Z"
   },
   {
    "duration": 14,
    "start_time": "2022-10-22T15:08:00.999Z"
   },
   {
    "duration": 20,
    "start_time": "2022-10-22T15:09:26.863Z"
   },
   {
    "duration": 21,
    "start_time": "2022-10-22T15:09:30.657Z"
   },
   {
    "duration": 23,
    "start_time": "2022-10-22T15:09:32.612Z"
   },
   {
    "duration": 213,
    "start_time": "2022-10-22T15:11:05.905Z"
   },
   {
    "duration": 543,
    "start_time": "2022-10-22T15:11:13.435Z"
   },
   {
    "duration": 14,
    "start_time": "2022-10-22T15:11:20.020Z"
   },
   {
    "duration": 25,
    "start_time": "2022-10-22T15:11:24.993Z"
   },
   {
    "duration": 21,
    "start_time": "2022-10-22T15:11:31.816Z"
   },
   {
    "duration": 13,
    "start_time": "2022-10-22T15:12:22.507Z"
   },
   {
    "duration": 27,
    "start_time": "2022-10-22T15:12:26.258Z"
   },
   {
    "duration": 20,
    "start_time": "2022-10-22T15:13:49.577Z"
   },
   {
    "duration": 35,
    "start_time": "2022-10-22T15:13:53.604Z"
   },
   {
    "duration": 35,
    "start_time": "2022-10-22T15:16:17.291Z"
   },
   {
    "duration": 30,
    "start_time": "2022-10-22T15:22:17.778Z"
   },
   {
    "duration": 932,
    "start_time": "2022-10-22T15:24:11.140Z"
   },
   {
    "duration": 691,
    "start_time": "2022-10-22T15:24:19.347Z"
   },
   {
    "duration": 45,
    "start_time": "2022-10-22T15:24:27.144Z"
   },
   {
    "duration": 39,
    "start_time": "2022-10-22T15:25:04.116Z"
   },
   {
    "duration": 52,
    "start_time": "2022-10-22T15:25:09.008Z"
   },
   {
    "duration": 10,
    "start_time": "2022-10-22T15:25:36.622Z"
   },
   {
    "duration": 12,
    "start_time": "2022-10-22T15:25:39.034Z"
   },
   {
    "duration": 42,
    "start_time": "2022-10-22T15:25:48.911Z"
   },
   {
    "duration": 27,
    "start_time": "2022-10-22T15:28:04.580Z"
   },
   {
    "duration": 50,
    "start_time": "2022-10-22T15:28:07.818Z"
   },
   {
    "duration": 26,
    "start_time": "2022-10-22T15:29:15.154Z"
   },
   {
    "duration": 40,
    "start_time": "2022-10-22T15:29:19.593Z"
   },
   {
    "duration": 42,
    "start_time": "2022-10-22T15:30:10.892Z"
   },
   {
    "duration": 35,
    "start_time": "2022-10-22T15:30:14.106Z"
   },
   {
    "duration": 29,
    "start_time": "2022-10-22T15:30:19.113Z"
   },
   {
    "duration": 38,
    "start_time": "2022-10-22T15:31:03.041Z"
   },
   {
    "duration": 47,
    "start_time": "2022-10-22T15:31:14.796Z"
   },
   {
    "duration": 52,
    "start_time": "2022-10-22T15:31:23.604Z"
   },
   {
    "duration": 57,
    "start_time": "2022-10-22T15:31:28.465Z"
   },
   {
    "duration": 34,
    "start_time": "2022-10-22T15:34:30.193Z"
   },
   {
    "duration": 11,
    "start_time": "2022-10-22T15:35:23.238Z"
   },
   {
    "duration": 20,
    "start_time": "2022-10-22T15:35:26.981Z"
   },
   {
    "duration": 29,
    "start_time": "2022-10-22T15:35:47.659Z"
   },
   {
    "duration": 56,
    "start_time": "2022-10-22T15:35:52.292Z"
   },
   {
    "duration": 45,
    "start_time": "2022-10-22T15:36:39.835Z"
   },
   {
    "duration": 45,
    "start_time": "2022-10-22T15:38:29.126Z"
   },
   {
    "duration": 39,
    "start_time": "2022-10-22T15:38:36.253Z"
   },
   {
    "duration": 46,
    "start_time": "2022-10-22T15:38:38.995Z"
   },
   {
    "duration": 12,
    "start_time": "2022-10-22T15:41:55.237Z"
   },
   {
    "duration": 12,
    "start_time": "2022-10-22T15:42:01.822Z"
   },
   {
    "duration": 833,
    "start_time": "2022-10-22T15:43:41.615Z"
   },
   {
    "duration": 1041,
    "start_time": "2022-10-22T15:43:51.047Z"
   },
   {
    "duration": 758,
    "start_time": "2022-10-22T15:44:50.408Z"
   },
   {
    "duration": 450,
    "start_time": "2022-10-22T15:45:28.796Z"
   },
   {
    "duration": 628,
    "start_time": "2022-10-22T15:45:36.005Z"
   },
   {
    "duration": 435,
    "start_time": "2022-10-22T15:45:46.800Z"
   },
   {
    "duration": 44,
    "start_time": "2022-10-22T15:46:52.202Z"
   },
   {
    "duration": 861,
    "start_time": "2022-10-22T15:47:04.114Z"
   },
   {
    "duration": 843,
    "start_time": "2022-10-22T15:47:17.760Z"
   },
   {
    "duration": 976,
    "start_time": "2022-10-22T15:47:21.969Z"
   },
   {
    "duration": 772,
    "start_time": "2022-10-22T15:47:30.782Z"
   },
   {
    "duration": 956,
    "start_time": "2022-10-22T15:48:42.852Z"
   },
   {
    "duration": 414,
    "start_time": "2022-10-22T15:50:28.473Z"
   },
   {
    "duration": 422,
    "start_time": "2022-10-22T15:50:36.160Z"
   },
   {
    "duration": 539,
    "start_time": "2022-10-22T15:50:41.370Z"
   },
   {
    "duration": 542,
    "start_time": "2022-10-22T15:50:47.232Z"
   },
   {
    "duration": 386,
    "start_time": "2022-10-22T15:50:54.234Z"
   },
   {
    "duration": 371,
    "start_time": "2022-10-22T15:51:13.121Z"
   },
   {
    "duration": 840,
    "start_time": "2022-10-22T15:51:27.535Z"
   },
   {
    "duration": 682,
    "start_time": "2022-10-22T15:51:46.973Z"
   },
   {
    "duration": 869,
    "start_time": "2022-10-22T15:51:58.847Z"
   },
   {
    "duration": 712,
    "start_time": "2022-10-22T15:52:04.598Z"
   },
   {
    "duration": 944,
    "start_time": "2022-10-22T15:52:32.242Z"
   },
   {
    "duration": 25,
    "start_time": "2022-10-22T15:53:28.125Z"
   },
   {
    "duration": 20,
    "start_time": "2022-10-22T15:53:36.098Z"
   },
   {
    "duration": 17,
    "start_time": "2022-10-22T15:53:42.302Z"
   },
   {
    "duration": 418,
    "start_time": "2022-10-22T15:54:15.048Z"
   },
   {
    "duration": 548,
    "start_time": "2022-10-22T15:54:23.480Z"
   },
   {
    "duration": 746,
    "start_time": "2022-10-22T15:54:28.287Z"
   },
   {
    "duration": 424,
    "start_time": "2022-10-22T15:54:35.970Z"
   },
   {
    "duration": 587,
    "start_time": "2022-10-22T15:54:46.251Z"
   },
   {
    "duration": 688,
    "start_time": "2022-10-22T15:54:56.360Z"
   },
   {
    "duration": 18,
    "start_time": "2022-10-22T15:57:44.592Z"
   },
   {
    "duration": 11,
    "start_time": "2022-10-22T15:58:17.204Z"
   },
   {
    "duration": 61,
    "start_time": "2022-10-22T16:00:34.105Z"
   },
   {
    "duration": 195,
    "start_time": "2022-10-22T16:00:39.465Z"
   },
   {
    "duration": 19,
    "start_time": "2022-10-22T16:00:48.419Z"
   },
   {
    "duration": 191,
    "start_time": "2022-10-22T16:00:58.322Z"
   },
   {
    "duration": 193,
    "start_time": "2022-10-22T16:01:01.850Z"
   },
   {
    "duration": 486,
    "start_time": "2022-10-22T16:01:11.422Z"
   },
   {
    "duration": 183,
    "start_time": "2022-10-22T16:01:20.128Z"
   },
   {
    "duration": 16,
    "start_time": "2022-10-22T16:01:38.612Z"
   },
   {
    "duration": 15,
    "start_time": "2022-10-22T16:01:44.433Z"
   },
   {
    "duration": 16,
    "start_time": "2022-10-22T16:01:52.504Z"
   },
   {
    "duration": 52,
    "start_time": "2022-10-22T16:03:07.858Z"
   },
   {
    "duration": 23,
    "start_time": "2022-10-22T16:03:46.380Z"
   },
   {
    "duration": 12,
    "start_time": "2022-10-22T16:03:57.496Z"
   },
   {
    "duration": 17,
    "start_time": "2022-10-22T16:04:02.329Z"
   },
   {
    "duration": 14,
    "start_time": "2022-10-22T16:04:15.731Z"
   },
   {
    "duration": 19,
    "start_time": "2022-10-22T16:04:37.444Z"
   },
   {
    "duration": 66,
    "start_time": "2022-10-22T16:06:31.491Z"
   },
   {
    "duration": 27,
    "start_time": "2022-10-22T16:06:38.372Z"
   },
   {
    "duration": 18,
    "start_time": "2022-10-22T16:10:53.072Z"
   },
   {
    "duration": 8,
    "start_time": "2022-10-22T16:12:08.088Z"
   },
   {
    "duration": 6,
    "start_time": "2022-10-22T16:12:20.221Z"
   },
   {
    "duration": 24,
    "start_time": "2022-10-22T16:13:05.505Z"
   },
   {
    "duration": 30,
    "start_time": "2022-10-22T16:13:17.172Z"
   },
   {
    "duration": 24,
    "start_time": "2022-10-22T16:13:20.935Z"
   },
   {
    "duration": 23,
    "start_time": "2022-10-22T16:13:41.700Z"
   },
   {
    "duration": 179,
    "start_time": "2022-10-22T16:13:48.827Z"
   },
   {
    "duration": 22,
    "start_time": "2022-10-22T16:13:52.520Z"
   },
   {
    "duration": 22,
    "start_time": "2022-10-22T16:14:09.372Z"
   },
   {
    "duration": 76,
    "start_time": "2022-10-22T16:14:22.791Z"
   },
   {
    "duration": 23,
    "start_time": "2022-10-22T16:14:26.496Z"
   },
   {
    "duration": 18,
    "start_time": "2022-10-22T16:14:35.158Z"
   },
   {
    "duration": 17,
    "start_time": "2022-10-22T16:14:52.571Z"
   },
   {
    "duration": 14,
    "start_time": "2022-10-22T16:15:19.438Z"
   },
   {
    "duration": 28,
    "start_time": "2022-10-22T16:15:29.854Z"
   },
   {
    "duration": 29,
    "start_time": "2022-10-22T16:15:40.845Z"
   },
   {
    "duration": 33,
    "start_time": "2022-10-22T16:15:44.800Z"
   },
   {
    "duration": 18,
    "start_time": "2022-10-22T16:15:50.381Z"
   },
   {
    "duration": 15,
    "start_time": "2022-10-22T16:16:30.200Z"
   },
   {
    "duration": 11,
    "start_time": "2022-10-22T16:16:45.437Z"
   },
   {
    "duration": 10,
    "start_time": "2022-10-22T16:17:05.103Z"
   },
   {
    "duration": 7,
    "start_time": "2022-10-22T17:04:02.646Z"
   },
   {
    "duration": 11,
    "start_time": "2022-10-22T17:04:06.815Z"
   },
   {
    "duration": 6,
    "start_time": "2022-10-22T17:04:11.039Z"
   },
   {
    "duration": 12,
    "start_time": "2022-10-22T17:04:15.857Z"
   },
   {
    "duration": 5,
    "start_time": "2022-10-22T17:04:17.667Z"
   },
   {
    "duration": 10,
    "start_time": "2022-10-22T17:04:19.467Z"
   },
   {
    "duration": 5,
    "start_time": "2022-10-22T17:04:22.039Z"
   },
   {
    "duration": 8,
    "start_time": "2022-10-22T17:04:25.474Z"
   },
   {
    "duration": 812,
    "start_time": "2022-10-22T17:04:45.008Z"
   },
   {
    "duration": 146,
    "start_time": "2022-10-22T17:04:48.051Z"
   },
   {
    "duration": 103,
    "start_time": "2022-10-22T17:04:51.173Z"
   },
   {
    "duration": 106,
    "start_time": "2022-10-22T17:05:07.064Z"
   },
   {
    "duration": 134,
    "start_time": "2022-10-22T17:05:12.357Z"
   },
   {
    "duration": 120,
    "start_time": "2022-10-22T17:09:56.250Z"
   },
   {
    "duration": 142,
    "start_time": "2022-10-22T17:10:15.440Z"
   },
   {
    "duration": 129,
    "start_time": "2022-10-22T17:10:20.416Z"
   },
   {
    "duration": 165,
    "start_time": "2022-10-22T17:10:24.210Z"
   },
   {
    "duration": 118,
    "start_time": "2022-10-22T17:10:29.172Z"
   },
   {
    "duration": 134,
    "start_time": "2022-10-22T17:10:33.062Z"
   },
   {
    "duration": 117,
    "start_time": "2022-10-22T17:12:05.597Z"
   },
   {
    "duration": 138,
    "start_time": "2022-10-22T17:12:08.607Z"
   },
   {
    "duration": 116,
    "start_time": "2022-10-22T17:13:49.185Z"
   },
   {
    "duration": 112,
    "start_time": "2022-10-22T17:13:52.852Z"
   },
   {
    "duration": 12,
    "start_time": "2022-10-22T17:16:20.191Z"
   },
   {
    "duration": 118,
    "start_time": "2022-10-22T17:16:31.099Z"
   },
   {
    "duration": 319,
    "start_time": "2022-10-22T17:16:48.858Z"
   },
   {
    "duration": 174,
    "start_time": "2022-10-22T17:16:59.319Z"
   },
   {
    "duration": 19,
    "start_time": "2022-10-22T17:21:45.829Z"
   },
   {
    "duration": 122,
    "start_time": "2022-10-22T17:21:50.057Z"
   },
   {
    "duration": 130,
    "start_time": "2022-10-22T17:22:08.048Z"
   },
   {
    "duration": 14,
    "start_time": "2022-10-22T17:22:14.135Z"
   },
   {
    "duration": 26,
    "start_time": "2022-10-22T17:22:29.403Z"
   },
   {
    "duration": 145,
    "start_time": "2022-10-22T17:22:35.056Z"
   },
   {
    "duration": 208,
    "start_time": "2022-10-22T17:22:57.278Z"
   },
   {
    "duration": 131,
    "start_time": "2022-10-22T17:23:06.735Z"
   },
   {
    "duration": 156,
    "start_time": "2022-10-22T17:23:17.639Z"
   },
   {
    "duration": 15,
    "start_time": "2022-10-22T17:23:27.139Z"
   },
   {
    "duration": 130,
    "start_time": "2022-10-22T17:23:29.080Z"
   },
   {
    "duration": 132,
    "start_time": "2022-10-22T17:23:30.826Z"
   },
   {
    "duration": 9,
    "start_time": "2022-10-22T17:24:02.374Z"
   },
   {
    "duration": 44,
    "start_time": "2022-10-24T11:28:54.885Z"
   },
   {
    "duration": 1265,
    "start_time": "2022-10-24T11:28:59.447Z"
   },
   {
    "duration": 388,
    "start_time": "2022-10-24T11:29:00.715Z"
   },
   {
    "duration": 19,
    "start_time": "2022-10-24T11:29:01.105Z"
   },
   {
    "duration": 516,
    "start_time": "2022-10-24T11:29:01.126Z"
   },
   {
    "duration": 27,
    "start_time": "2022-10-24T11:29:01.644Z"
   },
   {
    "duration": 54,
    "start_time": "2022-10-24T11:29:01.672Z"
   },
   {
    "duration": 29,
    "start_time": "2022-10-24T11:29:01.728Z"
   },
   {
    "duration": 34,
    "start_time": "2022-10-24T11:29:01.759Z"
   },
   {
    "duration": 82,
    "start_time": "2022-10-24T11:29:01.794Z"
   },
   {
    "duration": 12,
    "start_time": "2022-10-24T11:29:01.879Z"
   },
   {
    "duration": 16,
    "start_time": "2022-10-24T11:29:01.892Z"
   },
   {
    "duration": 38,
    "start_time": "2022-10-24T11:29:01.910Z"
   },
   {
    "duration": 17,
    "start_time": "2022-10-24T11:29:01.950Z"
   },
   {
    "duration": 60,
    "start_time": "2022-10-24T11:29:01.968Z"
   },
   {
    "duration": 119,
    "start_time": "2022-10-24T11:29:02.030Z"
   },
   {
    "duration": 4,
    "start_time": "2022-10-24T11:29:02.151Z"
   },
   {
    "duration": 41,
    "start_time": "2022-10-24T11:29:02.157Z"
   },
   {
    "duration": 1915,
    "start_time": "2022-10-24T11:29:02.200Z"
   },
   {
    "duration": 330,
    "start_time": "2022-10-24T11:29:04.122Z"
   },
   {
    "duration": 496,
    "start_time": "2022-10-24T11:29:04.454Z"
   },
   {
    "duration": 2,
    "start_time": "2022-10-24T11:29:04.952Z"
   },
   {
    "duration": 44,
    "start_time": "2022-10-24T11:29:04.956Z"
   },
   {
    "duration": 7,
    "start_time": "2022-10-24T11:29:05.002Z"
   },
   {
    "duration": 31,
    "start_time": "2022-10-24T11:29:05.011Z"
   },
   {
    "duration": 25,
    "start_time": "2022-10-24T11:29:05.044Z"
   },
   {
    "duration": 26,
    "start_time": "2022-10-24T11:29:05.070Z"
   },
   {
    "duration": 46,
    "start_time": "2022-10-24T11:29:05.098Z"
   },
   {
    "duration": 20,
    "start_time": "2022-10-24T11:29:05.148Z"
   },
   {
    "duration": 9,
    "start_time": "2022-10-24T11:29:05.170Z"
   },
   {
    "duration": 13,
    "start_time": "2022-10-24T11:29:05.181Z"
   },
   {
    "duration": 43,
    "start_time": "2022-10-24T11:29:05.195Z"
   },
   {
    "duration": 12,
    "start_time": "2022-10-24T11:29:05.239Z"
   },
   {
    "duration": 10,
    "start_time": "2022-10-24T11:29:05.252Z"
   },
   {
    "duration": 67,
    "start_time": "2022-10-24T11:29:05.264Z"
   },
   {
    "duration": 17,
    "start_time": "2022-10-24T11:29:05.332Z"
   },
   {
    "duration": 500,
    "start_time": "2022-10-24T11:29:05.351Z"
   },
   {
    "duration": 20,
    "start_time": "2022-10-24T11:29:05.853Z"
   },
   {
    "duration": 30,
    "start_time": "2022-10-24T11:29:05.875Z"
   },
   {
    "duration": 4,
    "start_time": "2022-10-24T11:29:05.907Z"
   },
   {
    "duration": 12,
    "start_time": "2022-10-24T11:29:05.912Z"
   },
   {
    "duration": 9,
    "start_time": "2022-10-24T11:29:05.925Z"
   },
   {
    "duration": 8,
    "start_time": "2022-10-24T11:29:05.935Z"
   },
   {
    "duration": 21,
    "start_time": "2022-10-24T11:29:05.944Z"
   },
   {
    "duration": 32,
    "start_time": "2022-10-24T11:29:05.967Z"
   },
   {
    "duration": 27,
    "start_time": "2022-10-24T11:29:06.000Z"
   },
   {
    "duration": 10,
    "start_time": "2022-10-24T11:29:06.029Z"
   },
   {
    "duration": 13,
    "start_time": "2022-10-24T11:29:06.041Z"
   },
   {
    "duration": 125,
    "start_time": "2022-10-24T11:29:06.055Z"
   },
   {
    "duration": 139,
    "start_time": "2022-10-24T11:29:06.182Z"
   },
   {
    "duration": 167,
    "start_time": "2022-10-24T11:29:06.323Z"
   },
   {
    "duration": 550,
    "start_time": "2022-10-24T11:29:06.492Z"
   },
   {
    "duration": 14,
    "start_time": "2022-10-24T11:29:07.043Z"
   },
   {
    "duration": 19,
    "start_time": "2022-10-24T11:29:07.059Z"
   },
   {
    "duration": 12,
    "start_time": "2022-10-24T11:29:07.079Z"
   },
   {
    "duration": 45,
    "start_time": "2022-10-24T11:29:07.092Z"
   },
   {
    "duration": 22,
    "start_time": "2022-10-24T11:29:07.138Z"
   },
   {
    "duration": 23,
    "start_time": "2022-10-24T11:29:07.161Z"
   },
   {
    "duration": 5,
    "start_time": "2022-10-24T11:29:07.186Z"
   },
   {
    "duration": 30,
    "start_time": "2022-10-24T11:29:07.192Z"
   },
   {
    "duration": 9,
    "start_time": "2022-10-24T11:29:07.223Z"
   },
   {
    "duration": 9,
    "start_time": "2022-10-24T11:29:07.233Z"
   },
   {
    "duration": 10,
    "start_time": "2022-10-24T11:29:07.243Z"
   },
   {
    "duration": 23,
    "start_time": "2022-10-24T11:29:07.254Z"
   },
   {
    "duration": 45,
    "start_time": "2022-10-24T11:29:07.279Z"
   },
   {
    "duration": 13,
    "start_time": "2022-10-24T11:29:07.326Z"
   },
   {
    "duration": 19,
    "start_time": "2022-10-24T11:29:07.341Z"
   },
   {
    "duration": 4,
    "start_time": "2022-10-24T11:29:07.361Z"
   },
   {
    "duration": 13,
    "start_time": "2022-10-24T11:29:07.366Z"
   },
   {
    "duration": 8,
    "start_time": "2022-10-24T11:29:07.381Z"
   },
   {
    "duration": 10,
    "start_time": "2022-10-24T11:29:07.391Z"
   },
   {
    "duration": 5,
    "start_time": "2022-10-24T11:29:27.753Z"
   },
   {
    "duration": 5,
    "start_time": "2022-10-24T11:29:32.204Z"
   },
   {
    "duration": 91,
    "start_time": "2022-10-24T11:31:34.824Z"
   },
   {
    "duration": 128,
    "start_time": "2022-10-24T11:31:40.938Z"
   },
   {
    "duration": 95,
    "start_time": "2022-10-24T11:31:44.151Z"
   },
   {
    "duration": 5,
    "start_time": "2022-10-24T11:34:34.762Z"
   },
   {
    "duration": 4,
    "start_time": "2022-10-24T11:34:39.201Z"
   },
   {
    "duration": 5,
    "start_time": "2022-10-24T11:34:45.842Z"
   },
   {
    "duration": 16,
    "start_time": "2022-10-24T11:35:02.707Z"
   },
   {
    "duration": 5,
    "start_time": "2022-10-24T11:35:15.571Z"
   },
   {
    "duration": 101,
    "start_time": "2022-10-24T11:35:17.874Z"
   },
   {
    "duration": 6,
    "start_time": "2022-10-24T11:35:20.107Z"
   },
   {
    "duration": 34,
    "start_time": "2022-10-24T11:37:49.635Z"
   },
   {
    "duration": 40,
    "start_time": "2022-10-24T11:38:22.823Z"
   },
   {
    "duration": 33,
    "start_time": "2022-10-24T11:38:30.635Z"
   },
   {
    "duration": 42,
    "start_time": "2022-10-24T13:37:06.148Z"
   },
   {
    "duration": 1240,
    "start_time": "2022-10-24T13:37:14.285Z"
   },
   {
    "duration": 203,
    "start_time": "2022-10-24T13:37:15.527Z"
   },
   {
    "duration": 18,
    "start_time": "2022-10-24T13:37:15.734Z"
   },
   {
    "duration": 566,
    "start_time": "2022-10-24T13:37:15.754Z"
   },
   {
    "duration": 30,
    "start_time": "2022-10-24T13:37:16.322Z"
   },
   {
    "duration": 37,
    "start_time": "2022-10-24T13:37:16.354Z"
   },
   {
    "duration": 44,
    "start_time": "2022-10-24T13:37:16.393Z"
   },
   {
    "duration": 23,
    "start_time": "2022-10-24T13:37:16.439Z"
   },
   {
    "duration": 77,
    "start_time": "2022-10-24T13:37:16.465Z"
   },
   {
    "duration": 12,
    "start_time": "2022-10-24T13:37:16.543Z"
   },
   {
    "duration": 7,
    "start_time": "2022-10-24T13:37:16.557Z"
   },
   {
    "duration": 54,
    "start_time": "2022-10-24T13:37:16.566Z"
   },
   {
    "duration": 5,
    "start_time": "2022-10-24T13:37:16.623Z"
   },
   {
    "duration": 31,
    "start_time": "2022-10-24T13:37:16.629Z"
   },
   {
    "duration": 146,
    "start_time": "2022-10-24T13:37:16.661Z"
   },
   {
    "duration": 12,
    "start_time": "2022-10-24T13:37:16.808Z"
   },
   {
    "duration": 16,
    "start_time": "2022-10-24T13:37:16.822Z"
   },
   {
    "duration": 1986,
    "start_time": "2022-10-24T13:37:16.839Z"
   },
   {
    "duration": 408,
    "start_time": "2022-10-24T13:37:18.827Z"
   },
   {
    "duration": 544,
    "start_time": "2022-10-24T13:37:19.237Z"
   },
   {
    "duration": 3,
    "start_time": "2022-10-24T13:37:19.782Z"
   },
   {
    "duration": 53,
    "start_time": "2022-10-24T13:37:19.786Z"
   },
   {
    "duration": 8,
    "start_time": "2022-10-24T13:37:19.842Z"
   },
   {
    "duration": 24,
    "start_time": "2022-10-24T13:37:19.852Z"
   },
   {
    "duration": 25,
    "start_time": "2022-10-24T13:37:19.878Z"
   },
   {
    "duration": 26,
    "start_time": "2022-10-24T13:37:19.920Z"
   },
   {
    "duration": 24,
    "start_time": "2022-10-24T13:37:19.950Z"
   },
   {
    "duration": 19,
    "start_time": "2022-10-24T13:37:19.975Z"
   },
   {
    "duration": 29,
    "start_time": "2022-10-24T13:37:19.996Z"
   },
   {
    "duration": 10,
    "start_time": "2022-10-24T13:37:20.027Z"
   },
   {
    "duration": 44,
    "start_time": "2022-10-24T13:37:20.039Z"
   },
   {
    "duration": 31,
    "start_time": "2022-10-24T13:37:20.085Z"
   },
   {
    "duration": 11,
    "start_time": "2022-10-24T13:37:20.118Z"
   },
   {
    "duration": 71,
    "start_time": "2022-10-24T13:37:20.130Z"
   },
   {
    "duration": 19,
    "start_time": "2022-10-24T13:37:20.203Z"
   },
   {
    "duration": 500,
    "start_time": "2022-10-24T13:37:20.224Z"
   },
   {
    "duration": 24,
    "start_time": "2022-10-24T13:37:20.725Z"
   },
   {
    "duration": 19,
    "start_time": "2022-10-24T13:37:20.751Z"
   },
   {
    "duration": 16,
    "start_time": "2022-10-24T13:37:20.771Z"
   },
   {
    "duration": 43,
    "start_time": "2022-10-24T13:37:20.788Z"
   },
   {
    "duration": 38,
    "start_time": "2022-10-24T13:37:20.832Z"
   },
   {
    "duration": 28,
    "start_time": "2022-10-24T13:37:20.872Z"
   },
   {
    "duration": 45,
    "start_time": "2022-10-24T13:37:20.902Z"
   },
   {
    "duration": 32,
    "start_time": "2022-10-24T13:37:20.949Z"
   },
   {
    "duration": 7,
    "start_time": "2022-10-24T13:37:20.983Z"
   },
   {
    "duration": 23,
    "start_time": "2022-10-24T13:37:20.991Z"
   },
   {
    "duration": 12,
    "start_time": "2022-10-24T13:37:21.015Z"
   },
   {
    "duration": 37,
    "start_time": "2022-10-24T13:37:21.028Z"
   },
   {
    "duration": 26,
    "start_time": "2022-10-24T13:37:21.067Z"
   },
   {
    "duration": 30,
    "start_time": "2022-10-24T13:37:21.095Z"
   },
   {
    "duration": 13,
    "start_time": "2022-10-24T13:37:21.127Z"
   },
   {
    "duration": 24,
    "start_time": "2022-10-24T13:37:21.142Z"
   },
   {
    "duration": 24,
    "start_time": "2022-10-24T13:37:21.168Z"
   },
   {
    "duration": 45,
    "start_time": "2022-10-24T13:37:21.193Z"
   },
   {
    "duration": 8,
    "start_time": "2022-10-24T13:37:21.241Z"
   },
   {
    "duration": 23,
    "start_time": "2022-10-24T13:37:21.251Z"
   },
   {
    "duration": 13,
    "start_time": "2022-10-24T13:37:21.275Z"
   },
   {
    "duration": 9,
    "start_time": "2022-10-24T13:37:21.289Z"
   },
   {
    "duration": 29,
    "start_time": "2022-10-24T13:37:21.300Z"
   },
   {
    "duration": 26,
    "start_time": "2022-10-24T13:37:21.330Z"
   },
   {
    "duration": 14,
    "start_time": "2022-10-24T13:37:21.357Z"
   },
   {
    "duration": 14,
    "start_time": "2022-10-24T13:37:21.372Z"
   },
   {
    "duration": 37,
    "start_time": "2022-10-24T13:37:21.388Z"
   },
   {
    "duration": 3,
    "start_time": "2022-10-24T13:37:21.427Z"
   },
   {
    "duration": 27,
    "start_time": "2022-10-24T13:37:21.432Z"
   },
   {
    "duration": 28,
    "start_time": "2022-10-24T13:37:21.461Z"
   },
   {
    "duration": 13,
    "start_time": "2022-10-24T13:37:21.491Z"
   },
   {
    "duration": 7,
    "start_time": "2022-10-24T13:41:14.631Z"
   },
   {
    "duration": 23,
    "start_time": "2022-10-24T13:41:19.431Z"
   },
   {
    "duration": 1041,
    "start_time": "2022-10-24T13:41:33.459Z"
   },
   {
    "duration": 89,
    "start_time": "2022-10-24T13:41:34.502Z"
   },
   {
    "duration": 18,
    "start_time": "2022-10-24T13:41:34.592Z"
   },
   {
    "duration": 497,
    "start_time": "2022-10-24T13:41:34.612Z"
   },
   {
    "duration": 34,
    "start_time": "2022-10-24T13:41:35.111Z"
   },
   {
    "duration": 32,
    "start_time": "2022-10-24T13:41:35.147Z"
   },
   {
    "duration": 39,
    "start_time": "2022-10-24T13:41:35.181Z"
   },
   {
    "duration": 21,
    "start_time": "2022-10-24T13:41:35.222Z"
   },
   {
    "duration": 83,
    "start_time": "2022-10-24T13:41:35.245Z"
   },
   {
    "duration": 12,
    "start_time": "2022-10-24T13:41:35.331Z"
   },
   {
    "duration": 35,
    "start_time": "2022-10-24T13:41:35.344Z"
   },
   {
    "duration": 82,
    "start_time": "2022-10-24T13:41:35.381Z"
   },
   {
    "duration": 6,
    "start_time": "2022-10-24T13:41:35.464Z"
   },
   {
    "duration": 77,
    "start_time": "2022-10-24T13:41:35.472Z"
   },
   {
    "duration": 131,
    "start_time": "2022-10-24T13:41:35.551Z"
   },
   {
    "duration": 5,
    "start_time": "2022-10-24T13:41:35.683Z"
   },
   {
    "duration": 57,
    "start_time": "2022-10-24T13:41:35.689Z"
   },
   {
    "duration": 2004,
    "start_time": "2022-10-24T13:41:35.748Z"
   },
   {
    "duration": 401,
    "start_time": "2022-10-24T13:41:37.754Z"
   },
   {
    "duration": 523,
    "start_time": "2022-10-24T13:41:38.158Z"
   },
   {
    "duration": 3,
    "start_time": "2022-10-24T13:41:38.683Z"
   },
   {
    "duration": 54,
    "start_time": "2022-10-24T13:41:38.688Z"
   },
   {
    "duration": 8,
    "start_time": "2022-10-24T13:41:38.743Z"
   },
   {
    "duration": 72,
    "start_time": "2022-10-24T13:41:38.753Z"
   },
   {
    "duration": 26,
    "start_time": "2022-10-24T13:41:38.827Z"
   },
   {
    "duration": 30,
    "start_time": "2022-10-24T13:41:38.855Z"
   },
   {
    "duration": 56,
    "start_time": "2022-10-24T13:41:38.886Z"
   },
   {
    "duration": 22,
    "start_time": "2022-10-24T13:41:38.947Z"
   },
   {
    "duration": 25,
    "start_time": "2022-10-24T13:41:38.971Z"
   },
   {
    "duration": 24,
    "start_time": "2022-10-24T13:41:38.998Z"
   },
   {
    "duration": 51,
    "start_time": "2022-10-24T13:41:39.023Z"
   },
   {
    "duration": 3,
    "start_time": "2022-10-24T13:41:39.076Z"
   },
   {
    "duration": 28,
    "start_time": "2022-10-24T13:41:39.081Z"
   },
   {
    "duration": 80,
    "start_time": "2022-10-24T13:41:39.111Z"
   },
   {
    "duration": 22,
    "start_time": "2022-10-24T13:41:39.193Z"
   },
   {
    "duration": 512,
    "start_time": "2022-10-24T13:41:39.217Z"
   },
   {
    "duration": 21,
    "start_time": "2022-10-24T13:41:39.730Z"
   },
   {
    "duration": 18,
    "start_time": "2022-10-24T13:41:39.753Z"
   },
   {
    "duration": 4,
    "start_time": "2022-10-24T13:41:39.772Z"
   },
   {
    "duration": 20,
    "start_time": "2022-10-24T13:41:39.777Z"
   },
   {
    "duration": 15,
    "start_time": "2022-10-24T13:41:39.798Z"
   },
   {
    "duration": 25,
    "start_time": "2022-10-24T13:41:39.814Z"
   },
   {
    "duration": 28,
    "start_time": "2022-10-24T13:41:39.841Z"
   },
   {
    "duration": 31,
    "start_time": "2022-10-24T13:41:39.870Z"
   },
   {
    "duration": 8,
    "start_time": "2022-10-24T13:41:39.903Z"
   },
   {
    "duration": 20,
    "start_time": "2022-10-24T13:41:39.912Z"
   },
   {
    "duration": 14,
    "start_time": "2022-10-24T13:41:39.933Z"
   },
   {
    "duration": 27,
    "start_time": "2022-10-24T13:41:39.948Z"
   },
   {
    "duration": 96,
    "start_time": "2022-10-24T13:41:39.976Z"
   },
   {
    "duration": 0,
    "start_time": "2022-10-24T13:41:40.074Z"
   },
   {
    "duration": 0,
    "start_time": "2022-10-24T13:41:40.075Z"
   },
   {
    "duration": 0,
    "start_time": "2022-10-24T13:41:40.076Z"
   },
   {
    "duration": 0,
    "start_time": "2022-10-24T13:41:40.078Z"
   },
   {
    "duration": 0,
    "start_time": "2022-10-24T13:41:40.079Z"
   },
   {
    "duration": 0,
    "start_time": "2022-10-24T13:41:40.080Z"
   },
   {
    "duration": 0,
    "start_time": "2022-10-24T13:41:40.082Z"
   },
   {
    "duration": 0,
    "start_time": "2022-10-24T13:41:40.083Z"
   },
   {
    "duration": 0,
    "start_time": "2022-10-24T13:41:40.084Z"
   },
   {
    "duration": 0,
    "start_time": "2022-10-24T13:41:40.084Z"
   },
   {
    "duration": 0,
    "start_time": "2022-10-24T13:41:40.085Z"
   },
   {
    "duration": 0,
    "start_time": "2022-10-24T13:41:40.087Z"
   },
   {
    "duration": 0,
    "start_time": "2022-10-24T13:41:40.088Z"
   },
   {
    "duration": 0,
    "start_time": "2022-10-24T13:41:40.089Z"
   },
   {
    "duration": 0,
    "start_time": "2022-10-24T13:41:40.090Z"
   },
   {
    "duration": 0,
    "start_time": "2022-10-24T13:41:40.091Z"
   },
   {
    "duration": 0,
    "start_time": "2022-10-24T13:41:40.092Z"
   },
   {
    "duration": 0,
    "start_time": "2022-10-24T13:41:40.120Z"
   },
   {
    "duration": 0,
    "start_time": "2022-10-24T13:41:40.121Z"
   },
   {
    "duration": 12,
    "start_time": "2022-10-24T13:41:53.541Z"
   },
   {
    "duration": 8,
    "start_time": "2022-10-24T13:42:04.869Z"
   },
   {
    "duration": 8,
    "start_time": "2022-10-24T13:42:10.474Z"
   },
   {
    "duration": 16,
    "start_time": "2022-10-24T13:42:12.637Z"
   },
   {
    "duration": 27,
    "start_time": "2022-10-24T13:42:16.419Z"
   },
   {
    "duration": 33,
    "start_time": "2022-10-24T13:42:40.464Z"
   },
   {
    "duration": 19,
    "start_time": "2022-10-24T13:43:24.091Z"
   },
   {
    "duration": 18,
    "start_time": "2022-10-24T13:44:18.066Z"
   },
   {
    "duration": 19,
    "start_time": "2022-10-24T13:45:24.087Z"
   },
   {
    "duration": 11,
    "start_time": "2022-10-24T13:45:47.685Z"
   },
   {
    "duration": 19,
    "start_time": "2022-10-24T13:45:54.863Z"
   },
   {
    "duration": 16,
    "start_time": "2022-10-24T13:46:09.736Z"
   },
   {
    "duration": 6,
    "start_time": "2022-10-24T13:46:29.585Z"
   },
   {
    "duration": 18,
    "start_time": "2022-10-24T13:46:31.216Z"
   },
   {
    "duration": 638,
    "start_time": "2022-10-24T13:47:40.357Z"
   },
   {
    "duration": 14,
    "start_time": "2022-10-24T13:47:47.490Z"
   },
   {
    "duration": 16,
    "start_time": "2022-10-24T13:48:17.188Z"
   },
   {
    "duration": 24,
    "start_time": "2022-10-24T13:48:27.870Z"
   },
   {
    "duration": 16,
    "start_time": "2022-10-24T13:49:11.983Z"
   },
   {
    "duration": 24,
    "start_time": "2022-10-24T13:49:17.751Z"
   },
   {
    "duration": 21,
    "start_time": "2022-10-24T13:49:27.092Z"
   },
   {
    "duration": 10,
    "start_time": "2022-10-24T13:49:36.744Z"
   },
   {
    "duration": 29,
    "start_time": "2022-10-24T13:49:38.979Z"
   },
   {
    "duration": 4219,
    "start_time": "2022-10-24T13:55:29.408Z"
   },
   {
    "duration": 4335,
    "start_time": "2022-10-24T13:55:49.794Z"
   },
   {
    "duration": 50,
    "start_time": "2022-10-24T13:56:18.492Z"
   },
   {
    "duration": 45,
    "start_time": "2022-10-24T13:56:24.394Z"
   },
   {
    "duration": 576,
    "start_time": "2022-10-24T13:57:13.621Z"
   },
   {
    "duration": 47,
    "start_time": "2022-10-24T13:57:56.585Z"
   },
   {
    "duration": 57,
    "start_time": "2022-10-24T13:57:59.536Z"
   },
   {
    "duration": 18,
    "start_time": "2022-10-24T13:58:03.219Z"
   },
   {
    "duration": 162,
    "start_time": "2022-10-24T13:58:19.608Z"
   },
   {
    "duration": 94,
    "start_time": "2022-10-24T13:59:08.358Z"
   },
   {
    "duration": 106,
    "start_time": "2022-10-24T14:01:33.616Z"
   },
   {
    "duration": 1178,
    "start_time": "2022-10-24T14:09:18.452Z"
   },
   {
    "duration": 195,
    "start_time": "2022-10-24T14:09:19.632Z"
   },
   {
    "duration": 20,
    "start_time": "2022-10-24T14:09:19.829Z"
   },
   {
    "duration": 573,
    "start_time": "2022-10-24T14:09:19.851Z"
   },
   {
    "duration": 29,
    "start_time": "2022-10-24T14:09:20.427Z"
   },
   {
    "duration": 37,
    "start_time": "2022-10-24T14:09:20.457Z"
   },
   {
    "duration": 44,
    "start_time": "2022-10-24T14:09:20.496Z"
   },
   {
    "duration": 23,
    "start_time": "2022-10-24T14:09:20.542Z"
   },
   {
    "duration": 86,
    "start_time": "2022-10-24T14:09:20.567Z"
   },
   {
    "duration": 11,
    "start_time": "2022-10-24T14:09:20.654Z"
   },
   {
    "duration": 35,
    "start_time": "2022-10-24T14:09:20.667Z"
   },
   {
    "duration": 63,
    "start_time": "2022-10-24T14:09:20.703Z"
   },
   {
    "duration": 5,
    "start_time": "2022-10-24T14:09:20.768Z"
   },
   {
    "duration": 45,
    "start_time": "2022-10-24T14:09:20.777Z"
   },
   {
    "duration": 137,
    "start_time": "2022-10-24T14:09:20.824Z"
   },
   {
    "duration": 5,
    "start_time": "2022-10-24T14:09:20.962Z"
   },
   {
    "duration": 46,
    "start_time": "2022-10-24T14:09:20.969Z"
   },
   {
    "duration": 1966,
    "start_time": "2022-10-24T14:09:21.017Z"
   },
   {
    "duration": 378,
    "start_time": "2022-10-24T14:09:22.985Z"
   },
   {
    "duration": 560,
    "start_time": "2022-10-24T14:09:23.365Z"
   },
   {
    "duration": 2,
    "start_time": "2022-10-24T14:09:23.927Z"
   },
   {
    "duration": 61,
    "start_time": "2022-10-24T14:09:23.930Z"
   },
   {
    "duration": 7,
    "start_time": "2022-10-24T14:09:23.992Z"
   },
   {
    "duration": 53,
    "start_time": "2022-10-24T14:09:24.000Z"
   },
   {
    "duration": 44,
    "start_time": "2022-10-24T14:09:24.055Z"
   },
   {
    "duration": 36,
    "start_time": "2022-10-24T14:09:24.101Z"
   },
   {
    "duration": 26,
    "start_time": "2022-10-24T14:09:24.140Z"
   },
   {
    "duration": 32,
    "start_time": "2022-10-24T14:09:24.168Z"
   },
   {
    "duration": 28,
    "start_time": "2022-10-24T14:09:24.202Z"
   },
   {
    "duration": 35,
    "start_time": "2022-10-24T14:09:24.232Z"
   },
   {
    "duration": 57,
    "start_time": "2022-10-24T14:09:24.269Z"
   },
   {
    "duration": 13,
    "start_time": "2022-10-24T14:09:24.328Z"
   },
   {
    "duration": 40,
    "start_time": "2022-10-24T14:09:24.342Z"
   },
   {
    "duration": 74,
    "start_time": "2022-10-24T14:09:24.384Z"
   },
   {
    "duration": 26,
    "start_time": "2022-10-24T14:09:24.460Z"
   },
   {
    "duration": 525,
    "start_time": "2022-10-24T14:09:24.487Z"
   },
   {
    "duration": 26,
    "start_time": "2022-10-24T14:09:25.014Z"
   },
   {
    "duration": 70,
    "start_time": "2022-10-24T14:09:25.041Z"
   },
   {
    "duration": 7,
    "start_time": "2022-10-24T14:09:25.113Z"
   },
   {
    "duration": 37,
    "start_time": "2022-10-24T14:09:25.121Z"
   },
   {
    "duration": 29,
    "start_time": "2022-10-24T14:09:25.162Z"
   },
   {
    "duration": 22,
    "start_time": "2022-10-24T14:09:25.193Z"
   },
   {
    "duration": 72,
    "start_time": "2022-10-24T14:09:25.216Z"
   },
   {
    "duration": 53,
    "start_time": "2022-10-24T14:09:25.290Z"
   },
   {
    "duration": 36,
    "start_time": "2022-10-24T14:09:25.344Z"
   },
   {
    "duration": 40,
    "start_time": "2022-10-24T14:09:25.382Z"
   },
   {
    "duration": 64,
    "start_time": "2022-10-24T14:09:25.424Z"
   },
   {
    "duration": 31,
    "start_time": "2022-10-24T14:09:25.490Z"
   },
   {
    "duration": 2186,
    "start_time": "2022-10-24T14:09:25.522Z"
   },
   {
    "duration": 3,
    "start_time": "2022-10-24T14:09:27.709Z"
   },
   {
    "duration": 130,
    "start_time": "2022-10-24T14:09:27.713Z"
   },
   {
    "duration": 0,
    "start_time": "2022-10-24T14:09:27.845Z"
   },
   {
    "duration": 0,
    "start_time": "2022-10-24T14:09:27.846Z"
   },
   {
    "duration": 0,
    "start_time": "2022-10-24T14:09:27.848Z"
   },
   {
    "duration": 0,
    "start_time": "2022-10-24T14:09:27.849Z"
   },
   {
    "duration": 0,
    "start_time": "2022-10-24T14:09:27.851Z"
   },
   {
    "duration": 0,
    "start_time": "2022-10-24T14:09:27.852Z"
   },
   {
    "duration": 0,
    "start_time": "2022-10-24T14:09:27.853Z"
   },
   {
    "duration": 0,
    "start_time": "2022-10-24T14:09:27.854Z"
   },
   {
    "duration": 0,
    "start_time": "2022-10-24T14:09:27.855Z"
   },
   {
    "duration": 0,
    "start_time": "2022-10-24T14:09:27.857Z"
   },
   {
    "duration": 0,
    "start_time": "2022-10-24T14:09:27.858Z"
   },
   {
    "duration": 0,
    "start_time": "2022-10-24T14:09:27.859Z"
   },
   {
    "duration": 0,
    "start_time": "2022-10-24T14:09:27.861Z"
   },
   {
    "duration": 0,
    "start_time": "2022-10-24T14:09:27.861Z"
   },
   {
    "duration": 0,
    "start_time": "2022-10-24T14:09:27.863Z"
   },
   {
    "duration": 0,
    "start_time": "2022-10-24T14:09:27.864Z"
   },
   {
    "duration": 0,
    "start_time": "2022-10-24T14:09:27.865Z"
   },
   {
    "duration": 0,
    "start_time": "2022-10-24T14:09:27.866Z"
   },
   {
    "duration": 7,
    "start_time": "2022-10-24T14:10:02.297Z"
   },
   {
    "duration": 5,
    "start_time": "2022-10-24T14:10:21.889Z"
   },
   {
    "duration": 4,
    "start_time": "2022-10-24T14:10:34.299Z"
   },
   {
    "duration": 8,
    "start_time": "2022-10-24T14:10:55.305Z"
   },
   {
    "duration": 19,
    "start_time": "2022-10-24T14:11:02.745Z"
   },
   {
    "duration": 1191,
    "start_time": "2022-10-24T14:12:53.700Z"
   },
   {
    "duration": 93,
    "start_time": "2022-10-24T14:12:54.893Z"
   },
   {
    "duration": 18,
    "start_time": "2022-10-24T14:12:54.987Z"
   },
   {
    "duration": 513,
    "start_time": "2022-10-24T14:12:55.007Z"
   },
   {
    "duration": 34,
    "start_time": "2022-10-24T14:12:55.522Z"
   },
   {
    "duration": 36,
    "start_time": "2022-10-24T14:12:55.558Z"
   },
   {
    "duration": 38,
    "start_time": "2022-10-24T14:12:55.596Z"
   },
   {
    "duration": 24,
    "start_time": "2022-10-24T14:12:55.636Z"
   },
   {
    "duration": 92,
    "start_time": "2022-10-24T14:12:55.663Z"
   },
   {
    "duration": 12,
    "start_time": "2022-10-24T14:12:55.758Z"
   },
   {
    "duration": 7,
    "start_time": "2022-10-24T14:12:55.772Z"
   },
   {
    "duration": 54,
    "start_time": "2022-10-24T14:12:55.781Z"
   },
   {
    "duration": 4,
    "start_time": "2022-10-24T14:12:55.837Z"
   },
   {
    "duration": 31,
    "start_time": "2022-10-24T14:12:55.843Z"
   },
   {
    "duration": 140,
    "start_time": "2022-10-24T14:12:55.875Z"
   },
   {
    "duration": 7,
    "start_time": "2022-10-24T14:12:56.016Z"
   },
   {
    "duration": 20,
    "start_time": "2022-10-24T14:12:56.024Z"
   },
   {
    "duration": 1910,
    "start_time": "2022-10-24T14:12:56.046Z"
   },
   {
    "duration": 366,
    "start_time": "2022-10-24T14:12:57.957Z"
   },
   {
    "duration": 544,
    "start_time": "2022-10-24T14:12:58.325Z"
   },
   {
    "duration": 2,
    "start_time": "2022-10-24T14:12:58.871Z"
   },
   {
    "duration": 46,
    "start_time": "2022-10-24T14:12:58.875Z"
   },
   {
    "duration": 7,
    "start_time": "2022-10-24T14:12:58.923Z"
   },
   {
    "duration": 23,
    "start_time": "2022-10-24T14:12:58.932Z"
   },
   {
    "duration": 26,
    "start_time": "2022-10-24T14:12:58.957Z"
   },
   {
    "duration": 51,
    "start_time": "2022-10-24T14:12:58.985Z"
   },
   {
    "duration": 34,
    "start_time": "2022-10-24T14:12:59.037Z"
   },
   {
    "duration": 46,
    "start_time": "2022-10-24T14:12:59.076Z"
   },
   {
    "duration": 12,
    "start_time": "2022-10-24T14:12:59.123Z"
   },
   {
    "duration": 18,
    "start_time": "2022-10-24T14:12:59.138Z"
   },
   {
    "duration": 45,
    "start_time": "2022-10-24T14:12:59.158Z"
   },
   {
    "duration": 27,
    "start_time": "2022-10-24T14:12:59.205Z"
   },
   {
    "duration": 24,
    "start_time": "2022-10-24T14:12:59.233Z"
   },
   {
    "duration": 60,
    "start_time": "2022-10-24T14:12:59.259Z"
   },
   {
    "duration": 17,
    "start_time": "2022-10-24T14:12:59.321Z"
   },
   {
    "duration": 525,
    "start_time": "2022-10-24T14:12:59.339Z"
   },
   {
    "duration": 22,
    "start_time": "2022-10-24T14:12:59.866Z"
   },
   {
    "duration": 18,
    "start_time": "2022-10-24T14:12:59.890Z"
   },
   {
    "duration": 4,
    "start_time": "2022-10-24T14:12:59.920Z"
   },
   {
    "duration": 12,
    "start_time": "2022-10-24T14:12:59.925Z"
   },
   {
    "duration": 10,
    "start_time": "2022-10-24T14:12:59.938Z"
   },
   {
    "duration": 6,
    "start_time": "2022-10-24T14:12:59.950Z"
   },
   {
    "duration": 33,
    "start_time": "2022-10-24T14:12:59.958Z"
   },
   {
    "duration": 6,
    "start_time": "2022-10-24T14:12:59.993Z"
   },
   {
    "duration": 6,
    "start_time": "2022-10-24T14:13:00.021Z"
   },
   {
    "duration": 16,
    "start_time": "2022-10-24T14:13:00.028Z"
   },
   {
    "duration": 36,
    "start_time": "2022-10-24T14:13:00.045Z"
   },
   {
    "duration": 25,
    "start_time": "2022-10-24T14:13:00.083Z"
   },
   {
    "duration": 21,
    "start_time": "2022-10-24T14:13:00.120Z"
   },
   {
    "duration": 2,
    "start_time": "2022-10-24T14:13:00.143Z"
   },
   {
    "duration": 123,
    "start_time": "2022-10-24T14:13:00.146Z"
   },
   {
    "duration": 0,
    "start_time": "2022-10-24T14:13:00.271Z"
   },
   {
    "duration": 0,
    "start_time": "2022-10-24T14:13:00.272Z"
   },
   {
    "duration": 0,
    "start_time": "2022-10-24T14:13:00.273Z"
   },
   {
    "duration": 0,
    "start_time": "2022-10-24T14:13:00.274Z"
   },
   {
    "duration": 0,
    "start_time": "2022-10-24T14:13:00.275Z"
   },
   {
    "duration": 0,
    "start_time": "2022-10-24T14:13:00.276Z"
   },
   {
    "duration": 0,
    "start_time": "2022-10-24T14:13:00.276Z"
   },
   {
    "duration": 0,
    "start_time": "2022-10-24T14:13:00.278Z"
   },
   {
    "duration": 0,
    "start_time": "2022-10-24T14:13:00.278Z"
   },
   {
    "duration": 0,
    "start_time": "2022-10-24T14:13:00.279Z"
   },
   {
    "duration": 0,
    "start_time": "2022-10-24T14:13:00.280Z"
   },
   {
    "duration": 0,
    "start_time": "2022-10-24T14:13:00.281Z"
   },
   {
    "duration": 0,
    "start_time": "2022-10-24T14:13:00.283Z"
   },
   {
    "duration": 0,
    "start_time": "2022-10-24T14:13:00.283Z"
   },
   {
    "duration": 0,
    "start_time": "2022-10-24T14:13:00.285Z"
   },
   {
    "duration": 0,
    "start_time": "2022-10-24T14:13:00.286Z"
   },
   {
    "duration": 0,
    "start_time": "2022-10-24T14:13:00.287Z"
   },
   {
    "duration": 0,
    "start_time": "2022-10-24T14:13:00.288Z"
   },
   {
    "duration": 1068,
    "start_time": "2022-10-24T14:14:37.162Z"
   },
   {
    "duration": 96,
    "start_time": "2022-10-24T14:14:38.232Z"
   },
   {
    "duration": 19,
    "start_time": "2022-10-24T14:14:38.329Z"
   },
   {
    "duration": 525,
    "start_time": "2022-10-24T14:14:38.350Z"
   },
   {
    "duration": 34,
    "start_time": "2022-10-24T14:14:38.877Z"
   },
   {
    "duration": 41,
    "start_time": "2022-10-24T14:14:38.913Z"
   },
   {
    "duration": 21,
    "start_time": "2022-10-24T14:14:38.956Z"
   },
   {
    "duration": 45,
    "start_time": "2022-10-24T14:14:38.978Z"
   },
   {
    "duration": 74,
    "start_time": "2022-10-24T14:14:39.025Z"
   },
   {
    "duration": 16,
    "start_time": "2022-10-24T14:14:39.120Z"
   },
   {
    "duration": 27,
    "start_time": "2022-10-24T14:14:39.138Z"
   },
   {
    "duration": 63,
    "start_time": "2022-10-24T14:14:39.167Z"
   },
   {
    "duration": 13,
    "start_time": "2022-10-24T14:14:39.231Z"
   },
   {
    "duration": 48,
    "start_time": "2022-10-24T14:14:39.246Z"
   },
   {
    "duration": 166,
    "start_time": "2022-10-24T14:14:39.321Z"
   },
   {
    "duration": 5,
    "start_time": "2022-10-24T14:14:39.489Z"
   },
   {
    "duration": 44,
    "start_time": "2022-10-24T14:14:39.496Z"
   },
   {
    "duration": 2131,
    "start_time": "2022-10-24T14:14:39.542Z"
   },
   {
    "duration": 371,
    "start_time": "2022-10-24T14:14:41.675Z"
   },
   {
    "duration": 557,
    "start_time": "2022-10-24T14:14:42.048Z"
   },
   {
    "duration": 3,
    "start_time": "2022-10-24T14:14:42.606Z"
   },
   {
    "duration": 58,
    "start_time": "2022-10-24T14:14:42.620Z"
   },
   {
    "duration": 19,
    "start_time": "2022-10-24T14:14:42.679Z"
   },
   {
    "duration": 50,
    "start_time": "2022-10-24T14:14:42.699Z"
   },
   {
    "duration": 37,
    "start_time": "2022-10-24T14:14:42.751Z"
   },
   {
    "duration": 28,
    "start_time": "2022-10-24T14:14:42.789Z"
   },
   {
    "duration": 33,
    "start_time": "2022-10-24T14:14:42.818Z"
   },
   {
    "duration": 33,
    "start_time": "2022-10-24T14:14:42.855Z"
   },
   {
    "duration": 9,
    "start_time": "2022-10-24T14:14:42.890Z"
   },
   {
    "duration": 23,
    "start_time": "2022-10-24T14:14:42.901Z"
   },
   {
    "duration": 45,
    "start_time": "2022-10-24T14:14:42.926Z"
   },
   {
    "duration": 18,
    "start_time": "2022-10-24T14:14:42.973Z"
   },
   {
    "duration": 18,
    "start_time": "2022-10-24T14:14:42.992Z"
   },
   {
    "duration": 60,
    "start_time": "2022-10-24T14:14:43.012Z"
   },
   {
    "duration": 18,
    "start_time": "2022-10-24T14:14:43.074Z"
   },
   {
    "duration": 515,
    "start_time": "2022-10-24T14:14:43.093Z"
   },
   {
    "duration": 29,
    "start_time": "2022-10-24T14:14:43.610Z"
   },
   {
    "duration": 36,
    "start_time": "2022-10-24T14:14:43.641Z"
   },
   {
    "duration": 17,
    "start_time": "2022-10-24T14:14:43.680Z"
   },
   {
    "duration": 12,
    "start_time": "2022-10-24T14:14:43.699Z"
   },
   {
    "duration": 10,
    "start_time": "2022-10-24T14:14:43.713Z"
   },
   {
    "duration": 8,
    "start_time": "2022-10-24T14:14:43.724Z"
   },
   {
    "duration": 40,
    "start_time": "2022-10-24T14:14:43.734Z"
   },
   {
    "duration": 6,
    "start_time": "2022-10-24T14:14:43.776Z"
   },
   {
    "duration": 36,
    "start_time": "2022-10-24T14:14:43.783Z"
   },
   {
    "duration": 10,
    "start_time": "2022-10-24T14:14:43.821Z"
   },
   {
    "duration": 28,
    "start_time": "2022-10-24T14:14:43.833Z"
   },
   {
    "duration": 24,
    "start_time": "2022-10-24T14:14:43.863Z"
   },
   {
    "duration": 36,
    "start_time": "2022-10-24T14:14:43.888Z"
   },
   {
    "duration": 3,
    "start_time": "2022-10-24T14:14:43.925Z"
   },
   {
    "duration": 8245,
    "start_time": "2022-10-24T14:14:43.929Z"
   },
   {
    "duration": 2,
    "start_time": "2022-10-24T14:14:52.176Z"
   },
   {
    "duration": 112,
    "start_time": "2022-10-24T14:14:52.180Z"
   },
   {
    "duration": 0,
    "start_time": "2022-10-24T14:14:52.293Z"
   },
   {
    "duration": 0,
    "start_time": "2022-10-24T14:14:52.294Z"
   },
   {
    "duration": 0,
    "start_time": "2022-10-24T14:14:52.296Z"
   },
   {
    "duration": 0,
    "start_time": "2022-10-24T14:14:52.297Z"
   },
   {
    "duration": 0,
    "start_time": "2022-10-24T14:14:52.297Z"
   },
   {
    "duration": 0,
    "start_time": "2022-10-24T14:14:52.299Z"
   },
   {
    "duration": 0,
    "start_time": "2022-10-24T14:14:52.300Z"
   },
   {
    "duration": 0,
    "start_time": "2022-10-24T14:14:52.301Z"
   },
   {
    "duration": 0,
    "start_time": "2022-10-24T14:14:52.303Z"
   },
   {
    "duration": 0,
    "start_time": "2022-10-24T14:14:52.303Z"
   },
   {
    "duration": 0,
    "start_time": "2022-10-24T14:14:52.321Z"
   },
   {
    "duration": 0,
    "start_time": "2022-10-24T14:14:52.323Z"
   },
   {
    "duration": 0,
    "start_time": "2022-10-24T14:14:52.324Z"
   },
   {
    "duration": 0,
    "start_time": "2022-10-24T14:14:52.325Z"
   },
   {
    "duration": 0,
    "start_time": "2022-10-24T14:14:52.326Z"
   },
   {
    "duration": 0,
    "start_time": "2022-10-24T14:14:52.327Z"
   },
   {
    "duration": 0,
    "start_time": "2022-10-24T14:14:52.328Z"
   },
   {
    "duration": 0,
    "start_time": "2022-10-24T14:14:52.329Z"
   },
   {
    "duration": 145,
    "start_time": "2022-10-24T14:15:23.485Z"
   },
   {
    "duration": 8,
    "start_time": "2022-10-24T14:16:08.768Z"
   },
   {
    "duration": 9022,
    "start_time": "2022-10-24T14:16:12.746Z"
   },
   {
    "duration": 8562,
    "start_time": "2022-10-24T14:16:52.370Z"
   },
   {
    "duration": 134,
    "start_time": "2022-10-24T14:17:32.508Z"
   },
   {
    "duration": 121,
    "start_time": "2022-10-24T14:17:43.570Z"
   },
   {
    "duration": 2947,
    "start_time": "2022-10-24T14:18:17.988Z"
   },
   {
    "duration": 2239,
    "start_time": "2022-10-24T14:18:29.723Z"
   },
   {
    "duration": 162,
    "start_time": "2022-10-24T14:18:42.571Z"
   },
   {
    "duration": 295,
    "start_time": "2022-10-24T14:18:54.171Z"
   },
   {
    "duration": 145,
    "start_time": "2022-10-24T14:18:58.763Z"
   },
   {
    "duration": 128,
    "start_time": "2022-10-24T14:19:09.153Z"
   },
   {
    "duration": 8,
    "start_time": "2022-10-24T14:20:52.951Z"
   },
   {
    "duration": 182,
    "start_time": "2022-10-24T14:20:56.452Z"
   },
   {
    "duration": 144,
    "start_time": "2022-10-24T14:21:09.807Z"
   },
   {
    "duration": 137,
    "start_time": "2022-10-24T14:21:13.144Z"
   },
   {
    "duration": 129,
    "start_time": "2022-10-24T14:21:18.483Z"
   },
   {
    "duration": 52,
    "start_time": "2022-10-24T14:21:27.868Z"
   },
   {
    "duration": 13,
    "start_time": "2022-10-24T14:21:30.936Z"
   },
   {
    "duration": 2,
    "start_time": "2022-10-24T14:22:14.919Z"
   },
   {
    "duration": 196,
    "start_time": "2022-10-24T14:22:32.917Z"
   },
   {
    "duration": 181,
    "start_time": "2022-10-24T14:22:38.117Z"
   },
   {
    "duration": 197,
    "start_time": "2022-10-24T14:22:46.996Z"
   },
   {
    "duration": 195,
    "start_time": "2022-10-24T14:23:16.696Z"
   },
   {
    "duration": 201,
    "start_time": "2022-10-24T14:23:22.015Z"
   },
   {
    "duration": 154,
    "start_time": "2022-10-24T14:23:25.040Z"
   },
   {
    "duration": 152,
    "start_time": "2022-10-24T14:23:27.866Z"
   },
   {
    "duration": 251,
    "start_time": "2022-10-24T14:24:11.279Z"
   },
   {
    "duration": 271,
    "start_time": "2022-10-24T14:24:38.503Z"
   },
   {
    "duration": 3142,
    "start_time": "2022-10-24T14:25:12.395Z"
   },
   {
    "duration": 10,
    "start_time": "2022-10-24T14:25:45.963Z"
   },
   {
    "duration": 7585,
    "start_time": "2022-10-24T14:25:49.582Z"
   },
   {
    "duration": 1958,
    "start_time": "2022-10-24T14:26:26.440Z"
   },
   {
    "duration": 1197,
    "start_time": "2022-10-24T14:26:43.403Z"
   },
   {
    "duration": 1206,
    "start_time": "2022-10-24T14:26:55.145Z"
   },
   {
    "duration": 167,
    "start_time": "2022-10-24T14:28:31.730Z"
   },
   {
    "duration": 154,
    "start_time": "2022-10-24T14:28:46.136Z"
   },
   {
    "duration": 153,
    "start_time": "2022-10-24T14:28:56.115Z"
   },
   {
    "duration": 179,
    "start_time": "2022-10-24T14:28:58.291Z"
   },
   {
    "duration": 154,
    "start_time": "2022-10-24T14:29:28.447Z"
   },
   {
    "duration": 172,
    "start_time": "2022-10-24T14:30:15.331Z"
   },
   {
    "duration": 268,
    "start_time": "2022-10-24T14:32:24.931Z"
   },
   {
    "duration": 332,
    "start_time": "2022-10-24T14:32:40.560Z"
   },
   {
    "duration": 185,
    "start_time": "2022-10-24T14:36:11.646Z"
   },
   {
    "duration": 178,
    "start_time": "2022-10-24T14:36:22.241Z"
   },
   {
    "duration": 187,
    "start_time": "2022-10-24T14:36:43.736Z"
   },
   {
    "duration": 854,
    "start_time": "2022-10-24T14:38:18.781Z"
   },
   {
    "duration": 750,
    "start_time": "2022-10-24T14:38:40.651Z"
   },
   {
    "duration": 543,
    "start_time": "2022-10-24T14:40:31.517Z"
   },
   {
    "duration": 746,
    "start_time": "2022-10-24T14:40:39.964Z"
   },
   {
    "duration": 848,
    "start_time": "2022-10-24T14:41:39.249Z"
   },
   {
    "duration": 802,
    "start_time": "2022-10-24T14:41:45.145Z"
   },
   {
    "duration": 1619,
    "start_time": "2022-10-24T14:42:07.575Z"
   },
   {
    "duration": 52,
    "start_time": "2022-10-24T16:26:59.499Z"
   },
   {
    "duration": 1396,
    "start_time": "2022-10-24T16:27:08.676Z"
   },
   {
    "duration": 388,
    "start_time": "2022-10-24T16:27:10.074Z"
   },
   {
    "duration": 25,
    "start_time": "2022-10-24T16:27:10.468Z"
   },
   {
    "duration": 546,
    "start_time": "2022-10-24T16:27:10.496Z"
   },
   {
    "duration": 31,
    "start_time": "2022-10-24T16:27:11.043Z"
   },
   {
    "duration": 48,
    "start_time": "2022-10-24T16:27:11.076Z"
   },
   {
    "duration": 24,
    "start_time": "2022-10-24T16:27:11.126Z"
   },
   {
    "duration": 21,
    "start_time": "2022-10-24T16:27:11.152Z"
   },
   {
    "duration": 100,
    "start_time": "2022-10-24T16:27:11.175Z"
   },
   {
    "duration": 13,
    "start_time": "2022-10-24T16:27:11.277Z"
   },
   {
    "duration": 43,
    "start_time": "2022-10-24T16:27:11.291Z"
   },
   {
    "duration": 68,
    "start_time": "2022-10-24T16:27:11.335Z"
   },
   {
    "duration": 6,
    "start_time": "2022-10-24T16:27:11.405Z"
   },
   {
    "duration": 65,
    "start_time": "2022-10-24T16:27:11.412Z"
   },
   {
    "duration": 144,
    "start_time": "2022-10-24T16:27:11.479Z"
   },
   {
    "duration": 5,
    "start_time": "2022-10-24T16:27:11.625Z"
   },
   {
    "duration": 34,
    "start_time": "2022-10-24T16:27:11.632Z"
   },
   {
    "duration": 2222,
    "start_time": "2022-10-24T16:27:11.668Z"
   },
   {
    "duration": 396,
    "start_time": "2022-10-24T16:27:13.892Z"
   },
   {
    "duration": 608,
    "start_time": "2022-10-24T16:27:14.290Z"
   },
   {
    "duration": 3,
    "start_time": "2022-10-24T16:27:14.900Z"
   },
   {
    "duration": 52,
    "start_time": "2022-10-24T16:27:14.904Z"
   },
   {
    "duration": 7,
    "start_time": "2022-10-24T16:27:14.959Z"
   },
   {
    "duration": 29,
    "start_time": "2022-10-24T16:27:14.968Z"
   },
   {
    "duration": 41,
    "start_time": "2022-10-24T16:27:14.998Z"
   },
   {
    "duration": 29,
    "start_time": "2022-10-24T16:27:15.041Z"
   },
   {
    "duration": 28,
    "start_time": "2022-10-24T16:27:15.072Z"
   },
   {
    "duration": 23,
    "start_time": "2022-10-24T16:27:15.127Z"
   },
   {
    "duration": 11,
    "start_time": "2022-10-24T16:27:15.151Z"
   },
   {
    "duration": 10,
    "start_time": "2022-10-24T16:27:15.164Z"
   },
   {
    "duration": 54,
    "start_time": "2022-10-24T16:27:15.176Z"
   },
   {
    "duration": 14,
    "start_time": "2022-10-24T16:27:15.231Z"
   },
   {
    "duration": 11,
    "start_time": "2022-10-24T16:27:15.247Z"
   },
   {
    "duration": 61,
    "start_time": "2022-10-24T16:27:15.260Z"
   },
   {
    "duration": 19,
    "start_time": "2022-10-24T16:27:15.323Z"
   },
   {
    "duration": 593,
    "start_time": "2022-10-24T16:27:15.344Z"
   },
   {
    "duration": 26,
    "start_time": "2022-10-24T16:27:15.938Z"
   },
   {
    "duration": 19,
    "start_time": "2022-10-24T16:27:15.966Z"
   },
   {
    "duration": 5,
    "start_time": "2022-10-24T16:27:15.986Z"
   },
   {
    "duration": 33,
    "start_time": "2022-10-24T16:27:15.992Z"
   },
   {
    "duration": 12,
    "start_time": "2022-10-24T16:27:16.027Z"
   },
   {
    "duration": 18,
    "start_time": "2022-10-24T16:27:16.041Z"
   },
   {
    "duration": 31,
    "start_time": "2022-10-24T16:27:16.060Z"
   },
   {
    "duration": 13,
    "start_time": "2022-10-24T16:27:16.093Z"
   },
   {
    "duration": 18,
    "start_time": "2022-10-24T16:27:16.107Z"
   },
   {
    "duration": 10,
    "start_time": "2022-10-24T16:27:16.126Z"
   },
   {
    "duration": 18,
    "start_time": "2022-10-24T16:27:16.138Z"
   },
   {
    "duration": 36,
    "start_time": "2022-10-24T16:27:16.158Z"
   },
   {
    "duration": 29,
    "start_time": "2022-10-24T16:27:16.196Z"
   },
   {
    "duration": 20,
    "start_time": "2022-10-24T16:27:16.226Z"
   },
   {
    "duration": 636,
    "start_time": "2022-10-24T16:27:16.248Z"
   },
   {
    "duration": 687,
    "start_time": "2022-10-24T16:27:16.886Z"
   },
   {
    "duration": 117,
    "start_time": "2022-10-24T16:27:17.576Z"
   },
   {
    "duration": 0,
    "start_time": "2022-10-24T16:27:17.696Z"
   },
   {
    "duration": 0,
    "start_time": "2022-10-24T16:27:17.697Z"
   },
   {
    "duration": 0,
    "start_time": "2022-10-24T16:27:17.699Z"
   },
   {
    "duration": 1,
    "start_time": "2022-10-24T16:27:17.700Z"
   },
   {
    "duration": 0,
    "start_time": "2022-10-24T16:27:17.702Z"
   },
   {
    "duration": 0,
    "start_time": "2022-10-24T16:27:17.723Z"
   },
   {
    "duration": 0,
    "start_time": "2022-10-24T16:27:17.725Z"
   },
   {
    "duration": 0,
    "start_time": "2022-10-24T16:27:17.726Z"
   },
   {
    "duration": 0,
    "start_time": "2022-10-24T16:27:17.728Z"
   },
   {
    "duration": 0,
    "start_time": "2022-10-24T16:27:17.729Z"
   },
   {
    "duration": 0,
    "start_time": "2022-10-24T16:27:17.730Z"
   },
   {
    "duration": 0,
    "start_time": "2022-10-24T16:27:17.732Z"
   },
   {
    "duration": 0,
    "start_time": "2022-10-24T16:27:17.733Z"
   },
   {
    "duration": 0,
    "start_time": "2022-10-24T16:27:17.734Z"
   },
   {
    "duration": 0,
    "start_time": "2022-10-24T16:27:17.735Z"
   },
   {
    "duration": 0,
    "start_time": "2022-10-24T16:27:17.736Z"
   },
   {
    "duration": 0,
    "start_time": "2022-10-24T16:27:17.738Z"
   },
   {
    "duration": 0,
    "start_time": "2022-10-24T16:27:17.739Z"
   },
   {
    "duration": 13,
    "start_time": "2022-10-24T16:31:10.548Z"
   },
   {
    "duration": 676,
    "start_time": "2022-10-24T16:31:18.958Z"
   },
   {
    "duration": 4,
    "start_time": "2022-10-24T16:32:13.478Z"
   },
   {
    "duration": 103,
    "start_time": "2022-10-24T16:32:14.993Z"
   },
   {
    "duration": 895,
    "start_time": "2022-10-24T16:32:17.136Z"
   },
   {
    "duration": 853,
    "start_time": "2022-10-24T16:32:25.887Z"
   },
   {
    "duration": 833,
    "start_time": "2022-10-24T16:33:36.108Z"
   },
   {
    "duration": 1005,
    "start_time": "2022-10-24T16:33:41.479Z"
   },
   {
    "duration": 1249,
    "start_time": "2022-10-24T16:54:33.819Z"
   },
   {
    "duration": 107,
    "start_time": "2022-10-24T16:54:35.070Z"
   },
   {
    "duration": 21,
    "start_time": "2022-10-24T16:54:35.179Z"
   },
   {
    "duration": 589,
    "start_time": "2022-10-24T16:54:35.201Z"
   },
   {
    "duration": 37,
    "start_time": "2022-10-24T16:54:35.792Z"
   },
   {
    "duration": 40,
    "start_time": "2022-10-24T16:54:35.831Z"
   },
   {
    "duration": 24,
    "start_time": "2022-10-24T16:54:35.872Z"
   },
   {
    "duration": 42,
    "start_time": "2022-10-24T16:54:35.898Z"
   },
   {
    "duration": 66,
    "start_time": "2022-10-24T16:54:35.942Z"
   },
   {
    "duration": 14,
    "start_time": "2022-10-24T16:54:36.025Z"
   },
   {
    "duration": 8,
    "start_time": "2022-10-24T16:54:36.041Z"
   },
   {
    "duration": 32,
    "start_time": "2022-10-24T16:54:36.051Z"
   },
   {
    "duration": 5,
    "start_time": "2022-10-24T16:54:36.085Z"
   },
   {
    "duration": 30,
    "start_time": "2022-10-24T16:54:36.125Z"
   },
   {
    "duration": 147,
    "start_time": "2022-10-24T16:54:36.157Z"
   },
   {
    "duration": 20,
    "start_time": "2022-10-24T16:54:36.306Z"
   },
   {
    "duration": 20,
    "start_time": "2022-10-24T16:54:36.328Z"
   },
   {
    "duration": 2133,
    "start_time": "2022-10-24T16:54:36.350Z"
   },
   {
    "duration": 390,
    "start_time": "2022-10-24T16:54:38.485Z"
   },
   {
    "duration": 600,
    "start_time": "2022-10-24T16:54:38.877Z"
   },
   {
    "duration": 3,
    "start_time": "2022-10-24T16:54:39.478Z"
   },
   {
    "duration": 53,
    "start_time": "2022-10-24T16:54:39.483Z"
   },
   {
    "duration": 9,
    "start_time": "2022-10-24T16:54:39.538Z"
   },
   {
    "duration": 25,
    "start_time": "2022-10-24T16:54:39.549Z"
   },
   {
    "duration": 50,
    "start_time": "2022-10-24T16:54:39.576Z"
   },
   {
    "duration": 31,
    "start_time": "2022-10-24T16:54:39.628Z"
   },
   {
    "duration": 31,
    "start_time": "2022-10-24T16:54:39.660Z"
   },
   {
    "duration": 48,
    "start_time": "2022-10-24T16:54:39.695Z"
   },
   {
    "duration": 12,
    "start_time": "2022-10-24T16:54:39.745Z"
   },
   {
    "duration": 7,
    "start_time": "2022-10-24T16:54:39.759Z"
   },
   {
    "duration": 55,
    "start_time": "2022-10-24T16:54:39.768Z"
   },
   {
    "duration": 4,
    "start_time": "2022-10-24T16:54:39.825Z"
   },
   {
    "duration": 7,
    "start_time": "2022-10-24T16:54:39.831Z"
   },
   {
    "duration": 61,
    "start_time": "2022-10-24T16:54:39.840Z"
   },
   {
    "duration": 29,
    "start_time": "2022-10-24T16:54:39.923Z"
   },
   {
    "duration": 660,
    "start_time": "2022-10-24T16:54:39.954Z"
   },
   {
    "duration": 30,
    "start_time": "2022-10-24T16:54:40.616Z"
   },
   {
    "duration": 25,
    "start_time": "2022-10-24T16:54:40.649Z"
   },
   {
    "duration": 4,
    "start_time": "2022-10-24T16:54:40.676Z"
   },
   {
    "duration": 16,
    "start_time": "2022-10-24T16:54:40.682Z"
   },
   {
    "duration": 25,
    "start_time": "2022-10-24T16:54:40.700Z"
   },
   {
    "duration": 14,
    "start_time": "2022-10-24T16:54:40.727Z"
   },
   {
    "duration": 30,
    "start_time": "2022-10-24T16:54:40.743Z"
   },
   {
    "duration": 13,
    "start_time": "2022-10-24T16:54:40.774Z"
   },
   {
    "duration": 7,
    "start_time": "2022-10-24T16:54:40.788Z"
   },
   {
    "duration": 31,
    "start_time": "2022-10-24T16:54:40.796Z"
   },
   {
    "duration": 6,
    "start_time": "2022-10-24T16:54:40.830Z"
   },
   {
    "duration": 14,
    "start_time": "2022-10-24T16:54:40.838Z"
   },
   {
    "duration": 4,
    "start_time": "2022-10-24T16:54:40.853Z"
   },
   {
    "duration": 905,
    "start_time": "2022-10-24T16:54:40.859Z"
   },
   {
    "duration": 998,
    "start_time": "2022-10-24T16:54:41.766Z"
   },
   {
    "duration": 28,
    "start_time": "2022-10-24T16:54:42.767Z"
   },
   {
    "duration": 28,
    "start_time": "2022-10-24T16:54:42.797Z"
   },
   {
    "duration": 30,
    "start_time": "2022-10-24T16:54:42.827Z"
   },
   {
    "duration": 39,
    "start_time": "2022-10-24T16:54:42.860Z"
   },
   {
    "duration": 51,
    "start_time": "2022-10-24T16:54:42.901Z"
   },
   {
    "duration": 7,
    "start_time": "2022-10-24T16:54:42.954Z"
   },
   {
    "duration": 15,
    "start_time": "2022-10-24T16:54:42.962Z"
   },
   {
    "duration": 10,
    "start_time": "2022-10-24T16:54:42.979Z"
   },
   {
    "duration": 37,
    "start_time": "2022-10-24T16:54:42.991Z"
   },
   {
    "duration": 12,
    "start_time": "2022-10-24T16:54:43.029Z"
   },
   {
    "duration": 25,
    "start_time": "2022-10-24T16:54:43.043Z"
   },
   {
    "duration": 17,
    "start_time": "2022-10-24T16:54:43.070Z"
   },
   {
    "duration": 51,
    "start_time": "2022-10-24T16:54:43.089Z"
   },
   {
    "duration": 18,
    "start_time": "2022-10-24T16:54:43.141Z"
   },
   {
    "duration": 7,
    "start_time": "2022-10-24T16:54:43.160Z"
   },
   {
    "duration": 11,
    "start_time": "2022-10-24T16:54:43.169Z"
   },
   {
    "duration": 18,
    "start_time": "2022-10-24T16:54:43.182Z"
   },
   {
    "duration": 24,
    "start_time": "2022-10-24T16:54:43.202Z"
   },
   {
    "duration": 5,
    "start_time": "2022-10-24T17:00:48.296Z"
   },
   {
    "duration": 4,
    "start_time": "2022-10-24T17:00:49.883Z"
   },
   {
    "duration": 5,
    "start_time": "2022-10-24T17:00:51.537Z"
   },
   {
    "duration": 7,
    "start_time": "2022-10-24T17:03:26.813Z"
   },
   {
    "duration": 14,
    "start_time": "2022-10-24T17:03:30.814Z"
   },
   {
    "duration": 9,
    "start_time": "2022-10-24T17:04:35.136Z"
   },
   {
    "duration": 14,
    "start_time": "2022-10-24T17:04:46.079Z"
   },
   {
    "duration": 16,
    "start_time": "2022-10-24T17:04:48.062Z"
   },
   {
    "duration": 13,
    "start_time": "2022-10-24T17:04:50.508Z"
   },
   {
    "duration": 376,
    "start_time": "2022-10-24T21:04:50.451Z"
   },
   {
    "duration": 1191,
    "start_time": "2022-10-24T21:04:54.882Z"
   },
   {
    "duration": 118,
    "start_time": "2022-10-24T21:04:56.075Z"
   },
   {
    "duration": 20,
    "start_time": "2022-10-24T21:04:56.195Z"
   },
   {
    "duration": 536,
    "start_time": "2022-10-24T21:04:56.217Z"
   },
   {
    "duration": 39,
    "start_time": "2022-10-24T21:04:56.755Z"
   },
   {
    "duration": 55,
    "start_time": "2022-10-24T21:04:56.796Z"
   },
   {
    "duration": 24,
    "start_time": "2022-10-24T21:04:56.853Z"
   },
   {
    "duration": 24,
    "start_time": "2022-10-24T21:04:56.879Z"
   },
   {
    "duration": 76,
    "start_time": "2022-10-24T21:04:56.925Z"
   },
   {
    "duration": 28,
    "start_time": "2022-10-24T21:04:57.003Z"
   },
   {
    "duration": 9,
    "start_time": "2022-10-24T21:04:57.033Z"
   },
   {
    "duration": 35,
    "start_time": "2022-10-24T21:04:57.044Z"
   },
   {
    "duration": 6,
    "start_time": "2022-10-24T21:04:57.080Z"
   },
   {
    "duration": 60,
    "start_time": "2022-10-24T21:04:57.087Z"
   },
   {
    "duration": 149,
    "start_time": "2022-10-24T21:04:57.149Z"
   },
   {
    "duration": 6,
    "start_time": "2022-10-24T21:04:57.301Z"
   },
   {
    "duration": 34,
    "start_time": "2022-10-24T21:04:57.308Z"
   },
   {
    "duration": 2823,
    "start_time": "2022-10-24T21:04:57.343Z"
   },
   {
    "duration": 865,
    "start_time": "2022-10-24T21:05:00.168Z"
   },
   {
    "duration": 1291,
    "start_time": "2022-10-24T21:05:01.035Z"
   },
   {
    "duration": 3,
    "start_time": "2022-10-24T21:05:02.328Z"
   },
   {
    "duration": 97,
    "start_time": "2022-10-24T21:05:02.333Z"
   },
   {
    "duration": 8,
    "start_time": "2022-10-24T21:05:02.432Z"
   },
   {
    "duration": 623,
    "start_time": "2022-10-24T21:05:02.442Z"
   },
   {
    "duration": 58,
    "start_time": "2022-10-24T21:05:03.067Z"
   },
   {
    "duration": 39,
    "start_time": "2022-10-24T21:05:03.127Z"
   },
   {
    "duration": 79,
    "start_time": "2022-10-24T21:05:03.168Z"
   },
   {
    "duration": 28,
    "start_time": "2022-10-24T21:05:03.251Z"
   },
   {
    "duration": 64,
    "start_time": "2022-10-24T21:05:03.281Z"
   },
   {
    "duration": 16,
    "start_time": "2022-10-24T21:05:03.346Z"
   },
   {
    "duration": 9,
    "start_time": "2022-10-24T21:05:03.364Z"
   },
   {
    "duration": 82,
    "start_time": "2022-10-24T21:05:03.375Z"
   },
   {
    "duration": 3,
    "start_time": "2022-10-24T21:05:03.459Z"
   },
   {
    "duration": 12,
    "start_time": "2022-10-24T21:05:03.463Z"
   },
   {
    "duration": 62,
    "start_time": "2022-10-24T21:05:03.477Z"
   },
   {
    "duration": 19,
    "start_time": "2022-10-24T21:05:03.541Z"
   },
   {
    "duration": 571,
    "start_time": "2022-10-24T21:05:03.561Z"
   },
   {
    "duration": 23,
    "start_time": "2022-10-24T21:05:04.134Z"
   },
   {
    "duration": 17,
    "start_time": "2022-10-24T21:05:04.159Z"
   },
   {
    "duration": 7,
    "start_time": "2022-10-24T21:05:04.178Z"
   },
   {
    "duration": 38,
    "start_time": "2022-10-24T21:05:04.187Z"
   },
   {
    "duration": 8,
    "start_time": "2022-10-24T21:05:04.227Z"
   },
   {
    "duration": 18,
    "start_time": "2022-10-24T21:05:04.237Z"
   },
   {
    "duration": 51,
    "start_time": "2022-10-24T21:05:04.256Z"
   },
   {
    "duration": 19,
    "start_time": "2022-10-24T21:05:04.308Z"
   },
   {
    "duration": 12,
    "start_time": "2022-10-24T21:05:04.329Z"
   },
   {
    "duration": 20,
    "start_time": "2022-10-24T21:05:04.343Z"
   },
   {
    "duration": 7,
    "start_time": "2022-10-24T21:05:04.365Z"
   },
   {
    "duration": 36,
    "start_time": "2022-10-24T21:05:04.374Z"
   },
   {
    "duration": 14,
    "start_time": "2022-10-24T21:05:04.411Z"
   },
   {
    "duration": 822,
    "start_time": "2022-10-24T21:05:04.426Z"
   },
   {
    "duration": 907,
    "start_time": "2022-10-24T21:05:05.250Z"
   },
   {
    "duration": 23,
    "start_time": "2022-10-24T21:05:06.159Z"
   },
   {
    "duration": 28,
    "start_time": "2022-10-24T21:05:06.184Z"
   },
   {
    "duration": 35,
    "start_time": "2022-10-24T21:05:06.213Z"
   },
   {
    "duration": 28,
    "start_time": "2022-10-24T21:05:06.250Z"
   },
   {
    "duration": 47,
    "start_time": "2022-10-24T21:05:06.280Z"
   },
   {
    "duration": 7,
    "start_time": "2022-10-24T21:05:06.328Z"
   },
   {
    "duration": 35,
    "start_time": "2022-10-24T21:05:06.337Z"
   },
   {
    "duration": 24,
    "start_time": "2022-10-24T21:05:06.374Z"
   },
   {
    "duration": 12,
    "start_time": "2022-10-24T21:05:06.400Z"
   },
   {
    "duration": 22,
    "start_time": "2022-10-24T21:05:06.413Z"
   },
   {
    "duration": 15,
    "start_time": "2022-10-24T21:05:06.436Z"
   },
   {
    "duration": 20,
    "start_time": "2022-10-24T21:05:06.453Z"
   },
   {
    "duration": 7,
    "start_time": "2022-10-24T21:05:06.475Z"
   },
   {
    "duration": 13,
    "start_time": "2022-10-24T21:05:06.484Z"
   },
   {
    "duration": 44,
    "start_time": "2022-10-24T21:05:06.499Z"
   },
   {
    "duration": 25,
    "start_time": "2022-10-24T21:05:06.545Z"
   },
   {
    "duration": 19,
    "start_time": "2022-10-24T21:05:06.572Z"
   },
   {
    "duration": 26,
    "start_time": "2022-10-24T21:05:06.593Z"
   },
   {
    "duration": 42,
    "start_time": "2022-10-24T21:05:06.621Z"
   },
   {
    "duration": 22,
    "start_time": "2022-10-24T21:05:06.664Z"
   },
   {
    "duration": 16,
    "start_time": "2022-10-24T21:05:06.688Z"
   },
   {
    "duration": 49,
    "start_time": "2022-10-24T21:05:06.706Z"
   },
   {
    "duration": 18,
    "start_time": "2022-10-24T21:05:06.757Z"
   },
   {
    "duration": 10,
    "start_time": "2022-10-24T21:05:06.777Z"
   },
   {
    "duration": 7,
    "start_time": "2022-10-24T21:05:06.788Z"
   },
   {
    "duration": 6,
    "start_time": "2022-10-24T21:05:06.797Z"
   },
   {
    "duration": 1233,
    "start_time": "2022-10-24T21:06:02.617Z"
   },
   {
    "duration": 103,
    "start_time": "2022-10-24T21:06:03.852Z"
   },
   {
    "duration": 20,
    "start_time": "2022-10-24T21:06:03.959Z"
   },
   {
    "duration": 501,
    "start_time": "2022-10-24T21:06:03.981Z"
   },
   {
    "duration": 32,
    "start_time": "2022-10-24T21:06:04.484Z"
   },
   {
    "duration": 46,
    "start_time": "2022-10-24T21:06:04.517Z"
   },
   {
    "duration": 24,
    "start_time": "2022-10-24T21:06:04.564Z"
   },
   {
    "duration": 46,
    "start_time": "2022-10-24T21:06:04.590Z"
   },
   {
    "duration": 85,
    "start_time": "2022-10-24T21:06:04.639Z"
   },
   {
    "duration": 13,
    "start_time": "2022-10-24T21:06:04.726Z"
   },
   {
    "duration": 8,
    "start_time": "2022-10-24T21:06:04.741Z"
   },
   {
    "duration": 33,
    "start_time": "2022-10-24T21:06:04.751Z"
   },
   {
    "duration": 38,
    "start_time": "2022-10-24T21:06:04.786Z"
   },
   {
    "duration": 27,
    "start_time": "2022-10-24T21:06:04.826Z"
   },
   {
    "duration": 157,
    "start_time": "2022-10-24T21:06:04.854Z"
   },
   {
    "duration": 15,
    "start_time": "2022-10-24T21:06:05.012Z"
   },
   {
    "duration": 26,
    "start_time": "2022-10-24T21:06:05.029Z"
   },
   {
    "duration": 2019,
    "start_time": "2022-10-24T21:06:05.058Z"
   },
   {
    "duration": 381,
    "start_time": "2022-10-24T21:06:07.079Z"
   },
   {
    "duration": 588,
    "start_time": "2022-10-24T21:06:07.463Z"
   },
   {
    "duration": 2,
    "start_time": "2022-10-24T21:06:08.053Z"
   },
   {
    "duration": 42,
    "start_time": "2022-10-24T21:06:08.057Z"
   },
   {
    "duration": 28,
    "start_time": "2022-10-24T21:06:08.100Z"
   },
   {
    "duration": 24,
    "start_time": "2022-10-24T21:06:08.129Z"
   },
   {
    "duration": 26,
    "start_time": "2022-10-24T21:06:08.155Z"
   },
   {
    "duration": 49,
    "start_time": "2022-10-24T21:06:08.183Z"
   },
   {
    "duration": 26,
    "start_time": "2022-10-24T21:06:08.236Z"
   },
   {
    "duration": 23,
    "start_time": "2022-10-24T21:06:08.264Z"
   },
   {
    "duration": 11,
    "start_time": "2022-10-24T21:06:08.288Z"
   },
   {
    "duration": 7,
    "start_time": "2022-10-24T21:06:08.324Z"
   },
   {
    "duration": 33,
    "start_time": "2022-10-24T21:06:08.332Z"
   },
   {
    "duration": 4,
    "start_time": "2022-10-24T21:06:08.366Z"
   },
   {
    "duration": 7,
    "start_time": "2022-10-24T21:06:08.371Z"
   },
   {
    "duration": 102,
    "start_time": "2022-10-24T21:06:08.380Z"
   },
   {
    "duration": 19,
    "start_time": "2022-10-24T21:06:08.484Z"
   },
   {
    "duration": 599,
    "start_time": "2022-10-24T21:06:08.504Z"
   },
   {
    "duration": 29,
    "start_time": "2022-10-24T21:06:09.105Z"
   },
   {
    "duration": 17,
    "start_time": "2022-10-24T21:06:09.136Z"
   },
   {
    "duration": 5,
    "start_time": "2022-10-24T21:06:09.154Z"
   },
   {
    "duration": 7,
    "start_time": "2022-10-24T21:06:09.161Z"
   },
   {
    "duration": 9,
    "start_time": "2022-10-24T21:06:09.170Z"
   },
   {
    "duration": 44,
    "start_time": "2022-10-24T21:06:09.181Z"
   },
   {
    "duration": 27,
    "start_time": "2022-10-24T21:06:09.227Z"
   },
   {
    "duration": 12,
    "start_time": "2022-10-24T21:06:09.256Z"
   },
   {
    "duration": 7,
    "start_time": "2022-10-24T21:06:09.270Z"
   },
   {
    "duration": 5,
    "start_time": "2022-10-24T21:06:09.279Z"
   },
   {
    "duration": 39,
    "start_time": "2022-10-24T21:06:09.286Z"
   },
   {
    "duration": 16,
    "start_time": "2022-10-24T21:06:09.327Z"
   },
   {
    "duration": 6,
    "start_time": "2022-10-24T21:06:09.345Z"
   },
   {
    "duration": 846,
    "start_time": "2022-10-24T21:06:09.353Z"
   },
   {
    "duration": 1018,
    "start_time": "2022-10-24T21:06:10.201Z"
   },
   {
    "duration": 23,
    "start_time": "2022-10-24T21:06:11.221Z"
   },
   {
    "duration": 16,
    "start_time": "2022-10-24T21:06:11.245Z"
   },
   {
    "duration": 28,
    "start_time": "2022-10-24T21:06:11.262Z"
   },
   {
    "duration": 56,
    "start_time": "2022-10-24T21:06:11.292Z"
   },
   {
    "duration": 32,
    "start_time": "2022-10-24T21:06:11.350Z"
   },
   {
    "duration": 9,
    "start_time": "2022-10-24T21:06:11.385Z"
   },
   {
    "duration": 38,
    "start_time": "2022-10-24T21:06:11.396Z"
   },
   {
    "duration": 12,
    "start_time": "2022-10-24T21:06:11.436Z"
   },
   {
    "duration": 11,
    "start_time": "2022-10-24T21:06:11.450Z"
   },
   {
    "duration": 12,
    "start_time": "2022-10-24T21:06:11.463Z"
   },
   {
    "duration": 5,
    "start_time": "2022-10-24T21:06:11.477Z"
   },
   {
    "duration": 5,
    "start_time": "2022-10-24T21:06:11.524Z"
   },
   {
    "duration": 7,
    "start_time": "2022-10-24T21:06:11.531Z"
   },
   {
    "duration": 18,
    "start_time": "2022-10-24T21:06:11.540Z"
   },
   {
    "duration": 32,
    "start_time": "2022-10-24T21:06:11.560Z"
   },
   {
    "duration": 13,
    "start_time": "2022-10-24T21:06:11.595Z"
   },
   {
    "duration": 26,
    "start_time": "2022-10-24T21:06:11.610Z"
   },
   {
    "duration": 19,
    "start_time": "2022-10-24T21:06:11.639Z"
   },
   {
    "duration": 38,
    "start_time": "2022-10-24T21:06:11.660Z"
   },
   {
    "duration": 42,
    "start_time": "2022-10-24T21:06:11.700Z"
   },
   {
    "duration": 21,
    "start_time": "2022-10-24T21:06:11.744Z"
   },
   {
    "duration": 27,
    "start_time": "2022-10-24T21:06:11.767Z"
   },
   {
    "duration": 26,
    "start_time": "2022-10-24T21:06:11.797Z"
   },
   {
    "duration": 15,
    "start_time": "2022-10-24T21:06:11.826Z"
   },
   {
    "duration": 10,
    "start_time": "2022-10-24T21:06:11.843Z"
   },
   {
    "duration": 7,
    "start_time": "2022-10-24T21:06:11.856Z"
   },
   {
    "duration": 1225,
    "start_time": "2022-10-24T22:12:00.065Z"
   },
   {
    "duration": 5,
    "start_time": "2022-10-24T22:12:05.441Z"
   },
   {
    "duration": 7,
    "start_time": "2022-10-24T22:34:30.707Z"
   },
   {
    "duration": 14,
    "start_time": "2022-10-24T22:34:40.950Z"
   },
   {
    "duration": 1199,
    "start_time": "2022-10-24T22:34:51.553Z"
   },
   {
    "duration": 104,
    "start_time": "2022-10-24T22:34:52.754Z"
   },
   {
    "duration": 22,
    "start_time": "2022-10-24T22:34:52.860Z"
   },
   {
    "duration": 508,
    "start_time": "2022-10-24T22:34:52.885Z"
   },
   {
    "duration": 37,
    "start_time": "2022-10-24T22:34:53.395Z"
   },
   {
    "duration": 40,
    "start_time": "2022-10-24T22:34:53.434Z"
   },
   {
    "duration": 25,
    "start_time": "2022-10-24T22:34:53.476Z"
   },
   {
    "duration": 23,
    "start_time": "2022-10-24T22:34:53.524Z"
   },
   {
    "duration": 76,
    "start_time": "2022-10-24T22:34:53.549Z"
   },
   {
    "duration": 12,
    "start_time": "2022-10-24T22:34:53.628Z"
   },
   {
    "duration": 8,
    "start_time": "2022-10-24T22:34:53.642Z"
   },
   {
    "duration": 39,
    "start_time": "2022-10-24T22:34:53.652Z"
   },
   {
    "duration": 5,
    "start_time": "2022-10-24T22:34:53.692Z"
   },
   {
    "duration": 29,
    "start_time": "2022-10-24T22:34:53.724Z"
   },
   {
    "duration": 149,
    "start_time": "2022-10-24T22:34:53.755Z"
   },
   {
    "duration": 5,
    "start_time": "2022-10-24T22:34:53.905Z"
   },
   {
    "duration": 28,
    "start_time": "2022-10-24T22:34:53.911Z"
   },
   {
    "duration": 1941,
    "start_time": "2022-10-24T22:34:53.941Z"
   },
   {
    "duration": 376,
    "start_time": "2022-10-24T22:34:55.884Z"
   },
   {
    "duration": 579,
    "start_time": "2022-10-24T22:34:56.262Z"
   },
   {
    "duration": 3,
    "start_time": "2022-10-24T22:34:56.843Z"
   },
   {
    "duration": 44,
    "start_time": "2022-10-24T22:34:56.848Z"
   },
   {
    "duration": 9,
    "start_time": "2022-10-24T22:34:56.894Z"
   },
   {
    "duration": 38,
    "start_time": "2022-10-24T22:34:56.905Z"
   },
   {
    "duration": 24,
    "start_time": "2022-10-24T22:34:56.944Z"
   },
   {
    "duration": 28,
    "start_time": "2022-10-24T22:34:56.970Z"
   },
   {
    "duration": 29,
    "start_time": "2022-10-24T22:34:57.024Z"
   },
   {
    "duration": 31,
    "start_time": "2022-10-24T22:34:57.058Z"
   },
   {
    "duration": 45,
    "start_time": "2022-10-24T22:34:57.091Z"
   },
   {
    "duration": 11,
    "start_time": "2022-10-24T22:34:57.138Z"
   },
   {
    "duration": 12,
    "start_time": "2022-10-24T22:34:57.151Z"
   },
   {
    "duration": 33,
    "start_time": "2022-10-24T22:34:57.165Z"
   },
   {
    "duration": 25,
    "start_time": "2022-10-24T22:34:57.200Z"
   },
   {
    "duration": 8,
    "start_time": "2022-10-24T22:34:57.227Z"
   },
   {
    "duration": 50,
    "start_time": "2022-10-24T22:34:57.236Z"
   },
   {
    "duration": 45,
    "start_time": "2022-10-24T22:34:57.288Z"
   },
   {
    "duration": 566,
    "start_time": "2022-10-24T22:34:57.336Z"
   },
   {
    "duration": 32,
    "start_time": "2022-10-24T22:34:57.904Z"
   },
   {
    "duration": 17,
    "start_time": "2022-10-24T22:34:57.939Z"
   },
   {
    "duration": 5,
    "start_time": "2022-10-24T22:34:57.958Z"
   },
   {
    "duration": 8,
    "start_time": "2022-10-24T22:34:57.965Z"
   },
   {
    "duration": 13,
    "start_time": "2022-10-24T22:34:57.975Z"
   },
   {
    "duration": 36,
    "start_time": "2022-10-24T22:34:57.990Z"
   },
   {
    "duration": 25,
    "start_time": "2022-10-24T22:34:58.028Z"
   },
   {
    "duration": 12,
    "start_time": "2022-10-24T22:34:58.055Z"
   },
   {
    "duration": 8,
    "start_time": "2022-10-24T22:34:58.068Z"
   },
   {
    "duration": 10,
    "start_time": "2022-10-24T22:34:58.078Z"
   },
   {
    "duration": 10,
    "start_time": "2022-10-24T22:34:58.090Z"
   },
   {
    "duration": 14,
    "start_time": "2022-10-24T22:34:58.124Z"
   },
   {
    "duration": 3,
    "start_time": "2022-10-24T22:34:58.140Z"
   },
   {
    "duration": 792,
    "start_time": "2022-10-24T22:34:58.144Z"
   },
   {
    "duration": 910,
    "start_time": "2022-10-24T22:34:58.937Z"
   },
   {
    "duration": 21,
    "start_time": "2022-10-24T22:34:59.849Z"
   },
   {
    "duration": 14,
    "start_time": "2022-10-24T22:34:59.871Z"
   },
   {
    "duration": 44,
    "start_time": "2022-10-24T22:34:59.887Z"
   },
   {
    "duration": 28,
    "start_time": "2022-10-24T22:34:59.933Z"
   },
   {
    "duration": 29,
    "start_time": "2022-10-24T22:34:59.962Z"
   },
   {
    "duration": 6,
    "start_time": "2022-10-24T22:34:59.993Z"
   },
   {
    "duration": 12,
    "start_time": "2022-10-24T22:35:00.023Z"
   },
   {
    "duration": 13,
    "start_time": "2022-10-24T22:35:00.036Z"
   },
   {
    "duration": 11,
    "start_time": "2022-10-24T22:35:00.051Z"
   },
   {
    "duration": 21,
    "start_time": "2022-10-24T22:35:00.064Z"
   },
   {
    "duration": 21,
    "start_time": "2022-10-24T22:35:00.086Z"
   },
   {
    "duration": 6,
    "start_time": "2022-10-24T22:35:00.123Z"
   },
   {
    "duration": 30,
    "start_time": "2022-10-24T22:35:00.131Z"
   },
   {
    "duration": 21,
    "start_time": "2022-10-24T22:35:00.163Z"
   },
   {
    "duration": 35,
    "start_time": "2022-10-24T22:35:00.186Z"
   },
   {
    "duration": 23,
    "start_time": "2022-10-24T22:35:00.223Z"
   },
   {
    "duration": 14,
    "start_time": "2022-10-24T22:35:00.248Z"
   },
   {
    "duration": 21,
    "start_time": "2022-10-24T22:35:00.263Z"
   },
   {
    "duration": 51,
    "start_time": "2022-10-24T22:35:00.286Z"
   },
   {
    "duration": 16,
    "start_time": "2022-10-24T22:35:00.340Z"
   },
   {
    "duration": 26,
    "start_time": "2022-10-24T22:35:00.358Z"
   },
   {
    "duration": 25,
    "start_time": "2022-10-24T22:35:00.387Z"
   },
   {
    "duration": 28,
    "start_time": "2022-10-24T22:35:00.413Z"
   },
   {
    "duration": 42,
    "start_time": "2022-10-24T22:35:00.442Z"
   },
   {
    "duration": 23,
    "start_time": "2022-10-24T22:35:00.486Z"
   },
   {
    "duration": 20,
    "start_time": "2022-10-24T22:35:00.510Z"
   },
   {
    "duration": 4,
    "start_time": "2022-10-24T22:38:17.481Z"
   },
   {
    "duration": 7,
    "start_time": "2022-10-24T22:38:53.627Z"
   },
   {
    "duration": 101,
    "start_time": "2022-10-24T22:39:05.741Z"
   },
   {
    "duration": 10,
    "start_time": "2022-10-24T22:40:16.313Z"
   },
   {
    "duration": 4,
    "start_time": "2022-10-24T22:40:18.819Z"
   },
   {
    "duration": 6,
    "start_time": "2022-10-24T22:40:32.239Z"
   },
   {
    "duration": 5,
    "start_time": "2022-10-24T22:40:39.531Z"
   },
   {
    "duration": 6,
    "start_time": "2022-10-24T22:40:43.557Z"
   },
   {
    "duration": 1169,
    "start_time": "2022-10-24T22:40:47.978Z"
   },
   {
    "duration": 107,
    "start_time": "2022-10-24T22:40:49.149Z"
   },
   {
    "duration": 21,
    "start_time": "2022-10-24T22:40:49.260Z"
   },
   {
    "duration": 480,
    "start_time": "2022-10-24T22:40:49.283Z"
   },
   {
    "duration": 32,
    "start_time": "2022-10-24T22:40:49.765Z"
   },
   {
    "duration": 55,
    "start_time": "2022-10-24T22:40:49.800Z"
   },
   {
    "duration": 26,
    "start_time": "2022-10-24T22:40:49.856Z"
   },
   {
    "duration": 23,
    "start_time": "2022-10-24T22:40:49.884Z"
   },
   {
    "duration": 79,
    "start_time": "2022-10-24T22:40:49.908Z"
   },
   {
    "duration": 12,
    "start_time": "2022-10-24T22:40:49.989Z"
   },
   {
    "duration": 28,
    "start_time": "2022-10-24T22:40:50.002Z"
   },
   {
    "duration": 39,
    "start_time": "2022-10-24T22:40:50.032Z"
   },
   {
    "duration": 5,
    "start_time": "2022-10-24T22:40:50.074Z"
   },
   {
    "duration": 50,
    "start_time": "2022-10-24T22:40:50.081Z"
   },
   {
    "duration": 140,
    "start_time": "2022-10-24T22:40:50.133Z"
   },
   {
    "duration": 4,
    "start_time": "2022-10-24T22:40:50.275Z"
   },
   {
    "duration": 18,
    "start_time": "2022-10-24T22:40:50.281Z"
   },
   {
    "duration": 1971,
    "start_time": "2022-10-24T22:40:50.301Z"
   },
   {
    "duration": 368,
    "start_time": "2022-10-24T22:40:52.274Z"
   },
   {
    "duration": 584,
    "start_time": "2022-10-24T22:40:52.643Z"
   },
   {
    "duration": 2,
    "start_time": "2022-10-24T22:40:53.229Z"
   },
   {
    "duration": 48,
    "start_time": "2022-10-24T22:40:53.233Z"
   },
   {
    "duration": 8,
    "start_time": "2022-10-24T22:40:53.283Z"
   },
   {
    "duration": 19,
    "start_time": "2022-10-24T22:40:53.292Z"
   },
   {
    "duration": 23,
    "start_time": "2022-10-24T22:40:53.313Z"
   },
   {
    "duration": 25,
    "start_time": "2022-10-24T22:40:53.338Z"
   },
   {
    "duration": 30,
    "start_time": "2022-10-24T22:40:53.364Z"
   },
   {
    "duration": 26,
    "start_time": "2022-10-24T22:40:53.401Z"
   },
   {
    "duration": 27,
    "start_time": "2022-10-24T22:40:53.429Z"
   },
   {
    "duration": 27,
    "start_time": "2022-10-24T22:40:53.458Z"
   },
   {
    "duration": 44,
    "start_time": "2022-10-24T22:40:53.486Z"
   },
   {
    "duration": 12,
    "start_time": "2022-10-24T22:40:53.532Z"
   },
   {
    "duration": 7,
    "start_time": "2022-10-24T22:40:53.546Z"
   },
   {
    "duration": 32,
    "start_time": "2022-10-24T22:40:53.555Z"
   },
   {
    "duration": 3,
    "start_time": "2022-10-24T22:40:53.589Z"
   },
   {
    "duration": 32,
    "start_time": "2022-10-24T22:40:53.594Z"
   },
   {
    "duration": 55,
    "start_time": "2022-10-24T22:40:53.628Z"
   },
   {
    "duration": 19,
    "start_time": "2022-10-24T22:40:53.685Z"
   },
   {
    "duration": 550,
    "start_time": "2022-10-24T22:40:53.725Z"
   },
   {
    "duration": 24,
    "start_time": "2022-10-24T22:40:54.279Z"
   },
   {
    "duration": 30,
    "start_time": "2022-10-24T22:40:54.305Z"
   },
   {
    "duration": 4,
    "start_time": "2022-10-24T22:40:54.337Z"
   },
   {
    "duration": 7,
    "start_time": "2022-10-24T22:40:54.343Z"
   },
   {
    "duration": 7,
    "start_time": "2022-10-24T22:40:54.352Z"
   },
   {
    "duration": 4,
    "start_time": "2022-10-24T22:40:54.361Z"
   },
   {
    "duration": 62,
    "start_time": "2022-10-24T22:40:54.367Z"
   },
   {
    "duration": 13,
    "start_time": "2022-10-24T22:40:54.431Z"
   },
   {
    "duration": 8,
    "start_time": "2022-10-24T22:40:54.445Z"
   },
   {
    "duration": 6,
    "start_time": "2022-10-24T22:40:54.455Z"
   },
   {
    "duration": 6,
    "start_time": "2022-10-24T22:40:54.463Z"
   },
   {
    "duration": 14,
    "start_time": "2022-10-24T22:40:54.471Z"
   },
   {
    "duration": 4,
    "start_time": "2022-10-24T22:40:54.487Z"
   },
   {
    "duration": 1041,
    "start_time": "2022-10-24T22:40:54.524Z"
   },
   {
    "duration": 1449,
    "start_time": "2022-10-24T22:40:55.567Z"
   },
   {
    "duration": 23,
    "start_time": "2022-10-24T22:40:57.018Z"
   },
   {
    "duration": 14,
    "start_time": "2022-10-24T22:40:57.042Z"
   },
   {
    "duration": 26,
    "start_time": "2022-10-24T22:40:57.058Z"
   },
   {
    "duration": 52,
    "start_time": "2022-10-24T22:40:57.086Z"
   },
   {
    "duration": 26,
    "start_time": "2022-10-24T22:40:57.140Z"
   },
   {
    "duration": 7,
    "start_time": "2022-10-24T22:40:57.168Z"
   },
   {
    "duration": 14,
    "start_time": "2022-10-24T22:40:57.176Z"
   },
   {
    "duration": 33,
    "start_time": "2022-10-24T22:40:57.192Z"
   },
   {
    "duration": 11,
    "start_time": "2022-10-24T22:40:57.226Z"
   },
   {
    "duration": 11,
    "start_time": "2022-10-24T22:40:57.238Z"
   },
   {
    "duration": 4,
    "start_time": "2022-10-24T22:40:57.250Z"
   },
   {
    "duration": 5,
    "start_time": "2022-10-24T22:40:57.256Z"
   },
   {
    "duration": 5,
    "start_time": "2022-10-24T22:40:57.262Z"
   },
   {
    "duration": 6,
    "start_time": "2022-10-24T22:40:57.269Z"
   },
   {
    "duration": 55,
    "start_time": "2022-10-24T22:40:57.276Z"
   },
   {
    "duration": 11,
    "start_time": "2022-10-24T22:40:57.333Z"
   },
   {
    "duration": 11,
    "start_time": "2022-10-24T22:40:57.345Z"
   },
   {
    "duration": 13,
    "start_time": "2022-10-24T22:40:57.357Z"
   },
   {
    "duration": 64,
    "start_time": "2022-10-24T22:40:57.371Z"
   },
   {
    "duration": 15,
    "start_time": "2022-10-24T22:40:57.437Z"
   },
   {
    "duration": 17,
    "start_time": "2022-10-24T22:40:57.454Z"
   },
   {
    "duration": 17,
    "start_time": "2022-10-24T22:40:57.472Z"
   },
   {
    "duration": 3,
    "start_time": "2022-10-24T22:40:57.491Z"
   },
   {
    "duration": 5,
    "start_time": "2022-10-24T22:40:57.524Z"
   },
   {
    "duration": 9,
    "start_time": "2022-10-24T22:40:57.531Z"
   },
   {
    "duration": 6,
    "start_time": "2022-10-24T22:40:57.542Z"
   },
   {
    "duration": 9,
    "start_time": "2022-10-24T22:41:06.132Z"
   },
   {
    "duration": 98,
    "start_time": "2022-10-24T22:42:34.408Z"
   },
   {
    "duration": 382,
    "start_time": "2022-10-24T22:42:44.714Z"
   },
   {
    "duration": 1110,
    "start_time": "2022-10-24T22:43:34.081Z"
   },
   {
    "duration": 101,
    "start_time": "2022-10-24T22:43:35.193Z"
   },
   {
    "duration": 19,
    "start_time": "2022-10-24T22:43:35.296Z"
   },
   {
    "duration": 485,
    "start_time": "2022-10-24T22:43:35.317Z"
   },
   {
    "duration": 30,
    "start_time": "2022-10-24T22:43:35.804Z"
   },
   {
    "duration": 37,
    "start_time": "2022-10-24T22:43:35.835Z"
   },
   {
    "duration": 22,
    "start_time": "2022-10-24T22:43:35.874Z"
   },
   {
    "duration": 47,
    "start_time": "2022-10-24T22:43:35.897Z"
   },
   {
    "duration": 62,
    "start_time": "2022-10-24T22:43:35.946Z"
   },
   {
    "duration": 13,
    "start_time": "2022-10-24T22:43:36.024Z"
   },
   {
    "duration": 9,
    "start_time": "2022-10-24T22:43:36.038Z"
   },
   {
    "duration": 31,
    "start_time": "2022-10-24T22:43:36.049Z"
   },
   {
    "duration": 4,
    "start_time": "2022-10-24T22:43:36.082Z"
   },
   {
    "duration": 56,
    "start_time": "2022-10-24T22:43:36.088Z"
   },
   {
    "duration": 126,
    "start_time": "2022-10-24T22:43:36.146Z"
   },
   {
    "duration": 6,
    "start_time": "2022-10-24T22:43:36.273Z"
   },
   {
    "duration": 18,
    "start_time": "2022-10-24T22:43:36.280Z"
   },
   {
    "duration": 1943,
    "start_time": "2022-10-24T22:43:36.300Z"
   },
   {
    "duration": 367,
    "start_time": "2022-10-24T22:43:38.244Z"
   },
   {
    "duration": 546,
    "start_time": "2022-10-24T22:43:38.612Z"
   },
   {
    "duration": 3,
    "start_time": "2022-10-24T22:43:39.160Z"
   },
   {
    "duration": 63,
    "start_time": "2022-10-24T22:43:39.164Z"
   },
   {
    "duration": 10,
    "start_time": "2022-10-24T22:43:39.229Z"
   },
   {
    "duration": 6,
    "start_time": "2022-10-24T22:43:39.241Z"
   },
   {
    "duration": 16,
    "start_time": "2022-10-24T22:43:39.248Z"
   },
   {
    "duration": 10,
    "start_time": "2022-10-24T22:43:39.266Z"
   },
   {
    "duration": 460,
    "start_time": "2022-10-24T22:43:39.278Z"
   },
   {
    "duration": 20,
    "start_time": "2022-10-24T22:43:39.742Z"
   },
   {
    "duration": 26,
    "start_time": "2022-10-24T22:43:39.764Z"
   },
   {
    "duration": 34,
    "start_time": "2022-10-24T22:43:39.791Z"
   },
   {
    "duration": 26,
    "start_time": "2022-10-24T22:43:39.826Z"
   },
   {
    "duration": 21,
    "start_time": "2022-10-24T22:43:39.854Z"
   },
   {
    "duration": 10,
    "start_time": "2022-10-24T22:43:39.877Z"
   },
   {
    "duration": 6,
    "start_time": "2022-10-24T22:43:39.888Z"
   },
   {
    "duration": 30,
    "start_time": "2022-10-24T22:43:39.923Z"
   },
   {
    "duration": 3,
    "start_time": "2022-10-24T22:43:39.954Z"
   },
   {
    "duration": 6,
    "start_time": "2022-10-24T22:43:39.958Z"
   },
   {
    "duration": 65,
    "start_time": "2022-10-24T22:43:39.966Z"
   },
   {
    "duration": 18,
    "start_time": "2022-10-24T22:43:40.033Z"
   },
   {
    "duration": 573,
    "start_time": "2022-10-24T22:43:40.053Z"
   },
   {
    "duration": 24,
    "start_time": "2022-10-24T22:43:40.628Z"
   },
   {
    "duration": 18,
    "start_time": "2022-10-24T22:43:40.653Z"
   },
   {
    "duration": 4,
    "start_time": "2022-10-24T22:43:40.672Z"
   },
   {
    "duration": 8,
    "start_time": "2022-10-24T22:43:40.677Z"
   },
   {
    "duration": 7,
    "start_time": "2022-10-24T22:43:40.686Z"
   },
   {
    "duration": 4,
    "start_time": "2022-10-24T22:43:40.725Z"
   },
   {
    "duration": 35,
    "start_time": "2022-10-24T22:43:40.731Z"
   },
   {
    "duration": 13,
    "start_time": "2022-10-24T22:43:40.768Z"
   },
   {
    "duration": 18,
    "start_time": "2022-10-24T22:43:40.782Z"
   },
   {
    "duration": 28,
    "start_time": "2022-10-24T22:43:40.802Z"
   },
   {
    "duration": 28,
    "start_time": "2022-10-24T22:43:40.832Z"
   },
   {
    "duration": 20,
    "start_time": "2022-10-24T22:43:40.862Z"
   },
   {
    "duration": 3,
    "start_time": "2022-10-24T22:43:40.884Z"
   },
   {
    "duration": 772,
    "start_time": "2022-10-24T22:43:40.889Z"
   },
   {
    "duration": 871,
    "start_time": "2022-10-24T22:43:41.662Z"
   },
   {
    "duration": 20,
    "start_time": "2022-10-24T22:43:42.534Z"
   },
   {
    "duration": 26,
    "start_time": "2022-10-24T22:43:42.556Z"
   },
   {
    "duration": 27,
    "start_time": "2022-10-24T22:43:42.584Z"
   },
   {
    "duration": 26,
    "start_time": "2022-10-24T22:43:42.623Z"
   },
   {
    "duration": 27,
    "start_time": "2022-10-24T22:43:42.650Z"
   },
   {
    "duration": 7,
    "start_time": "2022-10-24T22:43:42.678Z"
   },
   {
    "duration": 13,
    "start_time": "2022-10-24T22:43:42.686Z"
   },
   {
    "duration": 11,
    "start_time": "2022-10-24T22:43:42.724Z"
   },
   {
    "duration": 11,
    "start_time": "2022-10-24T22:43:42.737Z"
   },
   {
    "duration": 10,
    "start_time": "2022-10-24T22:43:42.749Z"
   },
   {
    "duration": 4,
    "start_time": "2022-10-24T22:43:42.762Z"
   },
   {
    "duration": 4,
    "start_time": "2022-10-24T22:43:42.768Z"
   },
   {
    "duration": 50,
    "start_time": "2022-10-24T22:43:42.774Z"
   },
   {
    "duration": 7,
    "start_time": "2022-10-24T22:43:42.826Z"
   },
   {
    "duration": 18,
    "start_time": "2022-10-24T22:43:42.835Z"
   },
   {
    "duration": 12,
    "start_time": "2022-10-24T22:43:42.854Z"
   },
   {
    "duration": 10,
    "start_time": "2022-10-24T22:43:42.867Z"
   },
   {
    "duration": 46,
    "start_time": "2022-10-24T22:43:42.879Z"
   },
   {
    "duration": 25,
    "start_time": "2022-10-24T22:43:42.927Z"
   },
   {
    "duration": 16,
    "start_time": "2022-10-24T22:43:42.953Z"
   },
   {
    "duration": 15,
    "start_time": "2022-10-24T22:43:42.970Z"
   },
   {
    "duration": 42,
    "start_time": "2022-10-24T22:43:42.987Z"
   },
   {
    "duration": 4,
    "start_time": "2022-10-24T22:43:43.031Z"
   },
   {
    "duration": 9,
    "start_time": "2022-10-24T22:43:43.036Z"
   },
   {
    "duration": 6,
    "start_time": "2022-10-24T22:43:43.047Z"
   },
   {
    "duration": 7,
    "start_time": "2022-10-24T22:43:43.054Z"
   },
   {
    "duration": 30,
    "start_time": "2022-10-25T00:14:24.397Z"
   },
   {
    "duration": 27,
    "start_time": "2022-10-25T00:16:59.505Z"
   },
   {
    "duration": 731,
    "start_time": "2022-10-25T00:35:20.200Z"
   },
   {
    "duration": 782,
    "start_time": "2022-10-25T00:35:32.523Z"
   },
   {
    "duration": 799,
    "start_time": "2022-10-25T00:36:00.226Z"
   },
   {
    "duration": 863,
    "start_time": "2022-10-25T00:36:02.373Z"
   },
   {
    "duration": 797,
    "start_time": "2022-10-25T00:36:11.742Z"
   },
   {
    "duration": 785,
    "start_time": "2022-10-25T00:36:23.018Z"
   },
   {
    "duration": 773,
    "start_time": "2022-10-25T00:36:29.313Z"
   },
   {
    "duration": 1218,
    "start_time": "2022-10-25T01:05:27.107Z"
   },
   {
    "duration": 104,
    "start_time": "2022-10-25T01:05:28.327Z"
   },
   {
    "duration": 20,
    "start_time": "2022-10-25T01:05:28.432Z"
   },
   {
    "duration": 514,
    "start_time": "2022-10-25T01:05:28.454Z"
   },
   {
    "duration": 29,
    "start_time": "2022-10-25T01:05:28.970Z"
   },
   {
    "duration": 53,
    "start_time": "2022-10-25T01:05:29.001Z"
   },
   {
    "duration": 23,
    "start_time": "2022-10-25T01:05:29.056Z"
   },
   {
    "duration": 22,
    "start_time": "2022-10-25T01:05:29.081Z"
   },
   {
    "duration": 80,
    "start_time": "2022-10-25T01:05:29.104Z"
   },
   {
    "duration": 12,
    "start_time": "2022-10-25T01:05:29.186Z"
   },
   {
    "duration": 27,
    "start_time": "2022-10-25T01:05:29.199Z"
   },
   {
    "duration": 32,
    "start_time": "2022-10-25T01:05:29.228Z"
   },
   {
    "duration": 4,
    "start_time": "2022-10-25T01:05:29.262Z"
   },
   {
    "duration": 27,
    "start_time": "2022-10-25T01:05:29.267Z"
   },
   {
    "duration": 160,
    "start_time": "2022-10-25T01:05:29.296Z"
   },
   {
    "duration": 5,
    "start_time": "2022-10-25T01:05:29.457Z"
   },
   {
    "duration": 26,
    "start_time": "2022-10-25T01:05:29.463Z"
   },
   {
    "duration": 1964,
    "start_time": "2022-10-25T01:05:29.491Z"
   },
   {
    "duration": 377,
    "start_time": "2022-10-25T01:05:31.456Z"
   },
   {
    "duration": 570,
    "start_time": "2022-10-25T01:05:31.835Z"
   },
   {
    "duration": 2,
    "start_time": "2022-10-25T01:05:32.407Z"
   },
   {
    "duration": 44,
    "start_time": "2022-10-25T01:05:32.410Z"
   },
   {
    "duration": 8,
    "start_time": "2022-10-25T01:05:32.456Z"
   },
   {
    "duration": 19,
    "start_time": "2022-10-25T01:05:32.465Z"
   },
   {
    "duration": 52,
    "start_time": "2022-10-25T01:05:32.486Z"
   },
   {
    "duration": 28,
    "start_time": "2022-10-25T01:05:32.539Z"
   },
   {
    "duration": 26,
    "start_time": "2022-10-25T01:05:32.569Z"
   },
   {
    "duration": 40,
    "start_time": "2022-10-25T01:05:32.599Z"
   },
   {
    "duration": 9,
    "start_time": "2022-10-25T01:05:32.640Z"
   },
   {
    "duration": 6,
    "start_time": "2022-10-25T01:05:32.651Z"
   },
   {
    "duration": 34,
    "start_time": "2022-10-25T01:05:32.658Z"
   },
   {
    "duration": 3,
    "start_time": "2022-10-25T01:05:32.694Z"
   },
   {
    "duration": 6,
    "start_time": "2022-10-25T01:05:32.724Z"
   },
   {
    "duration": 53,
    "start_time": "2022-10-25T01:05:32.731Z"
   },
   {
    "duration": 39,
    "start_time": "2022-10-25T01:05:32.786Z"
   },
   {
    "duration": 538,
    "start_time": "2022-10-25T01:05:32.826Z"
   },
   {
    "duration": 25,
    "start_time": "2022-10-25T01:05:33.366Z"
   },
   {
    "duration": 36,
    "start_time": "2022-10-25T01:05:33.393Z"
   },
   {
    "duration": 4,
    "start_time": "2022-10-25T01:05:33.431Z"
   },
   {
    "duration": 7,
    "start_time": "2022-10-25T01:05:33.437Z"
   },
   {
    "duration": 7,
    "start_time": "2022-10-25T01:05:33.446Z"
   },
   {
    "duration": 4,
    "start_time": "2022-10-25T01:05:33.454Z"
   },
   {
    "duration": 24,
    "start_time": "2022-10-25T01:05:33.460Z"
   },
   {
    "duration": 47,
    "start_time": "2022-10-25T01:05:33.486Z"
   },
   {
    "duration": 8,
    "start_time": "2022-10-25T01:05:33.534Z"
   },
   {
    "duration": 6,
    "start_time": "2022-10-25T01:05:33.543Z"
   },
   {
    "duration": 6,
    "start_time": "2022-10-25T01:05:33.551Z"
   },
   {
    "duration": 14,
    "start_time": "2022-10-25T01:05:33.558Z"
   },
   {
    "duration": 4,
    "start_time": "2022-10-25T01:05:33.573Z"
   },
   {
    "duration": 745,
    "start_time": "2022-10-25T01:05:33.578Z"
   },
   {
    "duration": 859,
    "start_time": "2022-10-25T01:05:34.324Z"
   },
   {
    "duration": 19,
    "start_time": "2022-10-25T01:05:35.185Z"
   },
   {
    "duration": 23,
    "start_time": "2022-10-25T01:05:35.206Z"
   },
   {
    "duration": 24,
    "start_time": "2022-10-25T01:05:35.231Z"
   },
   {
    "duration": 25,
    "start_time": "2022-10-25T01:05:35.257Z"
   },
   {
    "duration": 51,
    "start_time": "2022-10-25T01:05:35.284Z"
   },
   {
    "duration": 6,
    "start_time": "2022-10-25T01:05:35.336Z"
   },
   {
    "duration": 14,
    "start_time": "2022-10-25T01:05:35.344Z"
   },
   {
    "duration": 11,
    "start_time": "2022-10-25T01:05:35.359Z"
   },
   {
    "duration": 11,
    "start_time": "2022-10-25T01:05:35.371Z"
   },
   {
    "duration": 43,
    "start_time": "2022-10-25T01:05:35.384Z"
   },
   {
    "duration": 4,
    "start_time": "2022-10-25T01:05:35.428Z"
   },
   {
    "duration": 5,
    "start_time": "2022-10-25T01:05:35.433Z"
   },
   {
    "duration": 6,
    "start_time": "2022-10-25T01:05:35.440Z"
   },
   {
    "duration": 7,
    "start_time": "2022-10-25T01:05:35.447Z"
   },
   {
    "duration": 14,
    "start_time": "2022-10-25T01:05:35.455Z"
   },
   {
    "duration": 12,
    "start_time": "2022-10-25T01:05:35.471Z"
   },
   {
    "duration": 49,
    "start_time": "2022-10-25T01:05:35.485Z"
   },
   {
    "duration": 12,
    "start_time": "2022-10-25T01:05:35.536Z"
   },
   {
    "duration": 25,
    "start_time": "2022-10-25T01:05:35.550Z"
   },
   {
    "duration": 47,
    "start_time": "2022-10-25T01:05:35.577Z"
   },
   {
    "duration": 16,
    "start_time": "2022-10-25T01:05:35.626Z"
   },
   {
    "duration": 16,
    "start_time": "2022-10-25T01:05:35.644Z"
   },
   {
    "duration": 4,
    "start_time": "2022-10-25T01:05:35.661Z"
   },
   {
    "duration": 11,
    "start_time": "2022-10-25T01:05:35.667Z"
   },
   {
    "duration": 9,
    "start_time": "2022-10-25T01:05:35.680Z"
   },
   {
    "duration": 5,
    "start_time": "2022-10-25T01:05:35.691Z"
   },
   {
    "duration": 1228,
    "start_time": "2022-10-25T01:06:48.206Z"
   },
   {
    "duration": 104,
    "start_time": "2022-10-25T01:06:49.436Z"
   },
   {
    "duration": 20,
    "start_time": "2022-10-25T01:06:49.545Z"
   },
   {
    "duration": 505,
    "start_time": "2022-10-25T01:06:49.567Z"
   },
   {
    "duration": 31,
    "start_time": "2022-10-25T01:06:50.074Z"
   },
   {
    "duration": 48,
    "start_time": "2022-10-25T01:06:50.106Z"
   },
   {
    "duration": 24,
    "start_time": "2022-10-25T01:06:50.156Z"
   },
   {
    "duration": 22,
    "start_time": "2022-10-25T01:06:50.182Z"
   },
   {
    "duration": 68,
    "start_time": "2022-10-25T01:06:50.224Z"
   },
   {
    "duration": 31,
    "start_time": "2022-10-25T01:06:50.294Z"
   },
   {
    "duration": 11,
    "start_time": "2022-10-25T01:06:50.327Z"
   },
   {
    "duration": 33,
    "start_time": "2022-10-25T01:06:50.340Z"
   },
   {
    "duration": 5,
    "start_time": "2022-10-25T01:06:50.374Z"
   },
   {
    "duration": 61,
    "start_time": "2022-10-25T01:06:50.381Z"
   },
   {
    "duration": 131,
    "start_time": "2022-10-25T01:06:50.444Z"
   },
   {
    "duration": 5,
    "start_time": "2022-10-25T01:06:50.576Z"
   },
   {
    "duration": 22,
    "start_time": "2022-10-25T01:06:50.583Z"
   },
   {
    "duration": 1947,
    "start_time": "2022-10-25T01:06:50.607Z"
   },
   {
    "duration": 377,
    "start_time": "2022-10-25T01:06:52.555Z"
   },
   {
    "duration": 560,
    "start_time": "2022-10-25T01:06:52.933Z"
   },
   {
    "duration": 3,
    "start_time": "2022-10-25T01:06:53.494Z"
   },
   {
    "duration": 49,
    "start_time": "2022-10-25T01:06:53.498Z"
   },
   {
    "duration": 8,
    "start_time": "2022-10-25T01:06:53.549Z"
   },
   {
    "duration": 24,
    "start_time": "2022-10-25T01:06:53.558Z"
   },
   {
    "duration": 49,
    "start_time": "2022-10-25T01:06:53.584Z"
   },
   {
    "duration": 27,
    "start_time": "2022-10-25T01:06:53.635Z"
   },
   {
    "duration": 25,
    "start_time": "2022-10-25T01:06:53.666Z"
   },
   {
    "duration": 44,
    "start_time": "2022-10-25T01:06:53.693Z"
   },
   {
    "duration": 10,
    "start_time": "2022-10-25T01:06:53.740Z"
   },
   {
    "duration": 7,
    "start_time": "2022-10-25T01:06:53.752Z"
   },
   {
    "duration": 34,
    "start_time": "2022-10-25T01:06:53.761Z"
   },
   {
    "duration": 28,
    "start_time": "2022-10-25T01:06:53.796Z"
   },
   {
    "duration": 6,
    "start_time": "2022-10-25T01:06:53.826Z"
   },
   {
    "duration": 52,
    "start_time": "2022-10-25T01:06:53.833Z"
   },
   {
    "duration": 18,
    "start_time": "2022-10-25T01:06:53.886Z"
   },
   {
    "duration": 561,
    "start_time": "2022-10-25T01:06:53.905Z"
   },
   {
    "duration": 23,
    "start_time": "2022-10-25T01:06:54.468Z"
   },
   {
    "duration": 32,
    "start_time": "2022-10-25T01:06:54.493Z"
   },
   {
    "duration": 5,
    "start_time": "2022-10-25T01:06:54.526Z"
   },
   {
    "duration": 9,
    "start_time": "2022-10-25T01:06:54.532Z"
   },
   {
    "duration": 9,
    "start_time": "2022-10-25T01:06:54.542Z"
   },
   {
    "duration": 6,
    "start_time": "2022-10-25T01:06:54.552Z"
   },
   {
    "duration": 26,
    "start_time": "2022-10-25T01:06:54.559Z"
   },
   {
    "duration": 38,
    "start_time": "2022-10-25T01:06:54.587Z"
   },
   {
    "duration": 6,
    "start_time": "2022-10-25T01:06:54.626Z"
   },
   {
    "duration": 8,
    "start_time": "2022-10-25T01:06:54.633Z"
   },
   {
    "duration": 6,
    "start_time": "2022-10-25T01:06:54.642Z"
   },
   {
    "duration": 14,
    "start_time": "2022-10-25T01:06:54.649Z"
   },
   {
    "duration": 3,
    "start_time": "2022-10-25T01:06:54.665Z"
   },
   {
    "duration": 775,
    "start_time": "2022-10-25T01:06:54.670Z"
   },
   {
    "duration": 884,
    "start_time": "2022-10-25T01:06:55.447Z"
   },
   {
    "duration": 20,
    "start_time": "2022-10-25T01:06:56.333Z"
   },
   {
    "duration": 21,
    "start_time": "2022-10-25T01:06:56.355Z"
   },
   {
    "duration": 36,
    "start_time": "2022-10-25T01:06:56.377Z"
   },
   {
    "duration": 32,
    "start_time": "2022-10-25T01:06:56.415Z"
   },
   {
    "duration": 28,
    "start_time": "2022-10-25T01:06:56.449Z"
   },
   {
    "duration": 6,
    "start_time": "2022-10-25T01:06:56.478Z"
   },
   {
    "duration": 24,
    "start_time": "2022-10-25T01:06:56.486Z"
   },
   {
    "duration": 28,
    "start_time": "2022-10-25T01:06:56.512Z"
   },
   {
    "duration": 25,
    "start_time": "2022-10-25T01:06:56.542Z"
   },
   {
    "duration": 19,
    "start_time": "2022-10-25T01:06:56.569Z"
   },
   {
    "duration": 14,
    "start_time": "2022-10-25T01:06:56.590Z"
   },
   {
    "duration": 13,
    "start_time": "2022-10-25T01:06:56.605Z"
   },
   {
    "duration": 27,
    "start_time": "2022-10-25T01:06:56.620Z"
   },
   {
    "duration": 14,
    "start_time": "2022-10-25T01:06:56.649Z"
   },
   {
    "duration": 15,
    "start_time": "2022-10-25T01:06:56.665Z"
   },
   {
    "duration": 11,
    "start_time": "2022-10-25T01:06:56.681Z"
   },
   {
    "duration": 11,
    "start_time": "2022-10-25T01:06:56.694Z"
   },
   {
    "duration": 20,
    "start_time": "2022-10-25T01:06:56.707Z"
   },
   {
    "duration": 27,
    "start_time": "2022-10-25T01:06:56.729Z"
   },
   {
    "duration": 16,
    "start_time": "2022-10-25T01:06:56.758Z"
   },
   {
    "duration": 15,
    "start_time": "2022-10-25T01:06:56.776Z"
   },
   {
    "duration": 43,
    "start_time": "2022-10-25T01:06:56.793Z"
   },
   {
    "duration": 3,
    "start_time": "2022-10-25T01:06:56.838Z"
   },
   {
    "duration": 12,
    "start_time": "2022-10-25T01:06:56.843Z"
   },
   {
    "duration": 10,
    "start_time": "2022-10-25T01:06:56.856Z"
   },
   {
    "duration": 6,
    "start_time": "2022-10-25T01:06:56.868Z"
   }
  ],
  "kernelspec": {
   "display_name": "Python 3 (ipykernel)",
   "language": "python",
   "name": "python3"
  },
  "language_info": {
   "codemirror_mode": {
    "name": "ipython",
    "version": 3
   },
   "file_extension": ".py",
   "mimetype": "text/x-python",
   "name": "python",
   "nbconvert_exporter": "python",
   "pygments_lexer": "ipython3",
   "version": "3.9.7"
  },
  "toc": {
   "base_numbering": 1,
   "nav_menu": {},
   "number_sections": true,
   "sideBar": true,
   "skip_h1_title": true,
   "title_cell": "Содержание",
   "title_sidebar": "Содержание",
   "toc_cell": true,
   "toc_position": {
    "height": "calc(100% - 180px)",
    "left": "10px",
    "top": "150px",
    "width": "165px"
   },
   "toc_section_display": true,
   "toc_window_display": true
  }
 },
 "nbformat": 4,
 "nbformat_minor": 2
}
